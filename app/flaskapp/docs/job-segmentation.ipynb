{
 "cells": [
  {
   "cell_type": "code",
   "execution_count": 170,
   "metadata": {},
   "outputs": [
    {
     "data": {
      "text/html": [
       "<div>\n",
       "<style scoped>\n",
       "    .dataframe tbody tr th:only-of-type {\n",
       "        vertical-align: middle;\n",
       "    }\n",
       "\n",
       "    .dataframe tbody tr th {\n",
       "        vertical-align: top;\n",
       "    }\n",
       "\n",
       "    .dataframe thead th {\n",
       "        text-align: right;\n",
       "    }\n",
       "</style>\n",
       "<table border=\"1\" class=\"dataframe\">\n",
       "  <thead>\n",
       "    <tr style=\"text-align: right;\">\n",
       "      <th></th>\n",
       "      <th>Unnamed: 0</th>\n",
       "      <th>Created_date</th>\n",
       "      <th>Due_date</th>\n",
       "      <th>Job_id</th>\n",
       "      <th>Payment_type</th>\n",
       "      <th>Budget</th>\n",
       "      <th>Job_title</th>\n",
       "      <th>Category</th>\n",
       "      <th>Subcategory</th>\n",
       "      <th>Job_description</th>\n",
       "      <th>...</th>\n",
       "      <th>Link_of_employer</th>\n",
       "      <th>Employer_id</th>\n",
       "      <th>No_of_quotes</th>\n",
       "      <th>Link_of_quoters</th>\n",
       "      <th>No_of_Premium_quotes</th>\n",
       "      <th>Link_of_premium_quoters</th>\n",
       "      <th>No_of_inviited</th>\n",
       "      <th>Link_of_invited_freelancers</th>\n",
       "      <th>No_of_Hired</th>\n",
       "      <th>Link_of_hired_freelancers</th>\n",
       "    </tr>\n",
       "  </thead>\n",
       "  <tbody>\n",
       "    <tr>\n",
       "      <th>0</th>\n",
       "      <td>0</td>\n",
       "      <td>Nov 16, 2020</td>\n",
       "      <td>December 18, 2020</td>\n",
       "      <td>1731482</td>\n",
       "      <td>Fixed Price</td>\n",
       "      <td>[' Under $250']</td>\n",
       "      <td>Society Management app (Android/IOS)</td>\n",
       "      <td>Programming &amp; Development</td>\n",
       "      <td>Apps &amp; Mobile</td>\n",
       "      <td>We are looking for mobile app developer (fulls...</td>\n",
       "      <td>...</td>\n",
       "      <td>https://www.guru.com/work/detail/1731482</td>\n",
       "      <td>1731482</td>\n",
       "      <td>9</td>\n",
       "      <td>['https://www.guru.com/freelancers/scopic', 'h...</td>\n",
       "      <td>0</td>\n",
       "      <td>[]</td>\n",
       "      <td>0</td>\n",
       "      <td>[]</td>\n",
       "      <td>0</td>\n",
       "      <td>[]</td>\n",
       "    </tr>\n",
       "    <tr>\n",
       "      <th>1</th>\n",
       "      <td>1</td>\n",
       "      <td>Nov 16, 2020</td>\n",
       "      <td>Hiring more, till Dec 17, 2020</td>\n",
       "      <td>1731479</td>\n",
       "      <td>Fixed Price or Hourly</td>\n",
       "      <td>NaN</td>\n",
       "      <td>GPRS tracking device/Server</td>\n",
       "      <td>Programming &amp; Development</td>\n",
       "      <td>Programming &amp; Software</td>\n",
       "      <td>I want to be able to track vehicles thus neede...</td>\n",
       "      <td>...</td>\n",
       "      <td>https://www.guru.com/work/detail/1731479</td>\n",
       "      <td>1731479</td>\n",
       "      <td>7</td>\n",
       "      <td>['https://www.guru.com/freelancers/ravi-deshmu...</td>\n",
       "      <td>0</td>\n",
       "      <td>[]</td>\n",
       "      <td>1</td>\n",
       "      <td>['https://www.guru.com/freelancers/spinlogics']</td>\n",
       "      <td>1</td>\n",
       "      <td>['https://www.guru.com/freelancers/ravi-deshmu...</td>\n",
       "    </tr>\n",
       "    <tr>\n",
       "      <th>2</th>\n",
       "      <td>2</td>\n",
       "      <td>Nov 16, 2020</td>\n",
       "      <td>December 16, 2020</td>\n",
       "      <td>1731480</td>\n",
       "      <td>Fixed Price</td>\n",
       "      <td>[' Under $250']</td>\n",
       "      <td>create + edit two certificates</td>\n",
       "      <td>Design &amp; Art</td>\n",
       "      <td>Graphic Design</td>\n",
       "      <td>I need a graphics artist/photoshop/illustrator...</td>\n",
       "      <td>...</td>\n",
       "      <td>https://www.guru.com/work/detail/1731480</td>\n",
       "      <td>1731480</td>\n",
       "      <td>23</td>\n",
       "      <td>['https://www.guru.com/freelancers/ammaramjad'...</td>\n",
       "      <td>0</td>\n",
       "      <td>[]</td>\n",
       "      <td>0</td>\n",
       "      <td>[]</td>\n",
       "      <td>0</td>\n",
       "      <td>[]</td>\n",
       "    </tr>\n",
       "    <tr>\n",
       "      <th>3</th>\n",
       "      <td>3</td>\n",
       "      <td>Nov 16, 2020</td>\n",
       "      <td>December 16, 2020</td>\n",
       "      <td>1731476</td>\n",
       "      <td>Fixed Price</td>\n",
       "      <td>[' $1k-$2.5k']</td>\n",
       "      <td>2 WEBSITE DEVELOPMENT</td>\n",
       "      <td>Programming &amp; Development</td>\n",
       "      <td>Web Development &amp; Design</td>\n",
       "      <td>We need two website design\\n\\n1. This process ...</td>\n",
       "      <td>...</td>\n",
       "      <td>https://www.guru.com/work/detail/1731476</td>\n",
       "      <td>1731476</td>\n",
       "      <td>26</td>\n",
       "      <td>['https://www.guru.com/freelancers/amazon-soft...</td>\n",
       "      <td>0</td>\n",
       "      <td>[]</td>\n",
       "      <td>0</td>\n",
       "      <td>[]</td>\n",
       "      <td>0</td>\n",
       "      <td>[]</td>\n",
       "    </tr>\n",
       "    <tr>\n",
       "      <th>4</th>\n",
       "      <td>4</td>\n",
       "      <td>Nov 16, 2020</td>\n",
       "      <td>December 16, 2020</td>\n",
       "      <td>1731463</td>\n",
       "      <td>Fixed Price</td>\n",
       "      <td>[' Under $250']</td>\n",
       "      <td>digital coloring work for comic</td>\n",
       "      <td>Design &amp; Art</td>\n",
       "      <td>Photo / Image Restoration &amp; Editing</td>\n",
       "      <td>looking for digital coloring work for kids com...</td>\n",
       "      <td>...</td>\n",
       "      <td>https://www.guru.com/work/detail/1731463</td>\n",
       "      <td>1731463</td>\n",
       "      <td>13</td>\n",
       "      <td>['https://www.guru.com/freelancers/tania-arts'...</td>\n",
       "      <td>0</td>\n",
       "      <td>[]</td>\n",
       "      <td>0</td>\n",
       "      <td>[]</td>\n",
       "      <td>0</td>\n",
       "      <td>[]</td>\n",
       "    </tr>\n",
       "    <tr>\n",
       "      <th>...</th>\n",
       "      <td>...</td>\n",
       "      <td>...</td>\n",
       "      <td>...</td>\n",
       "      <td>...</td>\n",
       "      <td>...</td>\n",
       "      <td>...</td>\n",
       "      <td>...</td>\n",
       "      <td>...</td>\n",
       "      <td>...</td>\n",
       "      <td>...</td>\n",
       "      <td>...</td>\n",
       "      <td>...</td>\n",
       "      <td>...</td>\n",
       "      <td>...</td>\n",
       "      <td>...</td>\n",
       "      <td>...</td>\n",
       "      <td>...</td>\n",
       "      <td>...</td>\n",
       "      <td>...</td>\n",
       "      <td>...</td>\n",
       "      <td>...</td>\n",
       "    </tr>\n",
       "    <tr>\n",
       "      <th>1460</th>\n",
       "      <td>1460</td>\n",
       "      <td>Feb 11, 2017</td>\n",
       "      <td>June 21, 2030</td>\n",
       "      <td>1331813</td>\n",
       "      <td>Hourly</td>\n",
       "      <td>[' No rate specified ', ' 10-30 hrs/wk ', ' 6+...</td>\n",
       "      <td>Help create networks from RNA Seq. data</td>\n",
       "      <td>Other</td>\n",
       "      <td>NaN</td>\n",
       "      <td>Patient Tutor to teach Time Series Cell Cycle ...</td>\n",
       "      <td>...</td>\n",
       "      <td>https://www.guru.com/work/detail/1331813</td>\n",
       "      <td>1331813</td>\n",
       "      <td>14</td>\n",
       "      <td>['https://www.guru.com/freelancers/bonzai-crea...</td>\n",
       "      <td>0</td>\n",
       "      <td>['https://www.guru.com/freelancers/bonzai-crea...</td>\n",
       "      <td>0</td>\n",
       "      <td>[]</td>\n",
       "      <td>0</td>\n",
       "      <td>[]</td>\n",
       "    </tr>\n",
       "    <tr>\n",
       "      <th>1461</th>\n",
       "      <td>1461</td>\n",
       "      <td>Dec 14, 2016</td>\n",
       "      <td>May 01, 2023</td>\n",
       "      <td>1314351</td>\n",
       "      <td>Hourly</td>\n",
       "      <td>[' $5 - $10 ', ' 30+ hrs/wk ', ' 6+ months']</td>\n",
       "      <td>SEO my site who sell instagram followers</td>\n",
       "      <td>Sales &amp; Marketing</td>\n",
       "      <td>NaN</td>\n",
       "      <td>Project Description\\n\\nI need my website showi...</td>\n",
       "      <td>...</td>\n",
       "      <td>https://www.guru.com/work/detail/1314351</td>\n",
       "      <td>1314351</td>\n",
       "      <td>90</td>\n",
       "      <td>['https://www.guru.com/freelancers/raheela-khu...</td>\n",
       "      <td>0</td>\n",
       "      <td>[]</td>\n",
       "      <td>0</td>\n",
       "      <td>['https://www.guru.com/freelancers/raheela-khu...</td>\n",
       "      <td>0</td>\n",
       "      <td>[]</td>\n",
       "    </tr>\n",
       "    <tr>\n",
       "      <th>1462</th>\n",
       "      <td>1462</td>\n",
       "      <td>Mar 14, 2016</td>\n",
       "      <td>April 27, 2021</td>\n",
       "      <td>1225615</td>\n",
       "      <td>Hourly</td>\n",
       "      <td>[' No rate specified ', ' 10-30 hrs/wk ', ' 6+...</td>\n",
       "      <td>Analyzing microarray time series data</td>\n",
       "      <td>Other</td>\n",
       "      <td>NaN</td>\n",
       "      <td>Help in analyzing yeast microarray time series...</td>\n",
       "      <td>...</td>\n",
       "      <td>https://www.guru.com/work/detail/1225615</td>\n",
       "      <td>1225615</td>\n",
       "      <td>19</td>\n",
       "      <td>['https://www.guru.com/freelancers/yesesri-che...</td>\n",
       "      <td>0</td>\n",
       "      <td>[]</td>\n",
       "      <td>0</td>\n",
       "      <td>[]</td>\n",
       "      <td>0</td>\n",
       "      <td>[]</td>\n",
       "    </tr>\n",
       "    <tr>\n",
       "      <th>1463</th>\n",
       "      <td>1463</td>\n",
       "      <td>Sep 30, 2015</td>\n",
       "      <td>December 31, 2023</td>\n",
       "      <td>1174444</td>\n",
       "      <td>Fixed Price</td>\n",
       "      <td>[' $500-$1k']</td>\n",
       "      <td>Need a Custom, Print-Ready Folder Design</td>\n",
       "      <td>Design &amp; Art</td>\n",
       "      <td>NaN</td>\n",
       "      <td>I need a presentation folder designed for an e...</td>\n",
       "      <td>...</td>\n",
       "      <td>https://www.guru.com/work/detail/1174444</td>\n",
       "      <td>1174444</td>\n",
       "      <td>100</td>\n",
       "      <td>['https://www.guru.com/freelancers/live-deftso...</td>\n",
       "      <td>1</td>\n",
       "      <td>[]</td>\n",
       "      <td>0</td>\n",
       "      <td>[]</td>\n",
       "      <td>0</td>\n",
       "      <td>[]</td>\n",
       "    </tr>\n",
       "    <tr>\n",
       "      <th>1464</th>\n",
       "      <td>1464</td>\n",
       "      <td>Nov 26, 2020</td>\n",
       "      <td>November 30, 2020</td>\n",
       "      <td>1731424</td>\n",
       "      <td>Fixed Price</td>\n",
       "      <td>[' $250-$500']</td>\n",
       "      <td>get a Google developer account</td>\n",
       "      <td>Programming &amp; Development</td>\n",
       "      <td>Apps &amp; Mobile</td>\n",
       "      <td>1. Programming, for a game App\\n2. At least 8 ...</td>\n",
       "      <td>...</td>\n",
       "      <td>https://www.guru.com/work/detail/1731424</td>\n",
       "      <td>1731424</td>\n",
       "      <td>4</td>\n",
       "      <td>['https://www.guru.com/freelancers/mahmoud-ham...</td>\n",
       "      <td>0</td>\n",
       "      <td>[]</td>\n",
       "      <td>0</td>\n",
       "      <td>[]</td>\n",
       "      <td>0</td>\n",
       "      <td>[]</td>\n",
       "    </tr>\n",
       "  </tbody>\n",
       "</table>\n",
       "<p>1465 rows × 22 columns</p>\n",
       "</div>"
      ],
      "text/plain": [
       "      Unnamed: 0   Created_date                        Due_date   Job_id  \\\n",
       "0              0  Nov 16, 2020                December 18, 2020  1731482   \n",
       "1              1  Nov 16, 2020   Hiring more, till Dec 17, 2020  1731479   \n",
       "2              2  Nov 16, 2020                December 16, 2020  1731480   \n",
       "3              3  Nov 16, 2020                December 16, 2020  1731476   \n",
       "4              4  Nov 16, 2020                December 16, 2020  1731463   \n",
       "...          ...            ...                             ...      ...   \n",
       "1460        1460  Feb 11, 2017                    June 21, 2030  1331813   \n",
       "1461        1461  Dec 14, 2016                     May 01, 2023  1314351   \n",
       "1462        1462  Mar 14, 2016                   April 27, 2021  1225615   \n",
       "1463        1463  Sep 30, 2015                December 31, 2023  1174444   \n",
       "1464        1464  Nov 26, 2020                November 30, 2020  1731424   \n",
       "\n",
       "               Payment_type  \\\n",
       "0               Fixed Price   \n",
       "1     Fixed Price or Hourly   \n",
       "2               Fixed Price   \n",
       "3               Fixed Price   \n",
       "4               Fixed Price   \n",
       "...                     ...   \n",
       "1460                 Hourly   \n",
       "1461                 Hourly   \n",
       "1462                 Hourly   \n",
       "1463            Fixed Price   \n",
       "1464            Fixed Price   \n",
       "\n",
       "                                                 Budget  \\\n",
       "0                                       [' Under $250']   \n",
       "1                                                   NaN   \n",
       "2                                       [' Under $250']   \n",
       "3                                        [' $1k-$2.5k']   \n",
       "4                                       [' Under $250']   \n",
       "...                                                 ...   \n",
       "1460  [' No rate specified ', ' 10-30 hrs/wk ', ' 6+...   \n",
       "1461       [' $5 - $10 ', ' 30+ hrs/wk ', ' 6+ months']   \n",
       "1462  [' No rate specified ', ' 10-30 hrs/wk ', ' 6+...   \n",
       "1463                                      [' $500-$1k']   \n",
       "1464                                     [' $250-$500']   \n",
       "\n",
       "                                     Job_title                   Category  \\\n",
       "0         Society Management app (Android/IOS)  Programming & Development   \n",
       "1                  GPRS tracking device/Server  Programming & Development   \n",
       "2               create + edit two certificates               Design & Art   \n",
       "3                        2 WEBSITE DEVELOPMENT  Programming & Development   \n",
       "4              digital coloring work for comic               Design & Art   \n",
       "...                                        ...                        ...   \n",
       "1460   Help create networks from RNA Seq. data                      Other   \n",
       "1461  SEO my site who sell instagram followers          Sales & Marketing   \n",
       "1462     Analyzing microarray time series data                      Other   \n",
       "1463  Need a Custom, Print-Ready Folder Design               Design & Art   \n",
       "1464            get a Google developer account  Programming & Development   \n",
       "\n",
       "                               Subcategory  \\\n",
       "0                            Apps & Mobile   \n",
       "1                   Programming & Software   \n",
       "2                           Graphic Design   \n",
       "3                 Web Development & Design   \n",
       "4      Photo / Image Restoration & Editing   \n",
       "...                                    ...   \n",
       "1460                                   NaN   \n",
       "1461                                   NaN   \n",
       "1462                                   NaN   \n",
       "1463                                   NaN   \n",
       "1464                         Apps & Mobile   \n",
       "\n",
       "                                        Job_description  ...  \\\n",
       "0     We are looking for mobile app developer (fulls...  ...   \n",
       "1     I want to be able to track vehicles thus neede...  ...   \n",
       "2     I need a graphics artist/photoshop/illustrator...  ...   \n",
       "3     We need two website design\\n\\n1. This process ...  ...   \n",
       "4     looking for digital coloring work for kids com...  ...   \n",
       "...                                                 ...  ...   \n",
       "1460  Patient Tutor to teach Time Series Cell Cycle ...  ...   \n",
       "1461  Project Description\\n\\nI need my website showi...  ...   \n",
       "1462  Help in analyzing yeast microarray time series...  ...   \n",
       "1463  I need a presentation folder designed for an e...  ...   \n",
       "1464  1. Programming, for a game App\\n2. At least 8 ...  ...   \n",
       "\n",
       "                              Link_of_employer Employer_id No_of_quotes  \\\n",
       "0     https://www.guru.com/work/detail/1731482     1731482            9   \n",
       "1     https://www.guru.com/work/detail/1731479     1731479            7   \n",
       "2     https://www.guru.com/work/detail/1731480     1731480           23   \n",
       "3     https://www.guru.com/work/detail/1731476     1731476           26   \n",
       "4     https://www.guru.com/work/detail/1731463     1731463           13   \n",
       "...                                        ...         ...          ...   \n",
       "1460  https://www.guru.com/work/detail/1331813     1331813           14   \n",
       "1461  https://www.guru.com/work/detail/1314351     1314351           90   \n",
       "1462  https://www.guru.com/work/detail/1225615     1225615           19   \n",
       "1463  https://www.guru.com/work/detail/1174444     1174444          100   \n",
       "1464  https://www.guru.com/work/detail/1731424     1731424            4   \n",
       "\n",
       "                                        Link_of_quoters  No_of_Premium_quotes  \\\n",
       "0     ['https://www.guru.com/freelancers/scopic', 'h...                     0   \n",
       "1     ['https://www.guru.com/freelancers/ravi-deshmu...                     0   \n",
       "2     ['https://www.guru.com/freelancers/ammaramjad'...                     0   \n",
       "3     ['https://www.guru.com/freelancers/amazon-soft...                     0   \n",
       "4     ['https://www.guru.com/freelancers/tania-arts'...                     0   \n",
       "...                                                 ...                   ...   \n",
       "1460  ['https://www.guru.com/freelancers/bonzai-crea...                     0   \n",
       "1461  ['https://www.guru.com/freelancers/raheela-khu...                     0   \n",
       "1462  ['https://www.guru.com/freelancers/yesesri-che...                     0   \n",
       "1463  ['https://www.guru.com/freelancers/live-deftso...                     1   \n",
       "1464  ['https://www.guru.com/freelancers/mahmoud-ham...                     0   \n",
       "\n",
       "                                Link_of_premium_quoters  No_of_inviited  \\\n",
       "0                                                    []               0   \n",
       "1                                                    []               1   \n",
       "2                                                    []               0   \n",
       "3                                                    []               0   \n",
       "4                                                    []               0   \n",
       "...                                                 ...             ...   \n",
       "1460  ['https://www.guru.com/freelancers/bonzai-crea...               0   \n",
       "1461                                                 []               0   \n",
       "1462                                                 []               0   \n",
       "1463                                                 []               0   \n",
       "1464                                                 []               0   \n",
       "\n",
       "                            Link_of_invited_freelancers  No_of_Hired  \\\n",
       "0                                                    []            0   \n",
       "1       ['https://www.guru.com/freelancers/spinlogics']            1   \n",
       "2                                                    []            0   \n",
       "3                                                    []            0   \n",
       "4                                                    []            0   \n",
       "...                                                 ...          ...   \n",
       "1460                                                 []            0   \n",
       "1461  ['https://www.guru.com/freelancers/raheela-khu...            0   \n",
       "1462                                                 []            0   \n",
       "1463                                                 []            0   \n",
       "1464                                                 []            0   \n",
       "\n",
       "                              Link_of_hired_freelancers  \n",
       "0                                                    []  \n",
       "1     ['https://www.guru.com/freelancers/ravi-deshmu...  \n",
       "2                                                    []  \n",
       "3                                                    []  \n",
       "4                                                    []  \n",
       "...                                                 ...  \n",
       "1460                                                 []  \n",
       "1461                                                 []  \n",
       "1462                                                 []  \n",
       "1463                                                 []  \n",
       "1464                                                 []  \n",
       "\n",
       "[1465 rows x 22 columns]"
      ]
     },
     "execution_count": 170,
     "metadata": {},
     "output_type": "execute_result"
    }
   ],
   "source": [
    "import pandas as pd\n",
    "import numpy as np\n",
    "from fancyimpute import KNN # pip install fancyimpute\n",
    "from sklearn.preprocessing import OrdinalEncoder\n",
    "import warnings\n",
    "warnings.filterwarnings(\"ignore\")\n",
    "\n",
    "df = pd.read_csv(\"jobs.csv\")\n",
    "df"
   ]
  },
  {
   "cell_type": "markdown",
   "metadata": {},
   "source": [
    "#### Identifying unique category"
   ]
  },
  {
   "cell_type": "code",
   "execution_count": 171,
   "metadata": {},
   "outputs": [
    {
     "data": {
      "text/plain": [
       "array(['Programming & Development', 'Design & Art', 'Other',\n",
       "       'Sales & Marketing', 'Writing & Translation',\n",
       "       'Administrative & Secretarial', 'Education & Training',\n",
       "       'Business & Finance', 'Engineering & Architecture', 'Legal'],\n",
       "      dtype=object)"
      ]
     },
     "execution_count": 171,
     "metadata": {},
     "output_type": "execute_result"
    }
   ],
   "source": [
    "unique_category = df['Category'].unique()\n",
    "unique_category"
   ]
  },
  {
   "cell_type": "markdown",
   "metadata": {},
   "source": [
    "#### Creating subset dataset"
   ]
  },
  {
   "cell_type": "code",
   "execution_count": 172,
   "metadata": {},
   "outputs": [
    {
     "data": {
      "text/html": [
       "<div>\n",
       "<style scoped>\n",
       "    .dataframe tbody tr th:only-of-type {\n",
       "        vertical-align: middle;\n",
       "    }\n",
       "\n",
       "    .dataframe tbody tr th {\n",
       "        vertical-align: top;\n",
       "    }\n",
       "\n",
       "    .dataframe thead th {\n",
       "        text-align: right;\n",
       "    }\n",
       "</style>\n",
       "<table border=\"1\" class=\"dataframe\">\n",
       "  <thead>\n",
       "    <tr style=\"text-align: right;\">\n",
       "      <th></th>\n",
       "      <th>Budget</th>\n",
       "      <th>Category</th>\n",
       "    </tr>\n",
       "  </thead>\n",
       "  <tbody>\n",
       "    <tr>\n",
       "      <th>0</th>\n",
       "      <td>[' Under $250']</td>\n",
       "      <td>Programming &amp; Development</td>\n",
       "    </tr>\n",
       "    <tr>\n",
       "      <th>1</th>\n",
       "      <td>NaN</td>\n",
       "      <td>Programming &amp; Development</td>\n",
       "    </tr>\n",
       "    <tr>\n",
       "      <th>2</th>\n",
       "      <td>[' Under $250']</td>\n",
       "      <td>Design &amp; Art</td>\n",
       "    </tr>\n",
       "    <tr>\n",
       "      <th>3</th>\n",
       "      <td>[' $1k-$2.5k']</td>\n",
       "      <td>Programming &amp; Development</td>\n",
       "    </tr>\n",
       "    <tr>\n",
       "      <th>4</th>\n",
       "      <td>[' Under $250']</td>\n",
       "      <td>Design &amp; Art</td>\n",
       "    </tr>\n",
       "    <tr>\n",
       "      <th>...</th>\n",
       "      <td>...</td>\n",
       "      <td>...</td>\n",
       "    </tr>\n",
       "    <tr>\n",
       "      <th>1460</th>\n",
       "      <td>[' No rate specified ', ' 10-30 hrs/wk ', ' 6+...</td>\n",
       "      <td>Other</td>\n",
       "    </tr>\n",
       "    <tr>\n",
       "      <th>1461</th>\n",
       "      <td>[' $5 - $10 ', ' 30+ hrs/wk ', ' 6+ months']</td>\n",
       "      <td>Sales &amp; Marketing</td>\n",
       "    </tr>\n",
       "    <tr>\n",
       "      <th>1462</th>\n",
       "      <td>[' No rate specified ', ' 10-30 hrs/wk ', ' 6+...</td>\n",
       "      <td>Other</td>\n",
       "    </tr>\n",
       "    <tr>\n",
       "      <th>1463</th>\n",
       "      <td>[' $500-$1k']</td>\n",
       "      <td>Design &amp; Art</td>\n",
       "    </tr>\n",
       "    <tr>\n",
       "      <th>1464</th>\n",
       "      <td>[' $250-$500']</td>\n",
       "      <td>Programming &amp; Development</td>\n",
       "    </tr>\n",
       "  </tbody>\n",
       "</table>\n",
       "<p>1465 rows × 2 columns</p>\n",
       "</div>"
      ],
      "text/plain": [
       "                                                 Budget  \\\n",
       "0                                       [' Under $250']   \n",
       "1                                                   NaN   \n",
       "2                                       [' Under $250']   \n",
       "3                                        [' $1k-$2.5k']   \n",
       "4                                       [' Under $250']   \n",
       "...                                                 ...   \n",
       "1460  [' No rate specified ', ' 10-30 hrs/wk ', ' 6+...   \n",
       "1461       [' $5 - $10 ', ' 30+ hrs/wk ', ' 6+ months']   \n",
       "1462  [' No rate specified ', ' 10-30 hrs/wk ', ' 6+...   \n",
       "1463                                      [' $500-$1k']   \n",
       "1464                                     [' $250-$500']   \n",
       "\n",
       "                       Category  \n",
       "0     Programming & Development  \n",
       "1     Programming & Development  \n",
       "2                  Design & Art  \n",
       "3     Programming & Development  \n",
       "4                  Design & Art  \n",
       "...                         ...  \n",
       "1460                      Other  \n",
       "1461          Sales & Marketing  \n",
       "1462                      Other  \n",
       "1463               Design & Art  \n",
       "1464  Programming & Development  \n",
       "\n",
       "[1465 rows x 2 columns]"
      ]
     },
     "execution_count": 172,
     "metadata": {},
     "output_type": "execute_result"
    }
   ],
   "source": [
    "df2 = df[['Budget', 'Category']]\n",
    "df2"
   ]
  },
  {
   "cell_type": "markdown",
   "metadata": {},
   "source": [
    "#### Splitting budget column into three "
   ]
  },
  {
   "cell_type": "code",
   "execution_count": 173,
   "metadata": {},
   "outputs": [],
   "source": [
    "new = df2[\"Budget\"].str.split(\",\", n = 2, expand = True)\n",
    "df2[\"New_Budget\"] = new[0]"
   ]
  },
  {
   "cell_type": "code",
   "execution_count": 174,
   "metadata": {},
   "outputs": [
    {
     "data": {
      "text/html": [
       "<div>\n",
       "<style scoped>\n",
       "    .dataframe tbody tr th:only-of-type {\n",
       "        vertical-align: middle;\n",
       "    }\n",
       "\n",
       "    .dataframe tbody tr th {\n",
       "        vertical-align: top;\n",
       "    }\n",
       "\n",
       "    .dataframe thead th {\n",
       "        text-align: right;\n",
       "    }\n",
       "</style>\n",
       "<table border=\"1\" class=\"dataframe\">\n",
       "  <thead>\n",
       "    <tr style=\"text-align: right;\">\n",
       "      <th></th>\n",
       "      <th>New_Budget</th>\n",
       "      <th>Category</th>\n",
       "    </tr>\n",
       "  </thead>\n",
       "  <tbody>\n",
       "    <tr>\n",
       "      <th>0</th>\n",
       "      <td>[' Under $250']</td>\n",
       "      <td>Programming &amp; Development</td>\n",
       "    </tr>\n",
       "    <tr>\n",
       "      <th>1</th>\n",
       "      <td>NaN</td>\n",
       "      <td>Programming &amp; Development</td>\n",
       "    </tr>\n",
       "    <tr>\n",
       "      <th>2</th>\n",
       "      <td>[' Under $250']</td>\n",
       "      <td>Design &amp; Art</td>\n",
       "    </tr>\n",
       "    <tr>\n",
       "      <th>3</th>\n",
       "      <td>[' $1k-$2.5k']</td>\n",
       "      <td>Programming &amp; Development</td>\n",
       "    </tr>\n",
       "    <tr>\n",
       "      <th>4</th>\n",
       "      <td>[' Under $250']</td>\n",
       "      <td>Design &amp; Art</td>\n",
       "    </tr>\n",
       "    <tr>\n",
       "      <th>...</th>\n",
       "      <td>...</td>\n",
       "      <td>...</td>\n",
       "    </tr>\n",
       "    <tr>\n",
       "      <th>1460</th>\n",
       "      <td>[' No rate specified '</td>\n",
       "      <td>Other</td>\n",
       "    </tr>\n",
       "    <tr>\n",
       "      <th>1461</th>\n",
       "      <td>[' $5 - $10 '</td>\n",
       "      <td>Sales &amp; Marketing</td>\n",
       "    </tr>\n",
       "    <tr>\n",
       "      <th>1462</th>\n",
       "      <td>[' No rate specified '</td>\n",
       "      <td>Other</td>\n",
       "    </tr>\n",
       "    <tr>\n",
       "      <th>1463</th>\n",
       "      <td>[' $500-$1k']</td>\n",
       "      <td>Design &amp; Art</td>\n",
       "    </tr>\n",
       "    <tr>\n",
       "      <th>1464</th>\n",
       "      <td>[' $250-$500']</td>\n",
       "      <td>Programming &amp; Development</td>\n",
       "    </tr>\n",
       "  </tbody>\n",
       "</table>\n",
       "<p>1465 rows × 2 columns</p>\n",
       "</div>"
      ],
      "text/plain": [
       "                  New_Budget                   Category\n",
       "0            [' Under $250']  Programming & Development\n",
       "1                        NaN  Programming & Development\n",
       "2            [' Under $250']               Design & Art\n",
       "3             [' $1k-$2.5k']  Programming & Development\n",
       "4            [' Under $250']               Design & Art\n",
       "...                      ...                        ...\n",
       "1460  [' No rate specified '                      Other\n",
       "1461           [' $5 - $10 '          Sales & Marketing\n",
       "1462  [' No rate specified '                      Other\n",
       "1463           [' $500-$1k']               Design & Art\n",
       "1464          [' $250-$500']  Programming & Development\n",
       "\n",
       "[1465 rows x 2 columns]"
      ]
     },
     "execution_count": 174,
     "metadata": {},
     "output_type": "execute_result"
    }
   ],
   "source": [
    "df3 = df2[['New_Budget', 'Category']]\n",
    "df3"
   ]
  },
  {
   "cell_type": "markdown",
   "metadata": {},
   "source": [
    "#### Since 'Budget' is a categorical column we try to find unique values"
   ]
  },
  {
   "cell_type": "code",
   "execution_count": 175,
   "metadata": {},
   "outputs": [
    {
     "data": {
      "text/plain": [
       "array([\"[' Under $250']\", nan, \"[' $1k-$2.5k']\", \"[' $500-$1k']\",\n",
       "       \"[' $15 - $25 '\", \"[' $10 - $20 '\", \"[' $7 - $15 '\",\n",
       "       \"[' $250-$500']\", \"[' $5 - $15 '\", \"[' $10 - $15 '\",\n",
       "       \"[' $6 - $12 '\", \"[' $10 - $30 '\", \"[' No rate specified '\",\n",
       "       \"[' $20 - $50 '\", \"[' $15 - $35 '\", \"[' $5 - $8 '\", \"[' Max $10 '\",\n",
       "       \"[' Min $80 '\", \"[' $50 - $100 '\", \"[' $15 - $20 '\",\n",
       "       \"[' $30 - $50 '\", \"[' $17 - $40 '\", \"[' $100 - $400 '\",\n",
       "       \"[' $50 - $150 '\", \"[' $5 - $10 '\", \"[' $30 - $39 '\",\n",
       "       \"[' $25 - $30 '\", \"[' $4 - $8 '\", \"[' $15 - $45 '\",\n",
       "       \"[' $2.5k-$5k']\", \"[' $20 - $25 '\", \"[' $20 - $30 '\",\n",
       "       \"[' $1 - $10 '\", \"[' $25 - $40 '\", \"[' $10k-$25k']\",\n",
       "       \"[' $8 - $12 '\", \"[' $20 - $60 '\", \"[' $10 - $50 '\",\n",
       "       \"[' $12 - $14 '\", \"[' $10 - $18 '\", \"[' $1 - $5 '\",\n",
       "       \"[' $29 - $55 '\", \"[' Min $7 '\", \"[' Min $15 '\", \"[' $8 - $15 '\",\n",
       "       \"[' $25 - $75 '\", \"[' Max $200 '\", \"[' $25 - $200 '\",\n",
       "       \"[' $10 - $12 '\", \"[' $15 - $50 '\", \"[' $5k-$10k']\",\n",
       "       \"[' $4 - $6 '\", \"[' $25 - $50 '\", \"[' $20 - $45 '\",\n",
       "       \"[' Over $25k']\", \"[' $70 - $80 '\", \"[' $12 - $15 '\",\n",
       "       \"[' $3 - $5 '\", \"[' Max $25 '\", \"[' $25 - $150 '\",\n",
       "       \"[' $70 - $150 '\", \"[' $45 - $90 '\", \"[' Max $30 '\",\n",
       "       \"[' $15 - $30 '\", \"[' $2 - $3 '\", \"[' $4 - $10 '\",\n",
       "       \"[' $40 - $50 '\", \"[' Min $3 '\", \"[' Max $12 '\", \"[' $4 - $7 '\",\n",
       "       \"[' $9 - $25 '\", \"[' $5 - $7 '\", \"[' Min $20 '\", \"[' $3 - $10 '\",\n",
       "       \"[' Max $50 '\", \"[' $7 - $8 '\", \"[' $1\", \"[' $2 - $4 '\",\n",
       "       \"[' $30 - $75 '\", \"[' $6 - $10 '\", \"[' $30 - $40 '\",\n",
       "       \"[' $500 - $1\", \"[' $3 - $50 '\", \"[' $8 - $14 '\", \"[' $6 - $7 '\",\n",
       "       \"[' Min $30 '\", \"[' $1 - $30 '\", \"[' $7 - $10 '\", \"[' Max $5 '\",\n",
       "       \"[' $2 - $8 '\", \"[' $2 - $5 '\", \"[' $5 - $5 '\", \"[' $45 - $60 '\",\n",
       "       \"[' $30 - $45 '\", \"[' $4 - $9 '\", \"[' Max $15 '\", \"[' $5 - $50 '\",\n",
       "       \"[' $50 - $800 '\", \"[' $10 - $13 '\", \"[' $3 - $7 '\",\n",
       "       \"[' $3 - $6 '\", \"[' $7 - $12 '\", \"[' $12 - $25 '\",\n",
       "       \"[' $40 - $60 '\", \"[' $35 - $50 '\", \"[' $10 - $38 '\",\n",
       "       \"[' $10 - $14 '\", \"[' $20 - $100 '\", \"[' $8 - $10 '\",\n",
       "       \"[' $16 - $16 '\"], dtype=object)"
      ]
     },
     "execution_count": 175,
     "metadata": {},
     "output_type": "execute_result"
    }
   ],
   "source": [
    "unique_Budget = df3['New_Budget'].unique()\n",
    "unique_Budget"
   ]
  },
  {
   "cell_type": "markdown",
   "metadata": {},
   "source": [
    "#### One Hot Encoding: The process to pull non-null data, encode it and return it to the dataset is below."
   ]
  },
  {
   "cell_type": "code",
   "execution_count": 176,
   "metadata": {},
   "outputs": [],
   "source": [
    "#instantiate both packages to use\n",
    "encoder = OrdinalEncoder()\n",
    "imputer = KNN()\n",
    "\n",
    "# create a list of categorical columns to iterate over\n",
    "cat_cols = ['New_Budget','Category']\n",
    "\n",
    "def encode(data):\n",
    "    '''function to encode non-null data and replace it in the original data'''\n",
    "    #retains only non-null values\n",
    "    nonulls = np.array(data.dropna())\n",
    "    #reshapes the data for encoding\n",
    "    impute_reshape = nonulls.reshape(-1,1)\n",
    "    #encode date\n",
    "    impute_ordinal = encoder.fit_transform(impute_reshape)\n",
    "    #Assign back encoded values to non-null values\n",
    "    data.loc[data.notnull()] = np.squeeze(impute_ordinal)\n",
    "    return data\n",
    "\n",
    "#create a for loop to iterate through each column in the data\n",
    "for columns in cat_cols:\n",
    "    encode(df3[columns])"
   ]
  },
  {
   "cell_type": "code",
   "execution_count": 177,
   "metadata": {},
   "outputs": [
    {
     "data": {
      "text/html": [
       "<div>\n",
       "<style scoped>\n",
       "    .dataframe tbody tr th:only-of-type {\n",
       "        vertical-align: middle;\n",
       "    }\n",
       "\n",
       "    .dataframe tbody tr th {\n",
       "        vertical-align: top;\n",
       "    }\n",
       "\n",
       "    .dataframe thead th {\n",
       "        text-align: right;\n",
       "    }\n",
       "</style>\n",
       "<table border=\"1\" class=\"dataframe\">\n",
       "  <thead>\n",
       "    <tr style=\"text-align: right;\">\n",
       "      <th></th>\n",
       "      <th>New_Budget</th>\n",
       "      <th>Category</th>\n",
       "    </tr>\n",
       "  </thead>\n",
       "  <tbody>\n",
       "    <tr>\n",
       "      <th>0</th>\n",
       "      <td>108</td>\n",
       "      <td>7.0</td>\n",
       "    </tr>\n",
       "    <tr>\n",
       "      <th>1</th>\n",
       "      <td>NaN</td>\n",
       "      <td>7.0</td>\n",
       "    </tr>\n",
       "    <tr>\n",
       "      <th>2</th>\n",
       "      <td>108</td>\n",
       "      <td>2.0</td>\n",
       "    </tr>\n",
       "    <tr>\n",
       "      <th>3</th>\n",
       "      <td>26</td>\n",
       "      <td>7.0</td>\n",
       "    </tr>\n",
       "    <tr>\n",
       "      <th>4</th>\n",
       "      <td>108</td>\n",
       "      <td>2.0</td>\n",
       "    </tr>\n",
       "    <tr>\n",
       "      <th>...</th>\n",
       "      <td>...</td>\n",
       "      <td>...</td>\n",
       "    </tr>\n",
       "    <tr>\n",
       "      <th>1460</th>\n",
       "      <td>106</td>\n",
       "      <td>6.0</td>\n",
       "    </tr>\n",
       "    <tr>\n",
       "      <th>1461</th>\n",
       "      <td>66</td>\n",
       "      <td>8.0</td>\n",
       "    </tr>\n",
       "    <tr>\n",
       "      <th>1462</th>\n",
       "      <td>106</td>\n",
       "      <td>6.0</td>\n",
       "    </tr>\n",
       "    <tr>\n",
       "      <th>1463</th>\n",
       "      <td>76</td>\n",
       "      <td>2.0</td>\n",
       "    </tr>\n",
       "    <tr>\n",
       "      <th>1464</th>\n",
       "      <td>44</td>\n",
       "      <td>7.0</td>\n",
       "    </tr>\n",
       "  </tbody>\n",
       "</table>\n",
       "<p>1465 rows × 2 columns</p>\n",
       "</div>"
      ],
      "text/plain": [
       "     New_Budget  Category\n",
       "0           108       7.0\n",
       "1           NaN       7.0\n",
       "2           108       2.0\n",
       "3            26       7.0\n",
       "4           108       2.0\n",
       "...         ...       ...\n",
       "1460        106       6.0\n",
       "1461         66       8.0\n",
       "1462        106       6.0\n",
       "1463         76       2.0\n",
       "1464         44       7.0\n",
       "\n",
       "[1465 rows x 2 columns]"
      ]
     },
     "execution_count": 177,
     "metadata": {},
     "output_type": "execute_result"
    }
   ],
   "source": [
    "df3"
   ]
  },
  {
   "cell_type": "markdown",
   "metadata": {},
   "source": [
    "#### All text values have been encoded, now that we have values that our imputer can calculate.\n",
    "#### We can impute the data, convert the data back to a DataFrame and add back in the column names."
   ]
  },
  {
   "cell_type": "code",
   "execution_count": 178,
   "metadata": {},
   "outputs": [
    {
     "name": "stdout",
     "output_type": "stream",
     "text": [
      "Imputing row 1/1465 with 0 missing, elapsed time: 0.448\n",
      "Imputing row 101/1465 with 1 missing, elapsed time: 0.453\n",
      "Imputing row 201/1465 with 0 missing, elapsed time: 0.458\n",
      "Imputing row 301/1465 with 0 missing, elapsed time: 0.461\n",
      "Imputing row 401/1465 with 0 missing, elapsed time: 0.465\n",
      "Imputing row 501/1465 with 0 missing, elapsed time: 0.469\n",
      "Imputing row 601/1465 with 0 missing, elapsed time: 0.472\n",
      "Imputing row 701/1465 with 0 missing, elapsed time: 0.474\n",
      "Imputing row 801/1465 with 0 missing, elapsed time: 0.476\n",
      "Imputing row 901/1465 with 0 missing, elapsed time: 0.479\n",
      "Imputing row 1001/1465 with 0 missing, elapsed time: 0.481\n",
      "Imputing row 1101/1465 with 0 missing, elapsed time: 0.484\n",
      "Imputing row 1201/1465 with 0 missing, elapsed time: 0.486\n",
      "Imputing row 1301/1465 with 1 missing, elapsed time: 0.489\n",
      "Imputing row 1401/1465 with 1 missing, elapsed time: 0.491\n"
     ]
    }
   ],
   "source": [
    "# impute data and convert \n",
    "encode_data = pd.DataFrame(np.round(imputer.fit_transform(df3)),columns = df3.columns)"
   ]
  },
  {
   "cell_type": "code",
   "execution_count": 179,
   "metadata": {},
   "outputs": [
    {
     "data": {
      "text/html": [
       "<div>\n",
       "<style scoped>\n",
       "    .dataframe tbody tr th:only-of-type {\n",
       "        vertical-align: middle;\n",
       "    }\n",
       "\n",
       "    .dataframe tbody tr th {\n",
       "        vertical-align: top;\n",
       "    }\n",
       "\n",
       "    .dataframe thead th {\n",
       "        text-align: right;\n",
       "    }\n",
       "</style>\n",
       "<table border=\"1\" class=\"dataframe\">\n",
       "  <thead>\n",
       "    <tr style=\"text-align: right;\">\n",
       "      <th></th>\n",
       "      <th>New_Budget</th>\n",
       "      <th>Category</th>\n",
       "    </tr>\n",
       "  </thead>\n",
       "  <tbody>\n",
       "    <tr>\n",
       "      <th>0</th>\n",
       "      <td>108.0</td>\n",
       "      <td>7.0</td>\n",
       "    </tr>\n",
       "    <tr>\n",
       "      <th>1</th>\n",
       "      <td>62.0</td>\n",
       "      <td>7.0</td>\n",
       "    </tr>\n",
       "    <tr>\n",
       "      <th>2</th>\n",
       "      <td>108.0</td>\n",
       "      <td>2.0</td>\n",
       "    </tr>\n",
       "    <tr>\n",
       "      <th>3</th>\n",
       "      <td>26.0</td>\n",
       "      <td>7.0</td>\n",
       "    </tr>\n",
       "    <tr>\n",
       "      <th>4</th>\n",
       "      <td>108.0</td>\n",
       "      <td>2.0</td>\n",
       "    </tr>\n",
       "    <tr>\n",
       "      <th>...</th>\n",
       "      <td>...</td>\n",
       "      <td>...</td>\n",
       "    </tr>\n",
       "    <tr>\n",
       "      <th>1460</th>\n",
       "      <td>106.0</td>\n",
       "      <td>6.0</td>\n",
       "    </tr>\n",
       "    <tr>\n",
       "      <th>1461</th>\n",
       "      <td>66.0</td>\n",
       "      <td>8.0</td>\n",
       "    </tr>\n",
       "    <tr>\n",
       "      <th>1462</th>\n",
       "      <td>106.0</td>\n",
       "      <td>6.0</td>\n",
       "    </tr>\n",
       "    <tr>\n",
       "      <th>1463</th>\n",
       "      <td>76.0</td>\n",
       "      <td>2.0</td>\n",
       "    </tr>\n",
       "    <tr>\n",
       "      <th>1464</th>\n",
       "      <td>44.0</td>\n",
       "      <td>7.0</td>\n",
       "    </tr>\n",
       "  </tbody>\n",
       "</table>\n",
       "<p>1465 rows × 2 columns</p>\n",
       "</div>"
      ],
      "text/plain": [
       "      New_Budget  Category\n",
       "0          108.0       7.0\n",
       "1           62.0       7.0\n",
       "2          108.0       2.0\n",
       "3           26.0       7.0\n",
       "4          108.0       2.0\n",
       "...          ...       ...\n",
       "1460       106.0       6.0\n",
       "1461        66.0       8.0\n",
       "1462       106.0       6.0\n",
       "1463        76.0       2.0\n",
       "1464        44.0       7.0\n",
       "\n",
       "[1465 rows x 2 columns]"
      ]
     },
     "execution_count": 179,
     "metadata": {},
     "output_type": "execute_result"
    }
   ],
   "source": [
    "encode_data"
   ]
  },
  {
   "cell_type": "markdown",
   "metadata": {},
   "source": [
    "#### Perform clustering using Pycaret\n",
    "\n",
    "https://pycaret.readthedocs.io/en/latest/api/clustering.html"
   ]
  },
  {
   "cell_type": "code",
   "execution_count": 180,
   "metadata": {},
   "outputs": [],
   "source": [
    "from pycaret.clustering import *"
   ]
  },
  {
   "cell_type": "code",
   "execution_count": 181,
   "metadata": {},
   "outputs": [
    {
     "name": "stdout",
     "output_type": "stream",
     "text": [
      "Setup Succesfully Completed!\n"
     ]
    },
    {
     "data": {
      "text/html": [
       "<style  type=\"text/css\" >\n",
       "    #T_fc6fff7e_356f_11eb_8586_74d4350dde9brow10_col1 {\n",
       "            background-color:  lightgreen;\n",
       "        }</style><table id=\"T_fc6fff7e_356f_11eb_8586_74d4350dde9b\" ><thead>    <tr>        <th class=\"blank level0\" ></th>        <th class=\"col_heading level0 col0\" >Description</th>        <th class=\"col_heading level0 col1\" >Value</th>    </tr></thead><tbody>\n",
       "                <tr>\n",
       "                        <th id=\"T_fc6fff7e_356f_11eb_8586_74d4350dde9blevel0_row0\" class=\"row_heading level0 row0\" >0</th>\n",
       "                        <td id=\"T_fc6fff7e_356f_11eb_8586_74d4350dde9brow0_col0\" class=\"data row0 col0\" >session_id </td>\n",
       "                        <td id=\"T_fc6fff7e_356f_11eb_8586_74d4350dde9brow0_col1\" class=\"data row0 col1\" >7628</td>\n",
       "            </tr>\n",
       "            <tr>\n",
       "                        <th id=\"T_fc6fff7e_356f_11eb_8586_74d4350dde9blevel0_row1\" class=\"row_heading level0 row1\" >1</th>\n",
       "                        <td id=\"T_fc6fff7e_356f_11eb_8586_74d4350dde9brow1_col0\" class=\"data row1 col0\" >Original Data </td>\n",
       "                        <td id=\"T_fc6fff7e_356f_11eb_8586_74d4350dde9brow1_col1\" class=\"data row1 col1\" >(1465, 2)</td>\n",
       "            </tr>\n",
       "            <tr>\n",
       "                        <th id=\"T_fc6fff7e_356f_11eb_8586_74d4350dde9blevel0_row2\" class=\"row_heading level0 row2\" >2</th>\n",
       "                        <td id=\"T_fc6fff7e_356f_11eb_8586_74d4350dde9brow2_col0\" class=\"data row2 col0\" >Missing Values </td>\n",
       "                        <td id=\"T_fc6fff7e_356f_11eb_8586_74d4350dde9brow2_col1\" class=\"data row2 col1\" >False</td>\n",
       "            </tr>\n",
       "            <tr>\n",
       "                        <th id=\"T_fc6fff7e_356f_11eb_8586_74d4350dde9blevel0_row3\" class=\"row_heading level0 row3\" >3</th>\n",
       "                        <td id=\"T_fc6fff7e_356f_11eb_8586_74d4350dde9brow3_col0\" class=\"data row3 col0\" >Numeric Features </td>\n",
       "                        <td id=\"T_fc6fff7e_356f_11eb_8586_74d4350dde9brow3_col1\" class=\"data row3 col1\" >2</td>\n",
       "            </tr>\n",
       "            <tr>\n",
       "                        <th id=\"T_fc6fff7e_356f_11eb_8586_74d4350dde9blevel0_row4\" class=\"row_heading level0 row4\" >4</th>\n",
       "                        <td id=\"T_fc6fff7e_356f_11eb_8586_74d4350dde9brow4_col0\" class=\"data row4 col0\" >Categorical Features </td>\n",
       "                        <td id=\"T_fc6fff7e_356f_11eb_8586_74d4350dde9brow4_col1\" class=\"data row4 col1\" >0</td>\n",
       "            </tr>\n",
       "            <tr>\n",
       "                        <th id=\"T_fc6fff7e_356f_11eb_8586_74d4350dde9blevel0_row5\" class=\"row_heading level0 row5\" >5</th>\n",
       "                        <td id=\"T_fc6fff7e_356f_11eb_8586_74d4350dde9brow5_col0\" class=\"data row5 col0\" >Ordinal Features </td>\n",
       "                        <td id=\"T_fc6fff7e_356f_11eb_8586_74d4350dde9brow5_col1\" class=\"data row5 col1\" >False</td>\n",
       "            </tr>\n",
       "            <tr>\n",
       "                        <th id=\"T_fc6fff7e_356f_11eb_8586_74d4350dde9blevel0_row6\" class=\"row_heading level0 row6\" >6</th>\n",
       "                        <td id=\"T_fc6fff7e_356f_11eb_8586_74d4350dde9brow6_col0\" class=\"data row6 col0\" >High Cardinality Features </td>\n",
       "                        <td id=\"T_fc6fff7e_356f_11eb_8586_74d4350dde9brow6_col1\" class=\"data row6 col1\" >False</td>\n",
       "            </tr>\n",
       "            <tr>\n",
       "                        <th id=\"T_fc6fff7e_356f_11eb_8586_74d4350dde9blevel0_row7\" class=\"row_heading level0 row7\" >7</th>\n",
       "                        <td id=\"T_fc6fff7e_356f_11eb_8586_74d4350dde9brow7_col0\" class=\"data row7 col0\" >Transformed Data </td>\n",
       "                        <td id=\"T_fc6fff7e_356f_11eb_8586_74d4350dde9brow7_col1\" class=\"data row7 col1\" >(1465, 2)</td>\n",
       "            </tr>\n",
       "            <tr>\n",
       "                        <th id=\"T_fc6fff7e_356f_11eb_8586_74d4350dde9blevel0_row8\" class=\"row_heading level0 row8\" >8</th>\n",
       "                        <td id=\"T_fc6fff7e_356f_11eb_8586_74d4350dde9brow8_col0\" class=\"data row8 col0\" >Numeric Imputer </td>\n",
       "                        <td id=\"T_fc6fff7e_356f_11eb_8586_74d4350dde9brow8_col1\" class=\"data row8 col1\" >mean</td>\n",
       "            </tr>\n",
       "            <tr>\n",
       "                        <th id=\"T_fc6fff7e_356f_11eb_8586_74d4350dde9blevel0_row9\" class=\"row_heading level0 row9\" >9</th>\n",
       "                        <td id=\"T_fc6fff7e_356f_11eb_8586_74d4350dde9brow9_col0\" class=\"data row9 col0\" >Categorical Imputer </td>\n",
       "                        <td id=\"T_fc6fff7e_356f_11eb_8586_74d4350dde9brow9_col1\" class=\"data row9 col1\" >constant</td>\n",
       "            </tr>\n",
       "            <tr>\n",
       "                        <th id=\"T_fc6fff7e_356f_11eb_8586_74d4350dde9blevel0_row10\" class=\"row_heading level0 row10\" >10</th>\n",
       "                        <td id=\"T_fc6fff7e_356f_11eb_8586_74d4350dde9brow10_col0\" class=\"data row10 col0\" >Normalize </td>\n",
       "                        <td id=\"T_fc6fff7e_356f_11eb_8586_74d4350dde9brow10_col1\" class=\"data row10 col1\" >True</td>\n",
       "            </tr>\n",
       "            <tr>\n",
       "                        <th id=\"T_fc6fff7e_356f_11eb_8586_74d4350dde9blevel0_row11\" class=\"row_heading level0 row11\" >11</th>\n",
       "                        <td id=\"T_fc6fff7e_356f_11eb_8586_74d4350dde9brow11_col0\" class=\"data row11 col0\" >Normalize Method </td>\n",
       "                        <td id=\"T_fc6fff7e_356f_11eb_8586_74d4350dde9brow11_col1\" class=\"data row11 col1\" >zscore</td>\n",
       "            </tr>\n",
       "            <tr>\n",
       "                        <th id=\"T_fc6fff7e_356f_11eb_8586_74d4350dde9blevel0_row12\" class=\"row_heading level0 row12\" >12</th>\n",
       "                        <td id=\"T_fc6fff7e_356f_11eb_8586_74d4350dde9brow12_col0\" class=\"data row12 col0\" >Transformation </td>\n",
       "                        <td id=\"T_fc6fff7e_356f_11eb_8586_74d4350dde9brow12_col1\" class=\"data row12 col1\" >False</td>\n",
       "            </tr>\n",
       "            <tr>\n",
       "                        <th id=\"T_fc6fff7e_356f_11eb_8586_74d4350dde9blevel0_row13\" class=\"row_heading level0 row13\" >13</th>\n",
       "                        <td id=\"T_fc6fff7e_356f_11eb_8586_74d4350dde9brow13_col0\" class=\"data row13 col0\" >Transformation Method </td>\n",
       "                        <td id=\"T_fc6fff7e_356f_11eb_8586_74d4350dde9brow13_col1\" class=\"data row13 col1\" >None</td>\n",
       "            </tr>\n",
       "            <tr>\n",
       "                        <th id=\"T_fc6fff7e_356f_11eb_8586_74d4350dde9blevel0_row14\" class=\"row_heading level0 row14\" >14</th>\n",
       "                        <td id=\"T_fc6fff7e_356f_11eb_8586_74d4350dde9brow14_col0\" class=\"data row14 col0\" >PCA </td>\n",
       "                        <td id=\"T_fc6fff7e_356f_11eb_8586_74d4350dde9brow14_col1\" class=\"data row14 col1\" >False</td>\n",
       "            </tr>\n",
       "            <tr>\n",
       "                        <th id=\"T_fc6fff7e_356f_11eb_8586_74d4350dde9blevel0_row15\" class=\"row_heading level0 row15\" >15</th>\n",
       "                        <td id=\"T_fc6fff7e_356f_11eb_8586_74d4350dde9brow15_col0\" class=\"data row15 col0\" >PCA Method </td>\n",
       "                        <td id=\"T_fc6fff7e_356f_11eb_8586_74d4350dde9brow15_col1\" class=\"data row15 col1\" >None</td>\n",
       "            </tr>\n",
       "            <tr>\n",
       "                        <th id=\"T_fc6fff7e_356f_11eb_8586_74d4350dde9blevel0_row16\" class=\"row_heading level0 row16\" >16</th>\n",
       "                        <td id=\"T_fc6fff7e_356f_11eb_8586_74d4350dde9brow16_col0\" class=\"data row16 col0\" >PCA components </td>\n",
       "                        <td id=\"T_fc6fff7e_356f_11eb_8586_74d4350dde9brow16_col1\" class=\"data row16 col1\" >None</td>\n",
       "            </tr>\n",
       "            <tr>\n",
       "                        <th id=\"T_fc6fff7e_356f_11eb_8586_74d4350dde9blevel0_row17\" class=\"row_heading level0 row17\" >17</th>\n",
       "                        <td id=\"T_fc6fff7e_356f_11eb_8586_74d4350dde9brow17_col0\" class=\"data row17 col0\" >Ignore Low Variance </td>\n",
       "                        <td id=\"T_fc6fff7e_356f_11eb_8586_74d4350dde9brow17_col1\" class=\"data row17 col1\" >False</td>\n",
       "            </tr>\n",
       "            <tr>\n",
       "                        <th id=\"T_fc6fff7e_356f_11eb_8586_74d4350dde9blevel0_row18\" class=\"row_heading level0 row18\" >18</th>\n",
       "                        <td id=\"T_fc6fff7e_356f_11eb_8586_74d4350dde9brow18_col0\" class=\"data row18 col0\" >Combine Rare Levels </td>\n",
       "                        <td id=\"T_fc6fff7e_356f_11eb_8586_74d4350dde9brow18_col1\" class=\"data row18 col1\" >False</td>\n",
       "            </tr>\n",
       "            <tr>\n",
       "                        <th id=\"T_fc6fff7e_356f_11eb_8586_74d4350dde9blevel0_row19\" class=\"row_heading level0 row19\" >19</th>\n",
       "                        <td id=\"T_fc6fff7e_356f_11eb_8586_74d4350dde9brow19_col0\" class=\"data row19 col0\" >Rare Level Threshold </td>\n",
       "                        <td id=\"T_fc6fff7e_356f_11eb_8586_74d4350dde9brow19_col1\" class=\"data row19 col1\" >None</td>\n",
       "            </tr>\n",
       "            <tr>\n",
       "                        <th id=\"T_fc6fff7e_356f_11eb_8586_74d4350dde9blevel0_row20\" class=\"row_heading level0 row20\" >20</th>\n",
       "                        <td id=\"T_fc6fff7e_356f_11eb_8586_74d4350dde9brow20_col0\" class=\"data row20 col0\" >Numeric Binning </td>\n",
       "                        <td id=\"T_fc6fff7e_356f_11eb_8586_74d4350dde9brow20_col1\" class=\"data row20 col1\" >False</td>\n",
       "            </tr>\n",
       "            <tr>\n",
       "                        <th id=\"T_fc6fff7e_356f_11eb_8586_74d4350dde9blevel0_row21\" class=\"row_heading level0 row21\" >21</th>\n",
       "                        <td id=\"T_fc6fff7e_356f_11eb_8586_74d4350dde9brow21_col0\" class=\"data row21 col0\" >Remove Multicollinearity </td>\n",
       "                        <td id=\"T_fc6fff7e_356f_11eb_8586_74d4350dde9brow21_col1\" class=\"data row21 col1\" >False</td>\n",
       "            </tr>\n",
       "            <tr>\n",
       "                        <th id=\"T_fc6fff7e_356f_11eb_8586_74d4350dde9blevel0_row22\" class=\"row_heading level0 row22\" >22</th>\n",
       "                        <td id=\"T_fc6fff7e_356f_11eb_8586_74d4350dde9brow22_col0\" class=\"data row22 col0\" >Multicollinearity Threshold </td>\n",
       "                        <td id=\"T_fc6fff7e_356f_11eb_8586_74d4350dde9brow22_col1\" class=\"data row22 col1\" >None</td>\n",
       "            </tr>\n",
       "            <tr>\n",
       "                        <th id=\"T_fc6fff7e_356f_11eb_8586_74d4350dde9blevel0_row23\" class=\"row_heading level0 row23\" >23</th>\n",
       "                        <td id=\"T_fc6fff7e_356f_11eb_8586_74d4350dde9brow23_col0\" class=\"data row23 col0\" >Group Features </td>\n",
       "                        <td id=\"T_fc6fff7e_356f_11eb_8586_74d4350dde9brow23_col1\" class=\"data row23 col1\" >False</td>\n",
       "            </tr>\n",
       "    </tbody></table>"
      ],
      "text/plain": [
       "<pandas.io.formats.style.Styler at 0x20c4b23d1d0>"
      ]
     },
     "metadata": {},
     "output_type": "display_data"
    }
   ],
   "source": [
    "exp_name = setup(encode_data, normalize=True)"
   ]
  },
  {
   "cell_type": "code",
   "execution_count": 182,
   "metadata": {},
   "outputs": [
    {
     "data": {
      "text/html": [
       "<div>\n",
       "<style scoped>\n",
       "    .dataframe tbody tr th:only-of-type {\n",
       "        vertical-align: middle;\n",
       "    }\n",
       "\n",
       "    .dataframe tbody tr th {\n",
       "        vertical-align: top;\n",
       "    }\n",
       "\n",
       "    .dataframe thead th {\n",
       "        text-align: right;\n",
       "    }\n",
       "</style>\n",
       "<table border=\"1\" class=\"dataframe\">\n",
       "  <thead>\n",
       "    <tr style=\"text-align: right;\">\n",
       "      <th></th>\n",
       "      <th>Metric</th>\n",
       "    </tr>\n",
       "  </thead>\n",
       "  <tbody>\n",
       "    <tr>\n",
       "      <th>Silhouette</th>\n",
       "      <td>0.5345</td>\n",
       "    </tr>\n",
       "    <tr>\n",
       "      <th>Calinski-Harabasz</th>\n",
       "      <td>1925.0573</td>\n",
       "    </tr>\n",
       "    <tr>\n",
       "      <th>Davies-Bouldin</th>\n",
       "      <td>0.7074</td>\n",
       "    </tr>\n",
       "  </tbody>\n",
       "</table>\n",
       "</div>"
      ],
      "text/plain": [
       "                      Metric\n",
       "Silhouette            0.5345\n",
       "Calinski-Harabasz  1925.0573\n",
       "Davies-Bouldin        0.7074"
      ]
     },
     "metadata": {},
     "output_type": "display_data"
    }
   ],
   "source": [
    "kmeans = create_model('kmeans')"
   ]
  },
  {
   "cell_type": "code",
   "execution_count": 183,
   "metadata": {},
   "outputs": [
    {
     "data": {
      "text/html": [
       "<div>\n",
       "<style scoped>\n",
       "    .dataframe tbody tr th:only-of-type {\n",
       "        vertical-align: middle;\n",
       "    }\n",
       "\n",
       "    .dataframe tbody tr th {\n",
       "        vertical-align: top;\n",
       "    }\n",
       "\n",
       "    .dataframe thead th {\n",
       "        text-align: right;\n",
       "    }\n",
       "</style>\n",
       "<table border=\"1\" class=\"dataframe\">\n",
       "  <thead>\n",
       "    <tr style=\"text-align: right;\">\n",
       "      <th></th>\n",
       "      <th>Metric</th>\n",
       "    </tr>\n",
       "  </thead>\n",
       "  <tbody>\n",
       "    <tr>\n",
       "      <th>Silhouette</th>\n",
       "      <td>0.4736</td>\n",
       "    </tr>\n",
       "    <tr>\n",
       "      <th>Calinski-Harabasz</th>\n",
       "      <td>5.8586</td>\n",
       "    </tr>\n",
       "    <tr>\n",
       "      <th>Davies-Bouldin</th>\n",
       "      <td>0.3755</td>\n",
       "    </tr>\n",
       "  </tbody>\n",
       "</table>\n",
       "</div>"
      ],
      "text/plain": [
       "                   Metric\n",
       "Silhouette         0.4736\n",
       "Calinski-Harabasz  5.8586\n",
       "Davies-Bouldin     0.3755"
      ]
     },
     "metadata": {},
     "output_type": "display_data"
    }
   ],
   "source": [
    "dbscan = create_model('dbscan')"
   ]
  },
  {
   "cell_type": "code",
   "execution_count": 155,
   "metadata": {},
   "outputs": [
    {
     "data": {
      "text/html": [
       "<div>\n",
       "<style scoped>\n",
       "    .dataframe tbody tr th:only-of-type {\n",
       "        vertical-align: middle;\n",
       "    }\n",
       "\n",
       "    .dataframe tbody tr th {\n",
       "        vertical-align: top;\n",
       "    }\n",
       "\n",
       "    .dataframe thead th {\n",
       "        text-align: right;\n",
       "    }\n",
       "</style>\n",
       "<table border=\"1\" class=\"dataframe\">\n",
       "  <thead>\n",
       "    <tr style=\"text-align: right;\">\n",
       "      <th></th>\n",
       "    </tr>\n",
       "  </thead>\n",
       "  <tbody>\n",
       "  </tbody>\n",
       "</table>\n",
       "</div>"
      ],
      "text/plain": [
       "Empty DataFrame\n",
       "Columns: []\n",
       "Index: []"
      ]
     },
     "metadata": {},
     "output_type": "display_data"
    }
   ],
   "source": [
    "ap = create_model('ap') # Affinity Propagation "
   ]
  },
  {
   "cell_type": "code",
   "execution_count": 184,
   "metadata": {},
   "outputs": [
    {
     "data": {
      "text/html": [
       "<div>\n",
       "<style scoped>\n",
       "    .dataframe tbody tr th:only-of-type {\n",
       "        vertical-align: middle;\n",
       "    }\n",
       "\n",
       "    .dataframe tbody tr th {\n",
       "        vertical-align: top;\n",
       "    }\n",
       "\n",
       "    .dataframe thead th {\n",
       "        text-align: right;\n",
       "    }\n",
       "</style>\n",
       "<table border=\"1\" class=\"dataframe\">\n",
       "  <thead>\n",
       "    <tr style=\"text-align: right;\">\n",
       "      <th></th>\n",
       "      <th>Metric</th>\n",
       "    </tr>\n",
       "  </thead>\n",
       "  <tbody>\n",
       "    <tr>\n",
       "      <th>Silhouette</th>\n",
       "      <td>0.4912</td>\n",
       "    </tr>\n",
       "    <tr>\n",
       "      <th>Calinski-Harabasz</th>\n",
       "      <td>1122.8263</td>\n",
       "    </tr>\n",
       "    <tr>\n",
       "      <th>Davies-Bouldin</th>\n",
       "      <td>0.8466</td>\n",
       "    </tr>\n",
       "  </tbody>\n",
       "</table>\n",
       "</div>"
      ],
      "text/plain": [
       "                      Metric\n",
       "Silhouette            0.4912\n",
       "Calinski-Harabasz  1122.8263\n",
       "Davies-Bouldin        0.8466"
      ]
     },
     "metadata": {},
     "output_type": "display_data"
    }
   ],
   "source": [
    "meanshift = create_model('meanshift') # Mean Shift "
   ]
  },
  {
   "cell_type": "code",
   "execution_count": 185,
   "metadata": {},
   "outputs": [
    {
     "data": {
      "text/html": [
       "<div>\n",
       "<style scoped>\n",
       "    .dataframe tbody tr th:only-of-type {\n",
       "        vertical-align: middle;\n",
       "    }\n",
       "\n",
       "    .dataframe tbody tr th {\n",
       "        vertical-align: top;\n",
       "    }\n",
       "\n",
       "    .dataframe thead th {\n",
       "        text-align: right;\n",
       "    }\n",
       "</style>\n",
       "<table border=\"1\" class=\"dataframe\">\n",
       "  <thead>\n",
       "    <tr style=\"text-align: right;\">\n",
       "      <th></th>\n",
       "      <th>Metric</th>\n",
       "    </tr>\n",
       "  </thead>\n",
       "  <tbody>\n",
       "    <tr>\n",
       "      <th>Silhouette</th>\n",
       "      <td>0.5183</td>\n",
       "    </tr>\n",
       "    <tr>\n",
       "      <th>Calinski-Harabasz</th>\n",
       "      <td>1579.6521</td>\n",
       "    </tr>\n",
       "    <tr>\n",
       "      <th>Davies-Bouldin</th>\n",
       "      <td>0.5954</td>\n",
       "    </tr>\n",
       "  </tbody>\n",
       "</table>\n",
       "</div>"
      ],
      "text/plain": [
       "                      Metric\n",
       "Silhouette            0.5183\n",
       "Calinski-Harabasz  1579.6521\n",
       "Davies-Bouldin        0.5954"
      ]
     },
     "metadata": {},
     "output_type": "display_data"
    }
   ],
   "source": [
    "sc = create_model('sc') # Spectral Clustering"
   ]
  },
  {
   "cell_type": "code",
   "execution_count": 186,
   "metadata": {},
   "outputs": [
    {
     "data": {
      "text/html": [
       "<div>\n",
       "<style scoped>\n",
       "    .dataframe tbody tr th:only-of-type {\n",
       "        vertical-align: middle;\n",
       "    }\n",
       "\n",
       "    .dataframe tbody tr th {\n",
       "        vertical-align: top;\n",
       "    }\n",
       "\n",
       "    .dataframe thead th {\n",
       "        text-align: right;\n",
       "    }\n",
       "</style>\n",
       "<table border=\"1\" class=\"dataframe\">\n",
       "  <thead>\n",
       "    <tr style=\"text-align: right;\">\n",
       "      <th></th>\n",
       "      <th>Metric</th>\n",
       "    </tr>\n",
       "  </thead>\n",
       "  <tbody>\n",
       "    <tr>\n",
       "      <th>Silhouette</th>\n",
       "      <td>0.5296</td>\n",
       "    </tr>\n",
       "    <tr>\n",
       "      <th>Calinski-Harabasz</th>\n",
       "      <td>1894.9907</td>\n",
       "    </tr>\n",
       "    <tr>\n",
       "      <th>Davies-Bouldin</th>\n",
       "      <td>0.7265</td>\n",
       "    </tr>\n",
       "  </tbody>\n",
       "</table>\n",
       "</div>"
      ],
      "text/plain": [
       "                      Metric\n",
       "Silhouette            0.5296\n",
       "Calinski-Harabasz  1894.9907\n",
       "Davies-Bouldin        0.7265"
      ]
     },
     "metadata": {},
     "output_type": "display_data"
    }
   ],
   "source": [
    "hclust = create_model('hclust') # Agglomerative Clustering"
   ]
  },
  {
   "cell_type": "code",
   "execution_count": 139,
   "metadata": {},
   "outputs": [
    {
     "data": {
      "text/html": [
       "<div>\n",
       "<style scoped>\n",
       "    .dataframe tbody tr th:only-of-type {\n",
       "        vertical-align: middle;\n",
       "    }\n",
       "\n",
       "    .dataframe tbody tr th {\n",
       "        vertical-align: top;\n",
       "    }\n",
       "\n",
       "    .dataframe thead th {\n",
       "        text-align: right;\n",
       "    }\n",
       "</style>\n",
       "<table border=\"1\" class=\"dataframe\">\n",
       "  <thead>\n",
       "    <tr style=\"text-align: right;\">\n",
       "      <th></th>\n",
       "      <th>Metric</th>\n",
       "    </tr>\n",
       "  </thead>\n",
       "  <tbody>\n",
       "    <tr>\n",
       "      <th>Silhouette</th>\n",
       "      <td>0.8022</td>\n",
       "    </tr>\n",
       "    <tr>\n",
       "      <th>Calinski-Harabasz</th>\n",
       "      <td>212.5574</td>\n",
       "    </tr>\n",
       "    <tr>\n",
       "      <th>Davies-Bouldin</th>\n",
       "      <td>1.2955</td>\n",
       "    </tr>\n",
       "  </tbody>\n",
       "</table>\n",
       "</div>"
      ],
      "text/plain": [
       "                     Metric\n",
       "Silhouette           0.8022\n",
       "Calinski-Harabasz  212.5574\n",
       "Davies-Bouldin       1.2955"
      ]
     },
     "metadata": {},
     "output_type": "display_data"
    }
   ],
   "source": [
    "optics = create_model('optics')"
   ]
  },
  {
   "cell_type": "code",
   "execution_count": 187,
   "metadata": {},
   "outputs": [
    {
     "data": {
      "text/html": [
       "<div>\n",
       "<style scoped>\n",
       "    .dataframe tbody tr th:only-of-type {\n",
       "        vertical-align: middle;\n",
       "    }\n",
       "\n",
       "    .dataframe tbody tr th {\n",
       "        vertical-align: top;\n",
       "    }\n",
       "\n",
       "    .dataframe thead th {\n",
       "        text-align: right;\n",
       "    }\n",
       "</style>\n",
       "<table border=\"1\" class=\"dataframe\">\n",
       "  <thead>\n",
       "    <tr style=\"text-align: right;\">\n",
       "      <th></th>\n",
       "      <th>Metric</th>\n",
       "    </tr>\n",
       "  </thead>\n",
       "  <tbody>\n",
       "    <tr>\n",
       "      <th>Silhouette</th>\n",
       "      <td>0.5148</td>\n",
       "    </tr>\n",
       "    <tr>\n",
       "      <th>Calinski-Harabasz</th>\n",
       "      <td>1467.3888</td>\n",
       "    </tr>\n",
       "    <tr>\n",
       "      <th>Davies-Bouldin</th>\n",
       "      <td>0.6512</td>\n",
       "    </tr>\n",
       "  </tbody>\n",
       "</table>\n",
       "</div>"
      ],
      "text/plain": [
       "                      Metric\n",
       "Silhouette            0.5148\n",
       "Calinski-Harabasz  1467.3888\n",
       "Davies-Bouldin        0.6512"
      ]
     },
     "metadata": {},
     "output_type": "display_data"
    }
   ],
   "source": [
    "birch = create_model('birch')"
   ]
  },
  {
   "cell_type": "code",
   "execution_count": 188,
   "metadata": {},
   "outputs": [
    {
     "data": {
      "text/html": [
       "<div>\n",
       "<style scoped>\n",
       "    .dataframe tbody tr th:only-of-type {\n",
       "        vertical-align: middle;\n",
       "    }\n",
       "\n",
       "    .dataframe tbody tr th {\n",
       "        vertical-align: top;\n",
       "    }\n",
       "\n",
       "    .dataframe thead th {\n",
       "        text-align: right;\n",
       "    }\n",
       "</style>\n",
       "<table border=\"1\" class=\"dataframe\">\n",
       "  <thead>\n",
       "    <tr style=\"text-align: right;\">\n",
       "      <th></th>\n",
       "      <th>Metric</th>\n",
       "    </tr>\n",
       "  </thead>\n",
       "  <tbody>\n",
       "    <tr>\n",
       "      <th>Silhouette</th>\n",
       "      <td>-0.0437</td>\n",
       "    </tr>\n",
       "    <tr>\n",
       "      <th>Calinski-Harabasz</th>\n",
       "      <td>42.6622</td>\n",
       "    </tr>\n",
       "    <tr>\n",
       "      <th>Davies-Bouldin</th>\n",
       "      <td>1.9871</td>\n",
       "    </tr>\n",
       "  </tbody>\n",
       "</table>\n",
       "</div>"
      ],
      "text/plain": [
       "                    Metric\n",
       "Silhouette         -0.0437\n",
       "Calinski-Harabasz  42.6622\n",
       "Davies-Bouldin      1.9871"
      ]
     },
     "metadata": {},
     "output_type": "display_data"
    }
   ],
   "source": [
    "kmodes = create_model('kmodes')"
   ]
  },
  {
   "cell_type": "code",
   "execution_count": 189,
   "metadata": {},
   "outputs": [
    {
     "data": {
      "text/html": [
       "        <script type=\"text/javascript\">\n",
       "        window.PlotlyConfig = {MathJaxConfig: 'local'};\n",
       "        if (window.MathJax) {MathJax.Hub.Config({SVG: {font: \"STIX-Web\"}});}\n",
       "        if (typeof require !== 'undefined') {\n",
       "        require.undef(\"plotly\");\n",
       "        requirejs.config({\n",
       "            paths: {\n",
       "                'plotly': ['https://cdn.plot.ly/plotly-latest.min']\n",
       "            }\n",
       "        });\n",
       "        require(['plotly'], function(Plotly) {\n",
       "            window._Plotly = Plotly;\n",
       "        });\n",
       "        }\n",
       "        </script>\n",
       "        "
      ]
     },
     "metadata": {},
     "output_type": "display_data"
    },
    {
     "data": {
      "application/vnd.plotly.v1+json": {
       "config": {
        "plotlyServerURL": "https://plot.ly"
       },
       "data": [
        {
         "customdata": [
          [
           108
          ],
          [
           80
          ],
          [
           108
          ],
          [
           106
          ],
          [
           108
          ],
          [
           80
          ],
          [
           82
          ],
          [
           80
          ],
          [
           106
          ],
          [
           108
          ],
          [
           108
          ],
          [
           80
          ],
          [
           108
          ],
          [
           82
          ],
          [
           108
          ],
          [
           108
          ],
          [
           82
          ],
          [
           82
          ],
          [
           106
          ],
          [
           108
          ],
          [
           108
          ],
          [
           82
          ],
          [
           75
          ],
          [
           108
          ],
          [
           108
          ],
          [
           108
          ],
          [
           108
          ],
          [
           82
          ],
          [
           106
          ],
          [
           82
          ],
          [
           80
          ],
          [
           108
          ],
          [
           108
          ],
          [
           108
          ],
          [
           82
          ],
          [
           87
          ],
          [
           82
          ],
          [
           73
          ],
          [
           87
          ],
          [
           108
          ],
          [
           108
          ],
          [
           87
          ],
          [
           76
          ],
          [
           108
          ],
          [
           108
          ],
          [
           108
          ],
          [
           85
          ],
          [
           108
          ],
          [
           76
          ],
          [
           108
          ],
          [
           108
          ],
          [
           108
          ],
          [
           108
          ],
          [
           108
          ],
          [
           108
          ],
          [
           82
          ],
          [
           79
          ],
          [
           99
          ],
          [
           82
          ],
          [
           82
          ],
          [
           83
          ],
          [
           108
          ],
          [
           77
          ],
          [
           80
          ],
          [
           100
          ],
          [
           108
          ],
          [
           108
          ],
          [
           76
          ],
          [
           87
          ],
          [
           80
          ],
          [
           87
          ],
          [
           106
          ],
          [
           80
          ],
          [
           91
          ],
          [
           108
          ],
          [
           80
          ],
          [
           84
          ],
          [
           108
          ],
          [
           82
          ],
          [
           108
          ],
          [
           108
          ],
          [
           79
          ],
          [
           97
          ],
          [
           82
          ],
          [
           82
          ],
          [
           108
          ],
          [
           85
          ],
          [
           108
          ],
          [
           85
          ],
          [
           108
          ],
          [
           75
          ],
          [
           76
          ],
          [
           80
          ],
          [
           108
          ],
          [
           76
          ],
          [
           108
          ],
          [
           108
          ],
          [
           82
          ],
          [
           83
          ],
          [
           83
          ],
          [
           82
          ],
          [
           71
          ],
          [
           108
          ],
          [
           82
          ],
          [
           108
          ],
          [
           82
          ],
          [
           108
          ],
          [
           82
          ],
          [
           108
          ],
          [
           108
          ],
          [
           108
          ],
          [
           82
          ],
          [
           82
          ],
          [
           108
          ],
          [
           82
          ],
          [
           108
          ],
          [
           108
          ],
          [
           108
          ],
          [
           108
          ],
          [
           82
          ],
          [
           108
          ],
          [
           76
          ],
          [
           108
          ],
          [
           108
          ],
          [
           108
          ],
          [
           82
          ],
          [
           85
          ],
          [
           108
          ],
          [
           82
          ],
          [
           83
          ],
          [
           108
          ],
          [
           108
          ],
          [
           108
          ],
          [
           88
          ],
          [
           106
          ],
          [
           108
          ],
          [
           106
          ],
          [
           108
          ],
          [
           85
          ],
          [
           82
          ],
          [
           82
          ],
          [
           85
          ],
          [
           87
          ],
          [
           85
          ],
          [
           82
          ],
          [
           108
          ],
          [
           69
          ],
          [
           87
          ],
          [
           76
          ],
          [
           108
          ],
          [
           80
          ],
          [
           95
          ],
          [
           108
          ],
          [
           87
          ],
          [
           106
          ],
          [
           75
          ],
          [
           108
          ],
          [
           87
          ],
          [
           87
          ],
          [
           108
          ],
          [
           108
          ],
          [
           108
          ],
          [
           95
          ],
          [
           87
          ],
          [
           108
          ],
          [
           82
          ],
          [
           108
          ],
          [
           87
          ],
          [
           87
          ],
          [
           99
          ],
          [
           108
          ],
          [
           87
          ],
          [
           106
          ],
          [
           108
          ],
          [
           87
          ],
          [
           82
          ],
          [
           108
          ],
          [
           82
          ],
          [
           97
          ],
          [
           108
          ],
          [
           108
          ],
          [
           108
          ],
          [
           108
          ],
          [
           87
          ],
          [
           77
          ],
          [
           75
          ],
          [
           108
          ],
          [
           76
          ],
          [
           75
          ],
          [
           108
          ],
          [
           108
          ],
          [
           77
          ],
          [
           87
          ],
          [
           108
          ],
          [
           106
          ],
          [
           95
          ],
          [
           108
          ],
          [
           82
          ],
          [
           108
          ],
          [
           76
          ],
          [
           87
          ],
          [
           108
          ],
          [
           82
          ],
          [
           108
          ],
          [
           108
          ],
          [
           108
          ],
          [
           108
          ],
          [
           85
          ],
          [
           87
          ],
          [
           108
          ],
          [
           108
          ],
          [
           108
          ],
          [
           106
          ],
          [
           96
          ],
          [
           87
          ],
          [
           80
          ],
          [
           95
          ],
          [
           108
          ],
          [
           108
          ],
          [
           85
          ],
          [
           108
          ],
          [
           87
          ],
          [
           95
          ],
          [
           108
          ],
          [
           108
          ],
          [
           87
          ],
          [
           108
          ],
          [
           108
          ],
          [
           108
          ],
          [
           108
          ],
          [
           86
          ],
          [
           87
          ],
          [
           108
          ],
          [
           76
          ],
          [
           108
          ],
          [
           76
          ],
          [
           87
          ],
          [
           95
          ],
          [
           82
          ],
          [
           87
          ]
         ],
         "hovertemplate": "Cluster=Cluster 0<br>PCA1=%{x}<br>PCA2=%{y}<br>Feature=%{customdata[0]}<extra></extra>",
         "legendgroup": "Cluster 0",
         "marker": {
          "color": "#636efa",
          "opacity": 0.5,
          "symbol": "circle"
         },
         "mode": "markers",
         "name": "Cluster 0",
         "showlegend": true,
         "textposition": "top center",
         "type": "scattergl",
         "x": [
          2.024436071303781,
          1.641080495834385,
          2.024436071303781,
          1.976731200036938,
          2.024436071303781,
          1.641080495834385,
          1.4042727448348216,
          1.641080495834385,
          1.976731200036938,
          1.4554108267709684,
          2.024436071303781,
          1.641080495834385,
          2.024436071303781,
          1.4042727448348216,
          2.593461315836594,
          2.024436071303781,
          1.4042727448348216,
          1.4042727448348216,
          1.976731200036938,
          1.7399234490373745,
          2.024436071303781,
          1.4042727448348216,
          1.237305695400871,
          2.024436071303781,
          1.7399234490373745,
          2.024436071303781,
          2.024436071303781,
          1.4042727448348216,
          2.2612438223033444,
          1.4042727448348216,
          1.641080495834385,
          1.4554108267709684,
          2.024436071303781,
          2.024436071303781,
          1.4042727448348216,
          1.523534923001929,
          1.4042727448348216,
          0.9050882018676215,
          1.523534923001929,
          2.024436071303781,
          2.024436071303781,
          1.523534923001929,
          1.2611581310342925,
          2.024436071303781,
          2.3089486935701875,
          2.024436071303781,
          1.475830051735086,
          2.024436071303781,
          1.2611581310342925,
          2.024436071303781,
          2.024436071303781,
          1.4554108267709684,
          2.024436071303781,
          2.024436071303781,
          1.4554108267709684,
          1.4042727448348216,
          1.9017406824673695,
          1.2407389060701748,
          1.4042727448348216,
          0.8352475003020088,
          1.7126378027346496,
          2.593461315836594,
          1.8540358112005269,
          1.641080495834385,
          1.5491039639700026,
          1.4554108267709684,
          2.024436071303781,
          1.2611581310342925,
          1.523534923001929,
          1.641080495834385,
          1.523534923001929,
          1.4077059555041251,
          1.641080495834385,
          2.187969910068428,
          2.024436071303781,
          1.641080495834385,
          1.1674649938352581,
          2.024436071303781,
          1.4042727448348216,
          1.4554108267709684,
          2.024436071303781,
          1.9017406824673695,
          2.3310845238689573,
          1.4042727448348216,
          1.4042727448348216,
          2.3089486935701875,
          1.475830051735086,
          2.024436071303781,
          1.475830051735086,
          2.593461315836594,
          0.6682804508680583,
          0.6921328865014796,
          1.641080495834385,
          2.024436071303781,
          1.2611581310342925,
          2.024436071303781,
          2.024436071303781,
          1.4042727448348216,
          1.7126378027346496,
          1.7126378027346496,
          1.4042727448348216,
          1.141895952867185,
          2.024436071303781,
          1.4042727448348216,
          2.024436071303781,
          1.4042727448348216,
          2.024436071303781,
          1.4042727448348216,
          2.3089486935701875,
          2.024436071303781,
          1.7399234490373745,
          1.4042727448348216,
          1.4042727448348216,
          2.024436071303781,
          1.4042727448348216,
          2.024436071303781,
          2.024436071303781,
          1.4554108267709684,
          2.024436071303781,
          1.4042727448348216,
          1.4554108267709684,
          1.2611581310342925,
          2.024436071303781,
          2.024436071303781,
          2.024436071303781,
          1.4042727448348216,
          1.475830051735086,
          2.024436071303781,
          1.4042727448348216,
          1.7126378027346496,
          2.024436071303781,
          2.024436071303781,
          2.024436071303781,
          1.5473873586353506,
          2.5457564445697507,
          2.024436071303781,
          2.5457564445697507,
          2.024436071303781,
          1.475830051735086,
          1.4042727448348216,
          1.4042727448348216,
          1.475830051735086,
          1.523534923001929,
          1.475830051735086,
          1.4042727448348216,
          1.7399234490373745,
          1.6632163261331545,
          1.523534923001929,
          0.9766455087678863,
          2.593461315836594,
          1.641080495834385,
          1.9988670303357077,
          2.024436071303781,
          1.523534923001929,
          2.5457564445697507,
          0.6682804508680583,
          1.4554108267709684,
          1.523534923001929,
          1.523534923001929,
          1.4554108267709684,
          1.7399234490373745,
          2.024436071303781,
          1.9988670303357077,
          1.523534923001929,
          2.024436071303781,
          1.4042727448348216,
          2.024436071303781,
          1.523534923001929,
          1.523534923001929,
          2.3787893951358,
          2.024436071303781,
          1.523534923001929,
          2.5457564445697507,
          2.3089486935701875,
          1.523534923001929,
          1.4042727448348216,
          2.593461315836594,
          1.4042727448348216,
          1.477546657069738,
          2.593461315836594,
          2.024436071303781,
          2.024436071303781,
          2.024436071303781,
          1.523534923001929,
          1.0004979444013076,
          0.6682804508680583,
          2.024436071303781,
          1.2611581310342925,
          0.6682804508680583,
          1.7399234490373745,
          2.024436071303781,
          1.0004979444013076,
          1.523534923001929,
          2.024436071303781,
          1.6922185777705319,
          1.9988670303357077,
          1.4554108267709684,
          1.4042727448348216,
          2.024436071303781,
          1.2611581310342925,
          1.523534923001929,
          2.024436071303781,
          1.4042727448348216,
          2.3089486935701875,
          2.024436071303781,
          2.024436071303781,
          2.024436071303781,
          1.475830051735086,
          1.523534923001929,
          2.024436071303781,
          1.4554108267709684,
          1.4554108267709684,
          2.5457564445697507,
          2.3072320882355357,
          1.523534923001929,
          1.641080495834385,
          1.9988670303357077,
          2.024436071303781,
          2.024436071303781,
          1.475830051735086,
          2.024436071303781,
          1.8080475452683356,
          1.9988670303357077,
          2.024436071303781,
          2.024436071303781,
          1.523534923001929,
          2.024436071303781,
          2.024436071303781,
          2.024436071303781,
          2.024436071303781,
          1.784195109634914,
          1.523534923001929,
          2.024436071303781,
          1.2611581310342925,
          2.3089486935701875,
          1.2611581310342925,
          1.523534923001929,
          1.9988670303357077,
          1.4042727448348216,
          1.523534923001929
         ],
         "xaxis": "x",
         "y": [
          0.27225080304608557,
          1.2246316230482903,
          0.27225080304608557,
          0.31995567431292793,
          0.27225080304608557,
          1.2246316230482903,
          0.8924141295150383,
          1.2246316230482903,
          0.31995567431292793,
          -0.29677444148673354,
          0.27225080304608557,
          1.2246316230482903,
          0.27225080304608557,
          0.8924141295150383,
          0.8412760475789047,
          0.27225080304608557,
          0.8924141295150383,
          0.8924141295150383,
          0.31995567431292793,
          -0.012261819220323992,
          0.27225080304608557,
          0.8924141295150383,
          1.059381178948987,
          0.27225080304608557,
          -0.012261819220323992,
          0.27225080304608557,
          0.27225080304608557,
          0.8924141295150383,
          0.6044682965793375,
          0.8924141295150383,
          1.2246316230482903,
          -0.29677444148673354,
          0.27225080304608557,
          0.27225080304608557,
          0.8924141295150383,
          0.7731519513479319,
          0.8924141295150383,
          0.8225734279494199,
          0.7731519513479319,
          0.27225080304608557,
          0.27225080304608557,
          0.7731519513479319,
          1.0355287433155658,
          0.27225080304608557,
          0.5567634253124952,
          0.27225080304608557,
          0.8208568226147743,
          0.27225080304608557,
          1.0355287433155658,
          0.27225080304608557,
          0.27225080304608557,
          -0.29677444148673354,
          0.27225080304608557,
          0.27225080304608557,
          -0.29677444148673354,
          0.8924141295150383,
          1.532996680948121,
          -0.08210252078594212,
          0.8924141295150383,
          0.323388884982219,
          1.1530743161480266,
          0.8412760475789047,
          1.5807015522149637,
          1.2246316230482903,
          0.178557665847046,
          -0.29677444148673354,
          0.27225080304608557,
          1.0355287433155658,
          0.7731519513479319,
          1.2246316230482903,
          0.7731519513479319,
          -0.2490695702198912,
          1.2246316230482903,
          1.246767453347066,
          0.27225080304608557,
          1.2246316230482903,
          0.560196635981786,
          0.27225080304608557,
          0.8924141295150383,
          -0.29677444148673354,
          0.27225080304608557,
          1.532996680948121,
          1.1036528395465384,
          0.8924141295150383,
          0.8924141295150383,
          0.5567634253124952,
          0.8208568226147743,
          0.27225080304608557,
          0.8208568226147743,
          0.8412760475789047,
          0.4903559344161678,
          0.46650349878274655,
          1.2246316230482903,
          0.27225080304608557,
          1.0355287433155658,
          0.27225080304608557,
          0.27225080304608557,
          0.8924141295150383,
          1.1530743161480266,
          1.1530743161480266,
          0.8924141295150383,
          1.1547909214826722,
          0.27225080304608557,
          0.8924141295150383,
          0.27225080304608557,
          0.8924141295150383,
          0.27225080304608557,
          0.8924141295150383,
          0.5567634253124952,
          0.27225080304608557,
          -0.012261819220323992,
          0.8924141295150383,
          0.8924141295150383,
          0.27225080304608557,
          0.8924141295150383,
          0.27225080304608557,
          0.27225080304608557,
          -0.29677444148673354,
          0.27225080304608557,
          0.8924141295150383,
          -0.29677444148673354,
          1.0355287433155658,
          0.27225080304608557,
          0.27225080304608557,
          0.27225080304608557,
          0.8924141295150383,
          0.8208568226147743,
          0.27225080304608557,
          0.8924141295150383,
          1.1530743161480266,
          0.27225080304608557,
          0.27225080304608557,
          0.27225080304608557,
          0.7492995157145106,
          0.8889809188457469,
          0.27225080304608557,
          0.8889809188457469,
          0.27225080304608557,
          0.8208568226147743,
          0.8924141295150383,
          0.8924141295150383,
          0.8208568226147743,
          0.7731519513479319,
          0.8208568226147743,
          0.8924141295150383,
          -0.012261819220323992,
          1.7715210372823338,
          0.7731519513479319,
          0.7510161210491563,
          0.8412760475789047,
          1.2246316230482903,
          0.8668450885469715,
          0.27225080304608557,
          0.7731519513479319,
          0.8889809188457469,
          0.4903559344161678,
          -0.29677444148673354,
          0.7731519513479319,
          0.7731519513479319,
          -0.29677444148673354,
          -0.012261819220323992,
          0.27225080304608557,
          0.8668450885469715,
          0.7731519513479319,
          0.27225080304608557,
          0.8924141295150383,
          0.27225080304608557,
          0.7731519513479319,
          0.7731519513479319,
          1.055947968279696,
          0.27225080304608557,
          0.7731519513479319,
          0.8889809188457469,
          0.5567634253124952,
          0.7731519513479319,
          0.8924141295150383,
          0.8412760475789047,
          0.8924141295150383,
          0.2501149727473097,
          0.8412760475789047,
          0.27225080304608557,
          0.27225080304608557,
          0.27225080304608557,
          0.7731519513479319,
          0.727163685415735,
          0.4903559344161678,
          0.27225080304608557,
          1.0355287433155658,
          0.4903559344161678,
          -0.012261819220323992,
          0.27225080304608557,
          0.727163685415735,
          0.7731519513479319,
          0.27225080304608557,
          0.03544305204651845,
          0.8668450885469715,
          -0.29677444148673354,
          0.8924141295150383,
          0.27225080304608557,
          1.0355287433155658,
          0.7731519513479319,
          0.27225080304608557,
          0.8924141295150383,
          0.5567634253124952,
          0.27225080304608557,
          0.27225080304608557,
          0.27225080304608557,
          0.8208568226147743,
          0.7731519513479319,
          0.27225080304608557,
          -0.29677444148673354,
          -0.29677444148673354,
          0.8889809188457469,
          1.1275052751799597,
          0.7731519513479319,
          1.2246316230482903,
          0.8668450885469715,
          0.27225080304608557,
          0.27225080304608557,
          0.8208568226147743,
          0.27225080304608557,
          1.0576645736143415,
          0.8668450885469715,
          0.27225080304608557,
          0.27225080304608557,
          0.7731519513479319,
          0.27225080304608557,
          0.27225080304608557,
          0.27225080304608557,
          0.27225080304608557,
          1.0815170092477628,
          0.7731519513479319,
          0.27225080304608557,
          1.0355287433155658,
          0.5567634253124952,
          1.0355287433155658,
          0.7731519513479319,
          0.8668450885469715,
          0.8924141295150383,
          0.7731519513479319
         ],
         "yaxis": "y"
        },
        {
         "customdata": [
          [
           62
          ],
          [
           44
          ],
          [
           62
          ],
          [
           67
          ],
          [
           44
          ],
          [
           56
          ],
          [
           56
          ],
          [
           44
          ],
          [
           62
          ],
          [
           56
          ],
          [
           44
          ],
          [
           21
          ],
          [
           62
          ],
          [
           65
          ],
          [
           62
          ],
          [
           44
          ],
          [
           56
          ],
          [
           56
          ],
          [
           26
          ],
          [
           26
          ],
          [
           26
          ],
          [
           62
          ],
          [
           7
          ],
          [
           31
          ],
          [
           62
          ],
          [
           62
          ],
          [
           44
          ],
          [
           62
          ],
          [
           26
          ],
          [
           44
          ],
          [
           62
          ],
          [
           56
          ],
          [
           20
          ],
          [
           56
          ],
          [
           56
          ],
          [
           2
          ],
          [
           62
          ],
          [
           26
          ],
          [
           9
          ],
          [
           52
          ],
          [
           18
          ],
          [
           56
          ],
          [
           56
          ],
          [
           31
          ],
          [
           56
          ],
          [
           44
          ],
          [
           44
          ],
          [
           62
          ],
          [
           71
          ],
          [
           62
          ],
          [
           56
          ],
          [
           26
          ],
          [
           46
          ],
          [
           62
          ],
          [
           62
          ],
          [
           26
          ],
          [
           20
          ],
          [
           62
          ],
          [
           62
          ],
          [
           21
          ],
          [
           62
          ],
          [
           44
          ],
          [
           36
          ],
          [
           18
          ],
          [
           44
          ],
          [
           57
          ],
          [
           7
          ],
          [
           20
          ],
          [
           62
          ],
          [
           62
          ],
          [
           7
          ],
          [
           31
          ],
          [
           44
          ],
          [
           62
          ],
          [
           62
          ],
          [
           34
          ],
          [
           34
          ],
          [
           28
          ],
          [
           10
          ],
          [
           70
          ],
          [
           62
          ],
          [
           44
          ],
          [
           62
          ],
          [
           31
          ],
          [
           20
          ],
          [
           62
          ],
          [
           26
          ],
          [
           4
          ],
          [
           26
          ],
          [
           44
          ],
          [
           62
          ],
          [
           48
          ],
          [
           26
          ],
          [
           59
          ],
          [
           44
          ],
          [
           56
          ],
          [
           56
          ],
          [
           56
          ],
          [
           56
          ],
          [
           44
          ],
          [
           7
          ],
          [
           56
          ],
          [
           56
          ],
          [
           44
          ],
          [
           7
          ],
          [
           62
          ],
          [
           62
          ],
          [
           44
          ],
          [
           44
          ],
          [
           56
          ],
          [
           56
          ],
          [
           44
          ],
          [
           55
          ],
          [
           44
          ],
          [
           44
          ],
          [
           40
          ],
          [
           26
          ],
          [
           34
          ],
          [
           44
          ],
          [
           26
          ],
          [
           36
          ],
          [
           56
          ],
          [
           44
          ],
          [
           26
          ],
          [
           31
          ],
          [
           52
          ],
          [
           56
          ],
          [
           44
          ],
          [
           56
          ],
          [
           7
          ],
          [
           62
          ],
          [
           26
          ],
          [
           44
          ],
          [
           7
          ],
          [
           11
          ],
          [
           56
          ],
          [
           6
          ],
          [
           44
          ],
          [
           56
          ],
          [
           31
          ],
          [
           57
          ],
          [
           56
          ],
          [
           57
          ],
          [
           32
          ],
          [
           56
          ],
          [
           56
          ],
          [
           57
          ],
          [
           56
          ],
          [
           56
          ],
          [
           56
          ],
          [
           31
          ],
          [
           56
          ],
          [
           56
          ],
          [
           56
          ],
          [
           44
          ],
          [
           31
          ],
          [
           26
          ],
          [
           44
          ],
          [
           56
          ],
          [
           56
          ],
          [
           56
          ],
          [
           26
          ],
          [
           44
          ],
          [
           26
          ],
          [
           26
          ],
          [
           56
          ],
          [
           17
          ],
          [
           44
          ],
          [
           26
          ],
          [
           63
          ],
          [
           44
          ],
          [
           44
          ],
          [
           56
          ],
          [
           26
          ],
          [
           56
          ],
          [
           44
          ],
          [
           44
          ],
          [
           56
          ],
          [
           56
          ],
          [
           56
          ],
          [
           56
          ],
          [
           56
          ],
          [
           56
          ],
          [
           44
          ],
          [
           56
          ],
          [
           57
          ],
          [
           56
          ],
          [
           50
          ],
          [
           57
          ],
          [
           56
          ],
          [
           44
          ],
          [
           56
          ],
          [
           31
          ],
          [
           56
          ],
          [
           56
          ],
          [
           56
          ],
          [
           56
          ],
          [
           31
          ],
          [
           44
          ],
          [
           44
          ],
          [
           33
          ],
          [
           56
          ],
          [
           44
          ],
          [
           56
          ],
          [
           44
          ],
          [
           56
          ],
          [
           56
          ],
          [
           66
          ],
          [
           26
          ],
          [
           44
          ],
          [
           56
          ],
          [
           56
          ],
          [
           56
          ],
          [
           44
          ],
          [
           56
          ],
          [
           56
          ],
          [
           56
          ],
          [
           56
          ],
          [
           26
          ],
          [
           44
          ],
          [
           56
          ],
          [
           19
          ],
          [
           56
          ],
          [
           56
          ],
          [
           24
          ],
          [
           56
          ],
          [
           44
          ],
          [
           56
          ],
          [
           56
          ],
          [
           57
          ],
          [
           26
          ],
          [
           56
          ],
          [
           56
          ],
          [
           56
          ],
          [
           9
          ],
          [
           56
          ],
          [
           56
          ],
          [
           26
          ],
          [
           49
          ],
          [
           54
          ],
          [
           56
          ],
          [
           56
          ],
          [
           44
          ],
          [
           56
          ],
          [
           56
          ],
          [
           44
          ],
          [
           55
          ],
          [
           19
          ],
          [
           56
          ],
          [
           56
          ],
          [
           44
          ],
          [
           68
          ],
          [
           45
          ],
          [
           26
          ],
          [
           44
          ],
          [
           44
          ],
          [
           62
          ],
          [
           42
          ],
          [
           56
          ],
          [
           26
          ],
          [
           26
          ],
          [
           68
          ],
          [
           45
          ],
          [
           56
          ],
          [
           66
          ],
          [
           10
          ],
          [
           44
          ],
          [
           26
          ],
          [
           44
          ],
          [
           56
          ],
          [
           21
          ],
          [
           45
          ],
          [
           30
          ],
          [
           56
          ],
          [
           29
          ],
          [
           18
          ],
          [
           56
          ],
          [
           26
          ],
          [
           44
          ],
          [
           26
          ],
          [
           26
          ],
          [
           56
          ],
          [
           20
          ],
          [
           44
          ],
          [
           56
          ],
          [
           45
          ],
          [
           56
          ],
          [
           56
          ],
          [
           42
          ],
          [
           44
          ],
          [
           31
          ],
          [
           56
          ],
          [
           56
          ],
          [
           56
          ],
          [
           56
          ],
          [
           56
          ],
          [
           26
          ],
          [
           69
          ],
          [
           26
          ],
          [
           56
          ],
          [
           44
          ],
          [
           44
          ],
          [
           61
          ],
          [
           7
          ],
          [
           40
          ],
          [
           5
          ],
          [
           56
          ],
          [
           58
          ],
          [
           31
          ],
          [
           56
          ],
          [
           50
          ],
          [
           4
          ],
          [
           66
          ],
          [
           56
          ],
          [
           56
          ],
          [
           67
          ],
          [
           31
          ],
          [
           56
          ],
          [
           45
          ],
          [
           66
          ],
          [
           53
          ],
          [
           44
          ],
          [
           56
          ],
          [
           10
          ],
          [
           34
          ],
          [
           56
          ],
          [
           41
          ],
          [
           56
          ],
          [
           31
          ],
          [
           56
          ],
          [
           45
          ],
          [
           44
          ],
          [
           18
          ],
          [
           56
          ],
          [
           14
          ],
          [
           19
          ],
          [
           61
          ],
          [
           56
          ],
          [
           56
          ],
          [
           18
          ],
          [
           67
          ],
          [
           56
          ],
          [
           64
          ],
          [
           44
          ],
          [
           62
          ],
          [
           57
          ],
          [
           26
          ],
          [
           62
          ],
          [
           54
          ],
          [
           62
          ],
          [
           62
          ],
          [
           31
          ],
          [
           31
          ],
          [
           25
          ],
          [
           44
          ],
          [
           44
          ],
          [
           62
          ],
          [
           62
          ],
          [
           31
          ],
          [
           57
          ],
          [
           26
          ],
          [
           31
          ],
          [
           26
          ],
          [
           62
          ],
          [
           14
          ],
          [
           67
          ],
          [
           62
          ],
          [
           62
          ],
          [
           15
          ],
          [
           4
          ],
          [
           66
          ],
          [
           31
          ],
          [
           62
          ],
          [
           44
          ],
          [
           35
          ],
          [
           44
          ],
          [
           62
          ],
          [
           45
          ],
          [
           18
          ],
          [
           26
          ],
          [
           21
          ],
          [
           62
          ],
          [
           45
          ],
          [
           62
          ],
          [
           62
          ],
          [
           62
          ],
          [
           62
          ],
          [
           44
          ],
          [
           62
          ],
          [
           62
          ],
          [
           44
          ],
          [
           62
          ],
          [
           44
          ],
          [
           47
          ],
          [
           62
          ],
          [
           62
          ],
          [
           45
          ],
          [
           62
          ],
          [
           44
          ],
          [
           62
          ],
          [
           58
          ],
          [
           26
          ],
          [
           8
          ],
          [
           9
          ],
          [
           12
          ],
          [
           26
          ],
          [
           14
          ],
          [
           44
          ],
          [
           21
          ],
          [
           62
          ],
          [
           31
          ],
          [
           42
          ],
          [
           44
          ],
          [
           62
          ],
          [
           43
          ],
          [
           44
          ],
          [
           60
          ],
          [
           26
          ],
          [
           62
          ],
          [
           62
          ],
          [
           62
          ],
          [
           26
          ],
          [
           44
          ],
          [
           62
          ],
          [
           62
          ],
          [
           62
          ],
          [
           62
          ],
          [
           45
          ],
          [
           26
          ],
          [
           62
          ],
          [
           62
          ],
          [
           45
          ],
          [
           62
          ],
          [
           26
          ],
          [
           45
          ],
          [
           45
          ],
          [
           62
          ],
          [
           62
          ],
          [
           62
          ],
          [
           62
          ],
          [
           44
          ],
          [
           44
          ],
          [
           31
          ],
          [
           36
          ],
          [
           22
          ],
          [
           62
          ],
          [
           36
          ],
          [
           19
          ],
          [
           31
          ],
          [
           58
          ],
          [
           62
          ],
          [
           3
          ],
          [
           62
          ],
          [
           62
          ],
          [
           62
          ],
          [
           62
          ],
          [
           34
          ],
          [
           44
          ],
          [
           51
          ],
          [
           62
          ],
          [
           19
          ],
          [
           7
          ],
          [
           58
          ],
          [
           62
          ],
          [
           62
          ],
          [
           23
          ],
          [
           39
          ],
          [
           40
          ],
          [
           44
          ],
          [
           62
          ],
          [
           44
          ],
          [
           62
          ],
          [
           62
          ],
          [
           26
          ],
          [
           18
          ],
          [
           62
          ],
          [
           4
          ],
          [
           7
          ],
          [
           62
          ],
          [
           62
          ],
          [
           44
          ],
          [
           14
          ],
          [
           62
          ],
          [
           26
          ],
          [
           26
          ],
          [
           44
          ],
          [
           62
          ],
          [
           44
          ],
          [
           26
          ],
          [
           45
          ],
          [
           62
          ],
          [
           44
          ],
          [
           44
          ],
          [
           26
          ],
          [
           14
          ],
          [
           44
          ],
          [
           44
          ],
          [
           62
          ],
          [
           44
          ],
          [
           31
          ],
          [
           67
          ],
          [
           57
          ],
          [
           62
          ],
          [
           26
          ],
          [
           62
          ],
          [
           62
          ],
          [
           62
          ],
          [
           62
          ],
          [
           4
          ],
          [
           4
          ],
          [
           26
          ],
          [
           26
          ],
          [
           44
          ],
          [
           62
          ],
          [
           45
          ],
          [
           62
          ],
          [
           44
          ],
          [
           62
          ],
          [
           62
          ],
          [
           62
          ],
          [
           62
          ],
          [
           62
          ],
          [
           26
          ],
          [
           44
          ],
          [
           62
          ],
          [
           26
          ],
          [
           62
          ],
          [
           45
          ],
          [
           44
          ],
          [
           31
          ],
          [
           44
          ],
          [
           62
          ],
          [
           23
          ],
          [
           62
          ],
          [
           57
          ],
          [
           62
          ],
          [
           19
          ],
          [
           41
          ],
          [
           44
          ],
          [
           62
          ],
          [
           62
          ],
          [
           62
          ],
          [
           44
          ],
          [
           9
          ],
          [
           7
          ],
          [
           62
          ],
          [
           62
          ],
          [
           62
          ],
          [
           62
          ],
          [
           44
          ],
          [
           62
          ],
          [
           62
          ],
          [
           62
          ],
          [
           62
          ],
          [
           44
          ],
          [
           44
          ],
          [
           44
          ],
          [
           26
          ],
          [
           31
          ],
          [
           62
          ],
          [
           62
          ],
          [
           1
          ],
          [
           62
          ],
          [
           62
          ],
          [
           38
          ],
          [
           44
          ],
          [
           31
          ],
          [
           62
          ],
          [
           10
          ],
          [
           26
          ],
          [
           62
          ],
          [
           57
          ],
          [
           26
          ],
          [
           60
          ],
          [
           44
          ],
          [
           62
          ],
          [
           62
          ],
          [
           44
          ],
          [
           57
          ],
          [
           45
          ],
          [
           45
          ],
          [
           62
          ],
          [
           62
          ],
          [
           44
          ],
          [
           62
          ],
          [
           44
          ]
         ],
         "hovertemplate": "Cluster=Cluster 1<br>PCA1=%{x}<br>PCA2=%{y}<br>Feature=%{customdata[0]}<extra></extra>",
         "legendgroup": "Cluster 1",
         "marker": {
          "color": "#EF553B",
          "opacity": 0.5,
          "symbol": "circle"
         },
         "mode": "markers",
         "name": "Cluster 1",
         "showlegend": true,
         "textposition": "top center",
         "type": "scattergl",
         "x": [
          -0.49533907916564046,
          -0.9246829205672279,
          -0.49533907916564046,
          -0.9451021455313459,
          -0.9246829205672279,
          -0.6384536929661697,
          -0.6384536929661697,
          -1.2091955428336343,
          -0.49533907916564046,
          -0.6384536929661697,
          -0.9246829205672279,
          -1.4732889401359226,
          -0.49533907916564046,
          -0.9928070167981888,
          -0.49533907916564046,
          -0.9246829205672279,
          -0.6384536929661697,
          -0.6384536929661697,
          -1.354026761968815,
          -1.354026761968815,
          -1.354026761968815,
          -0.49533907916564046,
          -1.8072230390038244,
          -1.2347645838017074,
          -0.49533907916564046,
          -0.49533907916564046,
          -0.6401702983008215,
          -0.49533907916564046,
          -1.9230520065016277,
          -0.9246829205672279,
          -0.49533907916564046,
          -0.6384536929661697,
          -1.4971413757693444,
          -0.6384536929661697,
          -0.6384536929661697,
          -1.9264852171709317,
          -0.49533907916564046,
          -1.354026761968815,
          -1.7595181677369813,
          -1.0183760577662622,
          -1.5448462470361872,
          -0.6384536929661697,
          -0.6384536929661697,
          -1.8037898283345202,
          -0.6384536929661697,
          -1.2091955428336343,
          -0.9246829205672279,
          -0.49533907916564046,
          -0.28066715846484686,
          -0.49533907916564046,
          -0.6384536929661697,
          -1.6385393842352214,
          -1.1614906715667912,
          -0.49533907916564046,
          -0.49533907916564046,
          -1.354026761968815,
          -1.4971413757693444,
          -0.49533907916564046,
          -0.49533907916564046,
          -2.0423141846687356,
          -0.49533907916564046,
          -0.9246829205672279,
          -1.6845276501674127,
          -2.113871491569,
          -1.4937081651000406,
          -0.6146012573327481,
          -1.8072230390038244,
          -1.4971413757693444,
          -0.49533907916564046,
          -0.49533907916564046,
          -1.8072230390038244,
          -1.2347645838017074,
          -1.2091955428336343,
          -0.49533907916564046,
          -0.49533907916564046,
          -1.1632072769014432,
          -1.1632072769014432,
          -1.5908345129683783,
          -2.3046909766363726,
          -0.30451959409826834,
          -0.49533907916564046,
          -0.9246829205672279,
          -0.49533907916564046,
          -1.2347645838017074,
          -1.4971413757693444,
          -0.49533907916564046,
          -1.9230520065016277,
          -1.8787803459040886,
          -1.354026761968815,
          -0.9246829205672279,
          -0.49533907916564046,
          -0.8292731780335417,
          -1.354026761968815,
          -0.5668963860659051,
          -0.9246829205672279,
          -0.6384536929661697,
          -0.6384536929661697,
          -0.6384536929661697,
          -0.6384536929661697,
          -0.9246829205672279,
          -2.091735661270231,
          -0.6384536929661697,
          -0.6384536929661697,
          -0.9246829205672279,
          -1.8072230390038244,
          -0.49533907916564046,
          -0.49533907916564046,
          -0.9246829205672279,
          -1.2091955428336343,
          -0.6384536929661697,
          -0.6384536929661697,
          -0.9246829205672279,
          -0.9468187508659975,
          -1.4937081651000406,
          -0.6401702983008215,
          -0.7355800408345077,
          -1.9230520065016277,
          -1.1632072769014432,
          -0.9246829205672279,
          -1.354026761968815,
          -1.1155024056346,
          -0.6384536929661697,
          -0.9246829205672279,
          -1.354026761968815,
          -1.5192772060681141,
          -0.7338634354998558,
          -0.6384536929661697,
          -0.9246829205672279,
          -0.6384536929661697,
          -1.8072230390038244,
          -0.49533907916564046,
          -1.354026761968815,
          -1.2091955428336343,
          -2.091735661270231,
          -1.4273006742037322,
          -0.6384536929661697,
          -1.8310754746372457,
          -0.9246829205672279,
          -0.6384536929661697,
          -0.9502519615353012,
          -0.8991138795991546,
          -0.6384536929661697,
          -0.8991138795991546,
          -1.2109121481682863,
          -0.6384536929661697,
          -0.6384536929661697,
          -0.8991138795991546,
          -0.6384536929661697,
          -0.6384536929661697,
          -0.6384536929661697,
          -0.9502519615353012,
          -0.6384536929661697,
          -0.6384536929661697,
          -0.6384536929661697,
          -0.9246829205672279,
          -1.8037898283345202,
          -1.6385393842352214,
          -0.9246829205672279,
          -0.6384536929661697,
          -0.6384536929661697,
          -0.6384536929661697,
          -1.354026761968815,
          -1.4937081651000406,
          -1.354026761968815,
          -1.354026761968815,
          -0.6384536929661697,
          -1.8532113049360153,
          -0.9246829205672279,
          -1.9230520065016277,
          -0.471486643532219,
          -0.9246829205672279,
          -0.9246829205672279,
          -0.6384536929661697,
          -1.354026761968815,
          -0.6384536929661697,
          -0.9246829205672279,
          -0.9246829205672279,
          -0.6384536929661697,
          -0.6384536929661697,
          -0.6384536929661697,
          -0.6384536929661697,
          -0.6384536929661697,
          -0.6384536929661697,
          -0.9246829205672279,
          -0.6384536929661697,
          -0.8991138795991546,
          -0.6384536929661697,
          -1.0660809290331053,
          -0.8991138795991546,
          -0.6384536929661697,
          -1.2091955428336343,
          -0.6384536929661697,
          -1.8037898283345202,
          -0.6384536929661697,
          -0.6384536929661697,
          -0.6384536929661697,
          -0.6384536929661697,
          -1.2347645838017074,
          -0.9246829205672279,
          -0.6401702983008215,
          -1.1870597125348643,
          -0.6384536929661697,
          -0.6401702983008215,
          -0.6384536929661697,
          -0.9246829205672279,
          -0.6384536929661697,
          -0.6384536929661697,
          -0.6844419588983609,
          -1.354026761968815,
          -0.9246829205672279,
          -0.6384536929661697,
          -0.6384536929661697,
          -0.6384536929661697,
          -0.9246829205672279,
          -0.6384536929661697,
          -0.6384536929661697,
          -0.6384536929661697,
          -0.6384536929661697,
          -1.354026761968815,
          -0.9246829205672279,
          -0.6384536929661697,
          -1.5209938114027661,
          -0.6384536929661697,
          -0.6384536929661697,
          -1.4017316332356582,
          -0.6384536929661697,
          -1.2091955428336343,
          -0.6384536929661697,
          -0.6384536929661697,
          -0.8991138795991546,
          -1.354026761968815,
          -0.6384536929661697,
          -0.6384536929661697,
          -0.6384536929661697,
          -1.7595181677369813,
          -0.6384536929661697,
          -0.6384536929661697,
          -1.354026761968815,
          -1.0899333646665268,
          -0.4016459419666063,
          -0.6384536929661697,
          -0.6384536929661697,
          -0.9246829205672279,
          -0.6384536929661697,
          -0.6384536929661697,
          -0.9246829205672279,
          -0.6623061285995911,
          -1.5209938114027661,
          -0.6384536929661697,
          -0.6384536929661697,
          -0.6401702983008215,
          -0.6367370876315179,
          -1.469855729466619,
          -1.9230520065016277,
          -1.2091955428336343,
          -0.9246829205672279,
          -0.49533907916564046,
          -1.5414130363668836,
          -0.6384536929661697,
          -1.354026761968815,
          -1.354026761968815,
          -0.6367370876315179,
          -1.469855729466619,
          -0.6384536929661697,
          -0.39992933663195446,
          -2.020178354369966,
          -1.4937081651000406,
          -1.354026761968815,
          -1.4937081651000406,
          -0.6384536929661697,
          -2.0423141846687356,
          -1.469855729466619,
          -1.827642263967942,
          -0.6384536929661697,
          -1.8514946996013635,
          -1.8293588693025935,
          -0.6384536929661697,
          -1.354026761968815,
          -0.9246829205672279,
          -1.354026761968815,
          -1.354026761968815,
          -0.6384536929661697,
          -2.0661666203021576,
          -0.9246829205672279,
          -0.6384536929661697,
          -1.469855729466619,
          -0.6384536929661697,
          -0.6384536929661697,
          -0.6878751695676645,
          -0.9246829205672279,
          -1.2347645838017074,
          -0.6384536929661697,
          -0.6384536929661697,
          -0.6384536929661697,
          -0.6384536929661697,
          -0.6384536929661697,
          -1.0695141397024088,
          -0.3283720297316899,
          -1.9230520065016277,
          -0.6384536929661697,
          -0.9246829205672279,
          -0.9246829205672279,
          -0.23467889253265575,
          -2.091735661270231,
          -1.020092663100914,
          -1.8549279102706673,
          -0.6384536929661697,
          -0.30623619943292035,
          -1.2347645838017074,
          -0.6384536929661697,
          -0.7815683067666988,
          -1.8787803459040886,
          -0.39992933663195446,
          -0.6384536929661697,
          -0.6384536929661697,
          -0.37607690099853286,
          -1.2347645838017074,
          -0.6384536929661697,
          -1.469855729466619,
          -0.39992933663195446,
          -0.7100109998664341,
          -0.9246829205672279,
          -0.6384536929661697,
          -1.7356657321035596,
          -1.1632072769014432,
          -0.6384536929661697,
          -0.9962402274674925,
          -0.6384536929661697,
          -1.2347645838017074,
          -0.6384536929661697,
          -1.469855729466619,
          -0.9246829205672279,
          -1.8293588693025935,
          -0.6384536929661697,
          -1.6402559895698734,
          -1.5209938114027661,
          -0.23467889253265575,
          -0.6384536929661697,
          -0.6384536929661697,
          -1.8293588693025935,
          -0.6605895232649395,
          -0.6384536929661697,
          -0.732146830165204,
          -0.9246829205672279,
          -0.49533907916564046,
          -0.8991138795991546,
          -1.354026761968815,
          -0.49533907916564046,
          -1.2551838087658254,
          -0.49533907916564046,
          -0.49533907916564046,
          -1.5192772060681141,
          -1.2347645838017074,
          -1.3778791976022366,
          -1.2091955428336343,
          -0.9246829205672279,
          -0.49533907916564046,
          -0.49533907916564046,
          -1.2347645838017074,
          -0.8991138795991546,
          -1.354026761968815,
          -1.8037898283345202,
          -1.354026761968815,
          -0.49533907916564046,
          -1.6402559895698734,
          -0.37607690099853286,
          -0.49533907916564046,
          -0.49533907916564046,
          -1.616403553936452,
          -1.8787803459040886,
          -0.39992933663195446,
          -1.2347645838017074,
          -0.49533907916564046,
          -0.9246829205672279,
          -0.8548422190016155,
          -1.2091955428336343,
          -0.49533907916564046,
          -1.469855729466619,
          -1.2603336247697807,
          -1.354026761968815,
          -2.0423141846687356,
          -0.49533907916564046,
          -1.469855729466619,
          -0.49533907916564046,
          -0.49533907916564046,
          -0.49533907916564046,
          -0.49533907916564046,
          -0.6401702983008215,
          -0.49533907916564046,
          -0.49533907916564046,
          -0.9246829205672279,
          -0.49533907916564046,
          -0.9246829205672279,
          -1.1376382359333697,
          -0.49533907916564046,
          -0.49533907916564046,
          -1.469855729466619,
          -0.49533907916564046,
          -0.9246829205672279,
          -0.49533907916564046,
          -0.30623619943292035,
          -1.354026761968815,
          -1.7833706033704027,
          -1.7595181677369813,
          -1.6879608608367165,
          -1.354026761968815,
          -1.9247686118362797,
          -0.9246829205672279,
          -1.4732889401359226,
          -0.49533907916564046,
          -1.2347645838017074,
          -1.5414130363668836,
          -0.9246829205672279,
          -0.49533907916564046,
          -0.9485353562006494,
          -1.2091955428336343,
          -0.5430439504324835,
          -1.354026761968815,
          -0.49533907916564046,
          -0.49533907916564046,
          -0.49533907916564046,
          -1.354026761968815,
          -0.9246829205672279,
          -0.49533907916564046,
          -0.49533907916564046,
          -0.49533907916564046,
          -0.49533907916564046,
          -1.469855729466619,
          -1.6385393842352214,
          -0.49533907916564046,
          -0.49533907916564046,
          -1.469855729466619,
          -0.49533907916564046,
          -1.6385393842352214,
          -1.469855729466619,
          -1.469855729466619,
          -0.49533907916564046,
          -0.49533907916564046,
          -0.49533907916564046,
          -0.49533907916564046,
          -0.9246829205672279,
          -0.9246829205672279,
          -1.2347645838017074,
          -0.8309897833681936,
          -1.4494365045025013,
          -0.49533907916564046,
          -1.6845276501674127,
          -2.0900190559355787,
          -1.8037898283345202,
          -0.5907488216993266,
          -0.49533907916564046,
          -2.471658026070323,
          -0.49533907916564046,
          -0.49533907916564046,
          -0.49533907916564046,
          -0.49533907916564046,
          -1.1632072769014432,
          -0.6401702983008215,
          -0.47320324886687104,
          -0.49533907916564046,
          -1.5209938114027661,
          -1.522710416737418,
          -0.30623619943292035,
          -0.49533907916564046,
          -0.49533907916564046,
          -1.4255840688690797,
          -0.7594324764679292,
          -1.5891179076337267,
          -0.9246829205672279,
          -0.49533907916564046,
          -1.4937081651000406,
          -0.49533907916564046,
          -0.49533907916564046,
          -1.354026761968815,
          -1.5448462470361872,
          -0.49533907916564046,
          -2.447805590436902,
          -1.8072230390038244,
          -0.49533907916564046,
          -0.49533907916564046,
          -0.9246829205672279,
          -1.6402559895698734,
          -0.49533907916564046,
          -1.6385393842352214,
          -1.354026761968815,
          -0.9246829205672279,
          -0.49533907916564046,
          -0.9246829205672279,
          -1.354026761968815,
          -1.469855729466619,
          -0.49533907916564046,
          -1.4937081651000406,
          -0.9246829205672279,
          -1.354026761968815,
          -1.6402559895698734,
          -0.9246829205672279,
          -1.4937081651000406,
          -0.49533907916564046,
          -1.4937081651000406,
          -1.2347645838017074,
          -0.6605895232649395,
          -0.8991138795991546,
          -0.49533907916564046,
          -1.354026761968815,
          -0.49533907916564046,
          -0.49533907916564046,
          -0.49533907916564046,
          -0.49533907916564046,
          -1.8787803459040886,
          -2.447805590436902,
          -1.354026761968815,
          -1.6385393842352214,
          -0.9246829205672279,
          -0.49533907916564046,
          -1.469855729466619,
          -0.49533907916564046,
          -1.2091955428336343,
          -0.49533907916564046,
          -0.49533907916563924,
          -0.49533907916564046,
          -0.49533907916564046,
          -0.49533907916564046,
          -1.354026761968815,
          -0.9246829205672279,
          -0.49533907916564046,
          -1.354026761968815,
          -0.49533907916564046,
          -1.469855729466619,
          -0.9246829205672279,
          -1.2347645838017074,
          -0.9246829205672279,
          -0.49533907916564046,
          -1.9946093134018925,
          -0.49533907916564046,
          -0.8991138795991546,
          -0.49533907916564046,
          -1.5209938114027661,
          -0.9962402274674925,
          -0.9246829205672279,
          -0.49533907916564046,
          -0.49533907916564046,
          -0.49533907916564046,
          -0.9246829205672279,
          -2.044030790003388,
          -2.091735661270231,
          -0.49533907916564046,
          -0.49533907916564046,
          -0.49533907916564046,
          -0.49533907916564046,
          -0.9246829205672279,
          -0.49533907916564046,
          -0.49533907916564046,
          -0.49533907916564046,
          -0.49533907916564046,
          -0.3556576760344151,
          -1.4937081651000406,
          -0.9246829205672279,
          -1.354026761968815,
          -1.2347645838017074,
          -0.49533907916564046,
          -0.49533907916564046,
          -1.6658250305379472,
          -0.49533907916564046,
          -0.49533907916564046,
          -1.067797534367757,
          -0.9246829205672279,
          -1.2347645838017074,
          -0.49533907916564046,
          -1.7356657321035596,
          -1.354026761968815,
          -0.49533907916564046,
          -0.8991138795991546,
          -1.354026761968815,
          -0.25853132816607727,
          -0.6401702983008215,
          -0.49533907916564046,
          -0.49533907916564046,
          -0.9246829205672279,
          -0.8991138795991546,
          -1.469855729466619,
          -1.469855729466619,
          -0.49533907916564046,
          -0.49533907916564046,
          -0.9246829205672279,
          -0.49533907916564046,
          -0.9246829205672279
         ],
         "xaxis": "x",
         "y": [
          -0.05310026914858442,
          0.3762435722529981,
          -0.05310026914858442,
          -0.74138769184851,
          0.3762435722529981,
          0.09001434465194313,
          0.09001434465194313,
          0.09173094998658837,
          -0.05310026914858442,
          0.09001434465194313,
          0.3762435722529981,
          0.9248495918216869,
          -0.05310026914858442,
          -0.6936828205816674,
          -0.05310026914858442,
          0.3762435722529981,
          0.09001434465194313,
          0.09001434465194313,
          0.8055874136545808,
          0.8055874136545808,
          0.8055874136545808,
          -0.05310026914858442,
          1.2587836906895848,
          0.6863252354874744,
          -0.05310026914858442,
          -0.05310026914858442,
          0.6607561945194077,
          -0.05310026914858442,
          0.2365621691217615,
          0.3762435722529981,
          -0.05310026914858442,
          0.09001434465194313,
          0.9487020274551082,
          0.09001434465194313,
          0.09001434465194313,
          1.378045868856691,
          -0.05310026914858442,
          0.8055874136545808,
          1.2110788194227424,
          -0.09908853508078143,
          0.9964068987219507,
          0.09001434465194313,
          0.09001434465194313,
          0.1172999909546552,
          0.09001434465194313,
          0.09173094998658837,
          0.3762435722529981,
          -0.05310026914858442,
          -0.26777218984937573,
          -0.05310026914858442,
          0.09001434465194313,
          0.5210747913881711,
          0.0440260787197459,
          -0.05310026914858442,
          -0.05310026914858442,
          0.8055874136545808,
          0.9487020274551082,
          -0.05310026914858442,
          -0.05310026914858442,
          0.3558243472888678,
          -0.05310026914858442,
          0.3762435722529981,
          -0.001962187212451082,
          0.4273816541891314,
          -0.19278167227982118,
          0.06616190901852183,
          1.2587836906895848,
          0.9487020274551082,
          -0.05310026914858442,
          -0.05310026914858442,
          1.2587836906895848,
          0.6863252354874744,
          0.09173094998658837,
          -0.05310026914858442,
          -0.05310026914858442,
          0.6147679285872109,
          0.6147679285872109,
          0.4733699201213285,
          0.6182011392565019,
          -0.24391975421595447,
          -0.05310026914858442,
          0.3762435722529981,
          -0.05310026914858442,
          0.6863252354874744,
          0.9487020274551082,
          -0.05310026914858442,
          0.2365621691217615,
          1.3303409975898484,
          0.8055874136545808,
          0.3762435722529981,
          -0.05310026914858442,
          0.2808338297193131,
          0.8055874136545808,
          0.018457037751679322,
          0.3762435722529981,
          0.09001434465194313,
          0.09001434465194313,
          0.09001434465194313,
          0.09001434465194313,
          0.3762435722529981,
          0.974271068423175,
          0.09001434465194313,
          0.09001434465194313,
          0.3762435722529981,
          1.2587836906895848,
          -0.05310026914858442,
          -0.05310026914858442,
          0.3762435722529981,
          0.09173094998658837,
          0.09001434465194313,
          0.09001434465194313,
          0.3762435722529981,
          -0.17064584198104527,
          -0.19278167227982118,
          0.6607561945194077,
          0.7561659370530928,
          0.2365621691217615,
          0.6147679285872109,
          0.3762435722529981,
          0.8055874136545808,
          0.5670630573203681,
          0.09001434465194313,
          0.3762435722529981,
          0.8055874136545808,
          0.40181261322106476,
          0.18542408718562814,
          0.09001434465194313,
          0.3762435722529981,
          0.09001434465194313,
          1.2587836906895848,
          -0.05310026914858442,
          0.8055874136545808,
          0.09173094998658837,
          0.974271068423175,
          1.4478865704223094,
          0.09001434465194313,
          1.2826361263230062,
          0.3762435722529981,
          0.09001434465194313,
          0.9708378577538839,
          -0.21835071324788782,
          0.09001434465194313,
          -0.21835071324788782,
          0.6624727998540532,
          0.09001434465194313,
          0.09001434465194313,
          -0.21835071324788782,
          0.09001434465194313,
          0.09001434465194313,
          0.09001434465194313,
          0.9708378577538839,
          0.09001434465194313,
          0.09001434465194313,
          0.09001434465194313,
          0.3762435722529981,
          0.1172999909546552,
          0.5210747913881711,
          0.3762435722529981,
          0.09001434465194313,
          0.09001434465194313,
          0.09001434465194313,
          0.8055874136545808,
          -0.19278167227982118,
          0.8055874136545808,
          0.8055874136545808,
          0.09001434465194313,
          0.7357467120889626,
          0.3762435722529981,
          0.2365621691217615,
          -0.07695270478200573,
          0.3762435722529981,
          0.3762435722529981,
          0.09001434465194313,
          0.8055874136545808,
          0.09001434465194313,
          0.3762435722529981,
          0.3762435722529981,
          0.09001434465194313,
          0.09001434465194313,
          0.09001434465194313,
          0.09001434465194313,
          0.09001434465194313,
          0.09001434465194313,
          0.3762435722529981,
          0.09001434465194313,
          -0.21835071324788782,
          0.09001434465194313,
          -0.0513836638139389,
          -0.21835071324788782,
          0.09001434465194313,
          0.09173094998658837,
          0.09001434465194313,
          0.1172999909546552,
          0.09001434465194313,
          0.09001434465194313,
          0.09001434465194313,
          0.09001434465194313,
          0.6863252354874744,
          0.3762435722529981,
          0.6607561945194077,
          0.638620364220632,
          0.09001434465194313,
          0.6607561945194077,
          0.09001434465194313,
          0.3762435722529981,
          0.09001434465194313,
          0.09001434465194313,
          -0.4330226339486791,
          0.8055874136545808,
          0.3762435722529981,
          0.09001434465194313,
          0.09001434465194313,
          0.09001434465194313,
          0.3762435722529981,
          0.09001434465194313,
          0.09001434465194313,
          0.09001434465194313,
          0.09001434465194313,
          0.8055874136545808,
          0.3762435722529981,
          0.09001434465194313,
          0.9725544630885298,
          0.09001434465194313,
          0.09001434465194313,
          0.8532922849214233,
          0.09001434465194313,
          0.09173094998658837,
          0.09001434465194313,
          0.09001434465194313,
          -0.21835071324788782,
          0.8055874136545808,
          0.09001434465194313,
          0.09001434465194313,
          0.09001434465194313,
          1.2110788194227424,
          0.09001434465194313,
          0.09001434465194313,
          0.8055874136545808,
          -0.027531228180517658,
          0.42223183818519516,
          0.09001434465194313,
          0.09001434465194313,
          0.3762435722529981,
          0.09001434465194313,
          0.09001434465194313,
          0.3762435722529981,
          0.1138667802853643,
          0.9725544630885298,
          0.09001434465194313,
          0.09001434465194313,
          0.6607561945194077,
          -0.48072750521552166,
          -0.2166341079132424,
          0.2365621691217615,
          0.09173094998658837,
          0.3762435722529981,
          -0.05310026914858442,
          -0.1450768010129787,
          0.09001434465194313,
          0.8055874136545808,
          0.8055874136545808,
          -0.48072750521552166,
          -0.2166341079132424,
          0.09001434465194313,
          -0.1485100116822695,
          0.9027137615229115,
          -0.19278167227982118,
          0.8055874136545808,
          -0.19278167227982118,
          0.09001434465194313,
          0.3558243472888678,
          -0.2166341079132424,
          0.14115242658807634,
          0.09001434465194313,
          0.16500486222149782,
          0.7118942764555409,
          0.09001434465194313,
          0.8055874136545808,
          0.3762435722529981,
          0.8055874136545808,
          0.8055874136545808,
          0.09001434465194313,
          0.37967678292228896,
          0.3762435722529981,
          0.09001434465194313,
          -0.2166341079132424,
          0.09001434465194313,
          0.09001434465194313,
          0.7084610657862501,
          0.3762435722529981,
          0.6863252354874744,
          0.09001434465194313,
          0.09001434465194313,
          0.09001434465194313,
          0.09001434465194313,
          0.09001434465194313,
          1.0901000359209903,
          -0.2200673185825332,
          0.2365621691217615,
          0.09001434465194313,
          0.3762435722529981,
          0.3762435722529981,
          0.25526478875124636,
          0.974271068423175,
          0.47165331478668326,
          1.3064885619564275,
          0.09001434465194313,
          0.32682209565151016,
          0.6863252354874744,
          0.09001434465194313,
          0.23312895845247067,
          1.3303409975898484,
          -0.1485100116822695,
          0.09001434465194313,
          0.09001434465194313,
          -0.17236244731569067,
          0.6863252354874744,
          0.09001434465194313,
          -0.2166341079132424,
          -0.1485100116822695,
          0.16157165155220687,
          0.3762435722529981,
          0.09001434465194313,
          1.187226383789321,
          0.6147679285872109,
          0.09001434465194313,
          0.44780087915326194,
          0.09001434465194313,
          0.6863252354874744,
          0.09001434465194313,
          -0.2166341079132424,
          0.3762435722529981,
          0.7118942764555409,
          0.09001434465194313,
          1.0918166412556358,
          0.9725544630885298,
          0.25526478875124636,
          0.09001434465194313,
          0.09001434465194313,
          0.7118942764555409,
          -0.45687506958210045,
          0.09001434465194313,
          -0.3853177626818367,
          0.3762435722529981,
          -0.05310026914858442,
          -0.21835071324788782,
          0.8055874136545808,
          -0.05310026914858442,
          -0.4313060286140336,
          -0.05310026914858442,
          -0.05310026914858442,
          0.40181261322106476,
          0.6863252354874744,
          0.8294398492880021,
          0.09173094998658837,
          0.3762435722529981,
          -0.05310026914858442,
          -0.05310026914858442,
          0.6863252354874744,
          -0.21835071324788782,
          0.8055874136545808,
          0.1172999909546552,
          0.8055874136545808,
          -0.05310026914858442,
          1.0918166412556358,
          -0.17236244731569067,
          -0.05310026914858442,
          -0.05310026914858442,
          1.0679642056222145,
          1.3303409975898484,
          -0.1485100116822695,
          0.6863252354874744,
          -0.05310026914858442,
          0.3762435722529981,
          0.8754281152201993,
          0.09173094998658837,
          -0.05310026914858442,
          -0.2166341079132424,
          1.2809195209883601,
          0.8055874136545808,
          0.3558243472888678,
          -0.05310026914858442,
          -0.2166341079132424,
          -0.05310026914858442,
          -0.05310026914858442,
          -0.05310026914858442,
          -0.05310026914858442,
          0.6607561945194077,
          -0.05310026914858442,
          -0.05310026914858442,
          0.3762435722529981,
          -0.05310026914858442,
          0.3762435722529981,
          0.020173643086324692,
          -0.05310026914858442,
          -0.05310026914858442,
          -0.2166341079132424,
          -0.05310026914858442,
          0.3762435722529981,
          -0.05310026914858442,
          0.32682209565151016,
          0.8055874136545808,
          1.2349312550561635,
          1.2110788194227424,
          1.1395215125224782,
          0.8055874136545808,
          0.8073040189892261,
          0.3762435722529981,
          0.9248495918216869,
          -0.05310026914858442,
          0.6863252354874744,
          -0.1450768010129787,
          0.3762435722529981,
          -0.05310026914858442,
          0.4000960078864194,
          0.09173094998658837,
          -0.005395397881741918,
          0.8055874136545808,
          -0.05310026914858442,
          -0.05310026914858442,
          -0.05310026914858442,
          0.8055874136545808,
          0.3762435722529981,
          -0.05310026914858442,
          -0.05310026914858442,
          -0.05310026914858442,
          -0.05310026914858442,
          -0.2166341079132424,
          0.5210747913881711,
          -0.05310026914858442,
          -0.05310026914858442,
          -0.2166341079132424,
          -0.05310026914858442,
          0.5210747913881711,
          -0.2166341079132424,
          -0.2166341079132424,
          -0.05310026914858442,
          -0.05310026914858442,
          -0.05310026914858442,
          -0.05310026914858442,
          0.3762435722529981,
          0.3762435722529981,
          0.6863252354874744,
          0.8515756795867777,
          0.9009971561882657,
          -0.05310026914858442,
          -0.001962187212451082,
          0.4035292185557105,
          0.1172999909546552,
          0.04230947338510065,
          -0.05310026914858442,
          0.7851681886904506,
          -0.05310026914858442,
          -0.05310026914858442,
          -0.05310026914858442,
          -0.05310026914858442,
          0.6147679285872109,
          0.6607561945194077,
          0.493789145085459,
          -0.05310026914858442,
          0.9725544630885298,
          1.5432963129559945,
          0.32682209565151016,
          -0.05310026914858442,
          -0.05310026914858442,
          0.8771447205548444,
          0.7800183726865141,
          -0.09737192974613602,
          0.3762435722529981,
          -0.05310026914858442,
          -0.19278167227982118,
          -0.05310026914858442,
          -0.05310026914858442,
          0.8055874136545808,
          0.9964068987219507,
          -0.05310026914858442,
          0.7613157530570291,
          1.2587836906895848,
          -0.05310026914858442,
          -0.05310026914858442,
          0.3762435722529981,
          1.0918166412556358,
          -0.05310026914858442,
          0.5210747913881711,
          0.8055874136545808,
          0.3762435722529981,
          -0.05310026914858442,
          0.3762435722529981,
          0.8055874136545808,
          -0.2166341079132424,
          -0.05310026914858442,
          -0.19278167227982118,
          0.3762435722529981,
          0.8055874136545808,
          1.0918166412556358,
          0.3762435722529981,
          -0.19278167227982118,
          -0.05310026914858442,
          -0.19278167227982118,
          0.6863252354874744,
          -0.45687506958210045,
          -0.21835071324788782,
          -0.05310026914858442,
          0.8055874136545808,
          -0.05310026914858442,
          -0.05310026914858442,
          -0.05310026914858442,
          -0.05310026914858442,
          1.3303409975898484,
          0.7613157530570291,
          0.8055874136545808,
          0.5210747913881711,
          0.3762435722529981,
          -0.05310026914858442,
          -0.2166341079132424,
          -0.05310026914858442,
          0.09173094998658837,
          -0.05310026914858442,
          -0.05310026914858312,
          -0.05310026914858442,
          -0.05310026914858442,
          -0.05310026914858442,
          0.8055874136545808,
          0.3762435722529981,
          -0.05310026914858442,
          0.8055874136545808,
          -0.05310026914858442,
          -0.2166341079132424,
          0.3762435722529981,
          0.6863252354874744,
          0.3762435722529981,
          -0.05310026914858442,
          0.3081194760220252,
          -0.05310026914858442,
          -0.21835071324788782,
          -0.05310026914858442,
          0.9725544630885298,
          0.44780087915326194,
          0.3762435722529981,
          -0.05310026914858442,
          -0.05310026914858442,
          -0.05310026914858442,
          0.3762435722529981,
          0.9265661971563327,
          0.974271068423175,
          -0.05310026914858442,
          -0.05310026914858442,
          -0.05310026914858442,
          -0.05310026914858442,
          0.3762435722529981,
          -0.05310026914858442,
          -0.05310026914858442,
          -0.05310026914858442,
          -0.05310026914858442,
          0.9452688167858172,
          -0.19278167227982118,
          0.3762435722529981,
          0.8055874136545808,
          0.6863252354874744,
          -0.05310026914858442,
          -0.05310026914858442,
          1.6864109267565222,
          -0.05310026914858442,
          -0.05310026914858442,
          0.5193581860535257,
          0.3762435722529981,
          0.6863252354874744,
          -0.05310026914858442,
          1.187226383789321,
          0.8055874136545808,
          -0.05310026914858442,
          -0.21835071324788782,
          0.8055874136545808,
          0.27911722438466763,
          0.6607561945194077,
          -0.05310026914858442,
          -0.05310026914858442,
          0.3762435722529981,
          -0.21835071324788782,
          -0.2166341079132424,
          -0.2166341079132424,
          -0.05310026914858442,
          -0.05310026914858442,
          0.3762435722529981,
          -0.05310026914858442,
          0.3762435722529981
         ],
         "yaxis": "y"
        },
        {
         "customdata": [
          [
           72
          ],
          [
           76
          ],
          [
           77
          ],
          [
           74
          ],
          [
           72
          ],
          [
           106
          ],
          [
           81
          ],
          [
           76
          ],
          [
           77
          ],
          [
           108
          ],
          [
           72
          ],
          [
           108
          ],
          [
           76
          ],
          [
           108
          ],
          [
           76
          ],
          [
           76
          ],
          [
           108
          ],
          [
           88
          ],
          [
           72
          ],
          [
           108
          ],
          [
           76
          ],
          [
           108
          ],
          [
           72
          ],
          [
           108
          ],
          [
           72
          ],
          [
           76
          ],
          [
           94
          ],
          [
           108
          ],
          [
           108
          ],
          [
           108
          ],
          [
           108
          ],
          [
           108
          ],
          [
           108
          ],
          [
           108
          ],
          [
           108
          ],
          [
           108
          ],
          [
           72
          ],
          [
           76
          ],
          [
           76
          ],
          [
           81
          ],
          [
           76
          ],
          [
           108
          ],
          [
           72
          ],
          [
           108
          ],
          [
           108
          ],
          [
           108
          ],
          [
           94
          ],
          [
           108
          ],
          [
           72
          ],
          [
           106
          ],
          [
           76
          ],
          [
           108
          ],
          [
           108
          ],
          [
           108
          ],
          [
           106
          ],
          [
           106
          ],
          [
           108
          ],
          [
           108
          ],
          [
           108
          ],
          [
           108
          ],
          [
           108
          ],
          [
           76
          ],
          [
           108
          ],
          [
           108
          ],
          [
           76
          ],
          [
           108
          ],
          [
           76
          ],
          [
           76
          ],
          [
           108
          ],
          [
           72
          ],
          [
           108
          ],
          [
           108
          ],
          [
           108
          ],
          [
           108
          ],
          [
           108
          ],
          [
           108
          ],
          [
           108
          ],
          [
           76
          ],
          [
           108
          ],
          [
           108
          ],
          [
           108
          ],
          [
           108
          ],
          [
           79
          ],
          [
           76
          ],
          [
           76
          ],
          [
           106
          ],
          [
           95
          ],
          [
           95
          ],
          [
           76
          ],
          [
           108
          ],
          [
           108
          ],
          [
           92
          ],
          [
           106
          ],
          [
           108
          ],
          [
           108
          ],
          [
           95
          ],
          [
           108
          ],
          [
           92
          ],
          [
           71
          ],
          [
           108
          ],
          [
           108
          ],
          [
           108
          ],
          [
           106
          ],
          [
           90
          ],
          [
           76
          ],
          [
           108
          ],
          [
           76
          ],
          [
           95
          ],
          [
           95
          ],
          [
           106
          ],
          [
           106
          ],
          [
           92
          ],
          [
           106
          ],
          [
           108
          ],
          [
           108
          ],
          [
           76
          ],
          [
           108
          ],
          [
           92
          ],
          [
           108
          ],
          [
           95
          ],
          [
           108
          ],
          [
           108
          ],
          [
           106
          ],
          [
           108
          ],
          [
           76
          ],
          [
           76
          ],
          [
           92
          ],
          [
           106
          ],
          [
           106
          ],
          [
           106
          ],
          [
           106
          ],
          [
           108
          ],
          [
           92
          ],
          [
           83
          ],
          [
           77
          ],
          [
           76
          ],
          [
           108
          ],
          [
           108
          ],
          [
           95
          ],
          [
           106
          ],
          [
           95
          ],
          [
           108
          ],
          [
           76
          ],
          [
           92
          ],
          [
           108
          ],
          [
           108
          ],
          [
           108
          ],
          [
           108
          ],
          [
           108
          ],
          [
           108
          ],
          [
           108
          ],
          [
           108
          ],
          [
           95
          ],
          [
           105
          ],
          [
           95
          ],
          [
           81
          ],
          [
           76
          ],
          [
           76
          ],
          [
           108
          ],
          [
           108
          ],
          [
           108
          ],
          [
           108
          ],
          [
           108
          ],
          [
           108
          ],
          [
           108
          ],
          [
           108
          ],
          [
           72
          ],
          [
           72
          ],
          [
           108
          ],
          [
           108
          ],
          [
           108
          ],
          [
           82
          ],
          [
           76
          ],
          [
           77
          ],
          [
           76
          ],
          [
           95
          ],
          [
           76
          ],
          [
           108
          ],
          [
           95
          ],
          [
           76
          ],
          [
           106
          ],
          [
           108
          ],
          [
           72
          ],
          [
           76
          ],
          [
           95
          ],
          [
           108
          ],
          [
           108
          ],
          [
           108
          ],
          [
           76
          ],
          [
           108
          ],
          [
           106
          ],
          [
           95
          ],
          [
           108
          ],
          [
           108
          ],
          [
           108
          ],
          [
           108
          ],
          [
           108
          ],
          [
           95
          ],
          [
           95
          ],
          [
           76
          ],
          [
           108
          ],
          [
           108
          ],
          [
           108
          ],
          [
           78
          ],
          [
           76
          ],
          [
           108
          ],
          [
           108
          ],
          [
           76
          ],
          [
           108
          ],
          [
           108
          ],
          [
           76
          ],
          [
           95
          ],
          [
           73
          ],
          [
           77
          ],
          [
           108
          ],
          [
           76
          ],
          [
           108
          ],
          [
           108
          ],
          [
           95
          ],
          [
           108
          ],
          [
           76
          ],
          [
           95
          ],
          [
           108
          ],
          [
           108
          ],
          [
           108
          ],
          [
           108
          ],
          [
           95
          ],
          [
           108
          ],
          [
           108
          ],
          [
           76
          ],
          [
           76
          ],
          [
           108
          ],
          [
           108
          ],
          [
           80
          ],
          [
           106
          ],
          [
           108
          ],
          [
           106
          ],
          [
           97
          ],
          [
           108
          ],
          [
           108
          ],
          [
           108
          ],
          [
           108
          ],
          [
           108
          ],
          [
           108
          ],
          [
           108
          ],
          [
           108
          ],
          [
           89
          ],
          [
           76
          ],
          [
           108
          ],
          [
           108
          ],
          [
           97
          ],
          [
           108
          ],
          [
           108
          ],
          [
           108
          ],
          [
           108
          ],
          [
           92
          ],
          [
           92
          ],
          [
           76
          ],
          [
           108
          ],
          [
           108
          ],
          [
           108
          ],
          [
           77
          ],
          [
           108
          ],
          [
           108
          ],
          [
           92
          ],
          [
           108
          ],
          [
           97
          ],
          [
           101
          ],
          [
           108
          ],
          [
           108
          ],
          [
           108
          ],
          [
           108
          ],
          [
           108
          ],
          [
           108
          ],
          [
           97
          ],
          [
           108
          ],
          [
           108
          ],
          [
           89
          ],
          [
           108
          ],
          [
           103
          ],
          [
           91
          ],
          [
           90
          ],
          [
           108
          ],
          [
           108
          ],
          [
           97
          ],
          [
           108
          ],
          [
           88
          ],
          [
           108
          ],
          [
           88
          ],
          [
           88
          ],
          [
           108
          ],
          [
           88
          ],
          [
           103
          ],
          [
           95
          ],
          [
           76
          ],
          [
           108
          ],
          [
           108
          ],
          [
           106
          ],
          [
           106
          ],
          [
           108
          ],
          [
           76
          ],
          [
           76
          ],
          [
           97
          ],
          [
           76
          ],
          [
           91
          ],
          [
           74
          ],
          [
           108
          ],
          [
           76
          ],
          [
           76
          ],
          [
           80
          ],
          [
           88
          ],
          [
           108
          ],
          [
           88
          ],
          [
           108
          ],
          [
           108
          ],
          [
           91
          ],
          [
           108
          ],
          [
           108
          ],
          [
           90
          ],
          [
           108
          ],
          [
           106
          ],
          [
           102
          ],
          [
           88
          ],
          [
           93
          ],
          [
           88
          ],
          [
           76
          ],
          [
           88
          ],
          [
           106
          ],
          [
           108
          ],
          [
           76
          ],
          [
           91
          ],
          [
           97
          ],
          [
           76
          ],
          [
           76
          ],
          [
           91
          ],
          [
           76
          ],
          [
           108
          ],
          [
           108
          ],
          [
           71
          ],
          [
           77
          ],
          [
           108
          ],
          [
           76
          ],
          [
           84
          ],
          [
           76
          ],
          [
           108
          ],
          [
           107
          ],
          [
           108
          ],
          [
           88
          ],
          [
           91
          ],
          [
           108
          ],
          [
           108
          ],
          [
           88
          ],
          [
           85
          ],
          [
           76
          ],
          [
           78
          ],
          [
           108
          ],
          [
           77
          ],
          [
           108
          ],
          [
           101
          ],
          [
           108
          ],
          [
           108
          ],
          [
           108
          ],
          [
           108
          ],
          [
           108
          ],
          [
           108
          ],
          [
           88
          ],
          [
           108
          ],
          [
           91
          ],
          [
           106
          ],
          [
           108
          ],
          [
           86
          ],
          [
           108
          ],
          [
           97
          ],
          [
           88
          ],
          [
           108
          ],
          [
           108
          ],
          [
           76
          ],
          [
           108
          ],
          [
           106
          ],
          [
           76
          ],
          [
           88
          ],
          [
           108
          ],
          [
           76
          ],
          [
           76
          ],
          [
           76
          ],
          [
           106
          ],
          [
           76
          ],
          [
           108
          ],
          [
           76
          ],
          [
           108
          ],
          [
           108
          ],
          [
           108
          ],
          [
           76
          ],
          [
           88
          ],
          [
           108
          ],
          [
           108
          ],
          [
           108
          ],
          [
           108
          ],
          [
           108
          ],
          [
           89
          ],
          [
           108
          ],
          [
           106
          ],
          [
           108
          ],
          [
           108
          ],
          [
           106
          ],
          [
           76
          ],
          [
           88
          ],
          [
           108
          ],
          [
           76
          ],
          [
           108
          ],
          [
           106
          ],
          [
           108
          ],
          [
           76
          ],
          [
           108
          ],
          [
           76
          ],
          [
           108
          ],
          [
           106
          ],
          [
           76
          ],
          [
           108
          ],
          [
           108
          ],
          [
           108
          ],
          [
           108
          ],
          [
           72
          ],
          [
           108
          ],
          [
           108
          ],
          [
           108
          ],
          [
           76
          ],
          [
           108
          ],
          [
           108
          ],
          [
           88
          ],
          [
           106
          ],
          [
           108
          ],
          [
           108
          ],
          [
           88
          ],
          [
           108
          ],
          [
           72
          ],
          [
           77
          ],
          [
           108
          ],
          [
           108
          ],
          [
           108
          ],
          [
           108
          ],
          [
           76
          ],
          [
           108
          ],
          [
           88
          ],
          [
           108
          ],
          [
           108
          ],
          [
           76
          ],
          [
           81
          ],
          [
           76
          ],
          [
           106
          ],
          [
           108
          ],
          [
           108
          ],
          [
           108
          ],
          [
           108
          ],
          [
           76
          ],
          [
           108
          ],
          [
           108
          ],
          [
           106
          ],
          [
           108
          ],
          [
           108
          ],
          [
           108
          ],
          [
           108
          ],
          [
           108
          ],
          [
           108
          ],
          [
           92
          ],
          [
           89
          ],
          [
           108
          ],
          [
           76
          ],
          [
           108
          ],
          [
           88
          ],
          [
           108
          ],
          [
           100
          ],
          [
           108
          ],
          [
           76
          ],
          [
           88
          ],
          [
           76
          ],
          [
           108
          ],
          [
           76
          ],
          [
           108
          ],
          [
           104
          ],
          [
           108
          ],
          [
           76
          ],
          [
           108
          ],
          [
           76
          ],
          [
           76
          ],
          [
           76
          ],
          [
           108
          ],
          [
           78
          ],
          [
           76
          ],
          [
           76
          ],
          [
           77
          ],
          [
           108
          ],
          [
           76
          ],
          [
           108
          ],
          [
           108
          ],
          [
           76
          ],
          [
           108
          ],
          [
           108
          ],
          [
           108
          ],
          [
           108
          ],
          [
           108
          ],
          [
           106
          ],
          [
           98
          ],
          [
           108
          ],
          [
           108
          ]
         ],
         "hovertemplate": "Cluster=Cluster 2<br>PCA1=%{x}<br>PCA2=%{y}<br>Feature=%{customdata[0]}<extra></extra>",
         "legendgroup": "Cluster 2",
         "marker": {
          "color": "#00cc96",
          "opacity": 0.5,
          "symbol": "circle"
         },
         "mode": "markers",
         "name": "Cluster 2",
         "showlegend": true,
         "textposition": "top center",
         "type": "scattergl",
         "x": [
          -0.5413273450978318,
          -0.16140498029773925,
          -0.13755254466431777,
          0.35991539296823033,
          -0.5413273450978318,
          0.8386807109713127,
          0.24236982013577466,
          -0.16140498029773925,
          -0.13755254466431777,
          0.6018729599717493,
          -0.5413273450978318,
          0.6018729599717493,
          -0.16140498029773925,
          0.6018729599717493,
          -0.16140498029773925,
          -0.16140498029773925,
          0.6018729599717493,
          0.6938494918361315,
          -0.5413273450978318,
          0.6018729599717493,
          -0.16140498029773925,
          0.6018729599717493,
          -0.5413273450978318,
          1.170898204504562,
          -0.5413273450978318,
          -0.16140498029773925,
          0.5524514833702544,
          0.6018729599717493,
          0.032847715438936526,
          0.032847715438936526,
          0.6018729599717493,
          0.6018729599717493,
          0.8863855822381556,
          0.032847715438936526,
          0.6018729599717493,
          0.6018729599717493,
          -0.5413273450978318,
          -0.7304302248305521,
          -0.16140498029773925,
          0.24236982013577466,
          -0.16140498029773925,
          0.6018729599717493,
          -0.5413273450978318,
          0.6018729599717493,
          0.6018729599717493,
          0.032847715438936526,
          0.267938861103848,
          0.6018729599717493,
          -0.5413273450978318,
          0.5541680887049064,
          -0.16140498029773925,
          0.6018729599717493,
          0.6018729599717493,
          0.6018729599717493,
          0.8386807109713127,
          0.8386807109713127,
          0.8863855822381556,
          0.6018729599717493,
          0.6018729599717493,
          0.6018729599717493,
          0.6018729599717493,
          -0.16140498029773925,
          0.6018729599717493,
          0.6018729599717493,
          -0.16140498029773925,
          0.6018729599717493,
          -0.7304302248305521,
          -0.7304302248305521,
          0.032847715438936526,
          -0.5413273450978318,
          0.6018729599717493,
          0.6018729599717493,
          0.032847715438936526,
          0.6018729599717493,
          0.6018729599717493,
          0.6018729599717493,
          0.6018729599717493,
          -0.16140498029773925,
          0.032847715438936526,
          0.6018729599717493,
          0.8863855822381556,
          0.032847715438936526,
          -0.08984767339747472,
          -0.16140498029773925,
          -0.7304302248305521,
          0.5541680887049064,
          -0.2772339477955433,
          -0.2772339477955433,
          -0.7304302248305521,
          0.032847715438936526,
          0.032847715438936526,
          0.5047466121034113,
          1.123193333237719,
          0.6018729599717493,
          0.6018729599717493,
          -0.2772339477955433,
          0.8863855822381556,
          -0.34879125469580785,
          -0.8496924029976597,
          0.6018729599717493,
          0.3173603377053429,
          0.032847715438936526,
          0.5541680887049064,
          -0.11198350369624448,
          -0.44591760256414564,
          0.6018729599717493,
          -0.7304302248305521,
          -0.2772339477955433,
          -0.2772339477955433,
          0.5541680887049064,
          0.2696554664384999,
          0.5047466121034113,
          0.5541680887049064,
          0.8863855822381556,
          0.6018729599717493,
          -0.16140498029773925,
          0.3173603377053429,
          0.5047466121034113,
          0.032847715438936526,
          -0.2772339477955433,
          0.6018729599717493,
          0.6018729599717493,
          0.5541680887049064,
          0.8863855822381556,
          -0.16140498029773925,
          -0.16140498029773925,
          0.5047466121034113,
          0.5541680887049064,
          0.8386807109713127,
          0.8386807109713127,
          0.8386807109713127,
          0.032847715438936526,
          0.5047466121034113,
          0.2900746914026177,
          -0.13755254466431777,
          -0.44591760256414564,
          0.6018729599717493,
          0.3173603377053429,
          -0.2772339477955433,
          0.5541680887049064,
          -0.2772339477955433,
          0.6018729599717493,
          -0.16140498029773925,
          0.5047466121034113,
          0.032847715438936526,
          0.032847715438936526,
          0.6018729599717493,
          0.032847715438936526,
          0.032847715438936526,
          0.032847715438936526,
          0.6018729599717493,
          0.032847715438936526,
          -0.2772339477955433,
          0.5303156530714849,
          -0.2772339477955433,
          0.24236982013577466,
          -0.16140498029773925,
          -0.7304302248305521,
          0.6018729599717493,
          0.6018729599717493,
          0.032847715438936526,
          0.032847715438936526,
          0.6018729599717493,
          0.6018729599717493,
          0.6018729599717493,
          0.032847715438936526,
          -0.5413273450978318,
          -0.5413273450978318,
          0.6018729599717493,
          0.8863855822381556,
          0.6018729599717493,
          -0.018290366497210102,
          -0.44591760256414564,
          -0.13755254466431777,
          -0.16140498029773925,
          -0.2772339477955433,
          -0.16140498029773925,
          0.6018729599717493,
          -0.2772339477955433,
          -0.16140498029773925,
          0.5541680887049064,
          0.6018729599717493,
          -0.5413273450978318,
          -0.16140498029773925,
          -0.2772339477955433,
          0.6018729599717493,
          0.032847715438936526,
          0.3173603377053429,
          -0.16140498029773925,
          0.6018729599717493,
          0.5541680887049064,
          -0.2772339477955433,
          0.6018729599717493,
          0.6018729599717493,
          0.6018729599717493,
          0.6018729599717493,
          0.3173603377053429,
          -0.2772339477955433,
          -0.2772339477955433,
          -0.16140498029773925,
          0.032847715438936526,
          0.032847715438936526,
          0.032847715438936526,
          -0.39821273129730267,
          -0.7304302248305521,
          0.6018729599717493,
          0.6018729599717493,
          -0.16140498029773925,
          0.6018729599717493,
          0.6018729599717493,
          -0.44591760256414564,
          -0.2772339477955433,
          -0.23296228719800383,
          -0.13755254466431777,
          0.032847715438936526,
          -0.16140498029773925,
          0.6018729599717493,
          0.3173603377053429,
          -0.2772339477955433,
          0.032847715438936526,
          -0.44591760256414564,
          -0.2772339477955433,
          0.8863855822381556,
          0.6018729599717493,
          0.6018729599717493,
          0.032847715438936526,
          -0.2772339477955433,
          0.032847715438936526,
          0.6018729599717493,
          -0.16140498029773925,
          -0.16140498029773925,
          0.6018729599717506,
          0.032847715438936526,
          -0.635020482296866,
          0.2696554664384999,
          0.032847715438936526,
          0.5541680887049064,
          -0.22952907652870022,
          0.3173603377053429,
          0.3173603377053429,
          0.6018729599717493,
          0.6018729599717493,
          0.032847715438936526,
          0.6018729599717493,
          0.032847715438936526,
          0.6018729599717493,
          0.14867668293674044,
          -0.16140498029773925,
          0.6018729599717493,
          0.3173603377053429,
          -0.22952907652870022,
          0.032847715438936526,
          0.6018729599717493,
          0.3173603377053429,
          0.3173603377053429,
          0.5047466121034113,
          0.5047466121034113,
          -0.7304302248305521,
          0.8863855822381556,
          0.6018729599717493,
          0.3173603377053429,
          -0.4220651669307241,
          0.6018729599717493,
          0.6018729599717493,
          0.5047466121034113,
          0.6018729599717493,
          -0.22952907652870022,
          0.1503932882713924,
          0.3173603377053429,
          0.6018729599717493,
          0.6018729599717493,
          0.6018729599717493,
          0.6018729599717493,
          0.6018729599717493,
          -0.22952907652870022,
          0.3173603377053429,
          0.6018729599717493,
          0.4331893052031468,
          0.3173603377053429,
          0.48261078180464173,
          -0.3726436903292294,
          0.17252911857016204,
          0.3173603377053429,
          0.3173603377053429,
          -0.22952907652870022,
          0.6018729599717493,
          -0.15968837496308758,
          0.032847715438936526,
          0.12482424730331894,
          -0.15968837496308758,
          0.032847715438936526,
          -0.15968837496308758,
          0.48261078180464173,
          0.576303919003676,
          -0.16140498029773925,
          0.6018729599717493,
          0.6018729599717493,
          0.2696554664384999,
          -0.01485715582790636,
          0.6018729599717493,
          -0.16140498029773925,
          -0.16140498029773925,
          -0.22952907652870022,
          -0.16140498029773925,
          -0.3726436903292294,
          -0.7781350960973951,
          0.032847715438936526,
          -0.16140498029773925,
          -0.16140498029773925,
          0.21851738450235317,
          -0.15968837496308758,
          0.6018729599717493,
          0.6938494918361315,
          0.6018729599717493,
          0.032847715438936526,
          -0.3726436903292294,
          0.6018729599717493,
          0.6018729599717493,
          -0.11198350369624448,
          0.6018729599717493,
          0.8386807109713127,
          0.7432709684376264,
          -0.15968837496308758,
          -0.04042619679598001,
          -0.15968837496308758,
          -0.16140498029773925,
          -0.15968837496308758,
          0.5541680887049064,
          0.032847715438936526,
          -0.16140498029773925,
          -0.3726436903292294,
          -0.22952907652870022,
          -0.16140498029773925,
          -0.44591760256414564,
          -0.08813106806282288,
          -0.16140498029773925,
          0.6018729599717493,
          0.032847715438936526,
          -0.5651797807312533,
          -0.4220651669307241,
          0.6018729599717493,
          -0.16140498029773925,
          0.3139271270360393,
          0.12310764196866705,
          0.032847715438936526,
          0.5780205243383277,
          0.032847715438936526,
          -0.15968837496308758,
          -0.3726436903292294,
          0.032847715438936526,
          0.3173603377053429,
          -0.15968837496308758,
          0.05326694040305446,
          -0.44591760256414564,
          -0.11370010903089624,
          0.032847715438936526,
          0.1469600776020886,
          0.032847715438936526,
          0.1503932882713924,
          0.032847715438936526,
          0.032847715438936526,
          0.032847715438936526,
          0.6018729599717493,
          0.6018729599717493,
          0.6018729599717493,
          -0.15968837496308758,
          0.032847715438936526,
          -0.3726436903292294,
          0.8386807109713127,
          0.032847715438936526,
          0.07711937603647596,
          0.032847715438936526,
          -0.22952907652870022,
          0.6938494918361315,
          0.032847715438936526,
          0.8863855822381556,
          -0.44591760256414564,
          0.032847715438936526,
          0.8386807109713127,
          0.12310764196866705,
          -0.15968837496308758,
          0.032847715438936526,
          -0.7304302248305521,
          -0.16140498029773925,
          -0.16140498029773925,
          0.5541680887049064,
          -0.16140498029773925,
          0.032847715438936526,
          0.12310764196866705,
          0.032847715438936526,
          0.032847715438936526,
          0.032847715438936526,
          -0.16140498029773925,
          -0.15968837496308758,
          0.6018729599717493,
          0.6018729599717493,
          0.6018729599717493,
          0.6018729599717493,
          0.032847715438936526,
          0.4331893052031468,
          0.6018729599717493,
          0.5541680887049064,
          0.6018729599717493,
          0.032847715438936526,
          0.5541680887049064,
          -0.16140498029773925,
          -0.15968837496308758,
          0.6018729599717493,
          -0.16140498029773925,
          0.6018729599717493,
          0.8386807109713127,
          0.6018729599717493,
          -0.7304302248305521,
          0.6018729599717493,
          -0.16140498029773925,
          0.3173603377053429,
          0.2696554664384999,
          -0.44591760256414564,
          0.6018729599717493,
          0.6018729599717493,
          0.6018729599717493,
          0.6018729599717493,
          -0.5413273450978318,
          0.3173603377053429,
          0.6018729599717493,
          0.6018729599717493,
          -0.16140498029773925,
          0.8863855822381556,
          0.6018729599717493,
          0.12482424730331894,
          0.2696554664384999,
          0.6018729599717493,
          0.3173603377053429,
          -0.15968837496308758,
          0.032847715438936526,
          -0.2568147228314253,
          -0.4220651669307241,
          0.6018729599717493,
          0.6018729599717493,
          0.3173603377053429,
          0.8863855822381556,
          -0.16140498029773925,
          0.032847715438936526,
          -0.15968837496308758,
          0.6018729599717493,
          0.6018729599717493,
          -0.16140498029773925,
          -0.04214280213063165,
          -0.7304302248305521,
          0.5541680887049064,
          0.6018729599717493,
          0.3173603377053429,
          0.032847715438936526,
          0.6018729599717493,
          -0.16140498029773925,
          0.3173603377053429,
          0.032847715438936526,
          0.5541680887049064,
          0.6018729599717493,
          0.032847715438936526,
          0.3173603377053429,
          0.6018729599717493,
          0.6018729599717493,
          0.032847715438936526,
          0.5047466121034113,
          0.4331893052031468,
          0.6018729599717493,
          -0.16140498029773925,
          0.6018729599717493,
          -0.15968837496308758,
          0.3173603377053429,
          0.4110534749043772,
          0.6018729599717493,
          -0.16140498029773925,
          -0.15968837496308758,
          0.12310764196866705,
          1.170898204504562,
          -0.16140498029773925,
          0.032847715438936526,
          0.2219505951716569,
          0.6018729599717493,
          -0.16140498029773925,
          0.032847715438936526,
          -0.16140498029773925,
          0.12310764196866705,
          -0.16140498029773925,
          0.6018729599717493,
          -0.6827253535637091,
          -0.16140498029773925,
          -0.7304302248305521,
          -0.13755254466431777,
          0.6018729599717493,
          -0.44591760256414564,
          0.032847715438936526,
          0.032847715438936526,
          -0.16140498029773925,
          0.3173603377053429,
          0.6018729599717493,
          0.6018729599717493,
          0.032847715438936526,
          0.6018729599717493,
          0.5541680887049064,
          0.3633486036375341,
          0.6018729599717493,
          0.6018729599717493
         ],
         "xaxis": "x",
         "y": [
          -0.5761372477492065,
          -0.387034368016482,
          -0.4108868036499033,
          0.22969574778317958,
          -0.5761372477492065,
          -0.8180948147527103,
          -0.22178392391717877,
          -0.387034368016482,
          -0.4108868036499033,
          -1.1503123082859623,
          -0.5761372477492065,
          -1.1503123082859623,
          -0.387034368016482,
          -1.1503123082859623,
          -0.387034368016482,
          -0.387034368016482,
          -1.1503123082859623,
          -0.10423835108471795,
          -0.5761372477492065,
          -1.1503123082859623,
          -0.387034368016482,
          -1.1503123082859623,
          -0.5761372477492065,
          -0.581287063753143,
          -0.5761372477492065,
          -0.387034368016482,
          -0.5318655871516551,
          -1.1503123082859623,
          -1.7193375528187813,
          -1.7193375528187813,
          -1.1503123082859623,
          -1.1503123082859623,
          -0.8657996860195527,
          -1.7193375528187813,
          -1.1503123082859623,
          -1.1503123082859623,
          -0.5761372477492065,
          -0.9560596125493013,
          -0.387034368016482,
          -0.22178392391717877,
          -0.387034368016482,
          -1.1503123082859623,
          -0.5761372477492065,
          -1.1503123082859623,
          -1.1503123082859623,
          -1.7193375528187813,
          -0.8163782094180646,
          -1.1503123082859623,
          -0.5761372477492065,
          -1.10260743701912,
          -0.387034368016482,
          -1.1503123082859623,
          -1.1503123082859623,
          -1.1503123082859623,
          -0.8180948147527103,
          -0.8180948147527103,
          -0.8657996860195527,
          -1.1503123082859623,
          -1.1503123082859623,
          -1.1503123082859623,
          -1.1503123082859623,
          -0.387034368016482,
          -1.1503123082859623,
          -1.1503123082859623,
          -0.387034368016482,
          -1.1503123082859623,
          -0.9560596125493013,
          -0.9560596125493013,
          -1.7193375528187813,
          -0.5761372477492065,
          -1.1503123082859623,
          -1.1503123082859623,
          -1.7193375528187813,
          -1.1503123082859623,
          -1.1503123082859623,
          -1.1503123082859623,
          -1.1503123082859623,
          -0.387034368016482,
          -1.7193375528187813,
          -1.1503123082859623,
          -0.8657996860195527,
          -1.7193375528187813,
          -0.45859167491674574,
          -0.387034368016482,
          -0.9560596125493013,
          -1.10260743701912,
          -1.409255889584305,
          -1.409255889584305,
          -0.9560596125493013,
          -1.7193375528187813,
          -1.7193375528187813,
          -0.4841607158848125,
          -0.5335821924863007,
          -1.1503123082859623,
          -1.1503123082859623,
          -1.409255889584305,
          -0.8657996860195527,
          -1.3376985826840413,
          -0.836797434382195,
          -1.1503123082859623,
          -1.4348249305523717,
          -1.7193375528187813,
          -1.10260743701912,
          -1.0054810891507893,
          -0.6715469902828917,
          -1.1503123082859623,
          -0.9560596125493013,
          -1.409255889584305,
          -1.409255889584305,
          -1.10260743701912,
          -1.3871200592855295,
          -0.4841607158848125,
          -1.10260743701912,
          -0.8657996860195527,
          -1.1503123082859623,
          -0.387034368016482,
          -1.4348249305523717,
          -0.4841607158848125,
          -1.7193375528187813,
          -1.409255889584305,
          -1.1503123082859623,
          -1.1503123082859623,
          -1.10260743701912,
          -0.8657996860195527,
          -0.387034368016482,
          -0.387034368016482,
          -0.4841607158848125,
          -1.1026074370191197,
          -0.8180948147527103,
          -0.8180948147527103,
          -0.8180948147527103,
          -1.7193375528187813,
          -0.4841607158848125,
          -0.26948879518402125,
          -0.4108868036499033,
          -0.6715469902828917,
          -1.1503123082859623,
          -1.4348249305523717,
          -1.409255889584305,
          -1.10260743701912,
          -1.409255889584305,
          -1.1503123082859623,
          -0.387034368016482,
          -0.4841607158848125,
          -1.7193375528187813,
          -1.7193375528187813,
          -1.1503123082859623,
          -1.7193375528187813,
          -1.7193375528187813,
          -1.7193375528187813,
          -1.1503123082859623,
          -1.7193375528187813,
          -1.409255889584305,
          -1.0787550013856986,
          -1.409255889584305,
          -0.22178392391717877,
          -0.387034368016482,
          -0.9560596125493013,
          -1.1503123082859623,
          -1.1503123082859623,
          -1.7193375528187813,
          -1.7193375528187813,
          -1.1503123082859623,
          -1.1503123082859623,
          -1.1503123082859623,
          -1.7193375528187813,
          -0.5761372477492065,
          -0.5761372477492065,
          -1.1503123082859623,
          -0.8657996860195527,
          -1.1503123082859623,
          -0.5301489818170095,
          -0.6715469902828917,
          -0.4108868036499033,
          -0.387034368016482,
          -1.409255889584305,
          -0.387034368016482,
          -1.1503123082859623,
          -1.409255889584305,
          -0.387034368016482,
          -1.10260743701912,
          -1.1503123082859623,
          -0.5761372477492065,
          -0.387034368016482,
          -1.409255889584305,
          -1.1503123082859623,
          -1.7193375528187813,
          -1.4348249305523717,
          -0.387034368016482,
          -1.1503123082859623,
          -1.10260743701912,
          -1.409255889584305,
          -1.1503123082859623,
          -1.1503123082859623,
          -1.1503123082859623,
          -1.1503123082859623,
          -1.4348249305523717,
          -1.409255889584305,
          -1.409255889584305,
          -0.387034368016482,
          -1.7193375528187813,
          -1.7193375528187813,
          -1.7193375528187813,
          -0.7192518615497342,
          -0.9560596125493013,
          -1.1503123082859623,
          -1.1503123082859623,
          -0.387034368016482,
          -1.1503123082859623,
          -1.1503123082859623,
          -0.6715469902828917,
          -1.409255889584305,
          -0.31547706111621826,
          -0.4108868036499033,
          -1.7193375528187813,
          -0.387034368016482,
          -1.1503123082859623,
          -1.4348249305523717,
          -1.409255889584305,
          -1.7193375528187813,
          -0.6715469902828917,
          -1.409255889584305,
          -0.8657996860195527,
          -1.1503123082859623,
          -1.1503123082859623,
          -1.7193375528187813,
          -1.409255889584305,
          -1.7193375528187813,
          -1.1503123082859623,
          -0.387034368016482,
          -0.387034368016482,
          -1.1503123082859614,
          -1.7193375528187813,
          -1.0514693550829863,
          -1.3871200592855295,
          -1.7193375528187813,
          -1.10260743701912,
          -1.4569607608511477,
          -1.4348249305523717,
          -1.4348249305523717,
          -1.1503123082859623,
          -1.1503123082859623,
          -1.7193375528187813,
          -1.1503123082859623,
          -1.7193375528187813,
          -1.1503123082859623,
          -0.6971160312509583,
          -0.387034368016482,
          -1.1503123082859623,
          -1.4348249305523717,
          -1.4569607608511477,
          -1.7193375528187813,
          -1.1503123082859623,
          -1.4348249305523717,
          -1.4348249305523717,
          -0.4841607158848125,
          -0.4841607158848125,
          -0.9560596125493013,
          -0.8657996860195527,
          -1.1503123082859623,
          -1.4348249305523717,
          -0.6953994259163129,
          -1.1503123082859623,
          -1.1503123082859623,
          -0.4841607158848125,
          -1.1503123082859623,
          -1.4569607608511477,
          -1.267857881118423,
          -1.4348249305523717,
          -1.1503123082859623,
          -1.1503123082859623,
          -1.1503123082859623,
          -1.1503123082859623,
          -1.1503123082859623,
          -1.4569607608511477,
          -1.4348249305523717,
          -1.1503123082859623,
          -0.41260340898454884,
          -1.4348249305523717,
          -1.031050130118856,
          -1.3138461470506202,
          -0.7209684668843797,
          -1.4348249305523717,
          -1.4348249305523717,
          -1.4569607608511477,
          -1.1503123082859623,
          -0.9577762178839467,
          -1.7193375528187813,
          -0.673263595617537,
          -0.9577762178839467,
          -1.7193375528187813,
          -0.9577762178839467,
          -1.031050130118856,
          -0.5557180227850763,
          -0.387034368016482,
          -1.1503123082859623,
          -1.1503123082859623,
          -1.3871200592855295,
          -1.6716326815519391,
          -1.1503123082859623,
          -0.387034368016482,
          -0.387034368016482,
          -1.4569607608511477,
          -0.387034368016482,
          -1.3138461470506202,
          -0.9083547412824586,
          -1.7193375528187813,
          -0.387034368016482,
          -0.387034368016482,
          -0.19793148828375756,
          -0.9577762178839467,
          -1.1503123082859623,
          -0.10423835108471795,
          -1.1503123082859623,
          -1.7193375528187813,
          -1.3138461470506202,
          -1.1503123082859623,
          -1.1503123082859623,
          -1.0054810891507893,
          -1.1503123082859623,
          -0.8180948147527103,
          -0.722685072219025,
          -0.9577762178839467,
          -1.077038396051053,
          -0.9577762178839467,
          -0.387034368016482,
          -0.9577762178839467,
          -1.10260743701912,
          -1.7193375528187813,
          -0.387034368016482,
          -1.3138461470506202,
          -1.4569607608511477,
          -0.387034368016482,
          -0.6715469902828917,
          -1.0293335247842104,
          -0.387034368016482,
          -1.1503123082859623,
          -1.7193375528187813,
          -0.5522848121157855,
          -0.6953994259163129,
          -1.1503123082859623,
          -0.387034368016482,
          -0.2933412308174426,
          -0.10252174575007249,
          -1.7193375528187813,
          -1.126459872652541,
          -1.7193375528187813,
          -0.9577762178839467,
          -1.3138461470506202,
          -1.7193375528187813,
          -1.4348249305523717,
          -0.9577762178839467,
          -0.6017062887172734,
          -0.6715469902828917,
          -0.4347392392833246,
          -1.7193375528187813,
          -0.12637418138349377,
          -1.7193375528187813,
          -1.267857881118423,
          -1.7193375528187813,
          -1.7193375528187813,
          -1.7193375528187813,
          -1.1503123082859623,
          -1.1503123082859623,
          -1.1503123082859623,
          -0.9577762178839467,
          -1.7193375528187813,
          -1.3138461470506202,
          -0.8180948147527103,
          -1.7193375528187813,
          -0.6255587243506946,
          -1.7193375528187813,
          -1.4569607608511477,
          -0.10423835108471795,
          -1.7193375528187813,
          -0.8657996860195527,
          -0.6715469902828917,
          -1.7193375528187813,
          -0.8180948147527103,
          -0.10252174575007249,
          -0.9577762178839467,
          -1.7193375528187813,
          -0.9560596125493013,
          -0.387034368016482,
          -0.387034368016482,
          -1.10260743701912,
          -0.387034368016482,
          -1.7193375528187813,
          -0.10252174575007249,
          -1.7193375528187813,
          -1.7193375528187813,
          -1.7193375528187813,
          -0.387034368016482,
          -0.9577762178839467,
          -1.1503123082859623,
          -1.1503123082859623,
          -1.1503123082859623,
          -1.1503123082859623,
          -1.7193375528187813,
          -0.41260340898454884,
          -1.1503123082859623,
          -1.10260743701912,
          -1.1503123082859623,
          -1.7193375528187813,
          -1.10260743701912,
          -0.387034368016482,
          -0.9577762178839467,
          -1.1503123082859623,
          -0.387034368016482,
          -1.1503123082859623,
          -0.8180948147527103,
          -1.1503123082859623,
          -0.9560596125493013,
          -1.1503123082859623,
          -0.387034368016482,
          -1.4348249305523717,
          -1.3871200592855295,
          -0.6715469902828917,
          -1.1503123082859623,
          -1.1503123082859623,
          -1.1503123082859623,
          -1.1503123082859623,
          -0.5761372477492065,
          -1.4348249305523717,
          -1.1503123082859623,
          -1.1503123082859623,
          -0.387034368016482,
          -0.8657996860195527,
          -1.1503123082859623,
          -0.673263595617537,
          -1.3871200592855295,
          -1.1503123082859623,
          -1.4348249305523717,
          -0.9577762178839467,
          -1.7193375528187813,
          -0.291624625482797,
          -0.6953994259163129,
          -1.1503123082859623,
          -1.1503123082859623,
          -1.4348249305523717,
          -0.8657996860195527,
          -0.387034368016482,
          -1.7193375528187813,
          -0.9577762178839467,
          -1.1503123082859623,
          -1.1503123082859623,
          -0.387034368016482,
          -0.5062965461835883,
          -0.9560596125493013,
          -1.10260743701912,
          -1.1503123082859623,
          -1.4348249305523717,
          -1.7193375528187813,
          -1.1503123082859623,
          -0.387034368016482,
          -1.4348249305523717,
          -1.7193375528187813,
          -1.10260743701912,
          -1.1503123082859623,
          -1.7193375528187813,
          -1.4348249305523717,
          -1.1503123082859623,
          -1.1503123082859623,
          -1.7193375528187813,
          -0.4841607158848125,
          -0.41260340898454884,
          -1.1503123082859623,
          -0.387034368016482,
          -1.1503123082859623,
          -0.9577762178839467,
          -1.4348249305523717,
          -0.9594928232185922,
          -1.1503123082859623,
          -0.387034368016482,
          -0.9577762178839467,
          -0.10252174575007249,
          -0.581287063753143,
          -0.387034368016482,
          -1.7193375528187813,
          -1.3394151880186866,
          -1.1503123082859623,
          -0.387034368016482,
          -1.7193375528187813,
          -0.387034368016482,
          -0.10252174575007249,
          -0.387034368016482,
          -1.1503123082859623,
          -1.003764483816144,
          -0.387034368016482,
          -0.9560596125493013,
          -0.4108868036499033,
          -1.1503123082859623,
          -0.6715469902828917,
          -1.7193375528187813,
          -1.7193375528187813,
          -0.387034368016482,
          -1.4348249305523717,
          -1.1503123082859623,
          -1.1503123082859623,
          -1.7193375528187813,
          -1.1503123082859623,
          -1.10260743701912,
          -0.9117879519517497,
          -1.1503123082859623,
          -1.1503123082859623
         ],
         "yaxis": "y"
        },
        {
         "customdata": [
          [
           70
          ],
          [
           53
          ],
          [
           44
          ],
          [
           44
          ],
          [
           60
          ],
          [
           60
          ],
          [
           53
          ],
          [
           61
          ],
          [
           27
          ],
          [
           66
          ],
          [
           26
          ],
          [
           54
          ],
          [
           26
          ],
          [
           70
          ],
          [
           7
          ],
          [
           47
          ],
          [
           44
          ],
          [
           26
          ],
          [
           44
          ],
          [
           44
          ],
          [
           44
          ],
          [
           50
          ],
          [
           44
          ],
          [
           70
          ],
          [
           66
          ],
          [
           60
          ],
          [
           58
          ],
          [
           62
          ],
          [
           33
          ],
          [
           44
          ],
          [
           44
          ],
          [
           7
          ],
          [
           26
          ],
          [
           14
          ],
          [
           44
          ],
          [
           52
          ],
          [
           66
          ],
          [
           46
          ],
          [
           45
          ],
          [
           33
          ],
          [
           31
          ],
          [
           44
          ],
          [
           44
          ],
          [
           44
          ],
          [
           68
          ],
          [
           68
          ],
          [
           66
          ],
          [
           34
          ],
          [
           44
          ],
          [
           36
          ],
          [
           65
          ],
          [
           50
          ],
          [
           44
          ],
          [
           62
          ],
          [
           28
          ],
          [
           66
          ],
          [
           10
          ],
          [
           44
          ],
          [
           44
          ],
          [
           63
          ],
          [
           66
          ],
          [
           63
          ],
          [
           42
          ],
          [
           53
          ],
          [
           31
          ],
          [
           48
          ],
          [
           9
          ],
          [
           46
          ],
          [
           14
          ],
          [
           46
          ],
          [
           10
          ],
          [
           26
          ],
          [
           44
          ],
          [
           53
          ],
          [
           67
          ],
          [
           44
          ],
          [
           37
          ],
          [
           53
          ],
          [
           61
          ],
          [
           44
          ],
          [
           52
          ],
          [
           68
          ],
          [
           31
          ],
          [
           64
          ],
          [
           64
          ],
          [
           44
          ],
          [
           26
          ],
          [
           20
          ],
          [
           31
          ],
          [
           72
          ],
          [
           26
          ],
          [
           31
          ],
          [
           64
          ],
          [
           44
          ],
          [
           44
          ],
          [
           16
          ],
          [
           68
          ],
          [
           64
          ],
          [
           44
          ],
          [
           44
          ],
          [
           58
          ],
          [
           64
          ],
          [
           64
          ],
          [
           19
          ],
          [
           61
          ],
          [
           67
          ],
          [
           0
          ],
          [
           13
          ],
          [
           68
          ],
          [
           52
          ],
          [
           10
          ],
          [
           44
          ],
          [
           31
          ],
          [
           61
          ],
          [
           31
          ],
          [
           44
          ],
          [
           44
          ],
          [
           64
          ],
          [
           31
          ],
          [
           64
          ],
          [
           54
          ],
          [
           64
          ],
          [
           54
          ],
          [
           64
          ],
          [
           26
          ],
          [
           7
          ],
          [
           14
          ],
          [
           26
          ],
          [
           66
          ],
          [
           54
          ],
          [
           64
          ],
          [
           58
          ],
          [
           44
          ],
          [
           63
          ]
         ],
         "hovertemplate": "Cluster=Cluster 3<br>PCA1=%{x}<br>PCA2=%{y}<br>Feature=%{customdata[0]}<extra></extra>",
         "legendgroup": "Cluster 3",
         "marker": {
          "color": "#ab63fa",
          "opacity": 0.5,
          "symbol": "circle"
         },
         "mode": "markers",
         "name": "Cluster 3",
         "showlegend": true,
         "textposition": "top center",
         "type": "scattergl",
         "x": [
          0.5490182727009506,
          0.7125521114655975,
          0.49788019076480394,
          -0.07114505376800895,
          0.5950065386331418,
          1.4485444054323606,
          0.7125521114655975,
          0.33434635200015683,
          0.6614140295294509,
          1.5916590192328897,
          0.06853634936321659,
          0.4518919248326125,
          0.06853634936321659,
          0.5490182727009506,
          -0.6691725499381992,
          1.1384627421978812,
          0.49788019076480394,
          -0.5004888951695962,
          1.0669054352976164,
          0.49788019076480394,
          0.49788019076480394,
          0.07196956003252025,
          0.49788019076480394,
          0.5490182727009506,
          0.7381211524336709,
          0.31049391636673535,
          1.4008395341655175,
          1.2117366544327979,
          -0.33352184573564553,
          1.0669054352976164,
          -0.07114505376800895,
          -0.38465992767179297,
          0.06853634936321659,
          -0.7867181227706546,
          1.0669054352976164,
          0.11967443129936318,
          1.5916590192328897,
          -0.023440182501165828,
          0.8062452486646317,
          0.2355033987971674,
          0.18779852753032425,
          -0.07114505376800895,
          0.49788019076480394,
          -0.07114505376800895,
          0.5013134014341074,
          0.5013134014341074,
          1.5916590192328897,
          -0.30966941010222415,
          0.49788019076480394,
          0.3070607056974317,
          0.42975609453384284,
          0.07196956003252025,
          0.49788019076480394,
          0.35819878763357843,
          0.6852664651628723,
          0.4536085301672645,
          -0.5976152430379342,
          0.49788019076480394,
          0.49788019076480394,
          0.382051223267,
          1.5916590192328897,
          0.382051223267,
          1.0192005640307735,
          0.7125521114655975,
          -0.38122671700248856,
          0.024264688765677198,
          -0.3369550564049497,
          -0.023440182501165828,
          0.066819744028565,
          -0.023440182501165828,
          -0.31310262077152795,
          -0.5004888951695962,
          0.49788019076480394,
          0.7125521114655975,
          1.6155114548663114,
          -0.07114505376800895,
          -0.23811210320195958,
          0.7125521114655975,
          0.6188589742665633,
          0.49788019076480394,
          0.4041870535657694,
          0.5013134014341074,
          -0.09671409473608221,
          0.9749289034332344,
          0.9749289034332344,
          0.2133675684983975,
          0.06853634936321659,
          -0.35909088670371897,
          0.47231114979673067,
          0.5967231439677936,
          0.353048971629623,
          0.47231114979673067,
          0.9749289034332344,
          1.0669054352976164,
          0.49788019076480394,
          0.39903723756181375,
          0.5013134014341074,
          0.9749289034332344,
          0.2133675684983975,
          -0.07114505376800895,
          1.4008395341655175,
          0.9749289034332344,
          0.9749289034332344,
          -0.09843070007073414,
          1.4723968410657824,
          1.0464862103334989,
          0.01739826742706934,
          -0.5260579361376697,
          0.5013134014341074,
          0.4041870535657694,
          -0.5976152430379342,
          0.49788019076480394,
          -0.38122671700248856,
          0.6188589742665633,
          -0.38122671700248856,
          0.2133675684983975,
          0.49788019076480394,
          0.9749289034332344,
          0.18779852753032425,
          0.9749289034332344,
          0.4518919248326125,
          0.9749289034332344,
          0.4518919248326125,
          1.5439541479660468,
          0.06853634936321659,
          -0.38465992767179297,
          -0.21769287823784167,
          -0.5004888951695962,
          1.5916590192328897,
          0.4518919248326125,
          0.9749289034332344,
          0.5473016673662985,
          -0.07114505376800895,
          0.382051223267
         ],
         "xaxis": "x",
         "y": [
          0.6096181125832741,
          1.5841347628842544,
          1.7988066835850458,
          1.2297814390522266,
          1.1326550911838962,
          1.986192957983125,
          1.5841347628842544,
          0.8242900332840654,
          2.773323333886027,
          1.843078344182597,
          2.2281505249866282,
          1.2757697049844237,
          2.2281505249866282,
          0.6096181125832741,
          2.3968341797552224,
          2.2962746212176013,
          1.7988066835850458,
          1.6591252804538092,
          2.3678319281178646,
          1.7988066835850458,
          1.7988066835850458,
          1.0866668252516993,
          1.7988066835850458,
          0.6096181125832741,
          0.9895404773833688,
          0.8481424689174866,
          2.0338978292499674,
          1.6539754644498732,
          1.4921582310198604,
          2.3678319281178646,
          1.2297814390522266,
          2.6813468020216322,
          2.2281505249866282,
          1.9453545080548644,
          2.3678319281178646,
          1.0389619539848567,
          1.843078344182597,
          1.1820765677853842,
          2.059466870218034,
          2.0611834755526797,
          2.1088883468195223,
          1.2297814390522266,
          1.7988066835850458,
          1.2297814390522266,
          0.6573229838501166,
          0.6573229838501166,
          1.843078344182597,
          1.4683057953864396,
          1.7988066835850458,
          1.989626168652416,
          0.7288802907503802,
          1.0866668252516993,
          1.7988066835850458,
          0.8004375976506442,
          2.749470898252605,
          0.7050278551169591,
          2.3252768728549595,
          1.7988066835850458,
          1.7988066835850458,
          0.7765851620172229,
          1.843078344182597,
          0.7765851620172229,
          2.4155367993847072,
          1.5841347628842544,
          1.539863102286703,
          1.1343716965185418,
          2.63364193075479,
          1.1820765677853842,
          2.7988923748540935,
          1.1820765677853842,
          2.609789495121369,
          1.6591252804538092,
          1.7988066835850458,
          1.5841347628842544,
          1.819225908549176,
          1.2297814390522266,
          1.3967484884861754,
          1.5841347628842544,
          1.108802655550475,
          1.7988066835850458,
          1.323474576251266,
          0.6573229838501166,
          1.8243757245531127,
          1.321757970916621,
          1.321757970916621,
          1.5142940613186364,
          2.2281505249866282,
          2.086752516520747,
          2.3934009690859317,
          0.5619132413164316,
          2.5126631472530376,
          2.3934009690859317,
          1.321757970916621,
          2.3678319281178646,
          1.7988066835850458,
          3.03570012585366,
          0.6573229838501166,
          1.321757970916621,
          1.5142940613186364,
          1.2297814390522266,
          2.0338978292499674,
          1.321757970916621,
          1.321757970916621,
          2.3951175744205777,
          1.9623405223497037,
          1.2502006640163572,
          3.417339095988401,
          2.2537195659546954,
          0.6573229838501166,
          1.323474576251266,
          2.3252768728549595,
          1.7988066835850458,
          1.539863102286703,
          1.108802655550475,
          1.539863102286703,
          1.5142940613186364,
          1.7988066835850458,
          1.321757970916621,
          2.1088883468195223,
          1.321757970916621,
          1.2757697049844237,
          1.321757970916621,
          1.2757697049844237,
          1.89078321544944,
          2.2281505249866282,
          2.6813468020216322,
          2.5143797525876836,
          1.6591252804538092,
          1.843078344182597,
          1.2757697049844237,
          1.321757970916621,
          1.1803599624507386,
          1.2297814390522266,
          0.7765851620172229
         ],
         "yaxis": "y"
        }
       ],
       "layout": {
        "height": 600,
        "legend": {
         "title": {
          "text": "Cluster"
         },
         "tracegroupgap": 0
        },
        "margin": {
         "t": 60
        },
        "plot_bgcolor": "rgb(240,240,240)",
        "template": {
         "data": {
          "bar": [
           {
            "error_x": {
             "color": "#2a3f5f"
            },
            "error_y": {
             "color": "#2a3f5f"
            },
            "marker": {
             "line": {
              "color": "#E5ECF6",
              "width": 0.5
             }
            },
            "type": "bar"
           }
          ],
          "barpolar": [
           {
            "marker": {
             "line": {
              "color": "#E5ECF6",
              "width": 0.5
             }
            },
            "type": "barpolar"
           }
          ],
          "carpet": [
           {
            "aaxis": {
             "endlinecolor": "#2a3f5f",
             "gridcolor": "white",
             "linecolor": "white",
             "minorgridcolor": "white",
             "startlinecolor": "#2a3f5f"
            },
            "baxis": {
             "endlinecolor": "#2a3f5f",
             "gridcolor": "white",
             "linecolor": "white",
             "minorgridcolor": "white",
             "startlinecolor": "#2a3f5f"
            },
            "type": "carpet"
           }
          ],
          "choropleth": [
           {
            "colorbar": {
             "outlinewidth": 0,
             "ticks": ""
            },
            "type": "choropleth"
           }
          ],
          "contour": [
           {
            "colorbar": {
             "outlinewidth": 0,
             "ticks": ""
            },
            "colorscale": [
             [
              0,
              "#0d0887"
             ],
             [
              0.1111111111111111,
              "#46039f"
             ],
             [
              0.2222222222222222,
              "#7201a8"
             ],
             [
              0.3333333333333333,
              "#9c179e"
             ],
             [
              0.4444444444444444,
              "#bd3786"
             ],
             [
              0.5555555555555556,
              "#d8576b"
             ],
             [
              0.6666666666666666,
              "#ed7953"
             ],
             [
              0.7777777777777778,
              "#fb9f3a"
             ],
             [
              0.8888888888888888,
              "#fdca26"
             ],
             [
              1,
              "#f0f921"
             ]
            ],
            "type": "contour"
           }
          ],
          "contourcarpet": [
           {
            "colorbar": {
             "outlinewidth": 0,
             "ticks": ""
            },
            "type": "contourcarpet"
           }
          ],
          "heatmap": [
           {
            "colorbar": {
             "outlinewidth": 0,
             "ticks": ""
            },
            "colorscale": [
             [
              0,
              "#0d0887"
             ],
             [
              0.1111111111111111,
              "#46039f"
             ],
             [
              0.2222222222222222,
              "#7201a8"
             ],
             [
              0.3333333333333333,
              "#9c179e"
             ],
             [
              0.4444444444444444,
              "#bd3786"
             ],
             [
              0.5555555555555556,
              "#d8576b"
             ],
             [
              0.6666666666666666,
              "#ed7953"
             ],
             [
              0.7777777777777778,
              "#fb9f3a"
             ],
             [
              0.8888888888888888,
              "#fdca26"
             ],
             [
              1,
              "#f0f921"
             ]
            ],
            "type": "heatmap"
           }
          ],
          "heatmapgl": [
           {
            "colorbar": {
             "outlinewidth": 0,
             "ticks": ""
            },
            "colorscale": [
             [
              0,
              "#0d0887"
             ],
             [
              0.1111111111111111,
              "#46039f"
             ],
             [
              0.2222222222222222,
              "#7201a8"
             ],
             [
              0.3333333333333333,
              "#9c179e"
             ],
             [
              0.4444444444444444,
              "#bd3786"
             ],
             [
              0.5555555555555556,
              "#d8576b"
             ],
             [
              0.6666666666666666,
              "#ed7953"
             ],
             [
              0.7777777777777778,
              "#fb9f3a"
             ],
             [
              0.8888888888888888,
              "#fdca26"
             ],
             [
              1,
              "#f0f921"
             ]
            ],
            "type": "heatmapgl"
           }
          ],
          "histogram": [
           {
            "marker": {
             "colorbar": {
              "outlinewidth": 0,
              "ticks": ""
             }
            },
            "type": "histogram"
           }
          ],
          "histogram2d": [
           {
            "colorbar": {
             "outlinewidth": 0,
             "ticks": ""
            },
            "colorscale": [
             [
              0,
              "#0d0887"
             ],
             [
              0.1111111111111111,
              "#46039f"
             ],
             [
              0.2222222222222222,
              "#7201a8"
             ],
             [
              0.3333333333333333,
              "#9c179e"
             ],
             [
              0.4444444444444444,
              "#bd3786"
             ],
             [
              0.5555555555555556,
              "#d8576b"
             ],
             [
              0.6666666666666666,
              "#ed7953"
             ],
             [
              0.7777777777777778,
              "#fb9f3a"
             ],
             [
              0.8888888888888888,
              "#fdca26"
             ],
             [
              1,
              "#f0f921"
             ]
            ],
            "type": "histogram2d"
           }
          ],
          "histogram2dcontour": [
           {
            "colorbar": {
             "outlinewidth": 0,
             "ticks": ""
            },
            "colorscale": [
             [
              0,
              "#0d0887"
             ],
             [
              0.1111111111111111,
              "#46039f"
             ],
             [
              0.2222222222222222,
              "#7201a8"
             ],
             [
              0.3333333333333333,
              "#9c179e"
             ],
             [
              0.4444444444444444,
              "#bd3786"
             ],
             [
              0.5555555555555556,
              "#d8576b"
             ],
             [
              0.6666666666666666,
              "#ed7953"
             ],
             [
              0.7777777777777778,
              "#fb9f3a"
             ],
             [
              0.8888888888888888,
              "#fdca26"
             ],
             [
              1,
              "#f0f921"
             ]
            ],
            "type": "histogram2dcontour"
           }
          ],
          "mesh3d": [
           {
            "colorbar": {
             "outlinewidth": 0,
             "ticks": ""
            },
            "type": "mesh3d"
           }
          ],
          "parcoords": [
           {
            "line": {
             "colorbar": {
              "outlinewidth": 0,
              "ticks": ""
             }
            },
            "type": "parcoords"
           }
          ],
          "pie": [
           {
            "automargin": true,
            "type": "pie"
           }
          ],
          "scatter": [
           {
            "marker": {
             "colorbar": {
              "outlinewidth": 0,
              "ticks": ""
             }
            },
            "type": "scatter"
           }
          ],
          "scatter3d": [
           {
            "line": {
             "colorbar": {
              "outlinewidth": 0,
              "ticks": ""
             }
            },
            "marker": {
             "colorbar": {
              "outlinewidth": 0,
              "ticks": ""
             }
            },
            "type": "scatter3d"
           }
          ],
          "scattercarpet": [
           {
            "marker": {
             "colorbar": {
              "outlinewidth": 0,
              "ticks": ""
             }
            },
            "type": "scattercarpet"
           }
          ],
          "scattergeo": [
           {
            "marker": {
             "colorbar": {
              "outlinewidth": 0,
              "ticks": ""
             }
            },
            "type": "scattergeo"
           }
          ],
          "scattergl": [
           {
            "marker": {
             "colorbar": {
              "outlinewidth": 0,
              "ticks": ""
             }
            },
            "type": "scattergl"
           }
          ],
          "scattermapbox": [
           {
            "marker": {
             "colorbar": {
              "outlinewidth": 0,
              "ticks": ""
             }
            },
            "type": "scattermapbox"
           }
          ],
          "scatterpolar": [
           {
            "marker": {
             "colorbar": {
              "outlinewidth": 0,
              "ticks": ""
             }
            },
            "type": "scatterpolar"
           }
          ],
          "scatterpolargl": [
           {
            "marker": {
             "colorbar": {
              "outlinewidth": 0,
              "ticks": ""
             }
            },
            "type": "scatterpolargl"
           }
          ],
          "scatterternary": [
           {
            "marker": {
             "colorbar": {
              "outlinewidth": 0,
              "ticks": ""
             }
            },
            "type": "scatterternary"
           }
          ],
          "surface": [
           {
            "colorbar": {
             "outlinewidth": 0,
             "ticks": ""
            },
            "colorscale": [
             [
              0,
              "#0d0887"
             ],
             [
              0.1111111111111111,
              "#46039f"
             ],
             [
              0.2222222222222222,
              "#7201a8"
             ],
             [
              0.3333333333333333,
              "#9c179e"
             ],
             [
              0.4444444444444444,
              "#bd3786"
             ],
             [
              0.5555555555555556,
              "#d8576b"
             ],
             [
              0.6666666666666666,
              "#ed7953"
             ],
             [
              0.7777777777777778,
              "#fb9f3a"
             ],
             [
              0.8888888888888888,
              "#fdca26"
             ],
             [
              1,
              "#f0f921"
             ]
            ],
            "type": "surface"
           }
          ],
          "table": [
           {
            "cells": {
             "fill": {
              "color": "#EBF0F8"
             },
             "line": {
              "color": "white"
             }
            },
            "header": {
             "fill": {
              "color": "#C8D4E3"
             },
             "line": {
              "color": "white"
             }
            },
            "type": "table"
           }
          ]
         },
         "layout": {
          "annotationdefaults": {
           "arrowcolor": "#2a3f5f",
           "arrowhead": 0,
           "arrowwidth": 1
          },
          "coloraxis": {
           "colorbar": {
            "outlinewidth": 0,
            "ticks": ""
           }
          },
          "colorscale": {
           "diverging": [
            [
             0,
             "#8e0152"
            ],
            [
             0.1,
             "#c51b7d"
            ],
            [
             0.2,
             "#de77ae"
            ],
            [
             0.3,
             "#f1b6da"
            ],
            [
             0.4,
             "#fde0ef"
            ],
            [
             0.5,
             "#f7f7f7"
            ],
            [
             0.6,
             "#e6f5d0"
            ],
            [
             0.7,
             "#b8e186"
            ],
            [
             0.8,
             "#7fbc41"
            ],
            [
             0.9,
             "#4d9221"
            ],
            [
             1,
             "#276419"
            ]
           ],
           "sequential": [
            [
             0,
             "#0d0887"
            ],
            [
             0.1111111111111111,
             "#46039f"
            ],
            [
             0.2222222222222222,
             "#7201a8"
            ],
            [
             0.3333333333333333,
             "#9c179e"
            ],
            [
             0.4444444444444444,
             "#bd3786"
            ],
            [
             0.5555555555555556,
             "#d8576b"
            ],
            [
             0.6666666666666666,
             "#ed7953"
            ],
            [
             0.7777777777777778,
             "#fb9f3a"
            ],
            [
             0.8888888888888888,
             "#fdca26"
            ],
            [
             1,
             "#f0f921"
            ]
           ],
           "sequentialminus": [
            [
             0,
             "#0d0887"
            ],
            [
             0.1111111111111111,
             "#46039f"
            ],
            [
             0.2222222222222222,
             "#7201a8"
            ],
            [
             0.3333333333333333,
             "#9c179e"
            ],
            [
             0.4444444444444444,
             "#bd3786"
            ],
            [
             0.5555555555555556,
             "#d8576b"
            ],
            [
             0.6666666666666666,
             "#ed7953"
            ],
            [
             0.7777777777777778,
             "#fb9f3a"
            ],
            [
             0.8888888888888888,
             "#fdca26"
            ],
            [
             1,
             "#f0f921"
            ]
           ]
          },
          "colorway": [
           "#636efa",
           "#EF553B",
           "#00cc96",
           "#ab63fa",
           "#FFA15A",
           "#19d3f3",
           "#FF6692",
           "#B6E880",
           "#FF97FF",
           "#FECB52"
          ],
          "font": {
           "color": "#2a3f5f"
          },
          "geo": {
           "bgcolor": "white",
           "lakecolor": "white",
           "landcolor": "#E5ECF6",
           "showlakes": true,
           "showland": true,
           "subunitcolor": "white"
          },
          "hoverlabel": {
           "align": "left"
          },
          "hovermode": "closest",
          "mapbox": {
           "style": "light"
          },
          "paper_bgcolor": "white",
          "plot_bgcolor": "#E5ECF6",
          "polar": {
           "angularaxis": {
            "gridcolor": "white",
            "linecolor": "white",
            "ticks": ""
           },
           "bgcolor": "#E5ECF6",
           "radialaxis": {
            "gridcolor": "white",
            "linecolor": "white",
            "ticks": ""
           }
          },
          "scene": {
           "xaxis": {
            "backgroundcolor": "#E5ECF6",
            "gridcolor": "white",
            "gridwidth": 2,
            "linecolor": "white",
            "showbackground": true,
            "ticks": "",
            "zerolinecolor": "white"
           },
           "yaxis": {
            "backgroundcolor": "#E5ECF6",
            "gridcolor": "white",
            "gridwidth": 2,
            "linecolor": "white",
            "showbackground": true,
            "ticks": "",
            "zerolinecolor": "white"
           },
           "zaxis": {
            "backgroundcolor": "#E5ECF6",
            "gridcolor": "white",
            "gridwidth": 2,
            "linecolor": "white",
            "showbackground": true,
            "ticks": "",
            "zerolinecolor": "white"
           }
          },
          "shapedefaults": {
           "line": {
            "color": "#2a3f5f"
           }
          },
          "ternary": {
           "aaxis": {
            "gridcolor": "white",
            "linecolor": "white",
            "ticks": ""
           },
           "baxis": {
            "gridcolor": "white",
            "linecolor": "white",
            "ticks": ""
           },
           "bgcolor": "#E5ECF6",
           "caxis": {
            "gridcolor": "white",
            "linecolor": "white",
            "ticks": ""
           }
          },
          "title": {
           "x": 0.05
          },
          "xaxis": {
           "automargin": true,
           "gridcolor": "white",
           "linecolor": "white",
           "ticks": "",
           "title": {
            "standoff": 15
           },
           "zerolinecolor": "white",
           "zerolinewidth": 2
          },
          "yaxis": {
           "automargin": true,
           "gridcolor": "white",
           "linecolor": "white",
           "ticks": "",
           "title": {
            "standoff": 15
           },
           "zerolinecolor": "white",
           "zerolinewidth": 2
          }
         }
        },
        "title": {
         "text": "2D Cluster PCA Plot"
        },
        "xaxis": {
         "anchor": "y",
         "domain": [
          0,
          1
         ],
         "title": {
          "text": "PCA1"
         }
        },
        "yaxis": {
         "anchor": "x",
         "domain": [
          0,
          1
         ],
         "title": {
          "text": "PCA2"
         }
        }
       }
      },
      "text/html": [
       "<div>\n",
       "        \n",
       "        \n",
       "            <div id=\"dde34164-055b-4f57-a406-e916f96c867c\" class=\"plotly-graph-div\" style=\"height:600px; width:100%;\"></div>\n",
       "            <script type=\"text/javascript\">\n",
       "                require([\"plotly\"], function(Plotly) {\n",
       "                    window.PLOTLYENV=window.PLOTLYENV || {};\n",
       "                    \n",
       "                if (document.getElementById(\"dde34164-055b-4f57-a406-e916f96c867c\")) {\n",
       "                    Plotly.newPlot(\n",
       "                        'dde34164-055b-4f57-a406-e916f96c867c',\n",
       "                        [{\"customdata\": [[108.0], [80.0], [108.0], [106.0], [108.0], [80.0], [82.0], [80.0], [106.0], [108.0], [108.0], [80.0], [108.0], [82.0], [108.0], [108.0], [82.0], [82.0], [106.0], [108.0], [108.0], [82.0], [75.0], [108.0], [108.0], [108.0], [108.0], [82.0], [106.0], [82.0], [80.0], [108.0], [108.0], [108.0], [82.0], [87.0], [82.0], [73.0], [87.0], [108.0], [108.0], [87.0], [76.0], [108.0], [108.0], [108.0], [85.0], [108.0], [76.0], [108.0], [108.0], [108.0], [108.0], [108.0], [108.0], [82.0], [79.0], [99.0], [82.0], [82.0], [83.0], [108.0], [77.0], [80.0], [100.0], [108.0], [108.0], [76.0], [87.0], [80.0], [87.0], [106.0], [80.0], [91.0], [108.0], [80.0], [84.0], [108.0], [82.0], [108.0], [108.0], [79.0], [97.0], [82.0], [82.0], [108.0], [85.0], [108.0], [85.0], [108.0], [75.0], [76.0], [80.0], [108.0], [76.0], [108.0], [108.0], [82.0], [83.0], [83.0], [82.0], [71.0], [108.0], [82.0], [108.0], [82.0], [108.0], [82.0], [108.0], [108.0], [108.0], [82.0], [82.0], [108.0], [82.0], [108.0], [108.0], [108.0], [108.0], [82.0], [108.0], [76.0], [108.0], [108.0], [108.0], [82.0], [85.0], [108.0], [82.0], [83.0], [108.0], [108.0], [108.0], [88.0], [106.0], [108.0], [106.0], [108.0], [85.0], [82.0], [82.0], [85.0], [87.0], [85.0], [82.0], [108.0], [69.0], [87.0], [76.0], [108.0], [80.0], [95.0], [108.0], [87.0], [106.0], [75.0], [108.0], [87.0], [87.0], [108.0], [108.0], [108.0], [95.0], [87.0], [108.0], [82.0], [108.0], [87.0], [87.0], [99.0], [108.0], [87.0], [106.0], [108.0], [87.0], [82.0], [108.0], [82.0], [97.0], [108.0], [108.0], [108.0], [108.0], [87.0], [77.0], [75.0], [108.0], [76.0], [75.0], [108.0], [108.0], [77.0], [87.0], [108.0], [106.0], [95.0], [108.0], [82.0], [108.0], [76.0], [87.0], [108.0], [82.0], [108.0], [108.0], [108.0], [108.0], [85.0], [87.0], [108.0], [108.0], [108.0], [106.0], [96.0], [87.0], [80.0], [95.0], [108.0], [108.0], [85.0], [108.0], [87.0], [95.0], [108.0], [108.0], [87.0], [108.0], [108.0], [108.0], [108.0], [86.0], [87.0], [108.0], [76.0], [108.0], [76.0], [87.0], [95.0], [82.0], [87.0]], \"hovertemplate\": \"Cluster=Cluster 0<br>PCA1=%{x}<br>PCA2=%{y}<br>Feature=%{customdata[0]}<extra></extra>\", \"legendgroup\": \"Cluster 0\", \"marker\": {\"color\": \"#636efa\", \"opacity\": 0.5, \"symbol\": \"circle\"}, \"mode\": \"markers\", \"name\": \"Cluster 0\", \"showlegend\": true, \"textposition\": \"top center\", \"type\": \"scattergl\", \"x\": [2.024436071303781, 1.641080495834385, 2.024436071303781, 1.976731200036938, 2.024436071303781, 1.641080495834385, 1.4042727448348216, 1.641080495834385, 1.976731200036938, 1.4554108267709684, 2.024436071303781, 1.641080495834385, 2.024436071303781, 1.4042727448348216, 2.593461315836594, 2.024436071303781, 1.4042727448348216, 1.4042727448348216, 1.976731200036938, 1.7399234490373745, 2.024436071303781, 1.4042727448348216, 1.237305695400871, 2.024436071303781, 1.7399234490373745, 2.024436071303781, 2.024436071303781, 1.4042727448348216, 2.2612438223033444, 1.4042727448348216, 1.641080495834385, 1.4554108267709684, 2.024436071303781, 2.024436071303781, 1.4042727448348216, 1.523534923001929, 1.4042727448348216, 0.9050882018676215, 1.523534923001929, 2.024436071303781, 2.024436071303781, 1.523534923001929, 1.2611581310342925, 2.024436071303781, 2.3089486935701875, 2.024436071303781, 1.475830051735086, 2.024436071303781, 1.2611581310342925, 2.024436071303781, 2.024436071303781, 1.4554108267709684, 2.024436071303781, 2.024436071303781, 1.4554108267709684, 1.4042727448348216, 1.9017406824673695, 1.2407389060701748, 1.4042727448348216, 0.8352475003020088, 1.7126378027346496, 2.593461315836594, 1.8540358112005269, 1.641080495834385, 1.5491039639700026, 1.4554108267709684, 2.024436071303781, 1.2611581310342925, 1.523534923001929, 1.641080495834385, 1.523534923001929, 1.4077059555041251, 1.641080495834385, 2.187969910068428, 2.024436071303781, 1.641080495834385, 1.1674649938352581, 2.024436071303781, 1.4042727448348216, 1.4554108267709684, 2.024436071303781, 1.9017406824673695, 2.3310845238689573, 1.4042727448348216, 1.4042727448348216, 2.3089486935701875, 1.475830051735086, 2.024436071303781, 1.475830051735086, 2.593461315836594, 0.6682804508680583, 0.6921328865014796, 1.641080495834385, 2.024436071303781, 1.2611581310342925, 2.024436071303781, 2.024436071303781, 1.4042727448348216, 1.7126378027346496, 1.7126378027346496, 1.4042727448348216, 1.141895952867185, 2.024436071303781, 1.4042727448348216, 2.024436071303781, 1.4042727448348216, 2.024436071303781, 1.4042727448348216, 2.3089486935701875, 2.024436071303781, 1.7399234490373745, 1.4042727448348216, 1.4042727448348216, 2.024436071303781, 1.4042727448348216, 2.024436071303781, 2.024436071303781, 1.4554108267709684, 2.024436071303781, 1.4042727448348216, 1.4554108267709684, 1.2611581310342925, 2.024436071303781, 2.024436071303781, 2.024436071303781, 1.4042727448348216, 1.475830051735086, 2.024436071303781, 1.4042727448348216, 1.7126378027346496, 2.024436071303781, 2.024436071303781, 2.024436071303781, 1.5473873586353506, 2.5457564445697507, 2.024436071303781, 2.5457564445697507, 2.024436071303781, 1.475830051735086, 1.4042727448348216, 1.4042727448348216, 1.475830051735086, 1.523534923001929, 1.475830051735086, 1.4042727448348216, 1.7399234490373745, 1.6632163261331545, 1.523534923001929, 0.9766455087678863, 2.593461315836594, 1.641080495834385, 1.9988670303357077, 2.024436071303781, 1.523534923001929, 2.5457564445697507, 0.6682804508680583, 1.4554108267709684, 1.523534923001929, 1.523534923001929, 1.4554108267709684, 1.7399234490373745, 2.024436071303781, 1.9988670303357077, 1.523534923001929, 2.024436071303781, 1.4042727448348216, 2.024436071303781, 1.523534923001929, 1.523534923001929, 2.3787893951358, 2.024436071303781, 1.523534923001929, 2.5457564445697507, 2.3089486935701875, 1.523534923001929, 1.4042727448348216, 2.593461315836594, 1.4042727448348216, 1.477546657069738, 2.593461315836594, 2.024436071303781, 2.024436071303781, 2.024436071303781, 1.523534923001929, 1.0004979444013076, 0.6682804508680583, 2.024436071303781, 1.2611581310342925, 0.6682804508680583, 1.7399234490373745, 2.024436071303781, 1.0004979444013076, 1.523534923001929, 2.024436071303781, 1.6922185777705319, 1.9988670303357077, 1.4554108267709684, 1.4042727448348216, 2.024436071303781, 1.2611581310342925, 1.523534923001929, 2.024436071303781, 1.4042727448348216, 2.3089486935701875, 2.024436071303781, 2.024436071303781, 2.024436071303781, 1.475830051735086, 1.523534923001929, 2.024436071303781, 1.4554108267709684, 1.4554108267709684, 2.5457564445697507, 2.3072320882355357, 1.523534923001929, 1.641080495834385, 1.9988670303357077, 2.024436071303781, 2.024436071303781, 1.475830051735086, 2.024436071303781, 1.8080475452683356, 1.9988670303357077, 2.024436071303781, 2.024436071303781, 1.523534923001929, 2.024436071303781, 2.024436071303781, 2.024436071303781, 2.024436071303781, 1.784195109634914, 1.523534923001929, 2.024436071303781, 1.2611581310342925, 2.3089486935701875, 1.2611581310342925, 1.523534923001929, 1.9988670303357077, 1.4042727448348216, 1.523534923001929], \"xaxis\": \"x\", \"y\": [0.27225080304608557, 1.2246316230482903, 0.27225080304608557, 0.31995567431292793, 0.27225080304608557, 1.2246316230482903, 0.8924141295150383, 1.2246316230482903, 0.31995567431292793, -0.29677444148673354, 0.27225080304608557, 1.2246316230482903, 0.27225080304608557, 0.8924141295150383, 0.8412760475789047, 0.27225080304608557, 0.8924141295150383, 0.8924141295150383, 0.31995567431292793, -0.012261819220323992, 0.27225080304608557, 0.8924141295150383, 1.059381178948987, 0.27225080304608557, -0.012261819220323992, 0.27225080304608557, 0.27225080304608557, 0.8924141295150383, 0.6044682965793375, 0.8924141295150383, 1.2246316230482903, -0.29677444148673354, 0.27225080304608557, 0.27225080304608557, 0.8924141295150383, 0.7731519513479319, 0.8924141295150383, 0.8225734279494199, 0.7731519513479319, 0.27225080304608557, 0.27225080304608557, 0.7731519513479319, 1.0355287433155658, 0.27225080304608557, 0.5567634253124952, 0.27225080304608557, 0.8208568226147743, 0.27225080304608557, 1.0355287433155658, 0.27225080304608557, 0.27225080304608557, -0.29677444148673354, 0.27225080304608557, 0.27225080304608557, -0.29677444148673354, 0.8924141295150383, 1.532996680948121, -0.08210252078594212, 0.8924141295150383, 0.323388884982219, 1.1530743161480266, 0.8412760475789047, 1.5807015522149637, 1.2246316230482903, 0.178557665847046, -0.29677444148673354, 0.27225080304608557, 1.0355287433155658, 0.7731519513479319, 1.2246316230482903, 0.7731519513479319, -0.2490695702198912, 1.2246316230482903, 1.246767453347066, 0.27225080304608557, 1.2246316230482903, 0.560196635981786, 0.27225080304608557, 0.8924141295150383, -0.29677444148673354, 0.27225080304608557, 1.532996680948121, 1.1036528395465384, 0.8924141295150383, 0.8924141295150383, 0.5567634253124952, 0.8208568226147743, 0.27225080304608557, 0.8208568226147743, 0.8412760475789047, 0.4903559344161678, 0.46650349878274655, 1.2246316230482903, 0.27225080304608557, 1.0355287433155658, 0.27225080304608557, 0.27225080304608557, 0.8924141295150383, 1.1530743161480266, 1.1530743161480266, 0.8924141295150383, 1.1547909214826722, 0.27225080304608557, 0.8924141295150383, 0.27225080304608557, 0.8924141295150383, 0.27225080304608557, 0.8924141295150383, 0.5567634253124952, 0.27225080304608557, -0.012261819220323992, 0.8924141295150383, 0.8924141295150383, 0.27225080304608557, 0.8924141295150383, 0.27225080304608557, 0.27225080304608557, -0.29677444148673354, 0.27225080304608557, 0.8924141295150383, -0.29677444148673354, 1.0355287433155658, 0.27225080304608557, 0.27225080304608557, 0.27225080304608557, 0.8924141295150383, 0.8208568226147743, 0.27225080304608557, 0.8924141295150383, 1.1530743161480266, 0.27225080304608557, 0.27225080304608557, 0.27225080304608557, 0.7492995157145106, 0.8889809188457469, 0.27225080304608557, 0.8889809188457469, 0.27225080304608557, 0.8208568226147743, 0.8924141295150383, 0.8924141295150383, 0.8208568226147743, 0.7731519513479319, 0.8208568226147743, 0.8924141295150383, -0.012261819220323992, 1.7715210372823338, 0.7731519513479319, 0.7510161210491563, 0.8412760475789047, 1.2246316230482903, 0.8668450885469715, 0.27225080304608557, 0.7731519513479319, 0.8889809188457469, 0.4903559344161678, -0.29677444148673354, 0.7731519513479319, 0.7731519513479319, -0.29677444148673354, -0.012261819220323992, 0.27225080304608557, 0.8668450885469715, 0.7731519513479319, 0.27225080304608557, 0.8924141295150383, 0.27225080304608557, 0.7731519513479319, 0.7731519513479319, 1.055947968279696, 0.27225080304608557, 0.7731519513479319, 0.8889809188457469, 0.5567634253124952, 0.7731519513479319, 0.8924141295150383, 0.8412760475789047, 0.8924141295150383, 0.2501149727473097, 0.8412760475789047, 0.27225080304608557, 0.27225080304608557, 0.27225080304608557, 0.7731519513479319, 0.727163685415735, 0.4903559344161678, 0.27225080304608557, 1.0355287433155658, 0.4903559344161678, -0.012261819220323992, 0.27225080304608557, 0.727163685415735, 0.7731519513479319, 0.27225080304608557, 0.03544305204651845, 0.8668450885469715, -0.29677444148673354, 0.8924141295150383, 0.27225080304608557, 1.0355287433155658, 0.7731519513479319, 0.27225080304608557, 0.8924141295150383, 0.5567634253124952, 0.27225080304608557, 0.27225080304608557, 0.27225080304608557, 0.8208568226147743, 0.7731519513479319, 0.27225080304608557, -0.29677444148673354, -0.29677444148673354, 0.8889809188457469, 1.1275052751799597, 0.7731519513479319, 1.2246316230482903, 0.8668450885469715, 0.27225080304608557, 0.27225080304608557, 0.8208568226147743, 0.27225080304608557, 1.0576645736143415, 0.8668450885469715, 0.27225080304608557, 0.27225080304608557, 0.7731519513479319, 0.27225080304608557, 0.27225080304608557, 0.27225080304608557, 0.27225080304608557, 1.0815170092477628, 0.7731519513479319, 0.27225080304608557, 1.0355287433155658, 0.5567634253124952, 1.0355287433155658, 0.7731519513479319, 0.8668450885469715, 0.8924141295150383, 0.7731519513479319], \"yaxis\": \"y\"}, {\"customdata\": [[62.0], [44.0], [62.0], [67.0], [44.0], [56.0], [56.0], [44.0], [62.0], [56.0], [44.0], [21.0], [62.0], [65.0], [62.0], [44.0], [56.0], [56.0], [26.0], [26.0], [26.0], [62.0], [7.0], [31.0], [62.0], [62.0], [44.0], [62.0], [26.0], [44.0], [62.0], [56.0], [20.0], [56.0], [56.0], [2.0], [62.0], [26.0], [9.0], [52.0], [18.0], [56.0], [56.0], [31.0], [56.0], [44.0], [44.0], [62.0], [71.0], [62.0], [56.0], [26.0], [46.0], [62.0], [62.0], [26.0], [20.0], [62.0], [62.0], [21.0], [62.0], [44.0], [36.0], [18.0], [44.0], [57.0], [7.0], [20.0], [62.0], [62.0], [7.0], [31.0], [44.0], [62.0], [62.0], [34.0], [34.0], [28.0], [10.0], [70.0], [62.0], [44.0], [62.0], [31.0], [20.0], [62.0], [26.0], [4.0], [26.0], [44.0], [62.0], [48.0], [26.0], [59.0], [44.0], [56.0], [56.0], [56.0], [56.0], [44.0], [7.0], [56.0], [56.0], [44.0], [7.0], [62.0], [62.0], [44.0], [44.0], [56.0], [56.0], [44.0], [55.0], [44.0], [44.0], [40.0], [26.0], [34.0], [44.0], [26.0], [36.0], [56.0], [44.0], [26.0], [31.0], [52.0], [56.0], [44.0], [56.0], [7.0], [62.0], [26.0], [44.0], [7.0], [11.0], [56.0], [6.0], [44.0], [56.0], [31.0], [57.0], [56.0], [57.0], [32.0], [56.0], [56.0], [57.0], [56.0], [56.0], [56.0], [31.0], [56.0], [56.0], [56.0], [44.0], [31.0], [26.0], [44.0], [56.0], [56.0], [56.0], [26.0], [44.0], [26.0], [26.0], [56.0], [17.0], [44.0], [26.0], [63.0], [44.0], [44.0], [56.0], [26.0], [56.0], [44.0], [44.0], [56.0], [56.0], [56.0], [56.0], [56.0], [56.0], [44.0], [56.0], [57.0], [56.0], [50.0], [57.0], [56.0], [44.0], [56.0], [31.0], [56.0], [56.0], [56.0], [56.0], [31.0], [44.0], [44.0], [33.0], [56.0], [44.0], [56.0], [44.0], [56.0], [56.0], [66.0], [26.0], [44.0], [56.0], [56.0], [56.0], [44.0], [56.0], [56.0], [56.0], [56.0], [26.0], [44.0], [56.0], [19.0], [56.0], [56.0], [24.0], [56.0], [44.0], [56.0], [56.0], [57.0], [26.0], [56.0], [56.0], [56.0], [9.0], [56.0], [56.0], [26.0], [49.0], [54.0], [56.0], [56.0], [44.0], [56.0], [56.0], [44.0], [55.0], [19.0], [56.0], [56.0], [44.0], [68.0], [45.0], [26.0], [44.0], [44.0], [62.0], [42.0], [56.0], [26.0], [26.0], [68.0], [45.0], [56.0], [66.0], [10.0], [44.0], [26.0], [44.0], [56.0], [21.0], [45.0], [30.0], [56.0], [29.0], [18.0], [56.0], [26.0], [44.0], [26.0], [26.0], [56.0], [20.0], [44.0], [56.0], [45.0], [56.0], [56.0], [42.0], [44.0], [31.0], [56.0], [56.0], [56.0], [56.0], [56.0], [26.0], [69.0], [26.0], [56.0], [44.0], [44.0], [61.0], [7.0], [40.0], [5.0], [56.0], [58.0], [31.0], [56.0], [50.0], [4.0], [66.0], [56.0], [56.0], [67.0], [31.0], [56.0], [45.0], [66.0], [53.0], [44.0], [56.0], [10.0], [34.0], [56.0], [41.0], [56.0], [31.0], [56.0], [45.0], [44.0], [18.0], [56.0], [14.0], [19.0], [61.0], [56.0], [56.0], [18.0], [67.0], [56.0], [64.0], [44.0], [62.0], [57.0], [26.0], [62.0], [54.0], [62.0], [62.0], [31.0], [31.0], [25.0], [44.0], [44.0], [62.0], [62.0], [31.0], [57.0], [26.0], [31.0], [26.0], [62.0], [14.0], [67.0], [62.0], [62.0], [15.0], [4.0], [66.0], [31.0], [62.0], [44.0], [35.0], [44.0], [62.0], [45.0], [18.0], [26.0], [21.0], [62.0], [45.0], [62.0], [62.0], [62.0], [62.0], [44.0], [62.0], [62.0], [44.0], [62.0], [44.0], [47.0], [62.0], [62.0], [45.0], [62.0], [44.0], [62.0], [58.0], [26.0], [8.0], [9.0], [12.0], [26.0], [14.0], [44.0], [21.0], [62.0], [31.0], [42.0], [44.0], [62.0], [43.0], [44.0], [60.0], [26.0], [62.0], [62.0], [62.0], [26.0], [44.0], [62.0], [62.0], [62.0], [62.0], [45.0], [26.0], [62.0], [62.0], [45.0], [62.0], [26.0], [45.0], [45.0], [62.0], [62.0], [62.0], [62.0], [44.0], [44.0], [31.0], [36.0], [22.0], [62.0], [36.0], [19.0], [31.0], [58.0], [62.0], [3.0], [62.0], [62.0], [62.0], [62.0], [34.0], [44.0], [51.0], [62.0], [19.0], [7.0], [58.0], [62.0], [62.0], [23.0], [39.0], [40.0], [44.0], [62.0], [44.0], [62.0], [62.0], [26.0], [18.0], [62.0], [4.0], [7.0], [62.0], [62.0], [44.0], [14.0], [62.0], [26.0], [26.0], [44.0], [62.0], [44.0], [26.0], [45.0], [62.0], [44.0], [44.0], [26.0], [14.0], [44.0], [44.0], [62.0], [44.0], [31.0], [67.0], [57.0], [62.0], [26.0], [62.0], [62.0], [62.0], [62.0], [4.0], [4.0], [26.0], [26.0], [44.0], [62.0], [45.0], [62.0], [44.0], [62.0], [62.0], [62.0], [62.0], [62.0], [26.0], [44.0], [62.0], [26.0], [62.0], [45.0], [44.0], [31.0], [44.0], [62.0], [23.0], [62.0], [57.0], [62.0], [19.0], [41.0], [44.0], [62.0], [62.0], [62.0], [44.0], [9.0], [7.0], [62.0], [62.0], [62.0], [62.0], [44.0], [62.0], [62.0], [62.0], [62.0], [44.0], [44.0], [44.0], [26.0], [31.0], [62.0], [62.0], [1.0], [62.0], [62.0], [38.0], [44.0], [31.0], [62.0], [10.0], [26.0], [62.0], [57.0], [26.0], [60.0], [44.0], [62.0], [62.0], [44.0], [57.0], [45.0], [45.0], [62.0], [62.0], [44.0], [62.0], [44.0]], \"hovertemplate\": \"Cluster=Cluster 1<br>PCA1=%{x}<br>PCA2=%{y}<br>Feature=%{customdata[0]}<extra></extra>\", \"legendgroup\": \"Cluster 1\", \"marker\": {\"color\": \"#EF553B\", \"opacity\": 0.5, \"symbol\": \"circle\"}, \"mode\": \"markers\", \"name\": \"Cluster 1\", \"showlegend\": true, \"textposition\": \"top center\", \"type\": \"scattergl\", \"x\": [-0.49533907916564046, -0.9246829205672279, -0.49533907916564046, -0.9451021455313459, -0.9246829205672279, -0.6384536929661697, -0.6384536929661697, -1.2091955428336343, -0.49533907916564046, -0.6384536929661697, -0.9246829205672279, -1.4732889401359226, -0.49533907916564046, -0.9928070167981888, -0.49533907916564046, -0.9246829205672279, -0.6384536929661697, -0.6384536929661697, -1.354026761968815, -1.354026761968815, -1.354026761968815, -0.49533907916564046, -1.8072230390038244, -1.2347645838017074, -0.49533907916564046, -0.49533907916564046, -0.6401702983008215, -0.49533907916564046, -1.9230520065016277, -0.9246829205672279, -0.49533907916564046, -0.6384536929661697, -1.4971413757693444, -0.6384536929661697, -0.6384536929661697, -1.9264852171709317, -0.49533907916564046, -1.354026761968815, -1.7595181677369813, -1.0183760577662622, -1.5448462470361872, -0.6384536929661697, -0.6384536929661697, -1.8037898283345202, -0.6384536929661697, -1.2091955428336343, -0.9246829205672279, -0.49533907916564046, -0.28066715846484686, -0.49533907916564046, -0.6384536929661697, -1.6385393842352214, -1.1614906715667912, -0.49533907916564046, -0.49533907916564046, -1.354026761968815, -1.4971413757693444, -0.49533907916564046, -0.49533907916564046, -2.0423141846687356, -0.49533907916564046, -0.9246829205672279, -1.6845276501674127, -2.113871491569, -1.4937081651000406, -0.6146012573327481, -1.8072230390038244, -1.4971413757693444, -0.49533907916564046, -0.49533907916564046, -1.8072230390038244, -1.2347645838017074, -1.2091955428336343, -0.49533907916564046, -0.49533907916564046, -1.1632072769014432, -1.1632072769014432, -1.5908345129683783, -2.3046909766363726, -0.30451959409826834, -0.49533907916564046, -0.9246829205672279, -0.49533907916564046, -1.2347645838017074, -1.4971413757693444, -0.49533907916564046, -1.9230520065016277, -1.8787803459040886, -1.354026761968815, -0.9246829205672279, -0.49533907916564046, -0.8292731780335417, -1.354026761968815, -0.5668963860659051, -0.9246829205672279, -0.6384536929661697, -0.6384536929661697, -0.6384536929661697, -0.6384536929661697, -0.9246829205672279, -2.091735661270231, -0.6384536929661697, -0.6384536929661697, -0.9246829205672279, -1.8072230390038244, -0.49533907916564046, -0.49533907916564046, -0.9246829205672279, -1.2091955428336343, -0.6384536929661697, -0.6384536929661697, -0.9246829205672279, -0.9468187508659975, -1.4937081651000406, -0.6401702983008215, -0.7355800408345077, -1.9230520065016277, -1.1632072769014432, -0.9246829205672279, -1.354026761968815, -1.1155024056346, -0.6384536929661697, -0.9246829205672279, -1.354026761968815, -1.5192772060681141, -0.7338634354998558, -0.6384536929661697, -0.9246829205672279, -0.6384536929661697, -1.8072230390038244, -0.49533907916564046, -1.354026761968815, -1.2091955428336343, -2.091735661270231, -1.4273006742037322, -0.6384536929661697, -1.8310754746372457, -0.9246829205672279, -0.6384536929661697, -0.9502519615353012, -0.8991138795991546, -0.6384536929661697, -0.8991138795991546, -1.2109121481682863, -0.6384536929661697, -0.6384536929661697, -0.8991138795991546, -0.6384536929661697, -0.6384536929661697, -0.6384536929661697, -0.9502519615353012, -0.6384536929661697, -0.6384536929661697, -0.6384536929661697, -0.9246829205672279, -1.8037898283345202, -1.6385393842352214, -0.9246829205672279, -0.6384536929661697, -0.6384536929661697, -0.6384536929661697, -1.354026761968815, -1.4937081651000406, -1.354026761968815, -1.354026761968815, -0.6384536929661697, -1.8532113049360153, -0.9246829205672279, -1.9230520065016277, -0.471486643532219, -0.9246829205672279, -0.9246829205672279, -0.6384536929661697, -1.354026761968815, -0.6384536929661697, -0.9246829205672279, -0.9246829205672279, -0.6384536929661697, -0.6384536929661697, -0.6384536929661697, -0.6384536929661697, -0.6384536929661697, -0.6384536929661697, -0.9246829205672279, -0.6384536929661697, -0.8991138795991546, -0.6384536929661697, -1.0660809290331053, -0.8991138795991546, -0.6384536929661697, -1.2091955428336343, -0.6384536929661697, -1.8037898283345202, -0.6384536929661697, -0.6384536929661697, -0.6384536929661697, -0.6384536929661697, -1.2347645838017074, -0.9246829205672279, -0.6401702983008215, -1.1870597125348643, -0.6384536929661697, -0.6401702983008215, -0.6384536929661697, -0.9246829205672279, -0.6384536929661697, -0.6384536929661697, -0.6844419588983609, -1.354026761968815, -0.9246829205672279, -0.6384536929661697, -0.6384536929661697, -0.6384536929661697, -0.9246829205672279, -0.6384536929661697, -0.6384536929661697, -0.6384536929661697, -0.6384536929661697, -1.354026761968815, -0.9246829205672279, -0.6384536929661697, -1.5209938114027661, -0.6384536929661697, -0.6384536929661697, -1.4017316332356582, -0.6384536929661697, -1.2091955428336343, -0.6384536929661697, -0.6384536929661697, -0.8991138795991546, -1.354026761968815, -0.6384536929661697, -0.6384536929661697, -0.6384536929661697, -1.7595181677369813, -0.6384536929661697, -0.6384536929661697, -1.354026761968815, -1.0899333646665268, -0.4016459419666063, -0.6384536929661697, -0.6384536929661697, -0.9246829205672279, -0.6384536929661697, -0.6384536929661697, -0.9246829205672279, -0.6623061285995911, -1.5209938114027661, -0.6384536929661697, -0.6384536929661697, -0.6401702983008215, -0.6367370876315179, -1.469855729466619, -1.9230520065016277, -1.2091955428336343, -0.9246829205672279, -0.49533907916564046, -1.5414130363668836, -0.6384536929661697, -1.354026761968815, -1.354026761968815, -0.6367370876315179, -1.469855729466619, -0.6384536929661697, -0.39992933663195446, -2.020178354369966, -1.4937081651000406, -1.354026761968815, -1.4937081651000406, -0.6384536929661697, -2.0423141846687356, -1.469855729466619, -1.827642263967942, -0.6384536929661697, -1.8514946996013635, -1.8293588693025935, -0.6384536929661697, -1.354026761968815, -0.9246829205672279, -1.354026761968815, -1.354026761968815, -0.6384536929661697, -2.0661666203021576, -0.9246829205672279, -0.6384536929661697, -1.469855729466619, -0.6384536929661697, -0.6384536929661697, -0.6878751695676645, -0.9246829205672279, -1.2347645838017074, -0.6384536929661697, -0.6384536929661697, -0.6384536929661697, -0.6384536929661697, -0.6384536929661697, -1.0695141397024088, -0.3283720297316899, -1.9230520065016277, -0.6384536929661697, -0.9246829205672279, -0.9246829205672279, -0.23467889253265575, -2.091735661270231, -1.020092663100914, -1.8549279102706673, -0.6384536929661697, -0.30623619943292035, -1.2347645838017074, -0.6384536929661697, -0.7815683067666988, -1.8787803459040886, -0.39992933663195446, -0.6384536929661697, -0.6384536929661697, -0.37607690099853286, -1.2347645838017074, -0.6384536929661697, -1.469855729466619, -0.39992933663195446, -0.7100109998664341, -0.9246829205672279, -0.6384536929661697, -1.7356657321035596, -1.1632072769014432, -0.6384536929661697, -0.9962402274674925, -0.6384536929661697, -1.2347645838017074, -0.6384536929661697, -1.469855729466619, -0.9246829205672279, -1.8293588693025935, -0.6384536929661697, -1.6402559895698734, -1.5209938114027661, -0.23467889253265575, -0.6384536929661697, -0.6384536929661697, -1.8293588693025935, -0.6605895232649395, -0.6384536929661697, -0.732146830165204, -0.9246829205672279, -0.49533907916564046, -0.8991138795991546, -1.354026761968815, -0.49533907916564046, -1.2551838087658254, -0.49533907916564046, -0.49533907916564046, -1.5192772060681141, -1.2347645838017074, -1.3778791976022366, -1.2091955428336343, -0.9246829205672279, -0.49533907916564046, -0.49533907916564046, -1.2347645838017074, -0.8991138795991546, -1.354026761968815, -1.8037898283345202, -1.354026761968815, -0.49533907916564046, -1.6402559895698734, -0.37607690099853286, -0.49533907916564046, -0.49533907916564046, -1.616403553936452, -1.8787803459040886, -0.39992933663195446, -1.2347645838017074, -0.49533907916564046, -0.9246829205672279, -0.8548422190016155, -1.2091955428336343, -0.49533907916564046, -1.469855729466619, -1.2603336247697807, -1.354026761968815, -2.0423141846687356, -0.49533907916564046, -1.469855729466619, -0.49533907916564046, -0.49533907916564046, -0.49533907916564046, -0.49533907916564046, -0.6401702983008215, -0.49533907916564046, -0.49533907916564046, -0.9246829205672279, -0.49533907916564046, -0.9246829205672279, -1.1376382359333697, -0.49533907916564046, -0.49533907916564046, -1.469855729466619, -0.49533907916564046, -0.9246829205672279, -0.49533907916564046, -0.30623619943292035, -1.354026761968815, -1.7833706033704027, -1.7595181677369813, -1.6879608608367165, -1.354026761968815, -1.9247686118362797, -0.9246829205672279, -1.4732889401359226, -0.49533907916564046, -1.2347645838017074, -1.5414130363668836, -0.9246829205672279, -0.49533907916564046, -0.9485353562006494, -1.2091955428336343, -0.5430439504324835, -1.354026761968815, -0.49533907916564046, -0.49533907916564046, -0.49533907916564046, -1.354026761968815, -0.9246829205672279, -0.49533907916564046, -0.49533907916564046, -0.49533907916564046, -0.49533907916564046, -1.469855729466619, -1.6385393842352214, -0.49533907916564046, -0.49533907916564046, -1.469855729466619, -0.49533907916564046, -1.6385393842352214, -1.469855729466619, -1.469855729466619, -0.49533907916564046, -0.49533907916564046, -0.49533907916564046, -0.49533907916564046, -0.9246829205672279, -0.9246829205672279, -1.2347645838017074, -0.8309897833681936, -1.4494365045025013, -0.49533907916564046, -1.6845276501674127, -2.0900190559355787, -1.8037898283345202, -0.5907488216993266, -0.49533907916564046, -2.471658026070323, -0.49533907916564046, -0.49533907916564046, -0.49533907916564046, -0.49533907916564046, -1.1632072769014432, -0.6401702983008215, -0.47320324886687104, -0.49533907916564046, -1.5209938114027661, -1.522710416737418, -0.30623619943292035, -0.49533907916564046, -0.49533907916564046, -1.4255840688690797, -0.7594324764679292, -1.5891179076337267, -0.9246829205672279, -0.49533907916564046, -1.4937081651000406, -0.49533907916564046, -0.49533907916564046, -1.354026761968815, -1.5448462470361872, -0.49533907916564046, -2.447805590436902, -1.8072230390038244, -0.49533907916564046, -0.49533907916564046, -0.9246829205672279, -1.6402559895698734, -0.49533907916564046, -1.6385393842352214, -1.354026761968815, -0.9246829205672279, -0.49533907916564046, -0.9246829205672279, -1.354026761968815, -1.469855729466619, -0.49533907916564046, -1.4937081651000406, -0.9246829205672279, -1.354026761968815, -1.6402559895698734, -0.9246829205672279, -1.4937081651000406, -0.49533907916564046, -1.4937081651000406, -1.2347645838017074, -0.6605895232649395, -0.8991138795991546, -0.49533907916564046, -1.354026761968815, -0.49533907916564046, -0.49533907916564046, -0.49533907916564046, -0.49533907916564046, -1.8787803459040886, -2.447805590436902, -1.354026761968815, -1.6385393842352214, -0.9246829205672279, -0.49533907916564046, -1.469855729466619, -0.49533907916564046, -1.2091955428336343, -0.49533907916564046, -0.49533907916563924, -0.49533907916564046, -0.49533907916564046, -0.49533907916564046, -1.354026761968815, -0.9246829205672279, -0.49533907916564046, -1.354026761968815, -0.49533907916564046, -1.469855729466619, -0.9246829205672279, -1.2347645838017074, -0.9246829205672279, -0.49533907916564046, -1.9946093134018925, -0.49533907916564046, -0.8991138795991546, -0.49533907916564046, -1.5209938114027661, -0.9962402274674925, -0.9246829205672279, -0.49533907916564046, -0.49533907916564046, -0.49533907916564046, -0.9246829205672279, -2.044030790003388, -2.091735661270231, -0.49533907916564046, -0.49533907916564046, -0.49533907916564046, -0.49533907916564046, -0.9246829205672279, -0.49533907916564046, -0.49533907916564046, -0.49533907916564046, -0.49533907916564046, -0.3556576760344151, -1.4937081651000406, -0.9246829205672279, -1.354026761968815, -1.2347645838017074, -0.49533907916564046, -0.49533907916564046, -1.6658250305379472, -0.49533907916564046, -0.49533907916564046, -1.067797534367757, -0.9246829205672279, -1.2347645838017074, -0.49533907916564046, -1.7356657321035596, -1.354026761968815, -0.49533907916564046, -0.8991138795991546, -1.354026761968815, -0.25853132816607727, -0.6401702983008215, -0.49533907916564046, -0.49533907916564046, -0.9246829205672279, -0.8991138795991546, -1.469855729466619, -1.469855729466619, -0.49533907916564046, -0.49533907916564046, -0.9246829205672279, -0.49533907916564046, -0.9246829205672279], \"xaxis\": \"x\", \"y\": [-0.05310026914858442, 0.3762435722529981, -0.05310026914858442, -0.74138769184851, 0.3762435722529981, 0.09001434465194313, 0.09001434465194313, 0.09173094998658837, -0.05310026914858442, 0.09001434465194313, 0.3762435722529981, 0.9248495918216869, -0.05310026914858442, -0.6936828205816674, -0.05310026914858442, 0.3762435722529981, 0.09001434465194313, 0.09001434465194313, 0.8055874136545808, 0.8055874136545808, 0.8055874136545808, -0.05310026914858442, 1.2587836906895848, 0.6863252354874744, -0.05310026914858442, -0.05310026914858442, 0.6607561945194077, -0.05310026914858442, 0.2365621691217615, 0.3762435722529981, -0.05310026914858442, 0.09001434465194313, 0.9487020274551082, 0.09001434465194313, 0.09001434465194313, 1.378045868856691, -0.05310026914858442, 0.8055874136545808, 1.2110788194227424, -0.09908853508078143, 0.9964068987219507, 0.09001434465194313, 0.09001434465194313, 0.1172999909546552, 0.09001434465194313, 0.09173094998658837, 0.3762435722529981, -0.05310026914858442, -0.26777218984937573, -0.05310026914858442, 0.09001434465194313, 0.5210747913881711, 0.0440260787197459, -0.05310026914858442, -0.05310026914858442, 0.8055874136545808, 0.9487020274551082, -0.05310026914858442, -0.05310026914858442, 0.3558243472888678, -0.05310026914858442, 0.3762435722529981, -0.001962187212451082, 0.4273816541891314, -0.19278167227982118, 0.06616190901852183, 1.2587836906895848, 0.9487020274551082, -0.05310026914858442, -0.05310026914858442, 1.2587836906895848, 0.6863252354874744, 0.09173094998658837, -0.05310026914858442, -0.05310026914858442, 0.6147679285872109, 0.6147679285872109, 0.4733699201213285, 0.6182011392565019, -0.24391975421595447, -0.05310026914858442, 0.3762435722529981, -0.05310026914858442, 0.6863252354874744, 0.9487020274551082, -0.05310026914858442, 0.2365621691217615, 1.3303409975898484, 0.8055874136545808, 0.3762435722529981, -0.05310026914858442, 0.2808338297193131, 0.8055874136545808, 0.018457037751679322, 0.3762435722529981, 0.09001434465194313, 0.09001434465194313, 0.09001434465194313, 0.09001434465194313, 0.3762435722529981, 0.974271068423175, 0.09001434465194313, 0.09001434465194313, 0.3762435722529981, 1.2587836906895848, -0.05310026914858442, -0.05310026914858442, 0.3762435722529981, 0.09173094998658837, 0.09001434465194313, 0.09001434465194313, 0.3762435722529981, -0.17064584198104527, -0.19278167227982118, 0.6607561945194077, 0.7561659370530928, 0.2365621691217615, 0.6147679285872109, 0.3762435722529981, 0.8055874136545808, 0.5670630573203681, 0.09001434465194313, 0.3762435722529981, 0.8055874136545808, 0.40181261322106476, 0.18542408718562814, 0.09001434465194313, 0.3762435722529981, 0.09001434465194313, 1.2587836906895848, -0.05310026914858442, 0.8055874136545808, 0.09173094998658837, 0.974271068423175, 1.4478865704223094, 0.09001434465194313, 1.2826361263230062, 0.3762435722529981, 0.09001434465194313, 0.9708378577538839, -0.21835071324788782, 0.09001434465194313, -0.21835071324788782, 0.6624727998540532, 0.09001434465194313, 0.09001434465194313, -0.21835071324788782, 0.09001434465194313, 0.09001434465194313, 0.09001434465194313, 0.9708378577538839, 0.09001434465194313, 0.09001434465194313, 0.09001434465194313, 0.3762435722529981, 0.1172999909546552, 0.5210747913881711, 0.3762435722529981, 0.09001434465194313, 0.09001434465194313, 0.09001434465194313, 0.8055874136545808, -0.19278167227982118, 0.8055874136545808, 0.8055874136545808, 0.09001434465194313, 0.7357467120889626, 0.3762435722529981, 0.2365621691217615, -0.07695270478200573, 0.3762435722529981, 0.3762435722529981, 0.09001434465194313, 0.8055874136545808, 0.09001434465194313, 0.3762435722529981, 0.3762435722529981, 0.09001434465194313, 0.09001434465194313, 0.09001434465194313, 0.09001434465194313, 0.09001434465194313, 0.09001434465194313, 0.3762435722529981, 0.09001434465194313, -0.21835071324788782, 0.09001434465194313, -0.0513836638139389, -0.21835071324788782, 0.09001434465194313, 0.09173094998658837, 0.09001434465194313, 0.1172999909546552, 0.09001434465194313, 0.09001434465194313, 0.09001434465194313, 0.09001434465194313, 0.6863252354874744, 0.3762435722529981, 0.6607561945194077, 0.638620364220632, 0.09001434465194313, 0.6607561945194077, 0.09001434465194313, 0.3762435722529981, 0.09001434465194313, 0.09001434465194313, -0.4330226339486791, 0.8055874136545808, 0.3762435722529981, 0.09001434465194313, 0.09001434465194313, 0.09001434465194313, 0.3762435722529981, 0.09001434465194313, 0.09001434465194313, 0.09001434465194313, 0.09001434465194313, 0.8055874136545808, 0.3762435722529981, 0.09001434465194313, 0.9725544630885298, 0.09001434465194313, 0.09001434465194313, 0.8532922849214233, 0.09001434465194313, 0.09173094998658837, 0.09001434465194313, 0.09001434465194313, -0.21835071324788782, 0.8055874136545808, 0.09001434465194313, 0.09001434465194313, 0.09001434465194313, 1.2110788194227424, 0.09001434465194313, 0.09001434465194313, 0.8055874136545808, -0.027531228180517658, 0.42223183818519516, 0.09001434465194313, 0.09001434465194313, 0.3762435722529981, 0.09001434465194313, 0.09001434465194313, 0.3762435722529981, 0.1138667802853643, 0.9725544630885298, 0.09001434465194313, 0.09001434465194313, 0.6607561945194077, -0.48072750521552166, -0.2166341079132424, 0.2365621691217615, 0.09173094998658837, 0.3762435722529981, -0.05310026914858442, -0.1450768010129787, 0.09001434465194313, 0.8055874136545808, 0.8055874136545808, -0.48072750521552166, -0.2166341079132424, 0.09001434465194313, -0.1485100116822695, 0.9027137615229115, -0.19278167227982118, 0.8055874136545808, -0.19278167227982118, 0.09001434465194313, 0.3558243472888678, -0.2166341079132424, 0.14115242658807634, 0.09001434465194313, 0.16500486222149782, 0.7118942764555409, 0.09001434465194313, 0.8055874136545808, 0.3762435722529981, 0.8055874136545808, 0.8055874136545808, 0.09001434465194313, 0.37967678292228896, 0.3762435722529981, 0.09001434465194313, -0.2166341079132424, 0.09001434465194313, 0.09001434465194313, 0.7084610657862501, 0.3762435722529981, 0.6863252354874744, 0.09001434465194313, 0.09001434465194313, 0.09001434465194313, 0.09001434465194313, 0.09001434465194313, 1.0901000359209903, -0.2200673185825332, 0.2365621691217615, 0.09001434465194313, 0.3762435722529981, 0.3762435722529981, 0.25526478875124636, 0.974271068423175, 0.47165331478668326, 1.3064885619564275, 0.09001434465194313, 0.32682209565151016, 0.6863252354874744, 0.09001434465194313, 0.23312895845247067, 1.3303409975898484, -0.1485100116822695, 0.09001434465194313, 0.09001434465194313, -0.17236244731569067, 0.6863252354874744, 0.09001434465194313, -0.2166341079132424, -0.1485100116822695, 0.16157165155220687, 0.3762435722529981, 0.09001434465194313, 1.187226383789321, 0.6147679285872109, 0.09001434465194313, 0.44780087915326194, 0.09001434465194313, 0.6863252354874744, 0.09001434465194313, -0.2166341079132424, 0.3762435722529981, 0.7118942764555409, 0.09001434465194313, 1.0918166412556358, 0.9725544630885298, 0.25526478875124636, 0.09001434465194313, 0.09001434465194313, 0.7118942764555409, -0.45687506958210045, 0.09001434465194313, -0.3853177626818367, 0.3762435722529981, -0.05310026914858442, -0.21835071324788782, 0.8055874136545808, -0.05310026914858442, -0.4313060286140336, -0.05310026914858442, -0.05310026914858442, 0.40181261322106476, 0.6863252354874744, 0.8294398492880021, 0.09173094998658837, 0.3762435722529981, -0.05310026914858442, -0.05310026914858442, 0.6863252354874744, -0.21835071324788782, 0.8055874136545808, 0.1172999909546552, 0.8055874136545808, -0.05310026914858442, 1.0918166412556358, -0.17236244731569067, -0.05310026914858442, -0.05310026914858442, 1.0679642056222145, 1.3303409975898484, -0.1485100116822695, 0.6863252354874744, -0.05310026914858442, 0.3762435722529981, 0.8754281152201993, 0.09173094998658837, -0.05310026914858442, -0.2166341079132424, 1.2809195209883601, 0.8055874136545808, 0.3558243472888678, -0.05310026914858442, -0.2166341079132424, -0.05310026914858442, -0.05310026914858442, -0.05310026914858442, -0.05310026914858442, 0.6607561945194077, -0.05310026914858442, -0.05310026914858442, 0.3762435722529981, -0.05310026914858442, 0.3762435722529981, 0.020173643086324692, -0.05310026914858442, -0.05310026914858442, -0.2166341079132424, -0.05310026914858442, 0.3762435722529981, -0.05310026914858442, 0.32682209565151016, 0.8055874136545808, 1.2349312550561635, 1.2110788194227424, 1.1395215125224782, 0.8055874136545808, 0.8073040189892261, 0.3762435722529981, 0.9248495918216869, -0.05310026914858442, 0.6863252354874744, -0.1450768010129787, 0.3762435722529981, -0.05310026914858442, 0.4000960078864194, 0.09173094998658837, -0.005395397881741918, 0.8055874136545808, -0.05310026914858442, -0.05310026914858442, -0.05310026914858442, 0.8055874136545808, 0.3762435722529981, -0.05310026914858442, -0.05310026914858442, -0.05310026914858442, -0.05310026914858442, -0.2166341079132424, 0.5210747913881711, -0.05310026914858442, -0.05310026914858442, -0.2166341079132424, -0.05310026914858442, 0.5210747913881711, -0.2166341079132424, -0.2166341079132424, -0.05310026914858442, -0.05310026914858442, -0.05310026914858442, -0.05310026914858442, 0.3762435722529981, 0.3762435722529981, 0.6863252354874744, 0.8515756795867777, 0.9009971561882657, -0.05310026914858442, -0.001962187212451082, 0.4035292185557105, 0.1172999909546552, 0.04230947338510065, -0.05310026914858442, 0.7851681886904506, -0.05310026914858442, -0.05310026914858442, -0.05310026914858442, -0.05310026914858442, 0.6147679285872109, 0.6607561945194077, 0.493789145085459, -0.05310026914858442, 0.9725544630885298, 1.5432963129559945, 0.32682209565151016, -0.05310026914858442, -0.05310026914858442, 0.8771447205548444, 0.7800183726865141, -0.09737192974613602, 0.3762435722529981, -0.05310026914858442, -0.19278167227982118, -0.05310026914858442, -0.05310026914858442, 0.8055874136545808, 0.9964068987219507, -0.05310026914858442, 0.7613157530570291, 1.2587836906895848, -0.05310026914858442, -0.05310026914858442, 0.3762435722529981, 1.0918166412556358, -0.05310026914858442, 0.5210747913881711, 0.8055874136545808, 0.3762435722529981, -0.05310026914858442, 0.3762435722529981, 0.8055874136545808, -0.2166341079132424, -0.05310026914858442, -0.19278167227982118, 0.3762435722529981, 0.8055874136545808, 1.0918166412556358, 0.3762435722529981, -0.19278167227982118, -0.05310026914858442, -0.19278167227982118, 0.6863252354874744, -0.45687506958210045, -0.21835071324788782, -0.05310026914858442, 0.8055874136545808, -0.05310026914858442, -0.05310026914858442, -0.05310026914858442, -0.05310026914858442, 1.3303409975898484, 0.7613157530570291, 0.8055874136545808, 0.5210747913881711, 0.3762435722529981, -0.05310026914858442, -0.2166341079132424, -0.05310026914858442, 0.09173094998658837, -0.05310026914858442, -0.05310026914858312, -0.05310026914858442, -0.05310026914858442, -0.05310026914858442, 0.8055874136545808, 0.3762435722529981, -0.05310026914858442, 0.8055874136545808, -0.05310026914858442, -0.2166341079132424, 0.3762435722529981, 0.6863252354874744, 0.3762435722529981, -0.05310026914858442, 0.3081194760220252, -0.05310026914858442, -0.21835071324788782, -0.05310026914858442, 0.9725544630885298, 0.44780087915326194, 0.3762435722529981, -0.05310026914858442, -0.05310026914858442, -0.05310026914858442, 0.3762435722529981, 0.9265661971563327, 0.974271068423175, -0.05310026914858442, -0.05310026914858442, -0.05310026914858442, -0.05310026914858442, 0.3762435722529981, -0.05310026914858442, -0.05310026914858442, -0.05310026914858442, -0.05310026914858442, 0.9452688167858172, -0.19278167227982118, 0.3762435722529981, 0.8055874136545808, 0.6863252354874744, -0.05310026914858442, -0.05310026914858442, 1.6864109267565222, -0.05310026914858442, -0.05310026914858442, 0.5193581860535257, 0.3762435722529981, 0.6863252354874744, -0.05310026914858442, 1.187226383789321, 0.8055874136545808, -0.05310026914858442, -0.21835071324788782, 0.8055874136545808, 0.27911722438466763, 0.6607561945194077, -0.05310026914858442, -0.05310026914858442, 0.3762435722529981, -0.21835071324788782, -0.2166341079132424, -0.2166341079132424, -0.05310026914858442, -0.05310026914858442, 0.3762435722529981, -0.05310026914858442, 0.3762435722529981], \"yaxis\": \"y\"}, {\"customdata\": [[72.0], [76.0], [77.0], [74.0], [72.0], [106.0], [81.0], [76.0], [77.0], [108.0], [72.0], [108.0], [76.0], [108.0], [76.0], [76.0], [108.0], [88.0], [72.0], [108.0], [76.0], [108.0], [72.0], [108.0], [72.0], [76.0], [94.0], [108.0], [108.0], [108.0], [108.0], [108.0], [108.0], [108.0], [108.0], [108.0], [72.0], [76.0], [76.0], [81.0], [76.0], [108.0], [72.0], [108.0], [108.0], [108.0], [94.0], [108.0], [72.0], [106.0], [76.0], [108.0], [108.0], [108.0], [106.0], [106.0], [108.0], [108.0], [108.0], [108.0], [108.0], [76.0], [108.0], [108.0], [76.0], [108.0], [76.0], [76.0], [108.0], [72.0], [108.0], [108.0], [108.0], [108.0], [108.0], [108.0], [108.0], [76.0], [108.0], [108.0], [108.0], [108.0], [79.0], [76.0], [76.0], [106.0], [95.0], [95.0], [76.0], [108.0], [108.0], [92.0], [106.0], [108.0], [108.0], [95.0], [108.0], [92.0], [71.0], [108.0], [108.0], [108.0], [106.0], [90.0], [76.0], [108.0], [76.0], [95.0], [95.0], [106.0], [106.0], [92.0], [106.0], [108.0], [108.0], [76.0], [108.0], [92.0], [108.0], [95.0], [108.0], [108.0], [106.0], [108.0], [76.0], [76.0], [92.0], [106.0], [106.0], [106.0], [106.0], [108.0], [92.0], [83.0], [77.0], [76.0], [108.0], [108.0], [95.0], [106.0], [95.0], [108.0], [76.0], [92.0], [108.0], [108.0], [108.0], [108.0], [108.0], [108.0], [108.0], [108.0], [95.0], [105.0], [95.0], [81.0], [76.0], [76.0], [108.0], [108.0], [108.0], [108.0], [108.0], [108.0], [108.0], [108.0], [72.0], [72.0], [108.0], [108.0], [108.0], [82.0], [76.0], [77.0], [76.0], [95.0], [76.0], [108.0], [95.0], [76.0], [106.0], [108.0], [72.0], [76.0], [95.0], [108.0], [108.0], [108.0], [76.0], [108.0], [106.0], [95.0], [108.0], [108.0], [108.0], [108.0], [108.0], [95.0], [95.0], [76.0], [108.0], [108.0], [108.0], [78.0], [76.0], [108.0], [108.0], [76.0], [108.0], [108.0], [76.0], [95.0], [73.0], [77.0], [108.0], [76.0], [108.0], [108.0], [95.0], [108.0], [76.0], [95.0], [108.0], [108.0], [108.0], [108.0], [95.0], [108.0], [108.0], [76.0], [76.0], [108.0], [108.0], [80.0], [106.0], [108.0], [106.0], [97.0], [108.0], [108.0], [108.0], [108.0], [108.0], [108.0], [108.0], [108.0], [89.0], [76.0], [108.0], [108.0], [97.0], [108.0], [108.0], [108.0], [108.0], [92.0], [92.0], [76.0], [108.0], [108.0], [108.0], [77.0], [108.0], [108.0], [92.0], [108.0], [97.0], [101.0], [108.0], [108.0], [108.0], [108.0], [108.0], [108.0], [97.0], [108.0], [108.0], [89.0], [108.0], [103.0], [91.0], [90.0], [108.0], [108.0], [97.0], [108.0], [88.0], [108.0], [88.0], [88.0], [108.0], [88.0], [103.0], [95.0], [76.0], [108.0], [108.0], [106.0], [106.0], [108.0], [76.0], [76.0], [97.0], [76.0], [91.0], [74.0], [108.0], [76.0], [76.0], [80.0], [88.0], [108.0], [88.0], [108.0], [108.0], [91.0], [108.0], [108.0], [90.0], [108.0], [106.0], [102.0], [88.0], [93.0], [88.0], [76.0], [88.0], [106.0], [108.0], [76.0], [91.0], [97.0], [76.0], [76.0], [91.0], [76.0], [108.0], [108.0], [71.0], [77.0], [108.0], [76.0], [84.0], [76.0], [108.0], [107.0], [108.0], [88.0], [91.0], [108.0], [108.0], [88.0], [85.0], [76.0], [78.0], [108.0], [77.0], [108.0], [101.0], [108.0], [108.0], [108.0], [108.0], [108.0], [108.0], [88.0], [108.0], [91.0], [106.0], [108.0], [86.0], [108.0], [97.0], [88.0], [108.0], [108.0], [76.0], [108.0], [106.0], [76.0], [88.0], [108.0], [76.0], [76.0], [76.0], [106.0], [76.0], [108.0], [76.0], [108.0], [108.0], [108.0], [76.0], [88.0], [108.0], [108.0], [108.0], [108.0], [108.0], [89.0], [108.0], [106.0], [108.0], [108.0], [106.0], [76.0], [88.0], [108.0], [76.0], [108.0], [106.0], [108.0], [76.0], [108.0], [76.0], [108.0], [106.0], [76.0], [108.0], [108.0], [108.0], [108.0], [72.0], [108.0], [108.0], [108.0], [76.0], [108.0], [108.0], [88.0], [106.0], [108.0], [108.0], [88.0], [108.0], [72.0], [77.0], [108.0], [108.0], [108.0], [108.0], [76.0], [108.0], [88.0], [108.0], [108.0], [76.0], [81.0], [76.0], [106.0], [108.0], [108.0], [108.0], [108.0], [76.0], [108.0], [108.0], [106.0], [108.0], [108.0], [108.0], [108.0], [108.0], [108.0], [92.0], [89.0], [108.0], [76.0], [108.0], [88.0], [108.0], [100.0], [108.0], [76.0], [88.0], [76.0], [108.0], [76.0], [108.0], [104.0], [108.0], [76.0], [108.0], [76.0], [76.0], [76.0], [108.0], [78.0], [76.0], [76.0], [77.0], [108.0], [76.0], [108.0], [108.0], [76.0], [108.0], [108.0], [108.0], [108.0], [108.0], [106.0], [98.0], [108.0], [108.0]], \"hovertemplate\": \"Cluster=Cluster 2<br>PCA1=%{x}<br>PCA2=%{y}<br>Feature=%{customdata[0]}<extra></extra>\", \"legendgroup\": \"Cluster 2\", \"marker\": {\"color\": \"#00cc96\", \"opacity\": 0.5, \"symbol\": \"circle\"}, \"mode\": \"markers\", \"name\": \"Cluster 2\", \"showlegend\": true, \"textposition\": \"top center\", \"type\": \"scattergl\", \"x\": [-0.5413273450978318, -0.16140498029773925, -0.13755254466431777, 0.35991539296823033, -0.5413273450978318, 0.8386807109713127, 0.24236982013577466, -0.16140498029773925, -0.13755254466431777, 0.6018729599717493, -0.5413273450978318, 0.6018729599717493, -0.16140498029773925, 0.6018729599717493, -0.16140498029773925, -0.16140498029773925, 0.6018729599717493, 0.6938494918361315, -0.5413273450978318, 0.6018729599717493, -0.16140498029773925, 0.6018729599717493, -0.5413273450978318, 1.170898204504562, -0.5413273450978318, -0.16140498029773925, 0.5524514833702544, 0.6018729599717493, 0.032847715438936526, 0.032847715438936526, 0.6018729599717493, 0.6018729599717493, 0.8863855822381556, 0.032847715438936526, 0.6018729599717493, 0.6018729599717493, -0.5413273450978318, -0.7304302248305521, -0.16140498029773925, 0.24236982013577466, -0.16140498029773925, 0.6018729599717493, -0.5413273450978318, 0.6018729599717493, 0.6018729599717493, 0.032847715438936526, 0.267938861103848, 0.6018729599717493, -0.5413273450978318, 0.5541680887049064, -0.16140498029773925, 0.6018729599717493, 0.6018729599717493, 0.6018729599717493, 0.8386807109713127, 0.8386807109713127, 0.8863855822381556, 0.6018729599717493, 0.6018729599717493, 0.6018729599717493, 0.6018729599717493, -0.16140498029773925, 0.6018729599717493, 0.6018729599717493, -0.16140498029773925, 0.6018729599717493, -0.7304302248305521, -0.7304302248305521, 0.032847715438936526, -0.5413273450978318, 0.6018729599717493, 0.6018729599717493, 0.032847715438936526, 0.6018729599717493, 0.6018729599717493, 0.6018729599717493, 0.6018729599717493, -0.16140498029773925, 0.032847715438936526, 0.6018729599717493, 0.8863855822381556, 0.032847715438936526, -0.08984767339747472, -0.16140498029773925, -0.7304302248305521, 0.5541680887049064, -0.2772339477955433, -0.2772339477955433, -0.7304302248305521, 0.032847715438936526, 0.032847715438936526, 0.5047466121034113, 1.123193333237719, 0.6018729599717493, 0.6018729599717493, -0.2772339477955433, 0.8863855822381556, -0.34879125469580785, -0.8496924029976597, 0.6018729599717493, 0.3173603377053429, 0.032847715438936526, 0.5541680887049064, -0.11198350369624448, -0.44591760256414564, 0.6018729599717493, -0.7304302248305521, -0.2772339477955433, -0.2772339477955433, 0.5541680887049064, 0.2696554664384999, 0.5047466121034113, 0.5541680887049064, 0.8863855822381556, 0.6018729599717493, -0.16140498029773925, 0.3173603377053429, 0.5047466121034113, 0.032847715438936526, -0.2772339477955433, 0.6018729599717493, 0.6018729599717493, 0.5541680887049064, 0.8863855822381556, -0.16140498029773925, -0.16140498029773925, 0.5047466121034113, 0.5541680887049064, 0.8386807109713127, 0.8386807109713127, 0.8386807109713127, 0.032847715438936526, 0.5047466121034113, 0.2900746914026177, -0.13755254466431777, -0.44591760256414564, 0.6018729599717493, 0.3173603377053429, -0.2772339477955433, 0.5541680887049064, -0.2772339477955433, 0.6018729599717493, -0.16140498029773925, 0.5047466121034113, 0.032847715438936526, 0.032847715438936526, 0.6018729599717493, 0.032847715438936526, 0.032847715438936526, 0.032847715438936526, 0.6018729599717493, 0.032847715438936526, -0.2772339477955433, 0.5303156530714849, -0.2772339477955433, 0.24236982013577466, -0.16140498029773925, -0.7304302248305521, 0.6018729599717493, 0.6018729599717493, 0.032847715438936526, 0.032847715438936526, 0.6018729599717493, 0.6018729599717493, 0.6018729599717493, 0.032847715438936526, -0.5413273450978318, -0.5413273450978318, 0.6018729599717493, 0.8863855822381556, 0.6018729599717493, -0.018290366497210102, -0.44591760256414564, -0.13755254466431777, -0.16140498029773925, -0.2772339477955433, -0.16140498029773925, 0.6018729599717493, -0.2772339477955433, -0.16140498029773925, 0.5541680887049064, 0.6018729599717493, -0.5413273450978318, -0.16140498029773925, -0.2772339477955433, 0.6018729599717493, 0.032847715438936526, 0.3173603377053429, -0.16140498029773925, 0.6018729599717493, 0.5541680887049064, -0.2772339477955433, 0.6018729599717493, 0.6018729599717493, 0.6018729599717493, 0.6018729599717493, 0.3173603377053429, -0.2772339477955433, -0.2772339477955433, -0.16140498029773925, 0.032847715438936526, 0.032847715438936526, 0.032847715438936526, -0.39821273129730267, -0.7304302248305521, 0.6018729599717493, 0.6018729599717493, -0.16140498029773925, 0.6018729599717493, 0.6018729599717493, -0.44591760256414564, -0.2772339477955433, -0.23296228719800383, -0.13755254466431777, 0.032847715438936526, -0.16140498029773925, 0.6018729599717493, 0.3173603377053429, -0.2772339477955433, 0.032847715438936526, -0.44591760256414564, -0.2772339477955433, 0.8863855822381556, 0.6018729599717493, 0.6018729599717493, 0.032847715438936526, -0.2772339477955433, 0.032847715438936526, 0.6018729599717493, -0.16140498029773925, -0.16140498029773925, 0.6018729599717506, 0.032847715438936526, -0.635020482296866, 0.2696554664384999, 0.032847715438936526, 0.5541680887049064, -0.22952907652870022, 0.3173603377053429, 0.3173603377053429, 0.6018729599717493, 0.6018729599717493, 0.032847715438936526, 0.6018729599717493, 0.032847715438936526, 0.6018729599717493, 0.14867668293674044, -0.16140498029773925, 0.6018729599717493, 0.3173603377053429, -0.22952907652870022, 0.032847715438936526, 0.6018729599717493, 0.3173603377053429, 0.3173603377053429, 0.5047466121034113, 0.5047466121034113, -0.7304302248305521, 0.8863855822381556, 0.6018729599717493, 0.3173603377053429, -0.4220651669307241, 0.6018729599717493, 0.6018729599717493, 0.5047466121034113, 0.6018729599717493, -0.22952907652870022, 0.1503932882713924, 0.3173603377053429, 0.6018729599717493, 0.6018729599717493, 0.6018729599717493, 0.6018729599717493, 0.6018729599717493, -0.22952907652870022, 0.3173603377053429, 0.6018729599717493, 0.4331893052031468, 0.3173603377053429, 0.48261078180464173, -0.3726436903292294, 0.17252911857016204, 0.3173603377053429, 0.3173603377053429, -0.22952907652870022, 0.6018729599717493, -0.15968837496308758, 0.032847715438936526, 0.12482424730331894, -0.15968837496308758, 0.032847715438936526, -0.15968837496308758, 0.48261078180464173, 0.576303919003676, -0.16140498029773925, 0.6018729599717493, 0.6018729599717493, 0.2696554664384999, -0.01485715582790636, 0.6018729599717493, -0.16140498029773925, -0.16140498029773925, -0.22952907652870022, -0.16140498029773925, -0.3726436903292294, -0.7781350960973951, 0.032847715438936526, -0.16140498029773925, -0.16140498029773925, 0.21851738450235317, -0.15968837496308758, 0.6018729599717493, 0.6938494918361315, 0.6018729599717493, 0.032847715438936526, -0.3726436903292294, 0.6018729599717493, 0.6018729599717493, -0.11198350369624448, 0.6018729599717493, 0.8386807109713127, 0.7432709684376264, -0.15968837496308758, -0.04042619679598001, -0.15968837496308758, -0.16140498029773925, -0.15968837496308758, 0.5541680887049064, 0.032847715438936526, -0.16140498029773925, -0.3726436903292294, -0.22952907652870022, -0.16140498029773925, -0.44591760256414564, -0.08813106806282288, -0.16140498029773925, 0.6018729599717493, 0.032847715438936526, -0.5651797807312533, -0.4220651669307241, 0.6018729599717493, -0.16140498029773925, 0.3139271270360393, 0.12310764196866705, 0.032847715438936526, 0.5780205243383277, 0.032847715438936526, -0.15968837496308758, -0.3726436903292294, 0.032847715438936526, 0.3173603377053429, -0.15968837496308758, 0.05326694040305446, -0.44591760256414564, -0.11370010903089624, 0.032847715438936526, 0.1469600776020886, 0.032847715438936526, 0.1503932882713924, 0.032847715438936526, 0.032847715438936526, 0.032847715438936526, 0.6018729599717493, 0.6018729599717493, 0.6018729599717493, -0.15968837496308758, 0.032847715438936526, -0.3726436903292294, 0.8386807109713127, 0.032847715438936526, 0.07711937603647596, 0.032847715438936526, -0.22952907652870022, 0.6938494918361315, 0.032847715438936526, 0.8863855822381556, -0.44591760256414564, 0.032847715438936526, 0.8386807109713127, 0.12310764196866705, -0.15968837496308758, 0.032847715438936526, -0.7304302248305521, -0.16140498029773925, -0.16140498029773925, 0.5541680887049064, -0.16140498029773925, 0.032847715438936526, 0.12310764196866705, 0.032847715438936526, 0.032847715438936526, 0.032847715438936526, -0.16140498029773925, -0.15968837496308758, 0.6018729599717493, 0.6018729599717493, 0.6018729599717493, 0.6018729599717493, 0.032847715438936526, 0.4331893052031468, 0.6018729599717493, 0.5541680887049064, 0.6018729599717493, 0.032847715438936526, 0.5541680887049064, -0.16140498029773925, -0.15968837496308758, 0.6018729599717493, -0.16140498029773925, 0.6018729599717493, 0.8386807109713127, 0.6018729599717493, -0.7304302248305521, 0.6018729599717493, -0.16140498029773925, 0.3173603377053429, 0.2696554664384999, -0.44591760256414564, 0.6018729599717493, 0.6018729599717493, 0.6018729599717493, 0.6018729599717493, -0.5413273450978318, 0.3173603377053429, 0.6018729599717493, 0.6018729599717493, -0.16140498029773925, 0.8863855822381556, 0.6018729599717493, 0.12482424730331894, 0.2696554664384999, 0.6018729599717493, 0.3173603377053429, -0.15968837496308758, 0.032847715438936526, -0.2568147228314253, -0.4220651669307241, 0.6018729599717493, 0.6018729599717493, 0.3173603377053429, 0.8863855822381556, -0.16140498029773925, 0.032847715438936526, -0.15968837496308758, 0.6018729599717493, 0.6018729599717493, -0.16140498029773925, -0.04214280213063165, -0.7304302248305521, 0.5541680887049064, 0.6018729599717493, 0.3173603377053429, 0.032847715438936526, 0.6018729599717493, -0.16140498029773925, 0.3173603377053429, 0.032847715438936526, 0.5541680887049064, 0.6018729599717493, 0.032847715438936526, 0.3173603377053429, 0.6018729599717493, 0.6018729599717493, 0.032847715438936526, 0.5047466121034113, 0.4331893052031468, 0.6018729599717493, -0.16140498029773925, 0.6018729599717493, -0.15968837496308758, 0.3173603377053429, 0.4110534749043772, 0.6018729599717493, -0.16140498029773925, -0.15968837496308758, 0.12310764196866705, 1.170898204504562, -0.16140498029773925, 0.032847715438936526, 0.2219505951716569, 0.6018729599717493, -0.16140498029773925, 0.032847715438936526, -0.16140498029773925, 0.12310764196866705, -0.16140498029773925, 0.6018729599717493, -0.6827253535637091, -0.16140498029773925, -0.7304302248305521, -0.13755254466431777, 0.6018729599717493, -0.44591760256414564, 0.032847715438936526, 0.032847715438936526, -0.16140498029773925, 0.3173603377053429, 0.6018729599717493, 0.6018729599717493, 0.032847715438936526, 0.6018729599717493, 0.5541680887049064, 0.3633486036375341, 0.6018729599717493, 0.6018729599717493], \"xaxis\": \"x\", \"y\": [-0.5761372477492065, -0.387034368016482, -0.4108868036499033, 0.22969574778317958, -0.5761372477492065, -0.8180948147527103, -0.22178392391717877, -0.387034368016482, -0.4108868036499033, -1.1503123082859623, -0.5761372477492065, -1.1503123082859623, -0.387034368016482, -1.1503123082859623, -0.387034368016482, -0.387034368016482, -1.1503123082859623, -0.10423835108471795, -0.5761372477492065, -1.1503123082859623, -0.387034368016482, -1.1503123082859623, -0.5761372477492065, -0.581287063753143, -0.5761372477492065, -0.387034368016482, -0.5318655871516551, -1.1503123082859623, -1.7193375528187813, -1.7193375528187813, -1.1503123082859623, -1.1503123082859623, -0.8657996860195527, -1.7193375528187813, -1.1503123082859623, -1.1503123082859623, -0.5761372477492065, -0.9560596125493013, -0.387034368016482, -0.22178392391717877, -0.387034368016482, -1.1503123082859623, -0.5761372477492065, -1.1503123082859623, -1.1503123082859623, -1.7193375528187813, -0.8163782094180646, -1.1503123082859623, -0.5761372477492065, -1.10260743701912, -0.387034368016482, -1.1503123082859623, -1.1503123082859623, -1.1503123082859623, -0.8180948147527103, -0.8180948147527103, -0.8657996860195527, -1.1503123082859623, -1.1503123082859623, -1.1503123082859623, -1.1503123082859623, -0.387034368016482, -1.1503123082859623, -1.1503123082859623, -0.387034368016482, -1.1503123082859623, -0.9560596125493013, -0.9560596125493013, -1.7193375528187813, -0.5761372477492065, -1.1503123082859623, -1.1503123082859623, -1.7193375528187813, -1.1503123082859623, -1.1503123082859623, -1.1503123082859623, -1.1503123082859623, -0.387034368016482, -1.7193375528187813, -1.1503123082859623, -0.8657996860195527, -1.7193375528187813, -0.45859167491674574, -0.387034368016482, -0.9560596125493013, -1.10260743701912, -1.409255889584305, -1.409255889584305, -0.9560596125493013, -1.7193375528187813, -1.7193375528187813, -0.4841607158848125, -0.5335821924863007, -1.1503123082859623, -1.1503123082859623, -1.409255889584305, -0.8657996860195527, -1.3376985826840413, -0.836797434382195, -1.1503123082859623, -1.4348249305523717, -1.7193375528187813, -1.10260743701912, -1.0054810891507893, -0.6715469902828917, -1.1503123082859623, -0.9560596125493013, -1.409255889584305, -1.409255889584305, -1.10260743701912, -1.3871200592855295, -0.4841607158848125, -1.10260743701912, -0.8657996860195527, -1.1503123082859623, -0.387034368016482, -1.4348249305523717, -0.4841607158848125, -1.7193375528187813, -1.409255889584305, -1.1503123082859623, -1.1503123082859623, -1.10260743701912, -0.8657996860195527, -0.387034368016482, -0.387034368016482, -0.4841607158848125, -1.1026074370191197, -0.8180948147527103, -0.8180948147527103, -0.8180948147527103, -1.7193375528187813, -0.4841607158848125, -0.26948879518402125, -0.4108868036499033, -0.6715469902828917, -1.1503123082859623, -1.4348249305523717, -1.409255889584305, -1.10260743701912, -1.409255889584305, -1.1503123082859623, -0.387034368016482, -0.4841607158848125, -1.7193375528187813, -1.7193375528187813, -1.1503123082859623, -1.7193375528187813, -1.7193375528187813, -1.7193375528187813, -1.1503123082859623, -1.7193375528187813, -1.409255889584305, -1.0787550013856986, -1.409255889584305, -0.22178392391717877, -0.387034368016482, -0.9560596125493013, -1.1503123082859623, -1.1503123082859623, -1.7193375528187813, -1.7193375528187813, -1.1503123082859623, -1.1503123082859623, -1.1503123082859623, -1.7193375528187813, -0.5761372477492065, -0.5761372477492065, -1.1503123082859623, -0.8657996860195527, -1.1503123082859623, -0.5301489818170095, -0.6715469902828917, -0.4108868036499033, -0.387034368016482, -1.409255889584305, -0.387034368016482, -1.1503123082859623, -1.409255889584305, -0.387034368016482, -1.10260743701912, -1.1503123082859623, -0.5761372477492065, -0.387034368016482, -1.409255889584305, -1.1503123082859623, -1.7193375528187813, -1.4348249305523717, -0.387034368016482, -1.1503123082859623, -1.10260743701912, -1.409255889584305, -1.1503123082859623, -1.1503123082859623, -1.1503123082859623, -1.1503123082859623, -1.4348249305523717, -1.409255889584305, -1.409255889584305, -0.387034368016482, -1.7193375528187813, -1.7193375528187813, -1.7193375528187813, -0.7192518615497342, -0.9560596125493013, -1.1503123082859623, -1.1503123082859623, -0.387034368016482, -1.1503123082859623, -1.1503123082859623, -0.6715469902828917, -1.409255889584305, -0.31547706111621826, -0.4108868036499033, -1.7193375528187813, -0.387034368016482, -1.1503123082859623, -1.4348249305523717, -1.409255889584305, -1.7193375528187813, -0.6715469902828917, -1.409255889584305, -0.8657996860195527, -1.1503123082859623, -1.1503123082859623, -1.7193375528187813, -1.409255889584305, -1.7193375528187813, -1.1503123082859623, -0.387034368016482, -0.387034368016482, -1.1503123082859614, -1.7193375528187813, -1.0514693550829863, -1.3871200592855295, -1.7193375528187813, -1.10260743701912, -1.4569607608511477, -1.4348249305523717, -1.4348249305523717, -1.1503123082859623, -1.1503123082859623, -1.7193375528187813, -1.1503123082859623, -1.7193375528187813, -1.1503123082859623, -0.6971160312509583, -0.387034368016482, -1.1503123082859623, -1.4348249305523717, -1.4569607608511477, -1.7193375528187813, -1.1503123082859623, -1.4348249305523717, -1.4348249305523717, -0.4841607158848125, -0.4841607158848125, -0.9560596125493013, -0.8657996860195527, -1.1503123082859623, -1.4348249305523717, -0.6953994259163129, -1.1503123082859623, -1.1503123082859623, -0.4841607158848125, -1.1503123082859623, -1.4569607608511477, -1.267857881118423, -1.4348249305523717, -1.1503123082859623, -1.1503123082859623, -1.1503123082859623, -1.1503123082859623, -1.1503123082859623, -1.4569607608511477, -1.4348249305523717, -1.1503123082859623, -0.41260340898454884, -1.4348249305523717, -1.031050130118856, -1.3138461470506202, -0.7209684668843797, -1.4348249305523717, -1.4348249305523717, -1.4569607608511477, -1.1503123082859623, -0.9577762178839467, -1.7193375528187813, -0.673263595617537, -0.9577762178839467, -1.7193375528187813, -0.9577762178839467, -1.031050130118856, -0.5557180227850763, -0.387034368016482, -1.1503123082859623, -1.1503123082859623, -1.3871200592855295, -1.6716326815519391, -1.1503123082859623, -0.387034368016482, -0.387034368016482, -1.4569607608511477, -0.387034368016482, -1.3138461470506202, -0.9083547412824586, -1.7193375528187813, -0.387034368016482, -0.387034368016482, -0.19793148828375756, -0.9577762178839467, -1.1503123082859623, -0.10423835108471795, -1.1503123082859623, -1.7193375528187813, -1.3138461470506202, -1.1503123082859623, -1.1503123082859623, -1.0054810891507893, -1.1503123082859623, -0.8180948147527103, -0.722685072219025, -0.9577762178839467, -1.077038396051053, -0.9577762178839467, -0.387034368016482, -0.9577762178839467, -1.10260743701912, -1.7193375528187813, -0.387034368016482, -1.3138461470506202, -1.4569607608511477, -0.387034368016482, -0.6715469902828917, -1.0293335247842104, -0.387034368016482, -1.1503123082859623, -1.7193375528187813, -0.5522848121157855, -0.6953994259163129, -1.1503123082859623, -0.387034368016482, -0.2933412308174426, -0.10252174575007249, -1.7193375528187813, -1.126459872652541, -1.7193375528187813, -0.9577762178839467, -1.3138461470506202, -1.7193375528187813, -1.4348249305523717, -0.9577762178839467, -0.6017062887172734, -0.6715469902828917, -0.4347392392833246, -1.7193375528187813, -0.12637418138349377, -1.7193375528187813, -1.267857881118423, -1.7193375528187813, -1.7193375528187813, -1.7193375528187813, -1.1503123082859623, -1.1503123082859623, -1.1503123082859623, -0.9577762178839467, -1.7193375528187813, -1.3138461470506202, -0.8180948147527103, -1.7193375528187813, -0.6255587243506946, -1.7193375528187813, -1.4569607608511477, -0.10423835108471795, -1.7193375528187813, -0.8657996860195527, -0.6715469902828917, -1.7193375528187813, -0.8180948147527103, -0.10252174575007249, -0.9577762178839467, -1.7193375528187813, -0.9560596125493013, -0.387034368016482, -0.387034368016482, -1.10260743701912, -0.387034368016482, -1.7193375528187813, -0.10252174575007249, -1.7193375528187813, -1.7193375528187813, -1.7193375528187813, -0.387034368016482, -0.9577762178839467, -1.1503123082859623, -1.1503123082859623, -1.1503123082859623, -1.1503123082859623, -1.7193375528187813, -0.41260340898454884, -1.1503123082859623, -1.10260743701912, -1.1503123082859623, -1.7193375528187813, -1.10260743701912, -0.387034368016482, -0.9577762178839467, -1.1503123082859623, -0.387034368016482, -1.1503123082859623, -0.8180948147527103, -1.1503123082859623, -0.9560596125493013, -1.1503123082859623, -0.387034368016482, -1.4348249305523717, -1.3871200592855295, -0.6715469902828917, -1.1503123082859623, -1.1503123082859623, -1.1503123082859623, -1.1503123082859623, -0.5761372477492065, -1.4348249305523717, -1.1503123082859623, -1.1503123082859623, -0.387034368016482, -0.8657996860195527, -1.1503123082859623, -0.673263595617537, -1.3871200592855295, -1.1503123082859623, -1.4348249305523717, -0.9577762178839467, -1.7193375528187813, -0.291624625482797, -0.6953994259163129, -1.1503123082859623, -1.1503123082859623, -1.4348249305523717, -0.8657996860195527, -0.387034368016482, -1.7193375528187813, -0.9577762178839467, -1.1503123082859623, -1.1503123082859623, -0.387034368016482, -0.5062965461835883, -0.9560596125493013, -1.10260743701912, -1.1503123082859623, -1.4348249305523717, -1.7193375528187813, -1.1503123082859623, -0.387034368016482, -1.4348249305523717, -1.7193375528187813, -1.10260743701912, -1.1503123082859623, -1.7193375528187813, -1.4348249305523717, -1.1503123082859623, -1.1503123082859623, -1.7193375528187813, -0.4841607158848125, -0.41260340898454884, -1.1503123082859623, -0.387034368016482, -1.1503123082859623, -0.9577762178839467, -1.4348249305523717, -0.9594928232185922, -1.1503123082859623, -0.387034368016482, -0.9577762178839467, -0.10252174575007249, -0.581287063753143, -0.387034368016482, -1.7193375528187813, -1.3394151880186866, -1.1503123082859623, -0.387034368016482, -1.7193375528187813, -0.387034368016482, -0.10252174575007249, -0.387034368016482, -1.1503123082859623, -1.003764483816144, -0.387034368016482, -0.9560596125493013, -0.4108868036499033, -1.1503123082859623, -0.6715469902828917, -1.7193375528187813, -1.7193375528187813, -0.387034368016482, -1.4348249305523717, -1.1503123082859623, -1.1503123082859623, -1.7193375528187813, -1.1503123082859623, -1.10260743701912, -0.9117879519517497, -1.1503123082859623, -1.1503123082859623], \"yaxis\": \"y\"}, {\"customdata\": [[70.0], [53.0], [44.0], [44.0], [60.0], [60.0], [53.0], [61.0], [27.0], [66.0], [26.0], [54.0], [26.0], [70.0], [7.0], [47.0], [44.0], [26.0], [44.0], [44.0], [44.0], [50.0], [44.0], [70.0], [66.0], [60.0], [58.0], [62.0], [33.0], [44.0], [44.0], [7.0], [26.0], [14.0], [44.0], [52.0], [66.0], [46.0], [45.0], [33.0], [31.0], [44.0], [44.0], [44.0], [68.0], [68.0], [66.0], [34.0], [44.0], [36.0], [65.0], [50.0], [44.0], [62.0], [28.0], [66.0], [10.0], [44.0], [44.0], [63.0], [66.0], [63.0], [42.0], [53.0], [31.0], [48.0], [9.0], [46.0], [14.0], [46.0], [10.0], [26.0], [44.0], [53.0], [67.0], [44.0], [37.0], [53.0], [61.0], [44.0], [52.0], [68.0], [31.0], [64.0], [64.0], [44.0], [26.0], [20.0], [31.0], [72.0], [26.0], [31.0], [64.0], [44.0], [44.0], [16.0], [68.0], [64.0], [44.0], [44.0], [58.0], [64.0], [64.0], [19.0], [61.0], [67.0], [0.0], [13.0], [68.0], [52.0], [10.0], [44.0], [31.0], [61.0], [31.0], [44.0], [44.0], [64.0], [31.0], [64.0], [54.0], [64.0], [54.0], [64.0], [26.0], [7.0], [14.0], [26.0], [66.0], [54.0], [64.0], [58.0], [44.0], [63.0]], \"hovertemplate\": \"Cluster=Cluster 3<br>PCA1=%{x}<br>PCA2=%{y}<br>Feature=%{customdata[0]}<extra></extra>\", \"legendgroup\": \"Cluster 3\", \"marker\": {\"color\": \"#ab63fa\", \"opacity\": 0.5, \"symbol\": \"circle\"}, \"mode\": \"markers\", \"name\": \"Cluster 3\", \"showlegend\": true, \"textposition\": \"top center\", \"type\": \"scattergl\", \"x\": [0.5490182727009506, 0.7125521114655975, 0.49788019076480394, -0.07114505376800895, 0.5950065386331418, 1.4485444054323606, 0.7125521114655975, 0.33434635200015683, 0.6614140295294509, 1.5916590192328897, 0.06853634936321659, 0.4518919248326125, 0.06853634936321659, 0.5490182727009506, -0.6691725499381992, 1.1384627421978812, 0.49788019076480394, -0.5004888951695962, 1.0669054352976164, 0.49788019076480394, 0.49788019076480394, 0.07196956003252025, 0.49788019076480394, 0.5490182727009506, 0.7381211524336709, 0.31049391636673535, 1.4008395341655175, 1.2117366544327979, -0.33352184573564553, 1.0669054352976164, -0.07114505376800895, -0.38465992767179297, 0.06853634936321659, -0.7867181227706546, 1.0669054352976164, 0.11967443129936318, 1.5916590192328897, -0.023440182501165828, 0.8062452486646317, 0.2355033987971674, 0.18779852753032425, -0.07114505376800895, 0.49788019076480394, -0.07114505376800895, 0.5013134014341074, 0.5013134014341074, 1.5916590192328897, -0.30966941010222415, 0.49788019076480394, 0.3070607056974317, 0.42975609453384284, 0.07196956003252025, 0.49788019076480394, 0.35819878763357843, 0.6852664651628723, 0.4536085301672645, -0.5976152430379342, 0.49788019076480394, 0.49788019076480394, 0.382051223267, 1.5916590192328897, 0.382051223267, 1.0192005640307735, 0.7125521114655975, -0.38122671700248856, 0.024264688765677198, -0.3369550564049497, -0.023440182501165828, 0.066819744028565, -0.023440182501165828, -0.31310262077152795, -0.5004888951695962, 0.49788019076480394, 0.7125521114655975, 1.6155114548663114, -0.07114505376800895, -0.23811210320195958, 0.7125521114655975, 0.6188589742665633, 0.49788019076480394, 0.4041870535657694, 0.5013134014341074, -0.09671409473608221, 0.9749289034332344, 0.9749289034332344, 0.2133675684983975, 0.06853634936321659, -0.35909088670371897, 0.47231114979673067, 0.5967231439677936, 0.353048971629623, 0.47231114979673067, 0.9749289034332344, 1.0669054352976164, 0.49788019076480394, 0.39903723756181375, 0.5013134014341074, 0.9749289034332344, 0.2133675684983975, -0.07114505376800895, 1.4008395341655175, 0.9749289034332344, 0.9749289034332344, -0.09843070007073414, 1.4723968410657824, 1.0464862103334989, 0.01739826742706934, -0.5260579361376697, 0.5013134014341074, 0.4041870535657694, -0.5976152430379342, 0.49788019076480394, -0.38122671700248856, 0.6188589742665633, -0.38122671700248856, 0.2133675684983975, 0.49788019076480394, 0.9749289034332344, 0.18779852753032425, 0.9749289034332344, 0.4518919248326125, 0.9749289034332344, 0.4518919248326125, 1.5439541479660468, 0.06853634936321659, -0.38465992767179297, -0.21769287823784167, -0.5004888951695962, 1.5916590192328897, 0.4518919248326125, 0.9749289034332344, 0.5473016673662985, -0.07114505376800895, 0.382051223267], \"xaxis\": \"x\", \"y\": [0.6096181125832741, 1.5841347628842544, 1.7988066835850458, 1.2297814390522266, 1.1326550911838962, 1.986192957983125, 1.5841347628842544, 0.8242900332840654, 2.773323333886027, 1.843078344182597, 2.2281505249866282, 1.2757697049844237, 2.2281505249866282, 0.6096181125832741, 2.3968341797552224, 2.2962746212176013, 1.7988066835850458, 1.6591252804538092, 2.3678319281178646, 1.7988066835850458, 1.7988066835850458, 1.0866668252516993, 1.7988066835850458, 0.6096181125832741, 0.9895404773833688, 0.8481424689174866, 2.0338978292499674, 1.6539754644498732, 1.4921582310198604, 2.3678319281178646, 1.2297814390522266, 2.6813468020216322, 2.2281505249866282, 1.9453545080548644, 2.3678319281178646, 1.0389619539848567, 1.843078344182597, 1.1820765677853842, 2.059466870218034, 2.0611834755526797, 2.1088883468195223, 1.2297814390522266, 1.7988066835850458, 1.2297814390522266, 0.6573229838501166, 0.6573229838501166, 1.843078344182597, 1.4683057953864396, 1.7988066835850458, 1.989626168652416, 0.7288802907503802, 1.0866668252516993, 1.7988066835850458, 0.8004375976506442, 2.749470898252605, 0.7050278551169591, 2.3252768728549595, 1.7988066835850458, 1.7988066835850458, 0.7765851620172229, 1.843078344182597, 0.7765851620172229, 2.4155367993847072, 1.5841347628842544, 1.539863102286703, 1.1343716965185418, 2.63364193075479, 1.1820765677853842, 2.7988923748540935, 1.1820765677853842, 2.609789495121369, 1.6591252804538092, 1.7988066835850458, 1.5841347628842544, 1.819225908549176, 1.2297814390522266, 1.3967484884861754, 1.5841347628842544, 1.108802655550475, 1.7988066835850458, 1.323474576251266, 0.6573229838501166, 1.8243757245531127, 1.321757970916621, 1.321757970916621, 1.5142940613186364, 2.2281505249866282, 2.086752516520747, 2.3934009690859317, 0.5619132413164316, 2.5126631472530376, 2.3934009690859317, 1.321757970916621, 2.3678319281178646, 1.7988066835850458, 3.03570012585366, 0.6573229838501166, 1.321757970916621, 1.5142940613186364, 1.2297814390522266, 2.0338978292499674, 1.321757970916621, 1.321757970916621, 2.3951175744205777, 1.9623405223497037, 1.2502006640163572, 3.417339095988401, 2.2537195659546954, 0.6573229838501166, 1.323474576251266, 2.3252768728549595, 1.7988066835850458, 1.539863102286703, 1.108802655550475, 1.539863102286703, 1.5142940613186364, 1.7988066835850458, 1.321757970916621, 2.1088883468195223, 1.321757970916621, 1.2757697049844237, 1.321757970916621, 1.2757697049844237, 1.89078321544944, 2.2281505249866282, 2.6813468020216322, 2.5143797525876836, 1.6591252804538092, 1.843078344182597, 1.2757697049844237, 1.321757970916621, 1.1803599624507386, 1.2297814390522266, 0.7765851620172229], \"yaxis\": \"y\"}],\n",
       "                        {\"height\": 600, \"legend\": {\"title\": {\"text\": \"Cluster\"}, \"tracegroupgap\": 0}, \"margin\": {\"t\": 60}, \"plot_bgcolor\": \"rgb(240,240,240)\", \"template\": {\"data\": {\"bar\": [{\"error_x\": {\"color\": \"#2a3f5f\"}, \"error_y\": {\"color\": \"#2a3f5f\"}, \"marker\": {\"line\": {\"color\": \"#E5ECF6\", \"width\": 0.5}}, \"type\": \"bar\"}], \"barpolar\": [{\"marker\": {\"line\": {\"color\": \"#E5ECF6\", \"width\": 0.5}}, \"type\": \"barpolar\"}], \"carpet\": [{\"aaxis\": {\"endlinecolor\": \"#2a3f5f\", \"gridcolor\": \"white\", \"linecolor\": \"white\", \"minorgridcolor\": \"white\", \"startlinecolor\": \"#2a3f5f\"}, \"baxis\": {\"endlinecolor\": \"#2a3f5f\", \"gridcolor\": \"white\", \"linecolor\": \"white\", \"minorgridcolor\": \"white\", \"startlinecolor\": \"#2a3f5f\"}, \"type\": \"carpet\"}], \"choropleth\": [{\"colorbar\": {\"outlinewidth\": 0, \"ticks\": \"\"}, \"type\": \"choropleth\"}], \"contour\": [{\"colorbar\": {\"outlinewidth\": 0, \"ticks\": \"\"}, \"colorscale\": [[0.0, \"#0d0887\"], [0.1111111111111111, \"#46039f\"], [0.2222222222222222, \"#7201a8\"], [0.3333333333333333, \"#9c179e\"], [0.4444444444444444, \"#bd3786\"], [0.5555555555555556, \"#d8576b\"], [0.6666666666666666, \"#ed7953\"], [0.7777777777777778, \"#fb9f3a\"], [0.8888888888888888, \"#fdca26\"], [1.0, \"#f0f921\"]], \"type\": \"contour\"}], \"contourcarpet\": [{\"colorbar\": {\"outlinewidth\": 0, \"ticks\": \"\"}, \"type\": \"contourcarpet\"}], \"heatmap\": [{\"colorbar\": {\"outlinewidth\": 0, \"ticks\": \"\"}, \"colorscale\": [[0.0, \"#0d0887\"], [0.1111111111111111, \"#46039f\"], [0.2222222222222222, \"#7201a8\"], [0.3333333333333333, \"#9c179e\"], [0.4444444444444444, \"#bd3786\"], [0.5555555555555556, \"#d8576b\"], [0.6666666666666666, \"#ed7953\"], [0.7777777777777778, \"#fb9f3a\"], [0.8888888888888888, \"#fdca26\"], [1.0, \"#f0f921\"]], \"type\": \"heatmap\"}], \"heatmapgl\": [{\"colorbar\": {\"outlinewidth\": 0, \"ticks\": \"\"}, \"colorscale\": [[0.0, \"#0d0887\"], [0.1111111111111111, \"#46039f\"], [0.2222222222222222, \"#7201a8\"], [0.3333333333333333, \"#9c179e\"], [0.4444444444444444, \"#bd3786\"], [0.5555555555555556, \"#d8576b\"], [0.6666666666666666, \"#ed7953\"], [0.7777777777777778, \"#fb9f3a\"], [0.8888888888888888, \"#fdca26\"], [1.0, \"#f0f921\"]], \"type\": \"heatmapgl\"}], \"histogram\": [{\"marker\": {\"colorbar\": {\"outlinewidth\": 0, \"ticks\": \"\"}}, \"type\": \"histogram\"}], \"histogram2d\": [{\"colorbar\": {\"outlinewidth\": 0, \"ticks\": \"\"}, \"colorscale\": [[0.0, \"#0d0887\"], [0.1111111111111111, \"#46039f\"], [0.2222222222222222, \"#7201a8\"], [0.3333333333333333, \"#9c179e\"], [0.4444444444444444, \"#bd3786\"], [0.5555555555555556, \"#d8576b\"], [0.6666666666666666, \"#ed7953\"], [0.7777777777777778, \"#fb9f3a\"], [0.8888888888888888, \"#fdca26\"], [1.0, \"#f0f921\"]], \"type\": \"histogram2d\"}], \"histogram2dcontour\": [{\"colorbar\": {\"outlinewidth\": 0, \"ticks\": \"\"}, \"colorscale\": [[0.0, \"#0d0887\"], [0.1111111111111111, \"#46039f\"], [0.2222222222222222, \"#7201a8\"], [0.3333333333333333, \"#9c179e\"], [0.4444444444444444, \"#bd3786\"], [0.5555555555555556, \"#d8576b\"], [0.6666666666666666, \"#ed7953\"], [0.7777777777777778, \"#fb9f3a\"], [0.8888888888888888, \"#fdca26\"], [1.0, \"#f0f921\"]], \"type\": \"histogram2dcontour\"}], \"mesh3d\": [{\"colorbar\": {\"outlinewidth\": 0, \"ticks\": \"\"}, \"type\": \"mesh3d\"}], \"parcoords\": [{\"line\": {\"colorbar\": {\"outlinewidth\": 0, \"ticks\": \"\"}}, \"type\": \"parcoords\"}], \"pie\": [{\"automargin\": true, \"type\": \"pie\"}], \"scatter\": [{\"marker\": {\"colorbar\": {\"outlinewidth\": 0, \"ticks\": \"\"}}, \"type\": \"scatter\"}], \"scatter3d\": [{\"line\": {\"colorbar\": {\"outlinewidth\": 0, \"ticks\": \"\"}}, \"marker\": {\"colorbar\": {\"outlinewidth\": 0, \"ticks\": \"\"}}, \"type\": \"scatter3d\"}], \"scattercarpet\": [{\"marker\": {\"colorbar\": {\"outlinewidth\": 0, \"ticks\": \"\"}}, \"type\": \"scattercarpet\"}], \"scattergeo\": [{\"marker\": {\"colorbar\": {\"outlinewidth\": 0, \"ticks\": \"\"}}, \"type\": \"scattergeo\"}], \"scattergl\": [{\"marker\": {\"colorbar\": {\"outlinewidth\": 0, \"ticks\": \"\"}}, \"type\": \"scattergl\"}], \"scattermapbox\": [{\"marker\": {\"colorbar\": {\"outlinewidth\": 0, \"ticks\": \"\"}}, \"type\": \"scattermapbox\"}], \"scatterpolar\": [{\"marker\": {\"colorbar\": {\"outlinewidth\": 0, \"ticks\": \"\"}}, \"type\": \"scatterpolar\"}], \"scatterpolargl\": [{\"marker\": {\"colorbar\": {\"outlinewidth\": 0, \"ticks\": \"\"}}, \"type\": \"scatterpolargl\"}], \"scatterternary\": [{\"marker\": {\"colorbar\": {\"outlinewidth\": 0, \"ticks\": \"\"}}, \"type\": \"scatterternary\"}], \"surface\": [{\"colorbar\": {\"outlinewidth\": 0, \"ticks\": \"\"}, \"colorscale\": [[0.0, \"#0d0887\"], [0.1111111111111111, \"#46039f\"], [0.2222222222222222, \"#7201a8\"], [0.3333333333333333, \"#9c179e\"], [0.4444444444444444, \"#bd3786\"], [0.5555555555555556, \"#d8576b\"], [0.6666666666666666, \"#ed7953\"], [0.7777777777777778, \"#fb9f3a\"], [0.8888888888888888, \"#fdca26\"], [1.0, \"#f0f921\"]], \"type\": \"surface\"}], \"table\": [{\"cells\": {\"fill\": {\"color\": \"#EBF0F8\"}, \"line\": {\"color\": \"white\"}}, \"header\": {\"fill\": {\"color\": \"#C8D4E3\"}, \"line\": {\"color\": \"white\"}}, \"type\": \"table\"}]}, \"layout\": {\"annotationdefaults\": {\"arrowcolor\": \"#2a3f5f\", \"arrowhead\": 0, \"arrowwidth\": 1}, \"coloraxis\": {\"colorbar\": {\"outlinewidth\": 0, \"ticks\": \"\"}}, \"colorscale\": {\"diverging\": [[0, \"#8e0152\"], [0.1, \"#c51b7d\"], [0.2, \"#de77ae\"], [0.3, \"#f1b6da\"], [0.4, \"#fde0ef\"], [0.5, \"#f7f7f7\"], [0.6, \"#e6f5d0\"], [0.7, \"#b8e186\"], [0.8, \"#7fbc41\"], [0.9, \"#4d9221\"], [1, \"#276419\"]], \"sequential\": [[0.0, \"#0d0887\"], [0.1111111111111111, \"#46039f\"], [0.2222222222222222, \"#7201a8\"], [0.3333333333333333, \"#9c179e\"], [0.4444444444444444, \"#bd3786\"], [0.5555555555555556, \"#d8576b\"], [0.6666666666666666, \"#ed7953\"], [0.7777777777777778, \"#fb9f3a\"], [0.8888888888888888, \"#fdca26\"], [1.0, \"#f0f921\"]], \"sequentialminus\": [[0.0, \"#0d0887\"], [0.1111111111111111, \"#46039f\"], [0.2222222222222222, \"#7201a8\"], [0.3333333333333333, \"#9c179e\"], [0.4444444444444444, \"#bd3786\"], [0.5555555555555556, \"#d8576b\"], [0.6666666666666666, \"#ed7953\"], [0.7777777777777778, \"#fb9f3a\"], [0.8888888888888888, \"#fdca26\"], [1.0, \"#f0f921\"]]}, \"colorway\": [\"#636efa\", \"#EF553B\", \"#00cc96\", \"#ab63fa\", \"#FFA15A\", \"#19d3f3\", \"#FF6692\", \"#B6E880\", \"#FF97FF\", \"#FECB52\"], \"font\": {\"color\": \"#2a3f5f\"}, \"geo\": {\"bgcolor\": \"white\", \"lakecolor\": \"white\", \"landcolor\": \"#E5ECF6\", \"showlakes\": true, \"showland\": true, \"subunitcolor\": \"white\"}, \"hoverlabel\": {\"align\": \"left\"}, \"hovermode\": \"closest\", \"mapbox\": {\"style\": \"light\"}, \"paper_bgcolor\": \"white\", \"plot_bgcolor\": \"#E5ECF6\", \"polar\": {\"angularaxis\": {\"gridcolor\": \"white\", \"linecolor\": \"white\", \"ticks\": \"\"}, \"bgcolor\": \"#E5ECF6\", \"radialaxis\": {\"gridcolor\": \"white\", \"linecolor\": \"white\", \"ticks\": \"\"}}, \"scene\": {\"xaxis\": {\"backgroundcolor\": \"#E5ECF6\", \"gridcolor\": \"white\", \"gridwidth\": 2, \"linecolor\": \"white\", \"showbackground\": true, \"ticks\": \"\", \"zerolinecolor\": \"white\"}, \"yaxis\": {\"backgroundcolor\": \"#E5ECF6\", \"gridcolor\": \"white\", \"gridwidth\": 2, \"linecolor\": \"white\", \"showbackground\": true, \"ticks\": \"\", \"zerolinecolor\": \"white\"}, \"zaxis\": {\"backgroundcolor\": \"#E5ECF6\", \"gridcolor\": \"white\", \"gridwidth\": 2, \"linecolor\": \"white\", \"showbackground\": true, \"ticks\": \"\", \"zerolinecolor\": \"white\"}}, \"shapedefaults\": {\"line\": {\"color\": \"#2a3f5f\"}}, \"ternary\": {\"aaxis\": {\"gridcolor\": \"white\", \"linecolor\": \"white\", \"ticks\": \"\"}, \"baxis\": {\"gridcolor\": \"white\", \"linecolor\": \"white\", \"ticks\": \"\"}, \"bgcolor\": \"#E5ECF6\", \"caxis\": {\"gridcolor\": \"white\", \"linecolor\": \"white\", \"ticks\": \"\"}}, \"title\": {\"x\": 0.05}, \"xaxis\": {\"automargin\": true, \"gridcolor\": \"white\", \"linecolor\": \"white\", \"ticks\": \"\", \"title\": {\"standoff\": 15}, \"zerolinecolor\": \"white\", \"zerolinewidth\": 2}, \"yaxis\": {\"automargin\": true, \"gridcolor\": \"white\", \"linecolor\": \"white\", \"ticks\": \"\", \"title\": {\"standoff\": 15}, \"zerolinecolor\": \"white\", \"zerolinewidth\": 2}}}, \"title\": {\"text\": \"2D Cluster PCA Plot\"}, \"xaxis\": {\"anchor\": \"y\", \"domain\": [0.0, 1.0], \"title\": {\"text\": \"PCA1\"}}, \"yaxis\": {\"anchor\": \"x\", \"domain\": [0.0, 1.0], \"title\": {\"text\": \"PCA2\"}}},\n",
       "                        {\"responsive\": true}\n",
       "                    ).then(function(){\n",
       "                            \n",
       "var gd = document.getElementById('dde34164-055b-4f57-a406-e916f96c867c');\n",
       "var x = new MutationObserver(function (mutations, observer) {{\n",
       "        var display = window.getComputedStyle(gd).display;\n",
       "        if (!display || display === 'none') {{\n",
       "            console.log([gd, 'removed!']);\n",
       "            Plotly.purge(gd);\n",
       "            observer.disconnect();\n",
       "        }}\n",
       "}});\n",
       "\n",
       "// Listen for the removal of the full notebook cells\n",
       "var notebookContainer = gd.closest('#notebook-container');\n",
       "if (notebookContainer) {{\n",
       "    x.observe(notebookContainer, {childList: true});\n",
       "}}\n",
       "\n",
       "// Listen for the clearing of the current output cell\n",
       "var outputEl = gd.closest('.output');\n",
       "if (outputEl) {{\n",
       "    x.observe(outputEl, {childList: true});\n",
       "}}\n",
       "\n",
       "                        })\n",
       "                };\n",
       "                });\n",
       "            </script>\n",
       "        </div>"
      ]
     },
     "metadata": {},
     "output_type": "display_data"
    }
   ],
   "source": [
    "plot_model(kmeans)"
   ]
  },
  {
   "cell_type": "code",
   "execution_count": 190,
   "metadata": {},
   "outputs": [
    {
     "data": {
      "text/html": [
       "        <script type=\"text/javascript\">\n",
       "        window.PlotlyConfig = {MathJaxConfig: 'local'};\n",
       "        if (window.MathJax) {MathJax.Hub.Config({SVG: {font: \"STIX-Web\"}});}\n",
       "        if (typeof require !== 'undefined') {\n",
       "        require.undef(\"plotly\");\n",
       "        requirejs.config({\n",
       "            paths: {\n",
       "                'plotly': ['https://cdn.plot.ly/plotly-latest.min']\n",
       "            }\n",
       "        });\n",
       "        require(['plotly'], function(Plotly) {\n",
       "            window._Plotly = Plotly;\n",
       "        });\n",
       "        }\n",
       "        </script>\n",
       "        "
      ]
     },
     "metadata": {},
     "output_type": "display_data"
    },
    {
     "data": {
      "image/png": "[encoded data removed]",
      "text/plain": [
       "<Figure size 576x396 with 1 Axes>"
      ]
     },
     "metadata": {},
     "output_type": "display_data"
    }
   ],
   "source": [
    "plot_model(kmeans, plot = 'elbow')"
   ]
  },
  {
   "cell_type": "code",
   "execution_count": 191,
   "metadata": {},
   "outputs": [
    {
     "data": {
      "text/html": [
       "        <script type=\"text/javascript\">\n",
       "        window.PlotlyConfig = {MathJaxConfig: 'local'};\n",
       "        if (window.MathJax) {MathJax.Hub.Config({SVG: {font: \"STIX-Web\"}});}\n",
       "        if (typeof require !== 'undefined') {\n",
       "        require.undef(\"plotly\");\n",
       "        requirejs.config({\n",
       "            paths: {\n",
       "                'plotly': ['https://cdn.plot.ly/plotly-latest.min']\n",
       "            }\n",
       "        });\n",
       "        require(['plotly'], function(Plotly) {\n",
       "            window._Plotly = Plotly;\n",
       "        });\n",
       "        }\n",
       "        </script>\n",
       "        "
      ]
     },
     "metadata": {},
     "output_type": "display_data"
    },
    {
     "data": {
      "image/png": "[encoded data removed]",
      "text/plain": [
       "<Figure size 576x396 with 1 Axes>"
      ]
     },
     "metadata": {},
     "output_type": "display_data"
    }
   ],
   "source": [
    "plot_model(kmeans, plot = 'silhouette')"
   ]
  },
  {
   "cell_type": "code",
   "execution_count": 192,
   "metadata": {},
   "outputs": [
    {
     "data": {
      "text/html": [
       "        <script type=\"text/javascript\">\n",
       "        window.PlotlyConfig = {MathJaxConfig: 'local'};\n",
       "        if (window.MathJax) {MathJax.Hub.Config({SVG: {font: \"STIX-Web\"}});}\n",
       "        if (typeof require !== 'undefined') {\n",
       "        require.undef(\"plotly\");\n",
       "        requirejs.config({\n",
       "            paths: {\n",
       "                'plotly': ['https://cdn.plot.ly/plotly-latest.min']\n",
       "            }\n",
       "        });\n",
       "        require(['plotly'], function(Plotly) {\n",
       "            window._Plotly = Plotly;\n",
       "        });\n",
       "        }\n",
       "        </script>\n",
       "        "
      ]
     },
     "metadata": {},
     "output_type": "display_data"
    },
    {
     "data": {
      "application/vnd.plotly.v1+json": {
       "config": {
        "plotlyServerURL": "https://plot.ly"
       },
       "data": [
        {
         "alignmentgroup": "True",
         "bingroup": "x",
         "hovertemplate": "Cluster=%{x}<br>count=%{y}<extra></extra>",
         "legendgroup": "Cluster 0",
         "marker": {
          "color": "#636efa",
          "opacity": 0.7
         },
         "name": "Cluster 0",
         "offsetgroup": "Cluster 0",
         "orientation": "v",
         "showlegend": true,
         "type": "histogram",
         "x": [
          "Cluster 0",
          "Cluster 0",
          "Cluster 0",
          "Cluster 0",
          "Cluster 0",
          "Cluster 0",
          "Cluster 0",
          "Cluster 0",
          "Cluster 0",
          "Cluster 0",
          "Cluster 0",
          "Cluster 0",
          "Cluster 0",
          "Cluster 0",
          "Cluster 0",
          "Cluster 0",
          "Cluster 0",
          "Cluster 0",
          "Cluster 0",
          "Cluster 0",
          "Cluster 0",
          "Cluster 0",
          "Cluster 0",
          "Cluster 0",
          "Cluster 0",
          "Cluster 0",
          "Cluster 0",
          "Cluster 0",
          "Cluster 0",
          "Cluster 0",
          "Cluster 0",
          "Cluster 0",
          "Cluster 0",
          "Cluster 0",
          "Cluster 0",
          "Cluster 0",
          "Cluster 0",
          "Cluster 0",
          "Cluster 0",
          "Cluster 0",
          "Cluster 0",
          "Cluster 0",
          "Cluster 0",
          "Cluster 0",
          "Cluster 0",
          "Cluster 0",
          "Cluster 0",
          "Cluster 0",
          "Cluster 0",
          "Cluster 0",
          "Cluster 0",
          "Cluster 0",
          "Cluster 0",
          "Cluster 0",
          "Cluster 0",
          "Cluster 0",
          "Cluster 0",
          "Cluster 0",
          "Cluster 0",
          "Cluster 0",
          "Cluster 0",
          "Cluster 0",
          "Cluster 0",
          "Cluster 0",
          "Cluster 0",
          "Cluster 0",
          "Cluster 0",
          "Cluster 0",
          "Cluster 0",
          "Cluster 0",
          "Cluster 0",
          "Cluster 0",
          "Cluster 0",
          "Cluster 0",
          "Cluster 0",
          "Cluster 0",
          "Cluster 0",
          "Cluster 0",
          "Cluster 0",
          "Cluster 0",
          "Cluster 0",
          "Cluster 0",
          "Cluster 0",
          "Cluster 0",
          "Cluster 0",
          "Cluster 0",
          "Cluster 0",
          "Cluster 0",
          "Cluster 0",
          "Cluster 0",
          "Cluster 0",
          "Cluster 0",
          "Cluster 0",
          "Cluster 0",
          "Cluster 0",
          "Cluster 0",
          "Cluster 0",
          "Cluster 0",
          "Cluster 0",
          "Cluster 0",
          "Cluster 0",
          "Cluster 0",
          "Cluster 0",
          "Cluster 0",
          "Cluster 0",
          "Cluster 0",
          "Cluster 0",
          "Cluster 0",
          "Cluster 0",
          "Cluster 0",
          "Cluster 0",
          "Cluster 0",
          "Cluster 0",
          "Cluster 0",
          "Cluster 0",
          "Cluster 0",
          "Cluster 0",
          "Cluster 0",
          "Cluster 0",
          "Cluster 0",
          "Cluster 0",
          "Cluster 0",
          "Cluster 0",
          "Cluster 0",
          "Cluster 0",
          "Cluster 0",
          "Cluster 0",
          "Cluster 0",
          "Cluster 0",
          "Cluster 0",
          "Cluster 0",
          "Cluster 0",
          "Cluster 0",
          "Cluster 0",
          "Cluster 0",
          "Cluster 0",
          "Cluster 0",
          "Cluster 0",
          "Cluster 0",
          "Cluster 0",
          "Cluster 0",
          "Cluster 0",
          "Cluster 0",
          "Cluster 0",
          "Cluster 0",
          "Cluster 0",
          "Cluster 0",
          "Cluster 0",
          "Cluster 0",
          "Cluster 0",
          "Cluster 0",
          "Cluster 0",
          "Cluster 0",
          "Cluster 0",
          "Cluster 0",
          "Cluster 0",
          "Cluster 0",
          "Cluster 0",
          "Cluster 0",
          "Cluster 0",
          "Cluster 0",
          "Cluster 0",
          "Cluster 0",
          "Cluster 0",
          "Cluster 0",
          "Cluster 0",
          "Cluster 0",
          "Cluster 0",
          "Cluster 0",
          "Cluster 0",
          "Cluster 0",
          "Cluster 0",
          "Cluster 0",
          "Cluster 0",
          "Cluster 0",
          "Cluster 0",
          "Cluster 0",
          "Cluster 0",
          "Cluster 0",
          "Cluster 0",
          "Cluster 0",
          "Cluster 0",
          "Cluster 0",
          "Cluster 0",
          "Cluster 0",
          "Cluster 0",
          "Cluster 0",
          "Cluster 0",
          "Cluster 0",
          "Cluster 0",
          "Cluster 0",
          "Cluster 0",
          "Cluster 0",
          "Cluster 0",
          "Cluster 0",
          "Cluster 0",
          "Cluster 0",
          "Cluster 0",
          "Cluster 0",
          "Cluster 0",
          "Cluster 0",
          "Cluster 0",
          "Cluster 0",
          "Cluster 0",
          "Cluster 0",
          "Cluster 0",
          "Cluster 0",
          "Cluster 0",
          "Cluster 0",
          "Cluster 0",
          "Cluster 0",
          "Cluster 0",
          "Cluster 0",
          "Cluster 0",
          "Cluster 0",
          "Cluster 0",
          "Cluster 0",
          "Cluster 0",
          "Cluster 0",
          "Cluster 0",
          "Cluster 0",
          "Cluster 0",
          "Cluster 0",
          "Cluster 0",
          "Cluster 0",
          "Cluster 0",
          "Cluster 0",
          "Cluster 0",
          "Cluster 0",
          "Cluster 0",
          "Cluster 0",
          "Cluster 0",
          "Cluster 0",
          "Cluster 0",
          "Cluster 0",
          "Cluster 0",
          "Cluster 0",
          "Cluster 0",
          "Cluster 0",
          "Cluster 0"
         ],
         "xaxis": "x",
         "yaxis": "y"
        },
        {
         "alignmentgroup": "True",
         "customdata": [
          [
           108,
           2,
           "Cluster 0"
          ],
          [
           80,
           1,
           "Cluster 0"
          ],
          [
           108,
           2,
           "Cluster 0"
          ],
          [
           106,
           2,
           "Cluster 0"
          ],
          [
           108,
           2,
           "Cluster 0"
          ],
          [
           80,
           1,
           "Cluster 0"
          ],
          [
           82,
           2,
           "Cluster 0"
          ],
          [
           80,
           1,
           "Cluster 0"
          ],
          [
           106,
           2,
           "Cluster 0"
          ],
          [
           108,
           4,
           "Cluster 0"
          ],
          [
           108,
           2,
           "Cluster 0"
          ],
          [
           80,
           1,
           "Cluster 0"
          ],
          [
           108,
           2,
           "Cluster 0"
          ],
          [
           82,
           2,
           "Cluster 0"
          ],
          [
           108,
           0,
           "Cluster 0"
          ],
          [
           108,
           2,
           "Cluster 0"
          ],
          [
           82,
           2,
           "Cluster 0"
          ],
          [
           82,
           2,
           "Cluster 0"
          ],
          [
           106,
           2,
           "Cluster 0"
          ],
          [
           108,
           3,
           "Cluster 0"
          ],
          [
           108,
           2,
           "Cluster 0"
          ],
          [
           82,
           2,
           "Cluster 0"
          ],
          [
           75,
           2,
           "Cluster 0"
          ],
          [
           108,
           2,
           "Cluster 0"
          ],
          [
           108,
           3,
           "Cluster 0"
          ],
          [
           108,
           2,
           "Cluster 0"
          ],
          [
           108,
           2,
           "Cluster 0"
          ],
          [
           82,
           2,
           "Cluster 0"
          ],
          [
           106,
           1,
           "Cluster 0"
          ],
          [
           82,
           2,
           "Cluster 0"
          ],
          [
           80,
           1,
           "Cluster 0"
          ],
          [
           108,
           4,
           "Cluster 0"
          ],
          [
           108,
           2,
           "Cluster 0"
          ],
          [
           108,
           2,
           "Cluster 0"
          ],
          [
           82,
           2,
           "Cluster 0"
          ],
          [
           87,
           2,
           "Cluster 0"
          ],
          [
           82,
           2,
           "Cluster 0"
          ],
          [
           73,
           3,
           "Cluster 0"
          ],
          [
           87,
           2,
           "Cluster 0"
          ],
          [
           108,
           2,
           "Cluster 0"
          ],
          [
           108,
           2,
           "Cluster 0"
          ],
          [
           87,
           2,
           "Cluster 0"
          ],
          [
           76,
           2,
           "Cluster 0"
          ],
          [
           108,
           2,
           "Cluster 0"
          ],
          [
           108,
           1,
           "Cluster 0"
          ],
          [
           108,
           2,
           "Cluster 0"
          ],
          [
           85,
           2,
           "Cluster 0"
          ],
          [
           108,
           2,
           "Cluster 0"
          ],
          [
           76,
           2,
           "Cluster 0"
          ],
          [
           108,
           2,
           "Cluster 0"
          ],
          [
           108,
           2,
           "Cluster 0"
          ],
          [
           108,
           4,
           "Cluster 0"
          ],
          [
           108,
           2,
           "Cluster 0"
          ],
          [
           108,
           2,
           "Cluster 0"
          ],
          [
           108,
           4,
           "Cluster 0"
          ],
          [
           82,
           2,
           "Cluster 0"
          ],
          [
           79,
           0,
           "Cluster 0"
          ],
          [
           99,
           4,
           "Cluster 0"
          ],
          [
           82,
           2,
           "Cluster 0"
          ],
          [
           82,
           4,
           "Cluster 0"
          ],
          [
           83,
           1,
           "Cluster 0"
          ],
          [
           108,
           0,
           "Cluster 0"
          ],
          [
           77,
           0,
           "Cluster 0"
          ],
          [
           80,
           1,
           "Cluster 0"
          ],
          [
           100,
           3,
           "Cluster 0"
          ],
          [
           108,
           4,
           "Cluster 0"
          ],
          [
           108,
           2,
           "Cluster 0"
          ],
          [
           76,
           2,
           "Cluster 0"
          ],
          [
           87,
           2,
           "Cluster 0"
          ],
          [
           80,
           1,
           "Cluster 0"
          ],
          [
           87,
           2,
           "Cluster 0"
          ],
          [
           106,
           4,
           "Cluster 0"
          ],
          [
           80,
           1,
           "Cluster 0"
          ],
          [
           91,
           0,
           "Cluster 0"
          ],
          [
           108,
           2,
           "Cluster 0"
          ],
          [
           80,
           1,
           "Cluster 0"
          ],
          [
           84,
           3,
           "Cluster 0"
          ],
          [
           108,
           2,
           "Cluster 0"
          ],
          [
           82,
           2,
           "Cluster 0"
          ],
          [
           108,
           4,
           "Cluster 0"
          ],
          [
           108,
           2,
           "Cluster 0"
          ],
          [
           79,
           0,
           "Cluster 0"
          ],
          [
           97,
           0,
           "Cluster 0"
          ],
          [
           82,
           2,
           "Cluster 0"
          ],
          [
           82,
           2,
           "Cluster 0"
          ],
          [
           108,
           1,
           "Cluster 0"
          ],
          [
           85,
           2,
           "Cluster 0"
          ],
          [
           108,
           2,
           "Cluster 0"
          ],
          [
           85,
           2,
           "Cluster 0"
          ],
          [
           108,
           0,
           "Cluster 0"
          ],
          [
           75,
           4,
           "Cluster 0"
          ],
          [
           76,
           4,
           "Cluster 0"
          ],
          [
           80,
           1,
           "Cluster 0"
          ],
          [
           108,
           2,
           "Cluster 0"
          ],
          [
           76,
           2,
           "Cluster 0"
          ],
          [
           108,
           2,
           "Cluster 0"
          ],
          [
           108,
           2,
           "Cluster 0"
          ],
          [
           82,
           2,
           "Cluster 0"
          ],
          [
           83,
           1,
           "Cluster 0"
          ],
          [
           83,
           1,
           "Cluster 0"
          ],
          [
           82,
           2,
           "Cluster 0"
          ],
          [
           71,
           2,
           "Cluster 0"
          ],
          [
           108,
           2,
           "Cluster 0"
          ],
          [
           82,
           2,
           "Cluster 0"
          ],
          [
           108,
           2,
           "Cluster 0"
          ],
          [
           82,
           2,
           "Cluster 0"
          ],
          [
           108,
           2,
           "Cluster 0"
          ],
          [
           82,
           2,
           "Cluster 0"
          ],
          [
           108,
           1,
           "Cluster 0"
          ],
          [
           108,
           2,
           "Cluster 0"
          ],
          [
           108,
           3,
           "Cluster 0"
          ],
          [
           82,
           2,
           "Cluster 0"
          ],
          [
           82,
           2,
           "Cluster 0"
          ],
          [
           108,
           2,
           "Cluster 0"
          ],
          [
           82,
           2,
           "Cluster 0"
          ],
          [
           108,
           2,
           "Cluster 0"
          ],
          [
           108,
           2,
           "Cluster 0"
          ],
          [
           108,
           4,
           "Cluster 0"
          ],
          [
           108,
           2,
           "Cluster 0"
          ],
          [
           82,
           2,
           "Cluster 0"
          ],
          [
           108,
           4,
           "Cluster 0"
          ],
          [
           76,
           2,
           "Cluster 0"
          ],
          [
           108,
           2,
           "Cluster 0"
          ],
          [
           108,
           2,
           "Cluster 0"
          ],
          [
           108,
           2,
           "Cluster 0"
          ],
          [
           82,
           2,
           "Cluster 0"
          ],
          [
           85,
           2,
           "Cluster 0"
          ],
          [
           108,
           2,
           "Cluster 0"
          ],
          [
           82,
           2,
           "Cluster 0"
          ],
          [
           83,
           1,
           "Cluster 0"
          ],
          [
           108,
           2,
           "Cluster 0"
          ],
          [
           108,
           2,
           "Cluster 0"
          ],
          [
           108,
           2,
           "Cluster 0"
          ],
          [
           88,
           2,
           "Cluster 0"
          ],
          [
           106,
           0,
           "Cluster 0"
          ],
          [
           108,
           2,
           "Cluster 0"
          ],
          [
           106,
           0,
           "Cluster 0"
          ],
          [
           108,
           2,
           "Cluster 0"
          ],
          [
           85,
           2,
           "Cluster 0"
          ],
          [
           82,
           2,
           "Cluster 0"
          ],
          [
           82,
           2,
           "Cluster 0"
          ],
          [
           85,
           2,
           "Cluster 0"
          ],
          [
           87,
           2,
           "Cluster 0"
          ],
          [
           85,
           2,
           "Cluster 0"
          ],
          [
           82,
           2,
           "Cluster 0"
          ],
          [
           108,
           3,
           "Cluster 0"
          ],
          [
           69,
           0,
           "Cluster 0"
          ],
          [
           87,
           2,
           "Cluster 0"
          ],
          [
           76,
           3,
           "Cluster 0"
          ],
          [
           108,
           0,
           "Cluster 0"
          ],
          [
           80,
           1,
           "Cluster 0"
          ],
          [
           95,
           1,
           "Cluster 0"
          ],
          [
           108,
           2,
           "Cluster 0"
          ],
          [
           87,
           2,
           "Cluster 0"
          ],
          [
           106,
           0,
           "Cluster 0"
          ],
          [
           75,
           4,
           "Cluster 0"
          ],
          [
           108,
           4,
           "Cluster 0"
          ],
          [
           87,
           2,
           "Cluster 0"
          ],
          [
           87,
           2,
           "Cluster 0"
          ],
          [
           108,
           4,
           "Cluster 0"
          ],
          [
           108,
           3,
           "Cluster 0"
          ],
          [
           108,
           2,
           "Cluster 0"
          ],
          [
           95,
           1,
           "Cluster 0"
          ],
          [
           87,
           2,
           "Cluster 0"
          ],
          [
           108,
           2,
           "Cluster 0"
          ],
          [
           82,
           2,
           "Cluster 0"
          ],
          [
           108,
           2,
           "Cluster 0"
          ],
          [
           87,
           2,
           "Cluster 0"
          ],
          [
           87,
           2,
           "Cluster 0"
          ],
          [
           99,
           0,
           "Cluster 0"
          ],
          [
           108,
           2,
           "Cluster 0"
          ],
          [
           87,
           2,
           "Cluster 0"
          ],
          [
           106,
           0,
           "Cluster 0"
          ],
          [
           108,
           1,
           "Cluster 0"
          ],
          [
           87,
           2,
           "Cluster 0"
          ],
          [
           82,
           2,
           "Cluster 0"
          ],
          [
           108,
           0,
           "Cluster 0"
          ],
          [
           82,
           2,
           "Cluster 0"
          ],
          [
           97,
           3,
           "Cluster 0"
          ],
          [
           108,
           0,
           "Cluster 0"
          ],
          [
           108,
           2,
           "Cluster 0"
          ],
          [
           108,
           2,
           "Cluster 0"
          ],
          [
           108,
           2,
           "Cluster 0"
          ],
          [
           87,
           2,
           "Cluster 0"
          ],
          [
           77,
           3,
           "Cluster 0"
          ],
          [
           75,
           4,
           "Cluster 0"
          ],
          [
           108,
           2,
           "Cluster 0"
          ],
          [
           76,
           2,
           "Cluster 0"
          ],
          [
           75,
           4,
           "Cluster 0"
          ],
          [
           108,
           3,
           "Cluster 0"
          ],
          [
           108,
           2,
           "Cluster 0"
          ],
          [
           77,
           3,
           "Cluster 0"
          ],
          [
           87,
           2,
           "Cluster 0"
          ],
          [
           108,
           2,
           "Cluster 0"
          ],
          [
           106,
           3,
           "Cluster 0"
          ],
          [
           95,
           1,
           "Cluster 0"
          ],
          [
           108,
           4,
           "Cluster 0"
          ],
          [
           82,
           2,
           "Cluster 0"
          ],
          [
           108,
           2,
           "Cluster 0"
          ],
          [
           76,
           2,
           "Cluster 0"
          ],
          [
           87,
           2,
           "Cluster 0"
          ],
          [
           108,
           2,
           "Cluster 0"
          ],
          [
           82,
           2,
           "Cluster 0"
          ],
          [
           108,
           1,
           "Cluster 0"
          ],
          [
           108,
           2,
           "Cluster 0"
          ],
          [
           108,
           2,
           "Cluster 0"
          ],
          [
           108,
           2,
           "Cluster 0"
          ],
          [
           85,
           2,
           "Cluster 0"
          ],
          [
           87,
           2,
           "Cluster 0"
          ],
          [
           108,
           2,
           "Cluster 0"
          ],
          [
           108,
           4,
           "Cluster 0"
          ],
          [
           108,
           4,
           "Cluster 0"
          ],
          [
           106,
           0,
           "Cluster 0"
          ],
          [
           96,
           0,
           "Cluster 0"
          ],
          [
           87,
           2,
           "Cluster 0"
          ],
          [
           80,
           1,
           "Cluster 0"
          ],
          [
           95,
           1,
           "Cluster 0"
          ],
          [
           108,
           2,
           "Cluster 0"
          ],
          [
           108,
           2,
           "Cluster 0"
          ],
          [
           85,
           2,
           "Cluster 0"
          ],
          [
           108,
           2,
           "Cluster 0"
          ],
          [
           87,
           1,
           "Cluster 0"
          ],
          [
           95,
           1,
           "Cluster 0"
          ],
          [
           108,
           2,
           "Cluster 0"
          ],
          [
           108,
           2,
           "Cluster 0"
          ],
          [
           87,
           2,
           "Cluster 0"
          ],
          [
           108,
           2,
           "Cluster 0"
          ],
          [
           108,
           2,
           "Cluster 0"
          ],
          [
           108,
           2,
           "Cluster 0"
          ],
          [
           108,
           2,
           "Cluster 0"
          ],
          [
           86,
           1,
           "Cluster 0"
          ],
          [
           87,
           2,
           "Cluster 0"
          ],
          [
           108,
           2,
           "Cluster 0"
          ],
          [
           76,
           2,
           "Cluster 0"
          ],
          [
           108,
           1,
           "Cluster 0"
          ],
          [
           76,
           2,
           "Cluster 0"
          ],
          [
           87,
           2,
           "Cluster 0"
          ],
          [
           95,
           1,
           "Cluster 0"
          ],
          [
           82,
           2,
           "Cluster 0"
          ],
          [
           87,
           2,
           "Cluster 0"
          ]
         ],
         "hovertemplate": "Cluster=%{customdata[2]}<br>New_Budget=%{customdata[0]}<br>Category=%{customdata[1]}<extra></extra>",
         "legendgroup": "Cluster 0",
         "marker": {
          "color": "#636efa"
         },
         "name": "Cluster 0",
         "notched": true,
         "offsetgroup": "Cluster 0",
         "showlegend": false,
         "type": "box",
         "x": [
          "Cluster 0",
          "Cluster 0",
          "Cluster 0",
          "Cluster 0",
          "Cluster 0",
          "Cluster 0",
          "Cluster 0",
          "Cluster 0",
          "Cluster 0",
          "Cluster 0",
          "Cluster 0",
          "Cluster 0",
          "Cluster 0",
          "Cluster 0",
          "Cluster 0",
          "Cluster 0",
          "Cluster 0",
          "Cluster 0",
          "Cluster 0",
          "Cluster 0",
          "Cluster 0",
          "Cluster 0",
          "Cluster 0",
          "Cluster 0",
          "Cluster 0",
          "Cluster 0",
          "Cluster 0",
          "Cluster 0",
          "Cluster 0",
          "Cluster 0",
          "Cluster 0",
          "Cluster 0",
          "Cluster 0",
          "Cluster 0",
          "Cluster 0",
          "Cluster 0",
          "Cluster 0",
          "Cluster 0",
          "Cluster 0",
          "Cluster 0",
          "Cluster 0",
          "Cluster 0",
          "Cluster 0",
          "Cluster 0",
          "Cluster 0",
          "Cluster 0",
          "Cluster 0",
          "Cluster 0",
          "Cluster 0",
          "Cluster 0",
          "Cluster 0",
          "Cluster 0",
          "Cluster 0",
          "Cluster 0",
          "Cluster 0",
          "Cluster 0",
          "Cluster 0",
          "Cluster 0",
          "Cluster 0",
          "Cluster 0",
          "Cluster 0",
          "Cluster 0",
          "Cluster 0",
          "Cluster 0",
          "Cluster 0",
          "Cluster 0",
          "Cluster 0",
          "Cluster 0",
          "Cluster 0",
          "Cluster 0",
          "Cluster 0",
          "Cluster 0",
          "Cluster 0",
          "Cluster 0",
          "Cluster 0",
          "Cluster 0",
          "Cluster 0",
          "Cluster 0",
          "Cluster 0",
          "Cluster 0",
          "Cluster 0",
          "Cluster 0",
          "Cluster 0",
          "Cluster 0",
          "Cluster 0",
          "Cluster 0",
          "Cluster 0",
          "Cluster 0",
          "Cluster 0",
          "Cluster 0",
          "Cluster 0",
          "Cluster 0",
          "Cluster 0",
          "Cluster 0",
          "Cluster 0",
          "Cluster 0",
          "Cluster 0",
          "Cluster 0",
          "Cluster 0",
          "Cluster 0",
          "Cluster 0",
          "Cluster 0",
          "Cluster 0",
          "Cluster 0",
          "Cluster 0",
          "Cluster 0",
          "Cluster 0",
          "Cluster 0",
          "Cluster 0",
          "Cluster 0",
          "Cluster 0",
          "Cluster 0",
          "Cluster 0",
          "Cluster 0",
          "Cluster 0",
          "Cluster 0",
          "Cluster 0",
          "Cluster 0",
          "Cluster 0",
          "Cluster 0",
          "Cluster 0",
          "Cluster 0",
          "Cluster 0",
          "Cluster 0",
          "Cluster 0",
          "Cluster 0",
          "Cluster 0",
          "Cluster 0",
          "Cluster 0",
          "Cluster 0",
          "Cluster 0",
          "Cluster 0",
          "Cluster 0",
          "Cluster 0",
          "Cluster 0",
          "Cluster 0",
          "Cluster 0",
          "Cluster 0",
          "Cluster 0",
          "Cluster 0",
          "Cluster 0",
          "Cluster 0",
          "Cluster 0",
          "Cluster 0",
          "Cluster 0",
          "Cluster 0",
          "Cluster 0",
          "Cluster 0",
          "Cluster 0",
          "Cluster 0",
          "Cluster 0",
          "Cluster 0",
          "Cluster 0",
          "Cluster 0",
          "Cluster 0",
          "Cluster 0",
          "Cluster 0",
          "Cluster 0",
          "Cluster 0",
          "Cluster 0",
          "Cluster 0",
          "Cluster 0",
          "Cluster 0",
          "Cluster 0",
          "Cluster 0",
          "Cluster 0",
          "Cluster 0",
          "Cluster 0",
          "Cluster 0",
          "Cluster 0",
          "Cluster 0",
          "Cluster 0",
          "Cluster 0",
          "Cluster 0",
          "Cluster 0",
          "Cluster 0",
          "Cluster 0",
          "Cluster 0",
          "Cluster 0",
          "Cluster 0",
          "Cluster 0",
          "Cluster 0",
          "Cluster 0",
          "Cluster 0",
          "Cluster 0",
          "Cluster 0",
          "Cluster 0",
          "Cluster 0",
          "Cluster 0",
          "Cluster 0",
          "Cluster 0",
          "Cluster 0",
          "Cluster 0",
          "Cluster 0",
          "Cluster 0",
          "Cluster 0",
          "Cluster 0",
          "Cluster 0",
          "Cluster 0",
          "Cluster 0",
          "Cluster 0",
          "Cluster 0",
          "Cluster 0",
          "Cluster 0",
          "Cluster 0",
          "Cluster 0",
          "Cluster 0",
          "Cluster 0",
          "Cluster 0",
          "Cluster 0",
          "Cluster 0",
          "Cluster 0",
          "Cluster 0",
          "Cluster 0",
          "Cluster 0",
          "Cluster 0",
          "Cluster 0",
          "Cluster 0",
          "Cluster 0",
          "Cluster 0",
          "Cluster 0",
          "Cluster 0",
          "Cluster 0",
          "Cluster 0",
          "Cluster 0",
          "Cluster 0",
          "Cluster 0",
          "Cluster 0",
          "Cluster 0",
          "Cluster 0",
          "Cluster 0",
          "Cluster 0",
          "Cluster 0",
          "Cluster 0",
          "Cluster 0",
          "Cluster 0",
          "Cluster 0",
          "Cluster 0",
          "Cluster 0",
          "Cluster 0"
         ],
         "xaxis": "x2",
         "yaxis": "y2"
        },
        {
         "alignmentgroup": "True",
         "bingroup": "x",
         "hovertemplate": "Cluster=%{x}<br>count=%{y}<extra></extra>",
         "legendgroup": "Cluster 1",
         "marker": {
          "color": "#EF553B",
          "opacity": 0.7
         },
         "name": "Cluster 1",
         "offsetgroup": "Cluster 1",
         "orientation": "v",
         "showlegend": true,
         "type": "histogram",
         "x": [
          "Cluster 1",
          "Cluster 1",
          "Cluster 1",
          "Cluster 1",
          "Cluster 1",
          "Cluster 1",
          "Cluster 1",
          "Cluster 1",
          "Cluster 1",
          "Cluster 1",
          "Cluster 1",
          "Cluster 1",
          "Cluster 1",
          "Cluster 1",
          "Cluster 1",
          "Cluster 1",
          "Cluster 1",
          "Cluster 1",
          "Cluster 1",
          "Cluster 1",
          "Cluster 1",
          "Cluster 1",
          "Cluster 1",
          "Cluster 1",
          "Cluster 1",
          "Cluster 1",
          "Cluster 1",
          "Cluster 1",
          "Cluster 1",
          "Cluster 1",
          "Cluster 1",
          "Cluster 1",
          "Cluster 1",
          "Cluster 1",
          "Cluster 1",
          "Cluster 1",
          "Cluster 1",
          "Cluster 1",
          "Cluster 1",
          "Cluster 1",
          "Cluster 1",
          "Cluster 1",
          "Cluster 1",
          "Cluster 1",
          "Cluster 1",
          "Cluster 1",
          "Cluster 1",
          "Cluster 1",
          "Cluster 1",
          "Cluster 1",
          "Cluster 1",
          "Cluster 1",
          "Cluster 1",
          "Cluster 1",
          "Cluster 1",
          "Cluster 1",
          "Cluster 1",
          "Cluster 1",
          "Cluster 1",
          "Cluster 1",
          "Cluster 1",
          "Cluster 1",
          "Cluster 1",
          "Cluster 1",
          "Cluster 1",
          "Cluster 1",
          "Cluster 1",
          "Cluster 1",
          "Cluster 1",
          "Cluster 1",
          "Cluster 1",
          "Cluster 1",
          "Cluster 1",
          "Cluster 1",
          "Cluster 1",
          "Cluster 1",
          "Cluster 1",
          "Cluster 1",
          "Cluster 1",
          "Cluster 1",
          "Cluster 1",
          "Cluster 1",
          "Cluster 1",
          "Cluster 1",
          "Cluster 1",
          "Cluster 1",
          "Cluster 1",
          "Cluster 1",
          "Cluster 1",
          "Cluster 1",
          "Cluster 1",
          "Cluster 1",
          "Cluster 1",
          "Cluster 1",
          "Cluster 1",
          "Cluster 1",
          "Cluster 1",
          "Cluster 1",
          "Cluster 1",
          "Cluster 1",
          "Cluster 1",
          "Cluster 1",
          "Cluster 1",
          "Cluster 1",
          "Cluster 1",
          "Cluster 1",
          "Cluster 1",
          "Cluster 1",
          "Cluster 1",
          "Cluster 1",
          "Cluster 1",
          "Cluster 1",
          "Cluster 1",
          "Cluster 1",
          "Cluster 1",
          "Cluster 1",
          "Cluster 1",
          "Cluster 1",
          "Cluster 1",
          "Cluster 1",
          "Cluster 1",
          "Cluster 1",
          "Cluster 1",
          "Cluster 1",
          "Cluster 1",
          "Cluster 1",
          "Cluster 1",
          "Cluster 1",
          "Cluster 1",
          "Cluster 1",
          "Cluster 1",
          "Cluster 1",
          "Cluster 1",
          "Cluster 1",
          "Cluster 1",
          "Cluster 1",
          "Cluster 1",
          "Cluster 1",
          "Cluster 1",
          "Cluster 1",
          "Cluster 1",
          "Cluster 1",
          "Cluster 1",
          "Cluster 1",
          "Cluster 1",
          "Cluster 1",
          "Cluster 1",
          "Cluster 1",
          "Cluster 1",
          "Cluster 1",
          "Cluster 1",
          "Cluster 1",
          "Cluster 1",
          "Cluster 1",
          "Cluster 1",
          "Cluster 1",
          "Cluster 1",
          "Cluster 1",
          "Cluster 1",
          "Cluster 1",
          "Cluster 1",
          "Cluster 1",
          "Cluster 1",
          "Cluster 1",
          "Cluster 1",
          "Cluster 1",
          "Cluster 1",
          "Cluster 1",
          "Cluster 1",
          "Cluster 1",
          "Cluster 1",
          "Cluster 1",
          "Cluster 1",
          "Cluster 1",
          "Cluster 1",
          "Cluster 1",
          "Cluster 1",
          "Cluster 1",
          "Cluster 1",
          "Cluster 1",
          "Cluster 1",
          "Cluster 1",
          "Cluster 1",
          "Cluster 1",
          "Cluster 1",
          "Cluster 1",
          "Cluster 1",
          "Cluster 1",
          "Cluster 1",
          "Cluster 1",
          "Cluster 1",
          "Cluster 1",
          "Cluster 1",
          "Cluster 1",
          "Cluster 1",
          "Cluster 1",
          "Cluster 1",
          "Cluster 1",
          "Cluster 1",
          "Cluster 1",
          "Cluster 1",
          "Cluster 1",
          "Cluster 1",
          "Cluster 1",
          "Cluster 1",
          "Cluster 1",
          "Cluster 1",
          "Cluster 1",
          "Cluster 1",
          "Cluster 1",
          "Cluster 1",
          "Cluster 1",
          "Cluster 1",
          "Cluster 1",
          "Cluster 1",
          "Cluster 1",
          "Cluster 1",
          "Cluster 1",
          "Cluster 1",
          "Cluster 1",
          "Cluster 1",
          "Cluster 1",
          "Cluster 1",
          "Cluster 1",
          "Cluster 1",
          "Cluster 1",
          "Cluster 1",
          "Cluster 1",
          "Cluster 1",
          "Cluster 1",
          "Cluster 1",
          "Cluster 1",
          "Cluster 1",
          "Cluster 1",
          "Cluster 1",
          "Cluster 1",
          "Cluster 1",
          "Cluster 1",
          "Cluster 1",
          "Cluster 1",
          "Cluster 1",
          "Cluster 1",
          "Cluster 1",
          "Cluster 1",
          "Cluster 1",
          "Cluster 1",
          "Cluster 1",
          "Cluster 1",
          "Cluster 1",
          "Cluster 1",
          "Cluster 1",
          "Cluster 1",
          "Cluster 1",
          "Cluster 1",
          "Cluster 1",
          "Cluster 1",
          "Cluster 1",
          "Cluster 1",
          "Cluster 1",
          "Cluster 1",
          "Cluster 1",
          "Cluster 1",
          "Cluster 1",
          "Cluster 1",
          "Cluster 1",
          "Cluster 1",
          "Cluster 1",
          "Cluster 1",
          "Cluster 1",
          "Cluster 1",
          "Cluster 1",
          "Cluster 1",
          "Cluster 1",
          "Cluster 1",
          "Cluster 1",
          "Cluster 1",
          "Cluster 1",
          "Cluster 1",
          "Cluster 1",
          "Cluster 1",
          "Cluster 1",
          "Cluster 1",
          "Cluster 1",
          "Cluster 1",
          "Cluster 1",
          "Cluster 1",
          "Cluster 1",
          "Cluster 1",
          "Cluster 1",
          "Cluster 1",
          "Cluster 1",
          "Cluster 1",
          "Cluster 1",
          "Cluster 1",
          "Cluster 1",
          "Cluster 1",
          "Cluster 1",
          "Cluster 1",
          "Cluster 1",
          "Cluster 1",
          "Cluster 1",
          "Cluster 1",
          "Cluster 1",
          "Cluster 1",
          "Cluster 1",
          "Cluster 1",
          "Cluster 1",
          "Cluster 1",
          "Cluster 1",
          "Cluster 1",
          "Cluster 1",
          "Cluster 1",
          "Cluster 1",
          "Cluster 1",
          "Cluster 1",
          "Cluster 1",
          "Cluster 1",
          "Cluster 1",
          "Cluster 1",
          "Cluster 1",
          "Cluster 1",
          "Cluster 1",
          "Cluster 1",
          "Cluster 1",
          "Cluster 1",
          "Cluster 1",
          "Cluster 1",
          "Cluster 1",
          "Cluster 1",
          "Cluster 1",
          "Cluster 1",
          "Cluster 1",
          "Cluster 1",
          "Cluster 1",
          "Cluster 1",
          "Cluster 1",
          "Cluster 1",
          "Cluster 1",
          "Cluster 1",
          "Cluster 1",
          "Cluster 1",
          "Cluster 1",
          "Cluster 1",
          "Cluster 1",
          "Cluster 1",
          "Cluster 1",
          "Cluster 1",
          "Cluster 1",
          "Cluster 1",
          "Cluster 1",
          "Cluster 1",
          "Cluster 1",
          "Cluster 1",
          "Cluster 1",
          "Cluster 1",
          "Cluster 1",
          "Cluster 1",
          "Cluster 1",
          "Cluster 1",
          "Cluster 1",
          "Cluster 1",
          "Cluster 1",
          "Cluster 1",
          "Cluster 1",
          "Cluster 1",
          "Cluster 1",
          "Cluster 1",
          "Cluster 1",
          "Cluster 1",
          "Cluster 1",
          "Cluster 1",
          "Cluster 1",
          "Cluster 1",
          "Cluster 1",
          "Cluster 1",
          "Cluster 1",
          "Cluster 1",
          "Cluster 1",
          "Cluster 1",
          "Cluster 1",
          "Cluster 1",
          "Cluster 1",
          "Cluster 1",
          "Cluster 1",
          "Cluster 1",
          "Cluster 1",
          "Cluster 1",
          "Cluster 1",
          "Cluster 1",
          "Cluster 1",
          "Cluster 1",
          "Cluster 1",
          "Cluster 1",
          "Cluster 1",
          "Cluster 1",
          "Cluster 1",
          "Cluster 1",
          "Cluster 1",
          "Cluster 1",
          "Cluster 1",
          "Cluster 1",
          "Cluster 1",
          "Cluster 1",
          "Cluster 1",
          "Cluster 1",
          "Cluster 1",
          "Cluster 1",
          "Cluster 1",
          "Cluster 1",
          "Cluster 1",
          "Cluster 1",
          "Cluster 1",
          "Cluster 1",
          "Cluster 1",
          "Cluster 1",
          "Cluster 1",
          "Cluster 1",
          "Cluster 1",
          "Cluster 1",
          "Cluster 1",
          "Cluster 1",
          "Cluster 1",
          "Cluster 1",
          "Cluster 1",
          "Cluster 1",
          "Cluster 1",
          "Cluster 1",
          "Cluster 1",
          "Cluster 1",
          "Cluster 1",
          "Cluster 1",
          "Cluster 1",
          "Cluster 1",
          "Cluster 1",
          "Cluster 1",
          "Cluster 1",
          "Cluster 1",
          "Cluster 1",
          "Cluster 1",
          "Cluster 1",
          "Cluster 1",
          "Cluster 1",
          "Cluster 1",
          "Cluster 1",
          "Cluster 1",
          "Cluster 1",
          "Cluster 1",
          "Cluster 1",
          "Cluster 1",
          "Cluster 1",
          "Cluster 1",
          "Cluster 1",
          "Cluster 1",
          "Cluster 1",
          "Cluster 1",
          "Cluster 1",
          "Cluster 1",
          "Cluster 1",
          "Cluster 1",
          "Cluster 1",
          "Cluster 1",
          "Cluster 1",
          "Cluster 1",
          "Cluster 1",
          "Cluster 1",
          "Cluster 1",
          "Cluster 1",
          "Cluster 1",
          "Cluster 1",
          "Cluster 1",
          "Cluster 1",
          "Cluster 1",
          "Cluster 1",
          "Cluster 1",
          "Cluster 1",
          "Cluster 1",
          "Cluster 1",
          "Cluster 1",
          "Cluster 1",
          "Cluster 1",
          "Cluster 1",
          "Cluster 1",
          "Cluster 1",
          "Cluster 1",
          "Cluster 1",
          "Cluster 1",
          "Cluster 1",
          "Cluster 1",
          "Cluster 1",
          "Cluster 1",
          "Cluster 1",
          "Cluster 1",
          "Cluster 1",
          "Cluster 1",
          "Cluster 1",
          "Cluster 1",
          "Cluster 1",
          "Cluster 1",
          "Cluster 1",
          "Cluster 1",
          "Cluster 1",
          "Cluster 1",
          "Cluster 1",
          "Cluster 1",
          "Cluster 1",
          "Cluster 1",
          "Cluster 1",
          "Cluster 1",
          "Cluster 1",
          "Cluster 1",
          "Cluster 1",
          "Cluster 1",
          "Cluster 1",
          "Cluster 1",
          "Cluster 1",
          "Cluster 1",
          "Cluster 1",
          "Cluster 1",
          "Cluster 1",
          "Cluster 1",
          "Cluster 1",
          "Cluster 1",
          "Cluster 1",
          "Cluster 1",
          "Cluster 1",
          "Cluster 1",
          "Cluster 1",
          "Cluster 1",
          "Cluster 1",
          "Cluster 1",
          "Cluster 1",
          "Cluster 1",
          "Cluster 1",
          "Cluster 1",
          "Cluster 1",
          "Cluster 1",
          "Cluster 1",
          "Cluster 1",
          "Cluster 1",
          "Cluster 1",
          "Cluster 1",
          "Cluster 1",
          "Cluster 1",
          "Cluster 1",
          "Cluster 1",
          "Cluster 1",
          "Cluster 1",
          "Cluster 1",
          "Cluster 1",
          "Cluster 1",
          "Cluster 1",
          "Cluster 1",
          "Cluster 1",
          "Cluster 1",
          "Cluster 1",
          "Cluster 1",
          "Cluster 1",
          "Cluster 1",
          "Cluster 1",
          "Cluster 1",
          "Cluster 1",
          "Cluster 1",
          "Cluster 1",
          "Cluster 1",
          "Cluster 1",
          "Cluster 1",
          "Cluster 1",
          "Cluster 1",
          "Cluster 1",
          "Cluster 1",
          "Cluster 1",
          "Cluster 1",
          "Cluster 1",
          "Cluster 1",
          "Cluster 1",
          "Cluster 1",
          "Cluster 1",
          "Cluster 1",
          "Cluster 1",
          "Cluster 1",
          "Cluster 1",
          "Cluster 1",
          "Cluster 1",
          "Cluster 1",
          "Cluster 1",
          "Cluster 1"
         ],
         "xaxis": "x",
         "yaxis": "y"
        },
        {
         "alignmentgroup": "True",
         "customdata": [
          [
           62,
           7,
           "Cluster 1"
          ],
          [
           44,
           7,
           "Cluster 1"
          ],
          [
           62,
           7,
           "Cluster 1"
          ],
          [
           67,
           9,
           "Cluster 1"
          ],
          [
           44,
           7,
           "Cluster 1"
          ],
          [
           56,
           7,
           "Cluster 1"
          ],
          [
           56,
           7,
           "Cluster 1"
          ],
          [
           44,
           8,
           "Cluster 1"
          ],
          [
           62,
           7,
           "Cluster 1"
          ],
          [
           56,
           7,
           "Cluster 1"
          ],
          [
           44,
           7,
           "Cluster 1"
          ],
          [
           21,
           7,
           "Cluster 1"
          ],
          [
           62,
           7,
           "Cluster 1"
          ],
          [
           65,
           9,
           "Cluster 1"
          ],
          [
           62,
           7,
           "Cluster 1"
          ],
          [
           44,
           7,
           "Cluster 1"
          ],
          [
           56,
           7,
           "Cluster 1"
          ],
          [
           56,
           7,
           "Cluster 1"
          ],
          [
           26,
           7,
           "Cluster 1"
          ],
          [
           26,
           7,
           "Cluster 1"
          ],
          [
           26,
           7,
           "Cluster 1"
          ],
          [
           62,
           7,
           "Cluster 1"
          ],
          [
           7,
           7,
           "Cluster 1"
          ],
          [
           31,
           7,
           "Cluster 1"
          ],
          [
           62,
           7,
           "Cluster 1"
          ],
          [
           62,
           7,
           "Cluster 1"
          ],
          [
           44,
           6,
           "Cluster 1"
          ],
          [
           62,
           7,
           "Cluster 1"
          ],
          [
           26,
           9,
           "Cluster 1"
          ],
          [
           44,
           7,
           "Cluster 1"
          ],
          [
           62,
           7,
           "Cluster 1"
          ],
          [
           56,
           7,
           "Cluster 1"
          ],
          [
           20,
           7,
           "Cluster 1"
          ],
          [
           56,
           7,
           "Cluster 1"
          ],
          [
           56,
           7,
           "Cluster 1"
          ],
          [
           2,
           7,
           "Cluster 1"
          ],
          [
           62,
           7,
           "Cluster 1"
          ],
          [
           26,
           7,
           "Cluster 1"
          ],
          [
           9,
           7,
           "Cluster 1"
          ],
          [
           52,
           8,
           "Cluster 1"
          ],
          [
           18,
           7,
           "Cluster 1"
          ],
          [
           56,
           7,
           "Cluster 1"
          ],
          [
           56,
           7,
           "Cluster 1"
          ],
          [
           31,
           9,
           "Cluster 1"
          ],
          [
           56,
           7,
           "Cluster 1"
          ],
          [
           44,
           8,
           "Cluster 1"
          ],
          [
           44,
           7,
           "Cluster 1"
          ],
          [
           62,
           7,
           "Cluster 1"
          ],
          [
           71,
           7,
           "Cluster 1"
          ],
          [
           62,
           7,
           "Cluster 1"
          ],
          [
           56,
           7,
           "Cluster 1"
          ],
          [
           26,
           8,
           "Cluster 1"
          ],
          [
           46,
           8,
           "Cluster 1"
          ],
          [
           62,
           7,
           "Cluster 1"
          ],
          [
           62,
           7,
           "Cluster 1"
          ],
          [
           26,
           7,
           "Cluster 1"
          ],
          [
           20,
           7,
           "Cluster 1"
          ],
          [
           62,
           7,
           "Cluster 1"
          ],
          [
           62,
           7,
           "Cluster 1"
          ],
          [
           21,
           9,
           "Cluster 1"
          ],
          [
           62,
           7,
           "Cluster 1"
          ],
          [
           44,
           7,
           "Cluster 1"
          ],
          [
           36,
           9,
           "Cluster 1"
          ],
          [
           18,
           9,
           "Cluster 1"
          ],
          [
           44,
           9,
           "Cluster 1"
          ],
          [
           57,
           7,
           "Cluster 1"
          ],
          [
           7,
           7,
           "Cluster 1"
          ],
          [
           20,
           7,
           "Cluster 1"
          ],
          [
           62,
           7,
           "Cluster 1"
          ],
          [
           62,
           7,
           "Cluster 1"
          ],
          [
           7,
           7,
           "Cluster 1"
          ],
          [
           31,
           7,
           "Cluster 1"
          ],
          [
           44,
           8,
           "Cluster 1"
          ],
          [
           62,
           7,
           "Cluster 1"
          ],
          [
           62,
           7,
           "Cluster 1"
          ],
          [
           34,
           7,
           "Cluster 1"
          ],
          [
           34,
           7,
           "Cluster 1"
          ],
          [
           28,
           8,
           "Cluster 1"
          ],
          [
           10,
           9,
           "Cluster 1"
          ],
          [
           70,
           7,
           "Cluster 1"
          ],
          [
           62,
           7,
           "Cluster 1"
          ],
          [
           44,
           7,
           "Cluster 1"
          ],
          [
           62,
           7,
           "Cluster 1"
          ],
          [
           31,
           7,
           "Cluster 1"
          ],
          [
           20,
           7,
           "Cluster 1"
          ],
          [
           62,
           7,
           "Cluster 1"
          ],
          [
           26,
           9,
           "Cluster 1"
          ],
          [
           4,
           7,
           "Cluster 1"
          ],
          [
           26,
           7,
           "Cluster 1"
          ],
          [
           44,
           7,
           "Cluster 1"
          ],
          [
           62,
           7,
           "Cluster 1"
          ],
          [
           48,
           7,
           "Cluster 1"
          ],
          [
           26,
           7,
           "Cluster 1"
          ],
          [
           59,
           7,
           "Cluster 1"
          ],
          [
           44,
           7,
           "Cluster 1"
          ],
          [
           56,
           7,
           "Cluster 1"
          ],
          [
           56,
           7,
           "Cluster 1"
          ],
          [
           56,
           7,
           "Cluster 1"
          ],
          [
           56,
           7,
           "Cluster 1"
          ],
          [
           44,
           7,
           "Cluster 1"
          ],
          [
           7,
           8,
           "Cluster 1"
          ],
          [
           56,
           7,
           "Cluster 1"
          ],
          [
           56,
           7,
           "Cluster 1"
          ],
          [
           44,
           7,
           "Cluster 1"
          ],
          [
           7,
           7,
           "Cluster 1"
          ],
          [
           62,
           7,
           "Cluster 1"
          ],
          [
           62,
           7,
           "Cluster 1"
          ],
          [
           44,
           7,
           "Cluster 1"
          ],
          [
           44,
           8,
           "Cluster 1"
          ],
          [
           56,
           7,
           "Cluster 1"
          ],
          [
           56,
           7,
           "Cluster 1"
          ],
          [
           44,
           7,
           "Cluster 1"
          ],
          [
           55,
           8,
           "Cluster 1"
          ],
          [
           44,
           9,
           "Cluster 1"
          ],
          [
           44,
           6,
           "Cluster 1"
          ],
          [
           40,
           6,
           "Cluster 1"
          ],
          [
           26,
           9,
           "Cluster 1"
          ],
          [
           34,
           7,
           "Cluster 1"
          ],
          [
           44,
           7,
           "Cluster 1"
          ],
          [
           26,
           7,
           "Cluster 1"
          ],
          [
           36,
           7,
           "Cluster 1"
          ],
          [
           56,
           7,
           "Cluster 1"
          ],
          [
           44,
           7,
           "Cluster 1"
          ],
          [
           26,
           7,
           "Cluster 1"
          ],
          [
           31,
           8,
           "Cluster 1"
          ],
          [
           52,
           7,
           "Cluster 1"
          ],
          [
           56,
           7,
           "Cluster 1"
          ],
          [
           44,
           7,
           "Cluster 1"
          ],
          [
           56,
           7,
           "Cluster 1"
          ],
          [
           7,
           7,
           "Cluster 1"
          ],
          [
           62,
           7,
           "Cluster 1"
          ],
          [
           26,
           7,
           "Cluster 1"
          ],
          [
           44,
           8,
           "Cluster 1"
          ],
          [
           7,
           8,
           "Cluster 1"
          ],
          [
           11,
           6,
           "Cluster 1"
          ],
          [
           56,
           7,
           "Cluster 1"
          ],
          [
           6,
           7,
           "Cluster 1"
          ],
          [
           44,
           7,
           "Cluster 1"
          ],
          [
           56,
           7,
           "Cluster 1"
          ],
          [
           31,
           6,
           "Cluster 1"
          ],
          [
           57,
           8,
           "Cluster 1"
          ],
          [
           56,
           7,
           "Cluster 1"
          ],
          [
           57,
           8,
           "Cluster 1"
          ],
          [
           32,
           7,
           "Cluster 1"
          ],
          [
           56,
           7,
           "Cluster 1"
          ],
          [
           56,
           7,
           "Cluster 1"
          ],
          [
           57,
           8,
           "Cluster 1"
          ],
          [
           56,
           7,
           "Cluster 1"
          ],
          [
           56,
           7,
           "Cluster 1"
          ],
          [
           56,
           7,
           "Cluster 1"
          ],
          [
           31,
           6,
           "Cluster 1"
          ],
          [
           56,
           7,
           "Cluster 1"
          ],
          [
           56,
           7,
           "Cluster 1"
          ],
          [
           56,
           7,
           "Cluster 1"
          ],
          [
           44,
           7,
           "Cluster 1"
          ],
          [
           31,
           9,
           "Cluster 1"
          ],
          [
           26,
           8,
           "Cluster 1"
          ],
          [
           44,
           7,
           "Cluster 1"
          ],
          [
           56,
           7,
           "Cluster 1"
          ],
          [
           56,
           7,
           "Cluster 1"
          ],
          [
           56,
           7,
           "Cluster 1"
          ],
          [
           26,
           7,
           "Cluster 1"
          ],
          [
           44,
           9,
           "Cluster 1"
          ],
          [
           26,
           7,
           "Cluster 1"
          ],
          [
           26,
           7,
           "Cluster 1"
          ],
          [
           56,
           7,
           "Cluster 1"
          ],
          [
           17,
           8,
           "Cluster 1"
          ],
          [
           44,
           7,
           "Cluster 1"
          ],
          [
           26,
           9,
           "Cluster 1"
          ],
          [
           63,
           7,
           "Cluster 1"
          ],
          [
           44,
           7,
           "Cluster 1"
          ],
          [
           44,
           7,
           "Cluster 1"
          ],
          [
           56,
           7,
           "Cluster 1"
          ],
          [
           26,
           7,
           "Cluster 1"
          ],
          [
           56,
           7,
           "Cluster 1"
          ],
          [
           44,
           7,
           "Cluster 1"
          ],
          [
           44,
           7,
           "Cluster 1"
          ],
          [
           56,
           7,
           "Cluster 1"
          ],
          [
           56,
           7,
           "Cluster 1"
          ],
          [
           56,
           7,
           "Cluster 1"
          ],
          [
           56,
           7,
           "Cluster 1"
          ],
          [
           56,
           7,
           "Cluster 1"
          ],
          [
           56,
           7,
           "Cluster 1"
          ],
          [
           44,
           7,
           "Cluster 1"
          ],
          [
           56,
           7,
           "Cluster 1"
          ],
          [
           57,
           8,
           "Cluster 1"
          ],
          [
           56,
           7,
           "Cluster 1"
          ],
          [
           50,
           8,
           "Cluster 1"
          ],
          [
           57,
           8,
           "Cluster 1"
          ],
          [
           56,
           7,
           "Cluster 1"
          ],
          [
           44,
           8,
           "Cluster 1"
          ],
          [
           56,
           7,
           "Cluster 1"
          ],
          [
           31,
           9,
           "Cluster 1"
          ],
          [
           56,
           7,
           "Cluster 1"
          ],
          [
           56,
           7,
           "Cluster 1"
          ],
          [
           56,
           7,
           "Cluster 1"
          ],
          [
           56,
           7,
           "Cluster 1"
          ],
          [
           31,
           7,
           "Cluster 1"
          ],
          [
           44,
           7,
           "Cluster 1"
          ],
          [
           44,
           6,
           "Cluster 1"
          ],
          [
           33,
           7,
           "Cluster 1"
          ],
          [
           56,
           7,
           "Cluster 1"
          ],
          [
           44,
           6,
           "Cluster 1"
          ],
          [
           56,
           7,
           "Cluster 1"
          ],
          [
           44,
           7,
           "Cluster 1"
          ],
          [
           56,
           7,
           "Cluster 1"
          ],
          [
           56,
           7,
           "Cluster 1"
          ],
          [
           66,
           8,
           "Cluster 1"
          ],
          [
           26,
           7,
           "Cluster 1"
          ],
          [
           44,
           7,
           "Cluster 1"
          ],
          [
           56,
           7,
           "Cluster 1"
          ],
          [
           56,
           7,
           "Cluster 1"
          ],
          [
           56,
           7,
           "Cluster 1"
          ],
          [
           44,
           7,
           "Cluster 1"
          ],
          [
           56,
           7,
           "Cluster 1"
          ],
          [
           56,
           7,
           "Cluster 1"
          ],
          [
           56,
           7,
           "Cluster 1"
          ],
          [
           56,
           7,
           "Cluster 1"
          ],
          [
           26,
           7,
           "Cluster 1"
          ],
          [
           44,
           7,
           "Cluster 1"
          ],
          [
           56,
           7,
           "Cluster 1"
          ],
          [
           19,
           7,
           "Cluster 1"
          ],
          [
           56,
           7,
           "Cluster 1"
          ],
          [
           56,
           7,
           "Cluster 1"
          ],
          [
           24,
           7,
           "Cluster 1"
          ],
          [
           56,
           7,
           "Cluster 1"
          ],
          [
           44,
           8,
           "Cluster 1"
          ],
          [
           56,
           7,
           "Cluster 1"
          ],
          [
           56,
           7,
           "Cluster 1"
          ],
          [
           57,
           8,
           "Cluster 1"
          ],
          [
           26,
           7,
           "Cluster 1"
          ],
          [
           56,
           7,
           "Cluster 1"
          ],
          [
           56,
           7,
           "Cluster 1"
          ],
          [
           56,
           7,
           "Cluster 1"
          ],
          [
           9,
           7,
           "Cluster 1"
          ],
          [
           56,
           7,
           "Cluster 1"
          ],
          [
           56,
           7,
           "Cluster 1"
          ],
          [
           26,
           7,
           "Cluster 1"
          ],
          [
           49,
           8,
           "Cluster 1"
          ],
          [
           54,
           6,
           "Cluster 1"
          ],
          [
           56,
           7,
           "Cluster 1"
          ],
          [
           56,
           7,
           "Cluster 1"
          ],
          [
           44,
           7,
           "Cluster 1"
          ],
          [
           56,
           7,
           "Cluster 1"
          ],
          [
           56,
           7,
           "Cluster 1"
          ],
          [
           44,
           7,
           "Cluster 1"
          ],
          [
           55,
           7,
           "Cluster 1"
          ],
          [
           19,
           7,
           "Cluster 1"
          ],
          [
           56,
           7,
           "Cluster 1"
          ],
          [
           56,
           7,
           "Cluster 1"
          ],
          [
           44,
           6,
           "Cluster 1"
          ],
          [
           68,
           8,
           "Cluster 1"
          ],
          [
           45,
           9,
           "Cluster 1"
          ],
          [
           26,
           9,
           "Cluster 1"
          ],
          [
           44,
           8,
           "Cluster 1"
          ],
          [
           44,
           7,
           "Cluster 1"
          ],
          [
           62,
           7,
           "Cluster 1"
          ],
          [
           42,
           9,
           "Cluster 1"
          ],
          [
           56,
           7,
           "Cluster 1"
          ],
          [
           26,
           7,
           "Cluster 1"
          ],
          [
           26,
           7,
           "Cluster 1"
          ],
          [
           68,
           8,
           "Cluster 1"
          ],
          [
           45,
           9,
           "Cluster 1"
          ],
          [
           56,
           7,
           "Cluster 1"
          ],
          [
           66,
           7,
           "Cluster 1"
          ],
          [
           10,
           8,
           "Cluster 1"
          ],
          [
           44,
           9,
           "Cluster 1"
          ],
          [
           26,
           7,
           "Cluster 1"
          ],
          [
           44,
           9,
           "Cluster 1"
          ],
          [
           56,
           7,
           "Cluster 1"
          ],
          [
           21,
           9,
           "Cluster 1"
          ],
          [
           45,
           9,
           "Cluster 1"
          ],
          [
           30,
           9,
           "Cluster 1"
          ],
          [
           56,
           7,
           "Cluster 1"
          ],
          [
           29,
           9,
           "Cluster 1"
          ],
          [
           18,
           8,
           "Cluster 1"
          ],
          [
           56,
           7,
           "Cluster 1"
          ],
          [
           26,
           7,
           "Cluster 1"
          ],
          [
           44,
           7,
           "Cluster 1"
          ],
          [
           26,
           7,
           "Cluster 1"
          ],
          [
           26,
           7,
           "Cluster 1"
          ],
          [
           56,
           7,
           "Cluster 1"
          ],
          [
           20,
           9,
           "Cluster 1"
          ],
          [
           44,
           7,
           "Cluster 1"
          ],
          [
           56,
           7,
           "Cluster 1"
          ],
          [
           45,
           9,
           "Cluster 1"
          ],
          [
           56,
           7,
           "Cluster 1"
          ],
          [
           56,
           7,
           "Cluster 1"
          ],
          [
           42,
           6,
           "Cluster 1"
          ],
          [
           44,
           7,
           "Cluster 1"
          ],
          [
           31,
           7,
           "Cluster 1"
          ],
          [
           56,
           7,
           "Cluster 1"
          ],
          [
           56,
           7,
           "Cluster 1"
          ],
          [
           56,
           7,
           "Cluster 1"
          ],
          [
           56,
           7,
           "Cluster 1"
          ],
          [
           56,
           7,
           "Cluster 1"
          ],
          [
           26,
           6,
           "Cluster 1"
          ],
          [
           69,
           7,
           "Cluster 1"
          ],
          [
           26,
           9,
           "Cluster 1"
          ],
          [
           56,
           7,
           "Cluster 1"
          ],
          [
           44,
           7,
           "Cluster 1"
          ],
          [
           44,
           7,
           "Cluster 1"
          ],
          [
           61,
           6,
           "Cluster 1"
          ],
          [
           7,
           8,
           "Cluster 1"
          ],
          [
           40,
           7,
           "Cluster 1"
          ],
          [
           5,
           7,
           "Cluster 1"
          ],
          [
           56,
           7,
           "Cluster 1"
          ],
          [
           58,
           6,
           "Cluster 1"
          ],
          [
           31,
           7,
           "Cluster 1"
          ],
          [
           56,
           7,
           "Cluster 1"
          ],
          [
           50,
           7,
           "Cluster 1"
          ],
          [
           4,
           7,
           "Cluster 1"
          ],
          [
           66,
           7,
           "Cluster 1"
          ],
          [
           56,
           7,
           "Cluster 1"
          ],
          [
           56,
           7,
           "Cluster 1"
          ],
          [
           67,
           7,
           "Cluster 1"
          ],
          [
           31,
           7,
           "Cluster 1"
          ],
          [
           56,
           7,
           "Cluster 1"
          ],
          [
           45,
           9,
           "Cluster 1"
          ],
          [
           66,
           7,
           "Cluster 1"
          ],
          [
           53,
           7,
           "Cluster 1"
          ],
          [
           44,
           7,
           "Cluster 1"
          ],
          [
           56,
           7,
           "Cluster 1"
          ],
          [
           10,
           7,
           "Cluster 1"
          ],
          [
           34,
           7,
           "Cluster 1"
          ],
          [
           56,
           7,
           "Cluster 1"
          ],
          [
           41,
           7,
           "Cluster 1"
          ],
          [
           56,
           7,
           "Cluster 1"
          ],
          [
           31,
           7,
           "Cluster 1"
          ],
          [
           56,
           7,
           "Cluster 1"
          ],
          [
           45,
           9,
           "Cluster 1"
          ],
          [
           44,
           7,
           "Cluster 1"
          ],
          [
           18,
           8,
           "Cluster 1"
          ],
          [
           56,
           7,
           "Cluster 1"
          ],
          [
           14,
           7,
           "Cluster 1"
          ],
          [
           19,
           7,
           "Cluster 1"
          ],
          [
           61,
           6,
           "Cluster 1"
          ],
          [
           56,
           7,
           "Cluster 1"
          ],
          [
           56,
           7,
           "Cluster 1"
          ],
          [
           18,
           8,
           "Cluster 1"
          ],
          [
           67,
           8,
           "Cluster 1"
          ],
          [
           56,
           7,
           "Cluster 1"
          ],
          [
           64,
           8,
           "Cluster 1"
          ],
          [
           44,
           7,
           "Cluster 1"
          ],
          [
           62,
           7,
           "Cluster 1"
          ],
          [
           57,
           8,
           "Cluster 1"
          ],
          [
           26,
           7,
           "Cluster 1"
          ],
          [
           62,
           7,
           "Cluster 1"
          ],
          [
           54,
           9,
           "Cluster 1"
          ],
          [
           62,
           7,
           "Cluster 1"
          ],
          [
           62,
           7,
           "Cluster 1"
          ],
          [
           31,
           8,
           "Cluster 1"
          ],
          [
           31,
           7,
           "Cluster 1"
          ],
          [
           25,
           7,
           "Cluster 1"
          ],
          [
           44,
           8,
           "Cluster 1"
          ],
          [
           44,
           7,
           "Cluster 1"
          ],
          [
           62,
           7,
           "Cluster 1"
          ],
          [
           62,
           7,
           "Cluster 1"
          ],
          [
           31,
           7,
           "Cluster 1"
          ],
          [
           57,
           8,
           "Cluster 1"
          ],
          [
           26,
           7,
           "Cluster 1"
          ],
          [
           31,
           9,
           "Cluster 1"
          ],
          [
           26,
           7,
           "Cluster 1"
          ],
          [
           62,
           7,
           "Cluster 1"
          ],
          [
           14,
           7,
           "Cluster 1"
          ],
          [
           67,
           7,
           "Cluster 1"
          ],
          [
           62,
           7,
           "Cluster 1"
          ],
          [
           62,
           7,
           "Cluster 1"
          ],
          [
           15,
           7,
           "Cluster 1"
          ],
          [
           4,
           7,
           "Cluster 1"
          ],
          [
           66,
           7,
           "Cluster 1"
          ],
          [
           31,
           7,
           "Cluster 1"
          ],
          [
           62,
           7,
           "Cluster 1"
          ],
          [
           44,
           7,
           "Cluster 1"
          ],
          [
           35,
           6,
           "Cluster 1"
          ],
          [
           44,
           8,
           "Cluster 1"
          ],
          [
           62,
           7,
           "Cluster 1"
          ],
          [
           45,
           9,
           "Cluster 1"
          ],
          [
           18,
           6,
           "Cluster 1"
          ],
          [
           26,
           7,
           "Cluster 1"
          ],
          [
           21,
           9,
           "Cluster 1"
          ],
          [
           62,
           7,
           "Cluster 1"
          ],
          [
           45,
           9,
           "Cluster 1"
          ],
          [
           62,
           7,
           "Cluster 1"
          ],
          [
           62,
           7,
           "Cluster 1"
          ],
          [
           62,
           7,
           "Cluster 1"
          ],
          [
           62,
           7,
           "Cluster 1"
          ],
          [
           44,
           6,
           "Cluster 1"
          ],
          [
           62,
           7,
           "Cluster 1"
          ],
          [
           62,
           7,
           "Cluster 1"
          ],
          [
           44,
           7,
           "Cluster 1"
          ],
          [
           62,
           7,
           "Cluster 1"
          ],
          [
           44,
           7,
           "Cluster 1"
          ],
          [
           47,
           8,
           "Cluster 1"
          ],
          [
           62,
           7,
           "Cluster 1"
          ],
          [
           62,
           7,
           "Cluster 1"
          ],
          [
           45,
           9,
           "Cluster 1"
          ],
          [
           62,
           7,
           "Cluster 1"
          ],
          [
           44,
           7,
           "Cluster 1"
          ],
          [
           62,
           7,
           "Cluster 1"
          ],
          [
           58,
           6,
           "Cluster 1"
          ],
          [
           26,
           7,
           "Cluster 1"
          ],
          [
           8,
           7,
           "Cluster 1"
          ],
          [
           9,
           7,
           "Cluster 1"
          ],
          [
           12,
           7,
           "Cluster 1"
          ],
          [
           26,
           7,
           "Cluster 1"
          ],
          [
           14,
           8,
           "Cluster 1"
          ],
          [
           44,
           7,
           "Cluster 1"
          ],
          [
           21,
           7,
           "Cluster 1"
          ],
          [
           62,
           7,
           "Cluster 1"
          ],
          [
           31,
           7,
           "Cluster 1"
          ],
          [
           42,
           9,
           "Cluster 1"
          ],
          [
           44,
           7,
           "Cluster 1"
          ],
          [
           62,
           7,
           "Cluster 1"
          ],
          [
           43,
           7,
           "Cluster 1"
          ],
          [
           44,
           8,
           "Cluster 1"
          ],
          [
           60,
           7,
           "Cluster 1"
          ],
          [
           26,
           7,
           "Cluster 1"
          ],
          [
           62,
           7,
           "Cluster 1"
          ],
          [
           62,
           7,
           "Cluster 1"
          ],
          [
           62,
           7,
           "Cluster 1"
          ],
          [
           26,
           7,
           "Cluster 1"
          ],
          [
           44,
           7,
           "Cluster 1"
          ],
          [
           62,
           7,
           "Cluster 1"
          ],
          [
           62,
           7,
           "Cluster 1"
          ],
          [
           62,
           7,
           "Cluster 1"
          ],
          [
           62,
           7,
           "Cluster 1"
          ],
          [
           45,
           9,
           "Cluster 1"
          ],
          [
           26,
           8,
           "Cluster 1"
          ],
          [
           62,
           7,
           "Cluster 1"
          ],
          [
           62,
           7,
           "Cluster 1"
          ],
          [
           45,
           9,
           "Cluster 1"
          ],
          [
           62,
           7,
           "Cluster 1"
          ],
          [
           26,
           8,
           "Cluster 1"
          ],
          [
           45,
           9,
           "Cluster 1"
          ],
          [
           45,
           9,
           "Cluster 1"
          ],
          [
           62,
           7,
           "Cluster 1"
          ],
          [
           62,
           7,
           "Cluster 1"
          ],
          [
           62,
           7,
           "Cluster 1"
          ],
          [
           62,
           7,
           "Cluster 1"
          ],
          [
           44,
           7,
           "Cluster 1"
          ],
          [
           44,
           7,
           "Cluster 1"
          ],
          [
           31,
           7,
           "Cluster 1"
          ],
          [
           36,
           6,
           "Cluster 1"
          ],
          [
           22,
           7,
           "Cluster 1"
          ],
          [
           62,
           7,
           "Cluster 1"
          ],
          [
           36,
           9,
           "Cluster 1"
          ],
          [
           19,
           9,
           "Cluster 1"
          ],
          [
           31,
           9,
           "Cluster 1"
          ],
          [
           58,
           7,
           "Cluster 1"
          ],
          [
           62,
           7,
           "Cluster 1"
          ],
          [
           3,
           9,
           "Cluster 1"
          ],
          [
           62,
           7,
           "Cluster 1"
          ],
          [
           62,
           7,
           "Cluster 1"
          ],
          [
           62,
           7,
           "Cluster 1"
          ],
          [
           62,
           7,
           "Cluster 1"
          ],
          [
           34,
           7,
           "Cluster 1"
          ],
          [
           44,
           6,
           "Cluster 1"
          ],
          [
           51,
           6,
           "Cluster 1"
          ],
          [
           62,
           7,
           "Cluster 1"
          ],
          [
           19,
           7,
           "Cluster 1"
          ],
          [
           7,
           6,
           "Cluster 1"
          ],
          [
           58,
           6,
           "Cluster 1"
          ],
          [
           62,
           7,
           "Cluster 1"
          ],
          [
           62,
           7,
           "Cluster 1"
          ],
          [
           23,
           7,
           "Cluster 1"
          ],
          [
           39,
           6,
           "Cluster 1"
          ],
          [
           40,
           9,
           "Cluster 1"
          ],
          [
           44,
           7,
           "Cluster 1"
          ],
          [
           62,
           7,
           "Cluster 1"
          ],
          [
           44,
           9,
           "Cluster 1"
          ],
          [
           62,
           7,
           "Cluster 1"
          ],
          [
           62,
           7,
           "Cluster 1"
          ],
          [
           26,
           7,
           "Cluster 1"
          ],
          [
           18,
           7,
           "Cluster 1"
          ],
          [
           62,
           7,
           "Cluster 1"
          ],
          [
           4,
           9,
           "Cluster 1"
          ],
          [
           7,
           7,
           "Cluster 1"
          ],
          [
           62,
           7,
           "Cluster 1"
          ],
          [
           62,
           7,
           "Cluster 1"
          ],
          [
           44,
           7,
           "Cluster 1"
          ],
          [
           14,
           7,
           "Cluster 1"
          ],
          [
           62,
           7,
           "Cluster 1"
          ],
          [
           26,
           8,
           "Cluster 1"
          ],
          [
           26,
           7,
           "Cluster 1"
          ],
          [
           44,
           7,
           "Cluster 1"
          ],
          [
           62,
           7,
           "Cluster 1"
          ],
          [
           44,
           7,
           "Cluster 1"
          ],
          [
           26,
           7,
           "Cluster 1"
          ],
          [
           45,
           9,
           "Cluster 1"
          ],
          [
           62,
           7,
           "Cluster 1"
          ],
          [
           44,
           9,
           "Cluster 1"
          ],
          [
           44,
           7,
           "Cluster 1"
          ],
          [
           26,
           7,
           "Cluster 1"
          ],
          [
           14,
           7,
           "Cluster 1"
          ],
          [
           44,
           7,
           "Cluster 1"
          ],
          [
           44,
           9,
           "Cluster 1"
          ],
          [
           62,
           7,
           "Cluster 1"
          ],
          [
           44,
           9,
           "Cluster 1"
          ],
          [
           31,
           7,
           "Cluster 1"
          ],
          [
           67,
           8,
           "Cluster 1"
          ],
          [
           57,
           8,
           "Cluster 1"
          ],
          [
           62,
           7,
           "Cluster 1"
          ],
          [
           26,
           7,
           "Cluster 1"
          ],
          [
           62,
           7,
           "Cluster 1"
          ],
          [
           62,
           7,
           "Cluster 1"
          ],
          [
           62,
           7,
           "Cluster 1"
          ],
          [
           62,
           7,
           "Cluster 1"
          ],
          [
           4,
           7,
           "Cluster 1"
          ],
          [
           4,
           9,
           "Cluster 1"
          ],
          [
           26,
           7,
           "Cluster 1"
          ],
          [
           26,
           8,
           "Cluster 1"
          ],
          [
           44,
           7,
           "Cluster 1"
          ],
          [
           62,
           7,
           "Cluster 1"
          ],
          [
           45,
           9,
           "Cluster 1"
          ],
          [
           62,
           7,
           "Cluster 1"
          ],
          [
           44,
           8,
           "Cluster 1"
          ],
          [
           62,
           7,
           "Cluster 1"
          ],
          [
           62,
           7,
           "Cluster 1"
          ],
          [
           62,
           7,
           "Cluster 1"
          ],
          [
           62,
           7,
           "Cluster 1"
          ],
          [
           62,
           7,
           "Cluster 1"
          ],
          [
           26,
           7,
           "Cluster 1"
          ],
          [
           44,
           7,
           "Cluster 1"
          ],
          [
           62,
           7,
           "Cluster 1"
          ],
          [
           26,
           7,
           "Cluster 1"
          ],
          [
           62,
           7,
           "Cluster 1"
          ],
          [
           45,
           9,
           "Cluster 1"
          ],
          [
           44,
           7,
           "Cluster 1"
          ],
          [
           31,
           7,
           "Cluster 1"
          ],
          [
           44,
           7,
           "Cluster 1"
          ],
          [
           62,
           7,
           "Cluster 1"
          ],
          [
           23,
           9,
           "Cluster 1"
          ],
          [
           62,
           7,
           "Cluster 1"
          ],
          [
           57,
           8,
           "Cluster 1"
          ],
          [
           62,
           7,
           "Cluster 1"
          ],
          [
           19,
           7,
           "Cluster 1"
          ],
          [
           41,
           7,
           "Cluster 1"
          ],
          [
           44,
           7,
           "Cluster 1"
          ],
          [
           62,
           7,
           "Cluster 1"
          ],
          [
           62,
           7,
           "Cluster 1"
          ],
          [
           62,
           7,
           "Cluster 1"
          ],
          [
           44,
           7,
           "Cluster 1"
          ],
          [
           9,
           8,
           "Cluster 1"
          ],
          [
           7,
           8,
           "Cluster 1"
          ],
          [
           62,
           7,
           "Cluster 1"
          ],
          [
           62,
           7,
           "Cluster 1"
          ],
          [
           62,
           7,
           "Cluster 1"
          ],
          [
           62,
           7,
           "Cluster 1"
          ],
          [
           44,
           7,
           "Cluster 1"
          ],
          [
           62,
           7,
           "Cluster 1"
          ],
          [
           62,
           7,
           "Cluster 1"
          ],
          [
           62,
           7,
           "Cluster 1"
          ],
          [
           62,
           7,
           "Cluster 1"
          ],
          [
           44,
           5,
           "Cluster 1"
          ],
          [
           44,
           9,
           "Cluster 1"
          ],
          [
           44,
           7,
           "Cluster 1"
          ],
          [
           26,
           7,
           "Cluster 1"
          ],
          [
           31,
           7,
           "Cluster 1"
          ],
          [
           62,
           7,
           "Cluster 1"
          ],
          [
           62,
           7,
           "Cluster 1"
          ],
          [
           1,
           6,
           "Cluster 1"
          ],
          [
           62,
           7,
           "Cluster 1"
          ],
          [
           62,
           7,
           "Cluster 1"
          ],
          [
           38,
           7,
           "Cluster 1"
          ],
          [
           44,
           7,
           "Cluster 1"
          ],
          [
           31,
           7,
           "Cluster 1"
          ],
          [
           62,
           7,
           "Cluster 1"
          ],
          [
           10,
           7,
           "Cluster 1"
          ],
          [
           26,
           7,
           "Cluster 1"
          ],
          [
           62,
           7,
           "Cluster 1"
          ],
          [
           57,
           8,
           "Cluster 1"
          ],
          [
           26,
           7,
           "Cluster 1"
          ],
          [
           60,
           6,
           "Cluster 1"
          ],
          [
           44,
           6,
           "Cluster 1"
          ],
          [
           62,
           7,
           "Cluster 1"
          ],
          [
           62,
           7,
           "Cluster 1"
          ],
          [
           44,
           7,
           "Cluster 1"
          ],
          [
           57,
           8,
           "Cluster 1"
          ],
          [
           45,
           9,
           "Cluster 1"
          ],
          [
           45,
           9,
           "Cluster 1"
          ],
          [
           62,
           7,
           "Cluster 1"
          ],
          [
           62,
           7,
           "Cluster 1"
          ],
          [
           44,
           7,
           "Cluster 1"
          ],
          [
           62,
           7,
           "Cluster 1"
          ],
          [
           44,
           7,
           "Cluster 1"
          ]
         ],
         "hovertemplate": "Cluster=%{customdata[2]}<br>New_Budget=%{customdata[0]}<br>Category=%{customdata[1]}<extra></extra>",
         "legendgroup": "Cluster 1",
         "marker": {
          "color": "#EF553B"
         },
         "name": "Cluster 1",
         "notched": true,
         "offsetgroup": "Cluster 1",
         "showlegend": false,
         "type": "box",
         "x": [
          "Cluster 1",
          "Cluster 1",
          "Cluster 1",
          "Cluster 1",
          "Cluster 1",
          "Cluster 1",
          "Cluster 1",
          "Cluster 1",
          "Cluster 1",
          "Cluster 1",
          "Cluster 1",
          "Cluster 1",
          "Cluster 1",
          "Cluster 1",
          "Cluster 1",
          "Cluster 1",
          "Cluster 1",
          "Cluster 1",
          "Cluster 1",
          "Cluster 1",
          "Cluster 1",
          "Cluster 1",
          "Cluster 1",
          "Cluster 1",
          "Cluster 1",
          "Cluster 1",
          "Cluster 1",
          "Cluster 1",
          "Cluster 1",
          "Cluster 1",
          "Cluster 1",
          "Cluster 1",
          "Cluster 1",
          "Cluster 1",
          "Cluster 1",
          "Cluster 1",
          "Cluster 1",
          "Cluster 1",
          "Cluster 1",
          "Cluster 1",
          "Cluster 1",
          "Cluster 1",
          "Cluster 1",
          "Cluster 1",
          "Cluster 1",
          "Cluster 1",
          "Cluster 1",
          "Cluster 1",
          "Cluster 1",
          "Cluster 1",
          "Cluster 1",
          "Cluster 1",
          "Cluster 1",
          "Cluster 1",
          "Cluster 1",
          "Cluster 1",
          "Cluster 1",
          "Cluster 1",
          "Cluster 1",
          "Cluster 1",
          "Cluster 1",
          "Cluster 1",
          "Cluster 1",
          "Cluster 1",
          "Cluster 1",
          "Cluster 1",
          "Cluster 1",
          "Cluster 1",
          "Cluster 1",
          "Cluster 1",
          "Cluster 1",
          "Cluster 1",
          "Cluster 1",
          "Cluster 1",
          "Cluster 1",
          "Cluster 1",
          "Cluster 1",
          "Cluster 1",
          "Cluster 1",
          "Cluster 1",
          "Cluster 1",
          "Cluster 1",
          "Cluster 1",
          "Cluster 1",
          "Cluster 1",
          "Cluster 1",
          "Cluster 1",
          "Cluster 1",
          "Cluster 1",
          "Cluster 1",
          "Cluster 1",
          "Cluster 1",
          "Cluster 1",
          "Cluster 1",
          "Cluster 1",
          "Cluster 1",
          "Cluster 1",
          "Cluster 1",
          "Cluster 1",
          "Cluster 1",
          "Cluster 1",
          "Cluster 1",
          "Cluster 1",
          "Cluster 1",
          "Cluster 1",
          "Cluster 1",
          "Cluster 1",
          "Cluster 1",
          "Cluster 1",
          "Cluster 1",
          "Cluster 1",
          "Cluster 1",
          "Cluster 1",
          "Cluster 1",
          "Cluster 1",
          "Cluster 1",
          "Cluster 1",
          "Cluster 1",
          "Cluster 1",
          "Cluster 1",
          "Cluster 1",
          "Cluster 1",
          "Cluster 1",
          "Cluster 1",
          "Cluster 1",
          "Cluster 1",
          "Cluster 1",
          "Cluster 1",
          "Cluster 1",
          "Cluster 1",
          "Cluster 1",
          "Cluster 1",
          "Cluster 1",
          "Cluster 1",
          "Cluster 1",
          "Cluster 1",
          "Cluster 1",
          "Cluster 1",
          "Cluster 1",
          "Cluster 1",
          "Cluster 1",
          "Cluster 1",
          "Cluster 1",
          "Cluster 1",
          "Cluster 1",
          "Cluster 1",
          "Cluster 1",
          "Cluster 1",
          "Cluster 1",
          "Cluster 1",
          "Cluster 1",
          "Cluster 1",
          "Cluster 1",
          "Cluster 1",
          "Cluster 1",
          "Cluster 1",
          "Cluster 1",
          "Cluster 1",
          "Cluster 1",
          "Cluster 1",
          "Cluster 1",
          "Cluster 1",
          "Cluster 1",
          "Cluster 1",
          "Cluster 1",
          "Cluster 1",
          "Cluster 1",
          "Cluster 1",
          "Cluster 1",
          "Cluster 1",
          "Cluster 1",
          "Cluster 1",
          "Cluster 1",
          "Cluster 1",
          "Cluster 1",
          "Cluster 1",
          "Cluster 1",
          "Cluster 1",
          "Cluster 1",
          "Cluster 1",
          "Cluster 1",
          "Cluster 1",
          "Cluster 1",
          "Cluster 1",
          "Cluster 1",
          "Cluster 1",
          "Cluster 1",
          "Cluster 1",
          "Cluster 1",
          "Cluster 1",
          "Cluster 1",
          "Cluster 1",
          "Cluster 1",
          "Cluster 1",
          "Cluster 1",
          "Cluster 1",
          "Cluster 1",
          "Cluster 1",
          "Cluster 1",
          "Cluster 1",
          "Cluster 1",
          "Cluster 1",
          "Cluster 1",
          "Cluster 1",
          "Cluster 1",
          "Cluster 1",
          "Cluster 1",
          "Cluster 1",
          "Cluster 1",
          "Cluster 1",
          "Cluster 1",
          "Cluster 1",
          "Cluster 1",
          "Cluster 1",
          "Cluster 1",
          "Cluster 1",
          "Cluster 1",
          "Cluster 1",
          "Cluster 1",
          "Cluster 1",
          "Cluster 1",
          "Cluster 1",
          "Cluster 1",
          "Cluster 1",
          "Cluster 1",
          "Cluster 1",
          "Cluster 1",
          "Cluster 1",
          "Cluster 1",
          "Cluster 1",
          "Cluster 1",
          "Cluster 1",
          "Cluster 1",
          "Cluster 1",
          "Cluster 1",
          "Cluster 1",
          "Cluster 1",
          "Cluster 1",
          "Cluster 1",
          "Cluster 1",
          "Cluster 1",
          "Cluster 1",
          "Cluster 1",
          "Cluster 1",
          "Cluster 1",
          "Cluster 1",
          "Cluster 1",
          "Cluster 1",
          "Cluster 1",
          "Cluster 1",
          "Cluster 1",
          "Cluster 1",
          "Cluster 1",
          "Cluster 1",
          "Cluster 1",
          "Cluster 1",
          "Cluster 1",
          "Cluster 1",
          "Cluster 1",
          "Cluster 1",
          "Cluster 1",
          "Cluster 1",
          "Cluster 1",
          "Cluster 1",
          "Cluster 1",
          "Cluster 1",
          "Cluster 1",
          "Cluster 1",
          "Cluster 1",
          "Cluster 1",
          "Cluster 1",
          "Cluster 1",
          "Cluster 1",
          "Cluster 1",
          "Cluster 1",
          "Cluster 1",
          "Cluster 1",
          "Cluster 1",
          "Cluster 1",
          "Cluster 1",
          "Cluster 1",
          "Cluster 1",
          "Cluster 1",
          "Cluster 1",
          "Cluster 1",
          "Cluster 1",
          "Cluster 1",
          "Cluster 1",
          "Cluster 1",
          "Cluster 1",
          "Cluster 1",
          "Cluster 1",
          "Cluster 1",
          "Cluster 1",
          "Cluster 1",
          "Cluster 1",
          "Cluster 1",
          "Cluster 1",
          "Cluster 1",
          "Cluster 1",
          "Cluster 1",
          "Cluster 1",
          "Cluster 1",
          "Cluster 1",
          "Cluster 1",
          "Cluster 1",
          "Cluster 1",
          "Cluster 1",
          "Cluster 1",
          "Cluster 1",
          "Cluster 1",
          "Cluster 1",
          "Cluster 1",
          "Cluster 1",
          "Cluster 1",
          "Cluster 1",
          "Cluster 1",
          "Cluster 1",
          "Cluster 1",
          "Cluster 1",
          "Cluster 1",
          "Cluster 1",
          "Cluster 1",
          "Cluster 1",
          "Cluster 1",
          "Cluster 1",
          "Cluster 1",
          "Cluster 1",
          "Cluster 1",
          "Cluster 1",
          "Cluster 1",
          "Cluster 1",
          "Cluster 1",
          "Cluster 1",
          "Cluster 1",
          "Cluster 1",
          "Cluster 1",
          "Cluster 1",
          "Cluster 1",
          "Cluster 1",
          "Cluster 1",
          "Cluster 1",
          "Cluster 1",
          "Cluster 1",
          "Cluster 1",
          "Cluster 1",
          "Cluster 1",
          "Cluster 1",
          "Cluster 1",
          "Cluster 1",
          "Cluster 1",
          "Cluster 1",
          "Cluster 1",
          "Cluster 1",
          "Cluster 1",
          "Cluster 1",
          "Cluster 1",
          "Cluster 1",
          "Cluster 1",
          "Cluster 1",
          "Cluster 1",
          "Cluster 1",
          "Cluster 1",
          "Cluster 1",
          "Cluster 1",
          "Cluster 1",
          "Cluster 1",
          "Cluster 1",
          "Cluster 1",
          "Cluster 1",
          "Cluster 1",
          "Cluster 1",
          "Cluster 1",
          "Cluster 1",
          "Cluster 1",
          "Cluster 1",
          "Cluster 1",
          "Cluster 1",
          "Cluster 1",
          "Cluster 1",
          "Cluster 1",
          "Cluster 1",
          "Cluster 1",
          "Cluster 1",
          "Cluster 1",
          "Cluster 1",
          "Cluster 1",
          "Cluster 1",
          "Cluster 1",
          "Cluster 1",
          "Cluster 1",
          "Cluster 1",
          "Cluster 1",
          "Cluster 1",
          "Cluster 1",
          "Cluster 1",
          "Cluster 1",
          "Cluster 1",
          "Cluster 1",
          "Cluster 1",
          "Cluster 1",
          "Cluster 1",
          "Cluster 1",
          "Cluster 1",
          "Cluster 1",
          "Cluster 1",
          "Cluster 1",
          "Cluster 1",
          "Cluster 1",
          "Cluster 1",
          "Cluster 1",
          "Cluster 1",
          "Cluster 1",
          "Cluster 1",
          "Cluster 1",
          "Cluster 1",
          "Cluster 1",
          "Cluster 1",
          "Cluster 1",
          "Cluster 1",
          "Cluster 1",
          "Cluster 1",
          "Cluster 1",
          "Cluster 1",
          "Cluster 1",
          "Cluster 1",
          "Cluster 1",
          "Cluster 1",
          "Cluster 1",
          "Cluster 1",
          "Cluster 1",
          "Cluster 1",
          "Cluster 1",
          "Cluster 1",
          "Cluster 1",
          "Cluster 1",
          "Cluster 1",
          "Cluster 1",
          "Cluster 1",
          "Cluster 1",
          "Cluster 1",
          "Cluster 1",
          "Cluster 1",
          "Cluster 1",
          "Cluster 1",
          "Cluster 1",
          "Cluster 1",
          "Cluster 1",
          "Cluster 1",
          "Cluster 1",
          "Cluster 1",
          "Cluster 1",
          "Cluster 1",
          "Cluster 1",
          "Cluster 1",
          "Cluster 1",
          "Cluster 1",
          "Cluster 1",
          "Cluster 1",
          "Cluster 1",
          "Cluster 1",
          "Cluster 1",
          "Cluster 1",
          "Cluster 1",
          "Cluster 1",
          "Cluster 1",
          "Cluster 1",
          "Cluster 1",
          "Cluster 1",
          "Cluster 1",
          "Cluster 1",
          "Cluster 1",
          "Cluster 1",
          "Cluster 1",
          "Cluster 1",
          "Cluster 1",
          "Cluster 1",
          "Cluster 1",
          "Cluster 1",
          "Cluster 1",
          "Cluster 1",
          "Cluster 1",
          "Cluster 1",
          "Cluster 1",
          "Cluster 1",
          "Cluster 1",
          "Cluster 1",
          "Cluster 1",
          "Cluster 1",
          "Cluster 1",
          "Cluster 1",
          "Cluster 1",
          "Cluster 1",
          "Cluster 1",
          "Cluster 1",
          "Cluster 1",
          "Cluster 1",
          "Cluster 1",
          "Cluster 1",
          "Cluster 1",
          "Cluster 1",
          "Cluster 1",
          "Cluster 1",
          "Cluster 1",
          "Cluster 1",
          "Cluster 1",
          "Cluster 1",
          "Cluster 1",
          "Cluster 1",
          "Cluster 1",
          "Cluster 1",
          "Cluster 1",
          "Cluster 1",
          "Cluster 1",
          "Cluster 1",
          "Cluster 1",
          "Cluster 1",
          "Cluster 1",
          "Cluster 1",
          "Cluster 1",
          "Cluster 1",
          "Cluster 1",
          "Cluster 1",
          "Cluster 1",
          "Cluster 1",
          "Cluster 1",
          "Cluster 1",
          "Cluster 1",
          "Cluster 1",
          "Cluster 1",
          "Cluster 1",
          "Cluster 1",
          "Cluster 1",
          "Cluster 1",
          "Cluster 1",
          "Cluster 1",
          "Cluster 1",
          "Cluster 1",
          "Cluster 1",
          "Cluster 1",
          "Cluster 1",
          "Cluster 1",
          "Cluster 1",
          "Cluster 1",
          "Cluster 1",
          "Cluster 1",
          "Cluster 1",
          "Cluster 1",
          "Cluster 1",
          "Cluster 1",
          "Cluster 1",
          "Cluster 1",
          "Cluster 1",
          "Cluster 1",
          "Cluster 1",
          "Cluster 1",
          "Cluster 1",
          "Cluster 1",
          "Cluster 1",
          "Cluster 1",
          "Cluster 1",
          "Cluster 1",
          "Cluster 1",
          "Cluster 1",
          "Cluster 1",
          "Cluster 1",
          "Cluster 1",
          "Cluster 1",
          "Cluster 1",
          "Cluster 1",
          "Cluster 1",
          "Cluster 1",
          "Cluster 1",
          "Cluster 1",
          "Cluster 1",
          "Cluster 1",
          "Cluster 1",
          "Cluster 1",
          "Cluster 1",
          "Cluster 1",
          "Cluster 1",
          "Cluster 1",
          "Cluster 1",
          "Cluster 1",
          "Cluster 1",
          "Cluster 1"
         ],
         "xaxis": "x2",
         "yaxis": "y2"
        },
        {
         "alignmentgroup": "True",
         "bingroup": "x",
         "hovertemplate": "Cluster=%{x}<br>count=%{y}<extra></extra>",
         "legendgroup": "Cluster 2",
         "marker": {
          "color": "#00cc96",
          "opacity": 0.7
         },
         "name": "Cluster 2",
         "offsetgroup": "Cluster 2",
         "orientation": "v",
         "showlegend": true,
         "type": "histogram",
         "x": [
          "Cluster 2",
          "Cluster 2",
          "Cluster 2",
          "Cluster 2",
          "Cluster 2",
          "Cluster 2",
          "Cluster 2",
          "Cluster 2",
          "Cluster 2",
          "Cluster 2",
          "Cluster 2",
          "Cluster 2",
          "Cluster 2",
          "Cluster 2",
          "Cluster 2",
          "Cluster 2",
          "Cluster 2",
          "Cluster 2",
          "Cluster 2",
          "Cluster 2",
          "Cluster 2",
          "Cluster 2",
          "Cluster 2",
          "Cluster 2",
          "Cluster 2",
          "Cluster 2",
          "Cluster 2",
          "Cluster 2",
          "Cluster 2",
          "Cluster 2",
          "Cluster 2",
          "Cluster 2",
          "Cluster 2",
          "Cluster 2",
          "Cluster 2",
          "Cluster 2",
          "Cluster 2",
          "Cluster 2",
          "Cluster 2",
          "Cluster 2",
          "Cluster 2",
          "Cluster 2",
          "Cluster 2",
          "Cluster 2",
          "Cluster 2",
          "Cluster 2",
          "Cluster 2",
          "Cluster 2",
          "Cluster 2",
          "Cluster 2",
          "Cluster 2",
          "Cluster 2",
          "Cluster 2",
          "Cluster 2",
          "Cluster 2",
          "Cluster 2",
          "Cluster 2",
          "Cluster 2",
          "Cluster 2",
          "Cluster 2",
          "Cluster 2",
          "Cluster 2",
          "Cluster 2",
          "Cluster 2",
          "Cluster 2",
          "Cluster 2",
          "Cluster 2",
          "Cluster 2",
          "Cluster 2",
          "Cluster 2",
          "Cluster 2",
          "Cluster 2",
          "Cluster 2",
          "Cluster 2",
          "Cluster 2",
          "Cluster 2",
          "Cluster 2",
          "Cluster 2",
          "Cluster 2",
          "Cluster 2",
          "Cluster 2",
          "Cluster 2",
          "Cluster 2",
          "Cluster 2",
          "Cluster 2",
          "Cluster 2",
          "Cluster 2",
          "Cluster 2",
          "Cluster 2",
          "Cluster 2",
          "Cluster 2",
          "Cluster 2",
          "Cluster 2",
          "Cluster 2",
          "Cluster 2",
          "Cluster 2",
          "Cluster 2",
          "Cluster 2",
          "Cluster 2",
          "Cluster 2",
          "Cluster 2",
          "Cluster 2",
          "Cluster 2",
          "Cluster 2",
          "Cluster 2",
          "Cluster 2",
          "Cluster 2",
          "Cluster 2",
          "Cluster 2",
          "Cluster 2",
          "Cluster 2",
          "Cluster 2",
          "Cluster 2",
          "Cluster 2",
          "Cluster 2",
          "Cluster 2",
          "Cluster 2",
          "Cluster 2",
          "Cluster 2",
          "Cluster 2",
          "Cluster 2",
          "Cluster 2",
          "Cluster 2",
          "Cluster 2",
          "Cluster 2",
          "Cluster 2",
          "Cluster 2",
          "Cluster 2",
          "Cluster 2",
          "Cluster 2",
          "Cluster 2",
          "Cluster 2",
          "Cluster 2",
          "Cluster 2",
          "Cluster 2",
          "Cluster 2",
          "Cluster 2",
          "Cluster 2",
          "Cluster 2",
          "Cluster 2",
          "Cluster 2",
          "Cluster 2",
          "Cluster 2",
          "Cluster 2",
          "Cluster 2",
          "Cluster 2",
          "Cluster 2",
          "Cluster 2",
          "Cluster 2",
          "Cluster 2",
          "Cluster 2",
          "Cluster 2",
          "Cluster 2",
          "Cluster 2",
          "Cluster 2",
          "Cluster 2",
          "Cluster 2",
          "Cluster 2",
          "Cluster 2",
          "Cluster 2",
          "Cluster 2",
          "Cluster 2",
          "Cluster 2",
          "Cluster 2",
          "Cluster 2",
          "Cluster 2",
          "Cluster 2",
          "Cluster 2",
          "Cluster 2",
          "Cluster 2",
          "Cluster 2",
          "Cluster 2",
          "Cluster 2",
          "Cluster 2",
          "Cluster 2",
          "Cluster 2",
          "Cluster 2",
          "Cluster 2",
          "Cluster 2",
          "Cluster 2",
          "Cluster 2",
          "Cluster 2",
          "Cluster 2",
          "Cluster 2",
          "Cluster 2",
          "Cluster 2",
          "Cluster 2",
          "Cluster 2",
          "Cluster 2",
          "Cluster 2",
          "Cluster 2",
          "Cluster 2",
          "Cluster 2",
          "Cluster 2",
          "Cluster 2",
          "Cluster 2",
          "Cluster 2",
          "Cluster 2",
          "Cluster 2",
          "Cluster 2",
          "Cluster 2",
          "Cluster 2",
          "Cluster 2",
          "Cluster 2",
          "Cluster 2",
          "Cluster 2",
          "Cluster 2",
          "Cluster 2",
          "Cluster 2",
          "Cluster 2",
          "Cluster 2",
          "Cluster 2",
          "Cluster 2",
          "Cluster 2",
          "Cluster 2",
          "Cluster 2",
          "Cluster 2",
          "Cluster 2",
          "Cluster 2",
          "Cluster 2",
          "Cluster 2",
          "Cluster 2",
          "Cluster 2",
          "Cluster 2",
          "Cluster 2",
          "Cluster 2",
          "Cluster 2",
          "Cluster 2",
          "Cluster 2",
          "Cluster 2",
          "Cluster 2",
          "Cluster 2",
          "Cluster 2",
          "Cluster 2",
          "Cluster 2",
          "Cluster 2",
          "Cluster 2",
          "Cluster 2",
          "Cluster 2",
          "Cluster 2",
          "Cluster 2",
          "Cluster 2",
          "Cluster 2",
          "Cluster 2",
          "Cluster 2",
          "Cluster 2",
          "Cluster 2",
          "Cluster 2",
          "Cluster 2",
          "Cluster 2",
          "Cluster 2",
          "Cluster 2",
          "Cluster 2",
          "Cluster 2",
          "Cluster 2",
          "Cluster 2",
          "Cluster 2",
          "Cluster 2",
          "Cluster 2",
          "Cluster 2",
          "Cluster 2",
          "Cluster 2",
          "Cluster 2",
          "Cluster 2",
          "Cluster 2",
          "Cluster 2",
          "Cluster 2",
          "Cluster 2",
          "Cluster 2",
          "Cluster 2",
          "Cluster 2",
          "Cluster 2",
          "Cluster 2",
          "Cluster 2",
          "Cluster 2",
          "Cluster 2",
          "Cluster 2",
          "Cluster 2",
          "Cluster 2",
          "Cluster 2",
          "Cluster 2",
          "Cluster 2",
          "Cluster 2",
          "Cluster 2",
          "Cluster 2",
          "Cluster 2",
          "Cluster 2",
          "Cluster 2",
          "Cluster 2",
          "Cluster 2",
          "Cluster 2",
          "Cluster 2",
          "Cluster 2",
          "Cluster 2",
          "Cluster 2",
          "Cluster 2",
          "Cluster 2",
          "Cluster 2",
          "Cluster 2",
          "Cluster 2",
          "Cluster 2",
          "Cluster 2",
          "Cluster 2",
          "Cluster 2",
          "Cluster 2",
          "Cluster 2",
          "Cluster 2",
          "Cluster 2",
          "Cluster 2",
          "Cluster 2",
          "Cluster 2",
          "Cluster 2",
          "Cluster 2",
          "Cluster 2",
          "Cluster 2",
          "Cluster 2",
          "Cluster 2",
          "Cluster 2",
          "Cluster 2",
          "Cluster 2",
          "Cluster 2",
          "Cluster 2",
          "Cluster 2",
          "Cluster 2",
          "Cluster 2",
          "Cluster 2",
          "Cluster 2",
          "Cluster 2",
          "Cluster 2",
          "Cluster 2",
          "Cluster 2",
          "Cluster 2",
          "Cluster 2",
          "Cluster 2",
          "Cluster 2",
          "Cluster 2",
          "Cluster 2",
          "Cluster 2",
          "Cluster 2",
          "Cluster 2",
          "Cluster 2",
          "Cluster 2",
          "Cluster 2",
          "Cluster 2",
          "Cluster 2",
          "Cluster 2",
          "Cluster 2",
          "Cluster 2",
          "Cluster 2",
          "Cluster 2",
          "Cluster 2",
          "Cluster 2",
          "Cluster 2",
          "Cluster 2",
          "Cluster 2",
          "Cluster 2",
          "Cluster 2",
          "Cluster 2",
          "Cluster 2",
          "Cluster 2",
          "Cluster 2",
          "Cluster 2",
          "Cluster 2",
          "Cluster 2",
          "Cluster 2",
          "Cluster 2",
          "Cluster 2",
          "Cluster 2",
          "Cluster 2",
          "Cluster 2",
          "Cluster 2",
          "Cluster 2",
          "Cluster 2",
          "Cluster 2",
          "Cluster 2",
          "Cluster 2",
          "Cluster 2",
          "Cluster 2",
          "Cluster 2",
          "Cluster 2",
          "Cluster 2",
          "Cluster 2",
          "Cluster 2",
          "Cluster 2",
          "Cluster 2",
          "Cluster 2",
          "Cluster 2",
          "Cluster 2",
          "Cluster 2",
          "Cluster 2",
          "Cluster 2",
          "Cluster 2",
          "Cluster 2",
          "Cluster 2",
          "Cluster 2",
          "Cluster 2",
          "Cluster 2",
          "Cluster 2",
          "Cluster 2",
          "Cluster 2",
          "Cluster 2",
          "Cluster 2",
          "Cluster 2",
          "Cluster 2",
          "Cluster 2",
          "Cluster 2",
          "Cluster 2",
          "Cluster 2",
          "Cluster 2",
          "Cluster 2",
          "Cluster 2",
          "Cluster 2",
          "Cluster 2",
          "Cluster 2",
          "Cluster 2",
          "Cluster 2",
          "Cluster 2",
          "Cluster 2",
          "Cluster 2",
          "Cluster 2",
          "Cluster 2",
          "Cluster 2",
          "Cluster 2",
          "Cluster 2",
          "Cluster 2",
          "Cluster 2",
          "Cluster 2",
          "Cluster 2",
          "Cluster 2",
          "Cluster 2",
          "Cluster 2",
          "Cluster 2",
          "Cluster 2",
          "Cluster 2",
          "Cluster 2",
          "Cluster 2",
          "Cluster 2",
          "Cluster 2",
          "Cluster 2",
          "Cluster 2",
          "Cluster 2",
          "Cluster 2",
          "Cluster 2",
          "Cluster 2",
          "Cluster 2",
          "Cluster 2",
          "Cluster 2",
          "Cluster 2",
          "Cluster 2",
          "Cluster 2",
          "Cluster 2",
          "Cluster 2",
          "Cluster 2",
          "Cluster 2",
          "Cluster 2",
          "Cluster 2",
          "Cluster 2",
          "Cluster 2",
          "Cluster 2",
          "Cluster 2",
          "Cluster 2",
          "Cluster 2",
          "Cluster 2",
          "Cluster 2",
          "Cluster 2",
          "Cluster 2",
          "Cluster 2",
          "Cluster 2",
          "Cluster 2",
          "Cluster 2",
          "Cluster 2",
          "Cluster 2",
          "Cluster 2",
          "Cluster 2",
          "Cluster 2",
          "Cluster 2",
          "Cluster 2",
          "Cluster 2",
          "Cluster 2",
          "Cluster 2",
          "Cluster 2",
          "Cluster 2",
          "Cluster 2",
          "Cluster 2",
          "Cluster 2",
          "Cluster 2",
          "Cluster 2",
          "Cluster 2",
          "Cluster 2",
          "Cluster 2",
          "Cluster 2",
          "Cluster 2",
          "Cluster 2",
          "Cluster 2",
          "Cluster 2",
          "Cluster 2",
          "Cluster 2",
          "Cluster 2",
          "Cluster 2",
          "Cluster 2",
          "Cluster 2",
          "Cluster 2",
          "Cluster 2",
          "Cluster 2",
          "Cluster 2"
         ],
         "xaxis": "x",
         "yaxis": "y"
        },
        {
         "alignmentgroup": "True",
         "customdata": [
          [
           72,
           8,
           "Cluster 2"
          ],
          [
           76,
           7,
           "Cluster 2"
          ],
          [
           77,
           7,
           "Cluster 2"
          ],
          [
           74,
           5,
           "Cluster 2"
          ],
          [
           72,
           8,
           "Cluster 2"
          ],
          [
           106,
           6,
           "Cluster 2"
          ],
          [
           81,
           6,
           "Cluster 2"
          ],
          [
           76,
           7,
           "Cluster 2"
          ],
          [
           77,
           7,
           "Cluster 2"
          ],
          [
           108,
           7,
           "Cluster 2"
          ],
          [
           72,
           8,
           "Cluster 2"
          ],
          [
           108,
           7,
           "Cluster 2"
          ],
          [
           76,
           7,
           "Cluster 2"
          ],
          [
           108,
           7,
           "Cluster 2"
          ],
          [
           76,
           7,
           "Cluster 2"
          ],
          [
           76,
           7,
           "Cluster 2"
          ],
          [
           108,
           7,
           "Cluster 2"
          ],
          [
           88,
           5,
           "Cluster 2"
          ],
          [
           72,
           8,
           "Cluster 2"
          ],
          [
           108,
           7,
           "Cluster 2"
          ],
          [
           76,
           7,
           "Cluster 2"
          ],
          [
           108,
           7,
           "Cluster 2"
          ],
          [
           72,
           8,
           "Cluster 2"
          ],
          [
           108,
           5,
           "Cluster 2"
          ],
          [
           72,
           8,
           "Cluster 2"
          ],
          [
           76,
           7,
           "Cluster 2"
          ],
          [
           94,
           6,
           "Cluster 2"
          ],
          [
           108,
           7,
           "Cluster 2"
          ],
          [
           108,
           9,
           "Cluster 2"
          ],
          [
           108,
           9,
           "Cluster 2"
          ],
          [
           108,
           7,
           "Cluster 2"
          ],
          [
           108,
           7,
           "Cluster 2"
          ],
          [
           108,
           6,
           "Cluster 2"
          ],
          [
           108,
           9,
           "Cluster 2"
          ],
          [
           108,
           7,
           "Cluster 2"
          ],
          [
           108,
           7,
           "Cluster 2"
          ],
          [
           72,
           8,
           "Cluster 2"
          ],
          [
           76,
           9,
           "Cluster 2"
          ],
          [
           76,
           7,
           "Cluster 2"
          ],
          [
           81,
           6,
           "Cluster 2"
          ],
          [
           76,
           7,
           "Cluster 2"
          ],
          [
           108,
           7,
           "Cluster 2"
          ],
          [
           72,
           8,
           "Cluster 2"
          ],
          [
           108,
           7,
           "Cluster 2"
          ],
          [
           108,
           7,
           "Cluster 2"
          ],
          [
           108,
           9,
           "Cluster 2"
          ],
          [
           94,
           7,
           "Cluster 2"
          ],
          [
           108,
           7,
           "Cluster 2"
          ],
          [
           72,
           8,
           "Cluster 2"
          ],
          [
           106,
           7,
           "Cluster 2"
          ],
          [
           76,
           7,
           "Cluster 2"
          ],
          [
           108,
           7,
           "Cluster 2"
          ],
          [
           108,
           7,
           "Cluster 2"
          ],
          [
           108,
           7,
           "Cluster 2"
          ],
          [
           106,
           6,
           "Cluster 2"
          ],
          [
           106,
           6,
           "Cluster 2"
          ],
          [
           108,
           6,
           "Cluster 2"
          ],
          [
           108,
           7,
           "Cluster 2"
          ],
          [
           108,
           7,
           "Cluster 2"
          ],
          [
           108,
           7,
           "Cluster 2"
          ],
          [
           108,
           7,
           "Cluster 2"
          ],
          [
           76,
           7,
           "Cluster 2"
          ],
          [
           108,
           7,
           "Cluster 2"
          ],
          [
           108,
           7,
           "Cluster 2"
          ],
          [
           76,
           7,
           "Cluster 2"
          ],
          [
           108,
           7,
           "Cluster 2"
          ],
          [
           76,
           9,
           "Cluster 2"
          ],
          [
           76,
           9,
           "Cluster 2"
          ],
          [
           108,
           9,
           "Cluster 2"
          ],
          [
           72,
           8,
           "Cluster 2"
          ],
          [
           108,
           7,
           "Cluster 2"
          ],
          [
           108,
           7,
           "Cluster 2"
          ],
          [
           108,
           9,
           "Cluster 2"
          ],
          [
           108,
           7,
           "Cluster 2"
          ],
          [
           108,
           7,
           "Cluster 2"
          ],
          [
           108,
           7,
           "Cluster 2"
          ],
          [
           108,
           7,
           "Cluster 2"
          ],
          [
           76,
           7,
           "Cluster 2"
          ],
          [
           108,
           9,
           "Cluster 2"
          ],
          [
           108,
           7,
           "Cluster 2"
          ],
          [
           108,
           6,
           "Cluster 2"
          ],
          [
           108,
           9,
           "Cluster 2"
          ],
          [
           79,
           7,
           "Cluster 2"
          ],
          [
           76,
           7,
           "Cluster 2"
          ],
          [
           76,
           9,
           "Cluster 2"
          ],
          [
           106,
           7,
           "Cluster 2"
          ],
          [
           95,
           9,
           "Cluster 2"
          ],
          [
           95,
           9,
           "Cluster 2"
          ],
          [
           76,
           9,
           "Cluster 2"
          ],
          [
           108,
           9,
           "Cluster 2"
          ],
          [
           108,
           9,
           "Cluster 2"
          ],
          [
           92,
           6,
           "Cluster 2"
          ],
          [
           106,
           5,
           "Cluster 2"
          ],
          [
           108,
           7,
           "Cluster 2"
          ],
          [
           108,
           7,
           "Cluster 2"
          ],
          [
           95,
           9,
           "Cluster 2"
          ],
          [
           108,
           6,
           "Cluster 2"
          ],
          [
           92,
           9,
           "Cluster 2"
          ],
          [
           71,
           9,
           "Cluster 2"
          ],
          [
           108,
           7,
           "Cluster 2"
          ],
          [
           108,
           8,
           "Cluster 2"
          ],
          [
           108,
           9,
           "Cluster 2"
          ],
          [
           106,
           7,
           "Cluster 2"
          ],
          [
           90,
           8,
           "Cluster 2"
          ],
          [
           76,
           8,
           "Cluster 2"
          ],
          [
           108,
           7,
           "Cluster 2"
          ],
          [
           76,
           9,
           "Cluster 2"
          ],
          [
           95,
           9,
           "Cluster 2"
          ],
          [
           95,
           9,
           "Cluster 2"
          ],
          [
           106,
           7,
           "Cluster 2"
          ],
          [
           106,
           8,
           "Cluster 2"
          ],
          [
           92,
           6,
           "Cluster 2"
          ],
          [
           106,
           7,
           "Cluster 2"
          ],
          [
           108,
           6,
           "Cluster 2"
          ],
          [
           108,
           7,
           "Cluster 2"
          ],
          [
           76,
           7,
           "Cluster 2"
          ],
          [
           108,
           8,
           "Cluster 2"
          ],
          [
           92,
           6,
           "Cluster 2"
          ],
          [
           108,
           9,
           "Cluster 2"
          ],
          [
           95,
           9,
           "Cluster 2"
          ],
          [
           108,
           7,
           "Cluster 2"
          ],
          [
           108,
           7,
           "Cluster 2"
          ],
          [
           106,
           7,
           "Cluster 2"
          ],
          [
           108,
           6,
           "Cluster 2"
          ],
          [
           76,
           7,
           "Cluster 2"
          ],
          [
           76,
           7,
           "Cluster 2"
          ],
          [
           92,
           6,
           "Cluster 2"
          ],
          [
           106,
           7,
           "Cluster 2"
          ],
          [
           106,
           6,
           "Cluster 2"
          ],
          [
           106,
           6,
           "Cluster 2"
          ],
          [
           106,
           6,
           "Cluster 2"
          ],
          [
           108,
           9,
           "Cluster 2"
          ],
          [
           92,
           6,
           "Cluster 2"
          ],
          [
           83,
           6,
           "Cluster 2"
          ],
          [
           77,
           7,
           "Cluster 2"
          ],
          [
           76,
           8,
           "Cluster 2"
          ],
          [
           108,
           7,
           "Cluster 2"
          ],
          [
           108,
           8,
           "Cluster 2"
          ],
          [
           95,
           9,
           "Cluster 2"
          ],
          [
           106,
           7,
           "Cluster 2"
          ],
          [
           95,
           9,
           "Cluster 2"
          ],
          [
           108,
           7,
           "Cluster 2"
          ],
          [
           76,
           7,
           "Cluster 2"
          ],
          [
           92,
           6,
           "Cluster 2"
          ],
          [
           108,
           9,
           "Cluster 2"
          ],
          [
           108,
           9,
           "Cluster 2"
          ],
          [
           108,
           7,
           "Cluster 2"
          ],
          [
           108,
           9,
           "Cluster 2"
          ],
          [
           108,
           9,
           "Cluster 2"
          ],
          [
           108,
           9,
           "Cluster 2"
          ],
          [
           108,
           7,
           "Cluster 2"
          ],
          [
           108,
           9,
           "Cluster 2"
          ],
          [
           95,
           9,
           "Cluster 2"
          ],
          [
           105,
           7,
           "Cluster 2"
          ],
          [
           95,
           9,
           "Cluster 2"
          ],
          [
           81,
           6,
           "Cluster 2"
          ],
          [
           76,
           7,
           "Cluster 2"
          ],
          [
           76,
           9,
           "Cluster 2"
          ],
          [
           108,
           7,
           "Cluster 2"
          ],
          [
           108,
           7,
           "Cluster 2"
          ],
          [
           108,
           9,
           "Cluster 2"
          ],
          [
           108,
           9,
           "Cluster 2"
          ],
          [
           108,
           7,
           "Cluster 2"
          ],
          [
           108,
           7,
           "Cluster 2"
          ],
          [
           108,
           7,
           "Cluster 2"
          ],
          [
           108,
           9,
           "Cluster 2"
          ],
          [
           72,
           8,
           "Cluster 2"
          ],
          [
           72,
           8,
           "Cluster 2"
          ],
          [
           108,
           7,
           "Cluster 2"
          ],
          [
           108,
           6,
           "Cluster 2"
          ],
          [
           108,
           7,
           "Cluster 2"
          ],
          [
           82,
           7,
           "Cluster 2"
          ],
          [
           76,
           8,
           "Cluster 2"
          ],
          [
           77,
           7,
           "Cluster 2"
          ],
          [
           76,
           7,
           "Cluster 2"
          ],
          [
           95,
           9,
           "Cluster 2"
          ],
          [
           76,
           7,
           "Cluster 2"
          ],
          [
           108,
           7,
           "Cluster 2"
          ],
          [
           95,
           9,
           "Cluster 2"
          ],
          [
           76,
           7,
           "Cluster 2"
          ],
          [
           106,
           7,
           "Cluster 2"
          ],
          [
           108,
           7,
           "Cluster 2"
          ],
          [
           72,
           8,
           "Cluster 2"
          ],
          [
           76,
           7,
           "Cluster 2"
          ],
          [
           95,
           9,
           "Cluster 2"
          ],
          [
           108,
           7,
           "Cluster 2"
          ],
          [
           108,
           9,
           "Cluster 2"
          ],
          [
           108,
           8,
           "Cluster 2"
          ],
          [
           76,
           7,
           "Cluster 2"
          ],
          [
           108,
           7,
           "Cluster 2"
          ],
          [
           106,
           7,
           "Cluster 2"
          ],
          [
           95,
           9,
           "Cluster 2"
          ],
          [
           108,
           7,
           "Cluster 2"
          ],
          [
           108,
           7,
           "Cluster 2"
          ],
          [
           108,
           7,
           "Cluster 2"
          ],
          [
           108,
           7,
           "Cluster 2"
          ],
          [
           108,
           8,
           "Cluster 2"
          ],
          [
           95,
           9,
           "Cluster 2"
          ],
          [
           95,
           9,
           "Cluster 2"
          ],
          [
           76,
           7,
           "Cluster 2"
          ],
          [
           108,
           9,
           "Cluster 2"
          ],
          [
           108,
           9,
           "Cluster 2"
          ],
          [
           108,
           9,
           "Cluster 2"
          ],
          [
           78,
           8,
           "Cluster 2"
          ],
          [
           76,
           9,
           "Cluster 2"
          ],
          [
           108,
           7,
           "Cluster 2"
          ],
          [
           108,
           7,
           "Cluster 2"
          ],
          [
           76,
           7,
           "Cluster 2"
          ],
          [
           108,
           7,
           "Cluster 2"
          ],
          [
           108,
           7,
           "Cluster 2"
          ],
          [
           76,
           8,
           "Cluster 2"
          ],
          [
           95,
           9,
           "Cluster 2"
          ],
          [
           73,
           7,
           "Cluster 2"
          ],
          [
           77,
           7,
           "Cluster 2"
          ],
          [
           108,
           9,
           "Cluster 2"
          ],
          [
           76,
           7,
           "Cluster 2"
          ],
          [
           108,
           7,
           "Cluster 2"
          ],
          [
           108,
           8,
           "Cluster 2"
          ],
          [
           95,
           9,
           "Cluster 2"
          ],
          [
           108,
           9,
           "Cluster 2"
          ],
          [
           76,
           8,
           "Cluster 2"
          ],
          [
           95,
           9,
           "Cluster 2"
          ],
          [
           108,
           6,
           "Cluster 2"
          ],
          [
           108,
           7,
           "Cluster 2"
          ],
          [
           108,
           7,
           "Cluster 2"
          ],
          [
           108,
           9,
           "Cluster 2"
          ],
          [
           95,
           9,
           "Cluster 2"
          ],
          [
           108,
           9,
           "Cluster 2"
          ],
          [
           108,
           7,
           "Cluster 2"
          ],
          [
           76,
           7,
           "Cluster 2"
          ],
          [
           76,
           7,
           "Cluster 2"
          ],
          [
           108,
           7,
           "Cluster 2"
          ],
          [
           108,
           9,
           "Cluster 2"
          ],
          [
           80,
           9,
           "Cluster 2"
          ],
          [
           106,
           8,
           "Cluster 2"
          ],
          [
           108,
           9,
           "Cluster 2"
          ],
          [
           106,
           7,
           "Cluster 2"
          ],
          [
           97,
           9,
           "Cluster 2"
          ],
          [
           108,
           8,
           "Cluster 2"
          ],
          [
           108,
           8,
           "Cluster 2"
          ],
          [
           108,
           7,
           "Cluster 2"
          ],
          [
           108,
           7,
           "Cluster 2"
          ],
          [
           108,
           9,
           "Cluster 2"
          ],
          [
           108,
           7,
           "Cluster 2"
          ],
          [
           108,
           9,
           "Cluster 2"
          ],
          [
           108,
           7,
           "Cluster 2"
          ],
          [
           89,
           7,
           "Cluster 2"
          ],
          [
           76,
           7,
           "Cluster 2"
          ],
          [
           108,
           7,
           "Cluster 2"
          ],
          [
           108,
           8,
           "Cluster 2"
          ],
          [
           97,
           9,
           "Cluster 2"
          ],
          [
           108,
           9,
           "Cluster 2"
          ],
          [
           108,
           7,
           "Cluster 2"
          ],
          [
           108,
           8,
           "Cluster 2"
          ],
          [
           108,
           8,
           "Cluster 2"
          ],
          [
           92,
           6,
           "Cluster 2"
          ],
          [
           92,
           6,
           "Cluster 2"
          ],
          [
           76,
           9,
           "Cluster 2"
          ],
          [
           108,
           6,
           "Cluster 2"
          ],
          [
           108,
           7,
           "Cluster 2"
          ],
          [
           108,
           8,
           "Cluster 2"
          ],
          [
           77,
           8,
           "Cluster 2"
          ],
          [
           108,
           7,
           "Cluster 2"
          ],
          [
           108,
           7,
           "Cluster 2"
          ],
          [
           92,
           6,
           "Cluster 2"
          ],
          [
           108,
           7,
           "Cluster 2"
          ],
          [
           97,
           9,
           "Cluster 2"
          ],
          [
           101,
           8,
           "Cluster 2"
          ],
          [
           108,
           8,
           "Cluster 2"
          ],
          [
           108,
           7,
           "Cluster 2"
          ],
          [
           108,
           7,
           "Cluster 2"
          ],
          [
           108,
           7,
           "Cluster 2"
          ],
          [
           108,
           7,
           "Cluster 2"
          ],
          [
           108,
           7,
           "Cluster 2"
          ],
          [
           97,
           9,
           "Cluster 2"
          ],
          [
           108,
           8,
           "Cluster 2"
          ],
          [
           108,
           7,
           "Cluster 2"
          ],
          [
           89,
           6,
           "Cluster 2"
          ],
          [
           108,
           8,
           "Cluster 2"
          ],
          [
           103,
           7,
           "Cluster 2"
          ],
          [
           91,
           9,
           "Cluster 2"
          ],
          [
           90,
           7,
           "Cluster 2"
          ],
          [
           108,
           8,
           "Cluster 2"
          ],
          [
           108,
           8,
           "Cluster 2"
          ],
          [
           97,
           9,
           "Cluster 2"
          ],
          [
           108,
           7,
           "Cluster 2"
          ],
          [
           88,
           8,
           "Cluster 2"
          ],
          [
           108,
           9,
           "Cluster 2"
          ],
          [
           88,
           7,
           "Cluster 2"
          ],
          [
           88,
           8,
           "Cluster 2"
          ],
          [
           108,
           9,
           "Cluster 2"
          ],
          [
           88,
           8,
           "Cluster 2"
          ],
          [
           103,
           7,
           "Cluster 2"
          ],
          [
           95,
           6,
           "Cluster 2"
          ],
          [
           76,
           7,
           "Cluster 2"
          ],
          [
           108,
           7,
           "Cluster 2"
          ],
          [
           108,
           7,
           "Cluster 2"
          ],
          [
           106,
           8,
           "Cluster 2"
          ],
          [
           106,
           9,
           "Cluster 2"
          ],
          [
           108,
           7,
           "Cluster 2"
          ],
          [
           76,
           7,
           "Cluster 2"
          ],
          [
           76,
           7,
           "Cluster 2"
          ],
          [
           97,
           9,
           "Cluster 2"
          ],
          [
           76,
           7,
           "Cluster 2"
          ],
          [
           91,
           9,
           "Cluster 2"
          ],
          [
           74,
           9,
           "Cluster 2"
          ],
          [
           108,
           9,
           "Cluster 2"
          ],
          [
           76,
           7,
           "Cluster 2"
          ],
          [
           76,
           7,
           "Cluster 2"
          ],
          [
           80,
           6,
           "Cluster 2"
          ],
          [
           88,
           8,
           "Cluster 2"
          ],
          [
           108,
           7,
           "Cluster 2"
          ],
          [
           88,
           5,
           "Cluster 2"
          ],
          [
           108,
           7,
           "Cluster 2"
          ],
          [
           108,
           9,
           "Cluster 2"
          ],
          [
           91,
           9,
           "Cluster 2"
          ],
          [
           108,
           7,
           "Cluster 2"
          ],
          [
           108,
           7,
           "Cluster 2"
          ],
          [
           90,
           8,
           "Cluster 2"
          ],
          [
           108,
           7,
           "Cluster 2"
          ],
          [
           106,
           6,
           "Cluster 2"
          ],
          [
           102,
           6,
           "Cluster 2"
          ],
          [
           88,
           8,
           "Cluster 2"
          ],
          [
           93,
           8,
           "Cluster 2"
          ],
          [
           88,
           8,
           "Cluster 2"
          ],
          [
           76,
           7,
           "Cluster 2"
          ],
          [
           88,
           8,
           "Cluster 2"
          ],
          [
           106,
           7,
           "Cluster 2"
          ],
          [
           108,
           9,
           "Cluster 2"
          ],
          [
           76,
           7,
           "Cluster 2"
          ],
          [
           91,
           9,
           "Cluster 2"
          ],
          [
           97,
           9,
           "Cluster 2"
          ],
          [
           76,
           7,
           "Cluster 2"
          ],
          [
           76,
           8,
           "Cluster 2"
          ],
          [
           91,
           8,
           "Cluster 2"
          ],
          [
           76,
           7,
           "Cluster 2"
          ],
          [
           108,
           7,
           "Cluster 2"
          ],
          [
           108,
           9,
           "Cluster 2"
          ],
          [
           71,
           8,
           "Cluster 2"
          ],
          [
           77,
           8,
           "Cluster 2"
          ],
          [
           108,
           7,
           "Cluster 2"
          ],
          [
           76,
           7,
           "Cluster 2"
          ],
          [
           84,
           6,
           "Cluster 2"
          ],
          [
           76,
           6,
           "Cluster 2"
          ],
          [
           108,
           9,
           "Cluster 2"
          ],
          [
           107,
           7,
           "Cluster 2"
          ],
          [
           108,
           9,
           "Cluster 2"
          ],
          [
           88,
           8,
           "Cluster 2"
          ],
          [
           91,
           9,
           "Cluster 2"
          ],
          [
           108,
           9,
           "Cluster 2"
          ],
          [
           108,
           8,
           "Cluster 2"
          ],
          [
           88,
           8,
           "Cluster 2"
          ],
          [
           85,
           7,
           "Cluster 2"
          ],
          [
           76,
           8,
           "Cluster 2"
          ],
          [
           78,
           7,
           "Cluster 2"
          ],
          [
           108,
           9,
           "Cluster 2"
          ],
          [
           77,
           6,
           "Cluster 2"
          ],
          [
           108,
           9,
           "Cluster 2"
          ],
          [
           101,
           8,
           "Cluster 2"
          ],
          [
           108,
           9,
           "Cluster 2"
          ],
          [
           108,
           9,
           "Cluster 2"
          ],
          [
           108,
           9,
           "Cluster 2"
          ],
          [
           108,
           7,
           "Cluster 2"
          ],
          [
           108,
           7,
           "Cluster 2"
          ],
          [
           108,
           7,
           "Cluster 2"
          ],
          [
           88,
           8,
           "Cluster 2"
          ],
          [
           108,
           9,
           "Cluster 2"
          ],
          [
           91,
           9,
           "Cluster 2"
          ],
          [
           106,
           6,
           "Cluster 2"
          ],
          [
           108,
           9,
           "Cluster 2"
          ],
          [
           86,
           7,
           "Cluster 2"
          ],
          [
           108,
           9,
           "Cluster 2"
          ],
          [
           97,
           9,
           "Cluster 2"
          ],
          [
           88,
           5,
           "Cluster 2"
          ],
          [
           108,
           9,
           "Cluster 2"
          ],
          [
           108,
           6,
           "Cluster 2"
          ],
          [
           76,
           8,
           "Cluster 2"
          ],
          [
           108,
           9,
           "Cluster 2"
          ],
          [
           106,
           6,
           "Cluster 2"
          ],
          [
           76,
           6,
           "Cluster 2"
          ],
          [
           88,
           8,
           "Cluster 2"
          ],
          [
           108,
           9,
           "Cluster 2"
          ],
          [
           76,
           9,
           "Cluster 2"
          ],
          [
           76,
           7,
           "Cluster 2"
          ],
          [
           76,
           7,
           "Cluster 2"
          ],
          [
           106,
           7,
           "Cluster 2"
          ],
          [
           76,
           7,
           "Cluster 2"
          ],
          [
           108,
           9,
           "Cluster 2"
          ],
          [
           76,
           6,
           "Cluster 2"
          ],
          [
           108,
           9,
           "Cluster 2"
          ],
          [
           108,
           9,
           "Cluster 2"
          ],
          [
           108,
           9,
           "Cluster 2"
          ],
          [
           76,
           7,
           "Cluster 2"
          ],
          [
           88,
           8,
           "Cluster 2"
          ],
          [
           108,
           7,
           "Cluster 2"
          ],
          [
           108,
           7,
           "Cluster 2"
          ],
          [
           108,
           7,
           "Cluster 2"
          ],
          [
           108,
           7,
           "Cluster 2"
          ],
          [
           108,
           9,
           "Cluster 2"
          ],
          [
           89,
           6,
           "Cluster 2"
          ],
          [
           108,
           7,
           "Cluster 2"
          ],
          [
           106,
           7,
           "Cluster 2"
          ],
          [
           108,
           7,
           "Cluster 2"
          ],
          [
           108,
           9,
           "Cluster 2"
          ],
          [
           106,
           7,
           "Cluster 2"
          ],
          [
           76,
           7,
           "Cluster 2"
          ],
          [
           88,
           8,
           "Cluster 2"
          ],
          [
           108,
           7,
           "Cluster 2"
          ],
          [
           76,
           7,
           "Cluster 2"
          ],
          [
           108,
           7,
           "Cluster 2"
          ],
          [
           106,
           6,
           "Cluster 2"
          ],
          [
           108,
           7,
           "Cluster 2"
          ],
          [
           76,
           9,
           "Cluster 2"
          ],
          [
           108,
           7,
           "Cluster 2"
          ],
          [
           76,
           7,
           "Cluster 2"
          ],
          [
           108,
           8,
           "Cluster 2"
          ],
          [
           106,
           8,
           "Cluster 2"
          ],
          [
           76,
           8,
           "Cluster 2"
          ],
          [
           108,
           7,
           "Cluster 2"
          ],
          [
           108,
           7,
           "Cluster 2"
          ],
          [
           108,
           7,
           "Cluster 2"
          ],
          [
           108,
           7,
           "Cluster 2"
          ],
          [
           72,
           8,
           "Cluster 2"
          ],
          [
           108,
           8,
           "Cluster 2"
          ],
          [
           108,
           7,
           "Cluster 2"
          ],
          [
           108,
           7,
           "Cluster 2"
          ],
          [
           76,
           7,
           "Cluster 2"
          ],
          [
           108,
           6,
           "Cluster 2"
          ],
          [
           108,
           7,
           "Cluster 2"
          ],
          [
           88,
           7,
           "Cluster 2"
          ],
          [
           106,
           8,
           "Cluster 2"
          ],
          [
           108,
           7,
           "Cluster 2"
          ],
          [
           108,
           8,
           "Cluster 2"
          ],
          [
           88,
           8,
           "Cluster 2"
          ],
          [
           108,
           9,
           "Cluster 2"
          ],
          [
           72,
           7,
           "Cluster 2"
          ],
          [
           77,
           8,
           "Cluster 2"
          ],
          [
           108,
           7,
           "Cluster 2"
          ],
          [
           108,
           7,
           "Cluster 2"
          ],
          [
           108,
           8,
           "Cluster 2"
          ],
          [
           108,
           6,
           "Cluster 2"
          ],
          [
           76,
           7,
           "Cluster 2"
          ],
          [
           108,
           9,
           "Cluster 2"
          ],
          [
           88,
           8,
           "Cluster 2"
          ],
          [
           108,
           7,
           "Cluster 2"
          ],
          [
           108,
           7,
           "Cluster 2"
          ],
          [
           76,
           7,
           "Cluster 2"
          ],
          [
           81,
           7,
           "Cluster 2"
          ],
          [
           76,
           9,
           "Cluster 2"
          ],
          [
           106,
           7,
           "Cluster 2"
          ],
          [
           108,
           7,
           "Cluster 2"
          ],
          [
           108,
           8,
           "Cluster 2"
          ],
          [
           108,
           9,
           "Cluster 2"
          ],
          [
           108,
           7,
           "Cluster 2"
          ],
          [
           76,
           7,
           "Cluster 2"
          ],
          [
           108,
           8,
           "Cluster 2"
          ],
          [
           108,
           9,
           "Cluster 2"
          ],
          [
           106,
           7,
           "Cluster 2"
          ],
          [
           108,
           7,
           "Cluster 2"
          ],
          [
           108,
           9,
           "Cluster 2"
          ],
          [
           108,
           8,
           "Cluster 2"
          ],
          [
           108,
           7,
           "Cluster 2"
          ],
          [
           108,
           7,
           "Cluster 2"
          ],
          [
           108,
           9,
           "Cluster 2"
          ],
          [
           92,
           6,
           "Cluster 2"
          ],
          [
           89,
           6,
           "Cluster 2"
          ],
          [
           108,
           7,
           "Cluster 2"
          ],
          [
           76,
           7,
           "Cluster 2"
          ],
          [
           108,
           7,
           "Cluster 2"
          ],
          [
           88,
           8,
           "Cluster 2"
          ],
          [
           108,
           8,
           "Cluster 2"
          ],
          [
           100,
           7,
           "Cluster 2"
          ],
          [
           108,
           7,
           "Cluster 2"
          ],
          [
           76,
           7,
           "Cluster 2"
          ],
          [
           88,
           8,
           "Cluster 2"
          ],
          [
           76,
           6,
           "Cluster 2"
          ],
          [
           108,
           5,
           "Cluster 2"
          ],
          [
           76,
           7,
           "Cluster 2"
          ],
          [
           108,
           9,
           "Cluster 2"
          ],
          [
           104,
           8,
           "Cluster 2"
          ],
          [
           108,
           7,
           "Cluster 2"
          ],
          [
           76,
           7,
           "Cluster 2"
          ],
          [
           108,
           9,
           "Cluster 2"
          ],
          [
           76,
           7,
           "Cluster 2"
          ],
          [
           76,
           6,
           "Cluster 2"
          ],
          [
           76,
           7,
           "Cluster 2"
          ],
          [
           108,
           7,
           "Cluster 2"
          ],
          [
           78,
           9,
           "Cluster 2"
          ],
          [
           76,
           7,
           "Cluster 2"
          ],
          [
           76,
           9,
           "Cluster 2"
          ],
          [
           77,
           7,
           "Cluster 2"
          ],
          [
           108,
           7,
           "Cluster 2"
          ],
          [
           76,
           8,
           "Cluster 2"
          ],
          [
           108,
           9,
           "Cluster 2"
          ],
          [
           108,
           9,
           "Cluster 2"
          ],
          [
           76,
           7,
           "Cluster 2"
          ],
          [
           108,
           8,
           "Cluster 2"
          ],
          [
           108,
           7,
           "Cluster 2"
          ],
          [
           108,
           7,
           "Cluster 2"
          ],
          [
           108,
           9,
           "Cluster 2"
          ],
          [
           108,
           7,
           "Cluster 2"
          ],
          [
           106,
           7,
           "Cluster 2"
          ],
          [
           98,
           7,
           "Cluster 2"
          ],
          [
           108,
           7,
           "Cluster 2"
          ],
          [
           108,
           7,
           "Cluster 2"
          ]
         ],
         "hovertemplate": "Cluster=%{customdata[2]}<br>New_Budget=%{customdata[0]}<br>Category=%{customdata[1]}<extra></extra>",
         "legendgroup": "Cluster 2",
         "marker": {
          "color": "#00cc96"
         },
         "name": "Cluster 2",
         "notched": true,
         "offsetgroup": "Cluster 2",
         "showlegend": false,
         "type": "box",
         "x": [
          "Cluster 2",
          "Cluster 2",
          "Cluster 2",
          "Cluster 2",
          "Cluster 2",
          "Cluster 2",
          "Cluster 2",
          "Cluster 2",
          "Cluster 2",
          "Cluster 2",
          "Cluster 2",
          "Cluster 2",
          "Cluster 2",
          "Cluster 2",
          "Cluster 2",
          "Cluster 2",
          "Cluster 2",
          "Cluster 2",
          "Cluster 2",
          "Cluster 2",
          "Cluster 2",
          "Cluster 2",
          "Cluster 2",
          "Cluster 2",
          "Cluster 2",
          "Cluster 2",
          "Cluster 2",
          "Cluster 2",
          "Cluster 2",
          "Cluster 2",
          "Cluster 2",
          "Cluster 2",
          "Cluster 2",
          "Cluster 2",
          "Cluster 2",
          "Cluster 2",
          "Cluster 2",
          "Cluster 2",
          "Cluster 2",
          "Cluster 2",
          "Cluster 2",
          "Cluster 2",
          "Cluster 2",
          "Cluster 2",
          "Cluster 2",
          "Cluster 2",
          "Cluster 2",
          "Cluster 2",
          "Cluster 2",
          "Cluster 2",
          "Cluster 2",
          "Cluster 2",
          "Cluster 2",
          "Cluster 2",
          "Cluster 2",
          "Cluster 2",
          "Cluster 2",
          "Cluster 2",
          "Cluster 2",
          "Cluster 2",
          "Cluster 2",
          "Cluster 2",
          "Cluster 2",
          "Cluster 2",
          "Cluster 2",
          "Cluster 2",
          "Cluster 2",
          "Cluster 2",
          "Cluster 2",
          "Cluster 2",
          "Cluster 2",
          "Cluster 2",
          "Cluster 2",
          "Cluster 2",
          "Cluster 2",
          "Cluster 2",
          "Cluster 2",
          "Cluster 2",
          "Cluster 2",
          "Cluster 2",
          "Cluster 2",
          "Cluster 2",
          "Cluster 2",
          "Cluster 2",
          "Cluster 2",
          "Cluster 2",
          "Cluster 2",
          "Cluster 2",
          "Cluster 2",
          "Cluster 2",
          "Cluster 2",
          "Cluster 2",
          "Cluster 2",
          "Cluster 2",
          "Cluster 2",
          "Cluster 2",
          "Cluster 2",
          "Cluster 2",
          "Cluster 2",
          "Cluster 2",
          "Cluster 2",
          "Cluster 2",
          "Cluster 2",
          "Cluster 2",
          "Cluster 2",
          "Cluster 2",
          "Cluster 2",
          "Cluster 2",
          "Cluster 2",
          "Cluster 2",
          "Cluster 2",
          "Cluster 2",
          "Cluster 2",
          "Cluster 2",
          "Cluster 2",
          "Cluster 2",
          "Cluster 2",
          "Cluster 2",
          "Cluster 2",
          "Cluster 2",
          "Cluster 2",
          "Cluster 2",
          "Cluster 2",
          "Cluster 2",
          "Cluster 2",
          "Cluster 2",
          "Cluster 2",
          "Cluster 2",
          "Cluster 2",
          "Cluster 2",
          "Cluster 2",
          "Cluster 2",
          "Cluster 2",
          "Cluster 2",
          "Cluster 2",
          "Cluster 2",
          "Cluster 2",
          "Cluster 2",
          "Cluster 2",
          "Cluster 2",
          "Cluster 2",
          "Cluster 2",
          "Cluster 2",
          "Cluster 2",
          "Cluster 2",
          "Cluster 2",
          "Cluster 2",
          "Cluster 2",
          "Cluster 2",
          "Cluster 2",
          "Cluster 2",
          "Cluster 2",
          "Cluster 2",
          "Cluster 2",
          "Cluster 2",
          "Cluster 2",
          "Cluster 2",
          "Cluster 2",
          "Cluster 2",
          "Cluster 2",
          "Cluster 2",
          "Cluster 2",
          "Cluster 2",
          "Cluster 2",
          "Cluster 2",
          "Cluster 2",
          "Cluster 2",
          "Cluster 2",
          "Cluster 2",
          "Cluster 2",
          "Cluster 2",
          "Cluster 2",
          "Cluster 2",
          "Cluster 2",
          "Cluster 2",
          "Cluster 2",
          "Cluster 2",
          "Cluster 2",
          "Cluster 2",
          "Cluster 2",
          "Cluster 2",
          "Cluster 2",
          "Cluster 2",
          "Cluster 2",
          "Cluster 2",
          "Cluster 2",
          "Cluster 2",
          "Cluster 2",
          "Cluster 2",
          "Cluster 2",
          "Cluster 2",
          "Cluster 2",
          "Cluster 2",
          "Cluster 2",
          "Cluster 2",
          "Cluster 2",
          "Cluster 2",
          "Cluster 2",
          "Cluster 2",
          "Cluster 2",
          "Cluster 2",
          "Cluster 2",
          "Cluster 2",
          "Cluster 2",
          "Cluster 2",
          "Cluster 2",
          "Cluster 2",
          "Cluster 2",
          "Cluster 2",
          "Cluster 2",
          "Cluster 2",
          "Cluster 2",
          "Cluster 2",
          "Cluster 2",
          "Cluster 2",
          "Cluster 2",
          "Cluster 2",
          "Cluster 2",
          "Cluster 2",
          "Cluster 2",
          "Cluster 2",
          "Cluster 2",
          "Cluster 2",
          "Cluster 2",
          "Cluster 2",
          "Cluster 2",
          "Cluster 2",
          "Cluster 2",
          "Cluster 2",
          "Cluster 2",
          "Cluster 2",
          "Cluster 2",
          "Cluster 2",
          "Cluster 2",
          "Cluster 2",
          "Cluster 2",
          "Cluster 2",
          "Cluster 2",
          "Cluster 2",
          "Cluster 2",
          "Cluster 2",
          "Cluster 2",
          "Cluster 2",
          "Cluster 2",
          "Cluster 2",
          "Cluster 2",
          "Cluster 2",
          "Cluster 2",
          "Cluster 2",
          "Cluster 2",
          "Cluster 2",
          "Cluster 2",
          "Cluster 2",
          "Cluster 2",
          "Cluster 2",
          "Cluster 2",
          "Cluster 2",
          "Cluster 2",
          "Cluster 2",
          "Cluster 2",
          "Cluster 2",
          "Cluster 2",
          "Cluster 2",
          "Cluster 2",
          "Cluster 2",
          "Cluster 2",
          "Cluster 2",
          "Cluster 2",
          "Cluster 2",
          "Cluster 2",
          "Cluster 2",
          "Cluster 2",
          "Cluster 2",
          "Cluster 2",
          "Cluster 2",
          "Cluster 2",
          "Cluster 2",
          "Cluster 2",
          "Cluster 2",
          "Cluster 2",
          "Cluster 2",
          "Cluster 2",
          "Cluster 2",
          "Cluster 2",
          "Cluster 2",
          "Cluster 2",
          "Cluster 2",
          "Cluster 2",
          "Cluster 2",
          "Cluster 2",
          "Cluster 2",
          "Cluster 2",
          "Cluster 2",
          "Cluster 2",
          "Cluster 2",
          "Cluster 2",
          "Cluster 2",
          "Cluster 2",
          "Cluster 2",
          "Cluster 2",
          "Cluster 2",
          "Cluster 2",
          "Cluster 2",
          "Cluster 2",
          "Cluster 2",
          "Cluster 2",
          "Cluster 2",
          "Cluster 2",
          "Cluster 2",
          "Cluster 2",
          "Cluster 2",
          "Cluster 2",
          "Cluster 2",
          "Cluster 2",
          "Cluster 2",
          "Cluster 2",
          "Cluster 2",
          "Cluster 2",
          "Cluster 2",
          "Cluster 2",
          "Cluster 2",
          "Cluster 2",
          "Cluster 2",
          "Cluster 2",
          "Cluster 2",
          "Cluster 2",
          "Cluster 2",
          "Cluster 2",
          "Cluster 2",
          "Cluster 2",
          "Cluster 2",
          "Cluster 2",
          "Cluster 2",
          "Cluster 2",
          "Cluster 2",
          "Cluster 2",
          "Cluster 2",
          "Cluster 2",
          "Cluster 2",
          "Cluster 2",
          "Cluster 2",
          "Cluster 2",
          "Cluster 2",
          "Cluster 2",
          "Cluster 2",
          "Cluster 2",
          "Cluster 2",
          "Cluster 2",
          "Cluster 2",
          "Cluster 2",
          "Cluster 2",
          "Cluster 2",
          "Cluster 2",
          "Cluster 2",
          "Cluster 2",
          "Cluster 2",
          "Cluster 2",
          "Cluster 2",
          "Cluster 2",
          "Cluster 2",
          "Cluster 2",
          "Cluster 2",
          "Cluster 2",
          "Cluster 2",
          "Cluster 2",
          "Cluster 2",
          "Cluster 2",
          "Cluster 2",
          "Cluster 2",
          "Cluster 2",
          "Cluster 2",
          "Cluster 2",
          "Cluster 2",
          "Cluster 2",
          "Cluster 2",
          "Cluster 2",
          "Cluster 2",
          "Cluster 2",
          "Cluster 2",
          "Cluster 2",
          "Cluster 2",
          "Cluster 2",
          "Cluster 2",
          "Cluster 2",
          "Cluster 2",
          "Cluster 2",
          "Cluster 2",
          "Cluster 2",
          "Cluster 2",
          "Cluster 2",
          "Cluster 2",
          "Cluster 2",
          "Cluster 2",
          "Cluster 2",
          "Cluster 2",
          "Cluster 2",
          "Cluster 2",
          "Cluster 2",
          "Cluster 2",
          "Cluster 2",
          "Cluster 2",
          "Cluster 2",
          "Cluster 2",
          "Cluster 2",
          "Cluster 2",
          "Cluster 2",
          "Cluster 2",
          "Cluster 2",
          "Cluster 2",
          "Cluster 2",
          "Cluster 2",
          "Cluster 2",
          "Cluster 2",
          "Cluster 2",
          "Cluster 2",
          "Cluster 2",
          "Cluster 2",
          "Cluster 2",
          "Cluster 2",
          "Cluster 2",
          "Cluster 2",
          "Cluster 2",
          "Cluster 2",
          "Cluster 2",
          "Cluster 2",
          "Cluster 2",
          "Cluster 2",
          "Cluster 2",
          "Cluster 2",
          "Cluster 2",
          "Cluster 2",
          "Cluster 2",
          "Cluster 2",
          "Cluster 2",
          "Cluster 2",
          "Cluster 2",
          "Cluster 2",
          "Cluster 2",
          "Cluster 2",
          "Cluster 2",
          "Cluster 2",
          "Cluster 2",
          "Cluster 2",
          "Cluster 2",
          "Cluster 2",
          "Cluster 2",
          "Cluster 2",
          "Cluster 2",
          "Cluster 2",
          "Cluster 2",
          "Cluster 2",
          "Cluster 2",
          "Cluster 2",
          "Cluster 2",
          "Cluster 2",
          "Cluster 2",
          "Cluster 2",
          "Cluster 2",
          "Cluster 2",
          "Cluster 2",
          "Cluster 2",
          "Cluster 2",
          "Cluster 2",
          "Cluster 2",
          "Cluster 2",
          "Cluster 2",
          "Cluster 2",
          "Cluster 2",
          "Cluster 2",
          "Cluster 2",
          "Cluster 2",
          "Cluster 2",
          "Cluster 2",
          "Cluster 2",
          "Cluster 2",
          "Cluster 2",
          "Cluster 2",
          "Cluster 2",
          "Cluster 2",
          "Cluster 2",
          "Cluster 2",
          "Cluster 2",
          "Cluster 2",
          "Cluster 2",
          "Cluster 2",
          "Cluster 2",
          "Cluster 2",
          "Cluster 2",
          "Cluster 2",
          "Cluster 2",
          "Cluster 2",
          "Cluster 2",
          "Cluster 2",
          "Cluster 2",
          "Cluster 2",
          "Cluster 2",
          "Cluster 2",
          "Cluster 2",
          "Cluster 2",
          "Cluster 2",
          "Cluster 2",
          "Cluster 2",
          "Cluster 2",
          "Cluster 2",
          "Cluster 2"
         ],
         "xaxis": "x2",
         "yaxis": "y2"
        },
        {
         "alignmentgroup": "True",
         "bingroup": "x",
         "hovertemplate": "Cluster=%{x}<br>count=%{y}<extra></extra>",
         "legendgroup": "Cluster 3",
         "marker": {
          "color": "#ab63fa",
          "opacity": 0.7
         },
         "name": "Cluster 3",
         "offsetgroup": "Cluster 3",
         "orientation": "v",
         "showlegend": true,
         "type": "histogram",
         "x": [
          "Cluster 3",
          "Cluster 3",
          "Cluster 3",
          "Cluster 3",
          "Cluster 3",
          "Cluster 3",
          "Cluster 3",
          "Cluster 3",
          "Cluster 3",
          "Cluster 3",
          "Cluster 3",
          "Cluster 3",
          "Cluster 3",
          "Cluster 3",
          "Cluster 3",
          "Cluster 3",
          "Cluster 3",
          "Cluster 3",
          "Cluster 3",
          "Cluster 3",
          "Cluster 3",
          "Cluster 3",
          "Cluster 3",
          "Cluster 3",
          "Cluster 3",
          "Cluster 3",
          "Cluster 3",
          "Cluster 3",
          "Cluster 3",
          "Cluster 3",
          "Cluster 3",
          "Cluster 3",
          "Cluster 3",
          "Cluster 3",
          "Cluster 3",
          "Cluster 3",
          "Cluster 3",
          "Cluster 3",
          "Cluster 3",
          "Cluster 3",
          "Cluster 3",
          "Cluster 3",
          "Cluster 3",
          "Cluster 3",
          "Cluster 3",
          "Cluster 3",
          "Cluster 3",
          "Cluster 3",
          "Cluster 3",
          "Cluster 3",
          "Cluster 3",
          "Cluster 3",
          "Cluster 3",
          "Cluster 3",
          "Cluster 3",
          "Cluster 3",
          "Cluster 3",
          "Cluster 3",
          "Cluster 3",
          "Cluster 3",
          "Cluster 3",
          "Cluster 3",
          "Cluster 3",
          "Cluster 3",
          "Cluster 3",
          "Cluster 3",
          "Cluster 3",
          "Cluster 3",
          "Cluster 3",
          "Cluster 3",
          "Cluster 3",
          "Cluster 3",
          "Cluster 3",
          "Cluster 3",
          "Cluster 3",
          "Cluster 3",
          "Cluster 3",
          "Cluster 3",
          "Cluster 3",
          "Cluster 3",
          "Cluster 3",
          "Cluster 3",
          "Cluster 3",
          "Cluster 3",
          "Cluster 3",
          "Cluster 3",
          "Cluster 3",
          "Cluster 3",
          "Cluster 3",
          "Cluster 3",
          "Cluster 3",
          "Cluster 3",
          "Cluster 3",
          "Cluster 3",
          "Cluster 3",
          "Cluster 3",
          "Cluster 3",
          "Cluster 3",
          "Cluster 3",
          "Cluster 3",
          "Cluster 3",
          "Cluster 3",
          "Cluster 3",
          "Cluster 3",
          "Cluster 3",
          "Cluster 3",
          "Cluster 3",
          "Cluster 3",
          "Cluster 3",
          "Cluster 3",
          "Cluster 3",
          "Cluster 3",
          "Cluster 3",
          "Cluster 3",
          "Cluster 3",
          "Cluster 3",
          "Cluster 3",
          "Cluster 3",
          "Cluster 3",
          "Cluster 3",
          "Cluster 3",
          "Cluster 3",
          "Cluster 3",
          "Cluster 3",
          "Cluster 3",
          "Cluster 3",
          "Cluster 3",
          "Cluster 3",
          "Cluster 3",
          "Cluster 3",
          "Cluster 3",
          "Cluster 3",
          "Cluster 3",
          "Cluster 3"
         ],
         "xaxis": "x",
         "yaxis": "y"
        },
        {
         "alignmentgroup": "True",
         "customdata": [
          [
           70,
           4,
           "Cluster 3"
          ],
          [
           53,
           2,
           "Cluster 3"
          ],
          [
           44,
           2,
           "Cluster 3"
          ],
          [
           44,
           4,
           "Cluster 3"
          ],
          [
           60,
           3,
           "Cluster 3"
          ],
          [
           60,
           0,
           "Cluster 3"
          ],
          [
           53,
           2,
           "Cluster 3"
          ],
          [
           61,
           4,
           "Cluster 3"
          ],
          [
           27,
           0,
           "Cluster 3"
          ],
          [
           66,
           0,
           "Cluster 3"
          ],
          [
           26,
           2,
           "Cluster 3"
          ],
          [
           54,
           3,
           "Cluster 3"
          ],
          [
           26,
           2,
           "Cluster 3"
          ],
          [
           70,
           4,
           "Cluster 3"
          ],
          [
           7,
           3,
           "Cluster 3"
          ],
          [
           47,
           0,
           "Cluster 3"
          ],
          [
           44,
           2,
           "Cluster 3"
          ],
          [
           26,
           4,
           "Cluster 3"
          ],
          [
           44,
           0,
           "Cluster 3"
          ],
          [
           44,
           2,
           "Cluster 3"
          ],
          [
           44,
           2,
           "Cluster 3"
          ],
          [
           50,
           4,
           "Cluster 3"
          ],
          [
           44,
           2,
           "Cluster 3"
          ],
          [
           70,
           4,
           "Cluster 3"
          ],
          [
           66,
           3,
           "Cluster 3"
          ],
          [
           60,
           4,
           "Cluster 3"
          ],
          [
           58,
           0,
           "Cluster 3"
          ],
          [
           62,
           1,
           "Cluster 3"
          ],
          [
           33,
           4,
           "Cluster 3"
          ],
          [
           44,
           0,
           "Cluster 3"
          ],
          [
           44,
           4,
           "Cluster 3"
          ],
          [
           7,
           2,
           "Cluster 3"
          ],
          [
           26,
           2,
           "Cluster 3"
          ],
          [
           14,
           4,
           "Cluster 3"
          ],
          [
           44,
           0,
           "Cluster 3"
          ],
          [
           52,
           4,
           "Cluster 3"
          ],
          [
           66,
           0,
           "Cluster 3"
          ],
          [
           46,
           4,
           "Cluster 3"
          ],
          [
           45,
           1,
           "Cluster 3"
          ],
          [
           33,
           2,
           "Cluster 3"
          ],
          [
           31,
           2,
           "Cluster 3"
          ],
          [
           44,
           4,
           "Cluster 3"
          ],
          [
           44,
           2,
           "Cluster 3"
          ],
          [
           44,
           4,
           "Cluster 3"
          ],
          [
           68,
           4,
           "Cluster 3"
          ],
          [
           68,
           4,
           "Cluster 3"
          ],
          [
           66,
           0,
           "Cluster 3"
          ],
          [
           34,
           4,
           "Cluster 3"
          ],
          [
           44,
           2,
           "Cluster 3"
          ],
          [
           36,
           2,
           "Cluster 3"
          ],
          [
           65,
           4,
           "Cluster 3"
          ],
          [
           50,
           4,
           "Cluster 3"
          ],
          [
           44,
           2,
           "Cluster 3"
          ],
          [
           62,
           4,
           "Cluster 3"
          ],
          [
           28,
           0,
           "Cluster 3"
          ],
          [
           66,
           4,
           "Cluster 3"
          ],
          [
           10,
           3,
           "Cluster 3"
          ],
          [
           44,
           2,
           "Cluster 3"
          ],
          [
           44,
           2,
           "Cluster 3"
          ],
          [
           63,
           4,
           "Cluster 3"
          ],
          [
           66,
           0,
           "Cluster 3"
          ],
          [
           63,
           4,
           "Cluster 3"
          ],
          [
           42,
           0,
           "Cluster 3"
          ],
          [
           53,
           2,
           "Cluster 3"
          ],
          [
           31,
           4,
           "Cluster 3"
          ],
          [
           48,
           4,
           "Cluster 3"
          ],
          [
           9,
           2,
           "Cluster 3"
          ],
          [
           46,
           4,
           "Cluster 3"
          ],
          [
           14,
           1,
           "Cluster 3"
          ],
          [
           46,
           4,
           "Cluster 3"
          ],
          [
           10,
           2,
           "Cluster 3"
          ],
          [
           26,
           4,
           "Cluster 3"
          ],
          [
           44,
           2,
           "Cluster 3"
          ],
          [
           53,
           2,
           "Cluster 3"
          ],
          [
           67,
           0,
           "Cluster 3"
          ],
          [
           44,
           4,
           "Cluster 3"
          ],
          [
           37,
           4,
           "Cluster 3"
          ],
          [
           53,
           2,
           "Cluster 3"
          ],
          [
           61,
           3,
           "Cluster 3"
          ],
          [
           44,
           2,
           "Cluster 3"
          ],
          [
           52,
           3,
           "Cluster 3"
          ],
          [
           68,
           4,
           "Cluster 3"
          ],
          [
           31,
           3,
           "Cluster 3"
          ],
          [
           64,
           2,
           "Cluster 3"
          ],
          [
           64,
           2,
           "Cluster 3"
          ],
          [
           44,
           3,
           "Cluster 3"
          ],
          [
           26,
           2,
           "Cluster 3"
          ],
          [
           20,
           3,
           "Cluster 3"
          ],
          [
           31,
           1,
           "Cluster 3"
          ],
          [
           72,
           4,
           "Cluster 3"
          ],
          [
           26,
           1,
           "Cluster 3"
          ],
          [
           31,
           1,
           "Cluster 3"
          ],
          [
           64,
           2,
           "Cluster 3"
          ],
          [
           44,
           0,
           "Cluster 3"
          ],
          [
           44,
           2,
           "Cluster 3"
          ],
          [
           16,
           0,
           "Cluster 3"
          ],
          [
           68,
           4,
           "Cluster 3"
          ],
          [
           64,
           2,
           "Cluster 3"
          ],
          [
           44,
           3,
           "Cluster 3"
          ],
          [
           44,
           4,
           "Cluster 3"
          ],
          [
           58,
           0,
           "Cluster 3"
          ],
          [
           64,
           2,
           "Cluster 3"
          ],
          [
           64,
           2,
           "Cluster 3"
          ],
          [
           19,
           2,
           "Cluster 3"
          ],
          [
           61,
           0,
           "Cluster 3"
          ],
          [
           67,
           2,
           "Cluster 3"
          ],
          [
           0,
           0,
           "Cluster 3"
          ],
          [
           13,
           3,
           "Cluster 3"
          ],
          [
           68,
           4,
           "Cluster 3"
          ],
          [
           52,
           3,
           "Cluster 3"
          ],
          [
           10,
           3,
           "Cluster 3"
          ],
          [
           44,
           2,
           "Cluster 3"
          ],
          [
           31,
           4,
           "Cluster 3"
          ],
          [
           61,
           3,
           "Cluster 3"
          ],
          [
           31,
           4,
           "Cluster 3"
          ],
          [
           44,
           3,
           "Cluster 3"
          ],
          [
           44,
           2,
           "Cluster 3"
          ],
          [
           64,
           2,
           "Cluster 3"
          ],
          [
           31,
           2,
           "Cluster 3"
          ],
          [
           64,
           2,
           "Cluster 3"
          ],
          [
           54,
           3,
           "Cluster 3"
          ],
          [
           64,
           2,
           "Cluster 3"
          ],
          [
           54,
           3,
           "Cluster 3"
          ],
          [
           64,
           0,
           "Cluster 3"
          ],
          [
           26,
           2,
           "Cluster 3"
          ],
          [
           7,
           2,
           "Cluster 3"
          ],
          [
           14,
           2,
           "Cluster 3"
          ],
          [
           26,
           4,
           "Cluster 3"
          ],
          [
           66,
           0,
           "Cluster 3"
          ],
          [
           54,
           3,
           "Cluster 3"
          ],
          [
           64,
           2,
           "Cluster 3"
          ],
          [
           58,
           3,
           "Cluster 3"
          ],
          [
           44,
           4,
           "Cluster 3"
          ],
          [
           63,
           4,
           "Cluster 3"
          ]
         ],
         "hovertemplate": "Cluster=%{customdata[2]}<br>New_Budget=%{customdata[0]}<br>Category=%{customdata[1]}<extra></extra>",
         "legendgroup": "Cluster 3",
         "marker": {
          "color": "#ab63fa"
         },
         "name": "Cluster 3",
         "notched": true,
         "offsetgroup": "Cluster 3",
         "showlegend": false,
         "type": "box",
         "x": [
          "Cluster 3",
          "Cluster 3",
          "Cluster 3",
          "Cluster 3",
          "Cluster 3",
          "Cluster 3",
          "Cluster 3",
          "Cluster 3",
          "Cluster 3",
          "Cluster 3",
          "Cluster 3",
          "Cluster 3",
          "Cluster 3",
          "Cluster 3",
          "Cluster 3",
          "Cluster 3",
          "Cluster 3",
          "Cluster 3",
          "Cluster 3",
          "Cluster 3",
          "Cluster 3",
          "Cluster 3",
          "Cluster 3",
          "Cluster 3",
          "Cluster 3",
          "Cluster 3",
          "Cluster 3",
          "Cluster 3",
          "Cluster 3",
          "Cluster 3",
          "Cluster 3",
          "Cluster 3",
          "Cluster 3",
          "Cluster 3",
          "Cluster 3",
          "Cluster 3",
          "Cluster 3",
          "Cluster 3",
          "Cluster 3",
          "Cluster 3",
          "Cluster 3",
          "Cluster 3",
          "Cluster 3",
          "Cluster 3",
          "Cluster 3",
          "Cluster 3",
          "Cluster 3",
          "Cluster 3",
          "Cluster 3",
          "Cluster 3",
          "Cluster 3",
          "Cluster 3",
          "Cluster 3",
          "Cluster 3",
          "Cluster 3",
          "Cluster 3",
          "Cluster 3",
          "Cluster 3",
          "Cluster 3",
          "Cluster 3",
          "Cluster 3",
          "Cluster 3",
          "Cluster 3",
          "Cluster 3",
          "Cluster 3",
          "Cluster 3",
          "Cluster 3",
          "Cluster 3",
          "Cluster 3",
          "Cluster 3",
          "Cluster 3",
          "Cluster 3",
          "Cluster 3",
          "Cluster 3",
          "Cluster 3",
          "Cluster 3",
          "Cluster 3",
          "Cluster 3",
          "Cluster 3",
          "Cluster 3",
          "Cluster 3",
          "Cluster 3",
          "Cluster 3",
          "Cluster 3",
          "Cluster 3",
          "Cluster 3",
          "Cluster 3",
          "Cluster 3",
          "Cluster 3",
          "Cluster 3",
          "Cluster 3",
          "Cluster 3",
          "Cluster 3",
          "Cluster 3",
          "Cluster 3",
          "Cluster 3",
          "Cluster 3",
          "Cluster 3",
          "Cluster 3",
          "Cluster 3",
          "Cluster 3",
          "Cluster 3",
          "Cluster 3",
          "Cluster 3",
          "Cluster 3",
          "Cluster 3",
          "Cluster 3",
          "Cluster 3",
          "Cluster 3",
          "Cluster 3",
          "Cluster 3",
          "Cluster 3",
          "Cluster 3",
          "Cluster 3",
          "Cluster 3",
          "Cluster 3",
          "Cluster 3",
          "Cluster 3",
          "Cluster 3",
          "Cluster 3",
          "Cluster 3",
          "Cluster 3",
          "Cluster 3",
          "Cluster 3",
          "Cluster 3",
          "Cluster 3",
          "Cluster 3",
          "Cluster 3",
          "Cluster 3",
          "Cluster 3",
          "Cluster 3",
          "Cluster 3",
          "Cluster 3",
          "Cluster 3"
         ],
         "xaxis": "x2",
         "yaxis": "y2"
        }
       ],
       "layout": {
        "barmode": "relative",
        "legend": {
         "title": {
          "text": "Cluster"
         },
         "tracegroupgap": 0
        },
        "margin": {
         "t": 60
        },
        "template": {
         "data": {
          "bar": [
           {
            "error_x": {
             "color": "#2a3f5f"
            },
            "error_y": {
             "color": "#2a3f5f"
            },
            "marker": {
             "line": {
              "color": "#E5ECF6",
              "width": 0.5
             }
            },
            "type": "bar"
           }
          ],
          "barpolar": [
           {
            "marker": {
             "line": {
              "color": "#E5ECF6",
              "width": 0.5
             }
            },
            "type": "barpolar"
           }
          ],
          "carpet": [
           {
            "aaxis": {
             "endlinecolor": "#2a3f5f",
             "gridcolor": "white",
             "linecolor": "white",
             "minorgridcolor": "white",
             "startlinecolor": "#2a3f5f"
            },
            "baxis": {
             "endlinecolor": "#2a3f5f",
             "gridcolor": "white",
             "linecolor": "white",
             "minorgridcolor": "white",
             "startlinecolor": "#2a3f5f"
            },
            "type": "carpet"
           }
          ],
          "choropleth": [
           {
            "colorbar": {
             "outlinewidth": 0,
             "ticks": ""
            },
            "type": "choropleth"
           }
          ],
          "contour": [
           {
            "colorbar": {
             "outlinewidth": 0,
             "ticks": ""
            },
            "colorscale": [
             [
              0,
              "#0d0887"
             ],
             [
              0.1111111111111111,
              "#46039f"
             ],
             [
              0.2222222222222222,
              "#7201a8"
             ],
             [
              0.3333333333333333,
              "#9c179e"
             ],
             [
              0.4444444444444444,
              "#bd3786"
             ],
             [
              0.5555555555555556,
              "#d8576b"
             ],
             [
              0.6666666666666666,
              "#ed7953"
             ],
             [
              0.7777777777777778,
              "#fb9f3a"
             ],
             [
              0.8888888888888888,
              "#fdca26"
             ],
             [
              1,
              "#f0f921"
             ]
            ],
            "type": "contour"
           }
          ],
          "contourcarpet": [
           {
            "colorbar": {
             "outlinewidth": 0,
             "ticks": ""
            },
            "type": "contourcarpet"
           }
          ],
          "heatmap": [
           {
            "colorbar": {
             "outlinewidth": 0,
             "ticks": ""
            },
            "colorscale": [
             [
              0,
              "#0d0887"
             ],
             [
              0.1111111111111111,
              "#46039f"
             ],
             [
              0.2222222222222222,
              "#7201a8"
             ],
             [
              0.3333333333333333,
              "#9c179e"
             ],
             [
              0.4444444444444444,
              "#bd3786"
             ],
             [
              0.5555555555555556,
              "#d8576b"
             ],
             [
              0.6666666666666666,
              "#ed7953"
             ],
             [
              0.7777777777777778,
              "#fb9f3a"
             ],
             [
              0.8888888888888888,
              "#fdca26"
             ],
             [
              1,
              "#f0f921"
             ]
            ],
            "type": "heatmap"
           }
          ],
          "heatmapgl": [
           {
            "colorbar": {
             "outlinewidth": 0,
             "ticks": ""
            },
            "colorscale": [
             [
              0,
              "#0d0887"
             ],
             [
              0.1111111111111111,
              "#46039f"
             ],
             [
              0.2222222222222222,
              "#7201a8"
             ],
             [
              0.3333333333333333,
              "#9c179e"
             ],
             [
              0.4444444444444444,
              "#bd3786"
             ],
             [
              0.5555555555555556,
              "#d8576b"
             ],
             [
              0.6666666666666666,
              "#ed7953"
             ],
             [
              0.7777777777777778,
              "#fb9f3a"
             ],
             [
              0.8888888888888888,
              "#fdca26"
             ],
             [
              1,
              "#f0f921"
             ]
            ],
            "type": "heatmapgl"
           }
          ],
          "histogram": [
           {
            "marker": {
             "colorbar": {
              "outlinewidth": 0,
              "ticks": ""
             }
            },
            "type": "histogram"
           }
          ],
          "histogram2d": [
           {
            "colorbar": {
             "outlinewidth": 0,
             "ticks": ""
            },
            "colorscale": [
             [
              0,
              "#0d0887"
             ],
             [
              0.1111111111111111,
              "#46039f"
             ],
             [
              0.2222222222222222,
              "#7201a8"
             ],
             [
              0.3333333333333333,
              "#9c179e"
             ],
             [
              0.4444444444444444,
              "#bd3786"
             ],
             [
              0.5555555555555556,
              "#d8576b"
             ],
             [
              0.6666666666666666,
              "#ed7953"
             ],
             [
              0.7777777777777778,
              "#fb9f3a"
             ],
             [
              0.8888888888888888,
              "#fdca26"
             ],
             [
              1,
              "#f0f921"
             ]
            ],
            "type": "histogram2d"
           }
          ],
          "histogram2dcontour": [
           {
            "colorbar": {
             "outlinewidth": 0,
             "ticks": ""
            },
            "colorscale": [
             [
              0,
              "#0d0887"
             ],
             [
              0.1111111111111111,
              "#46039f"
             ],
             [
              0.2222222222222222,
              "#7201a8"
             ],
             [
              0.3333333333333333,
              "#9c179e"
             ],
             [
              0.4444444444444444,
              "#bd3786"
             ],
             [
              0.5555555555555556,
              "#d8576b"
             ],
             [
              0.6666666666666666,
              "#ed7953"
             ],
             [
              0.7777777777777778,
              "#fb9f3a"
             ],
             [
              0.8888888888888888,
              "#fdca26"
             ],
             [
              1,
              "#f0f921"
             ]
            ],
            "type": "histogram2dcontour"
           }
          ],
          "mesh3d": [
           {
            "colorbar": {
             "outlinewidth": 0,
             "ticks": ""
            },
            "type": "mesh3d"
           }
          ],
          "parcoords": [
           {
            "line": {
             "colorbar": {
              "outlinewidth": 0,
              "ticks": ""
             }
            },
            "type": "parcoords"
           }
          ],
          "pie": [
           {
            "automargin": true,
            "type": "pie"
           }
          ],
          "scatter": [
           {
            "marker": {
             "colorbar": {
              "outlinewidth": 0,
              "ticks": ""
             }
            },
            "type": "scatter"
           }
          ],
          "scatter3d": [
           {
            "line": {
             "colorbar": {
              "outlinewidth": 0,
              "ticks": ""
             }
            },
            "marker": {
             "colorbar": {
              "outlinewidth": 0,
              "ticks": ""
             }
            },
            "type": "scatter3d"
           }
          ],
          "scattercarpet": [
           {
            "marker": {
             "colorbar": {
              "outlinewidth": 0,
              "ticks": ""
             }
            },
            "type": "scattercarpet"
           }
          ],
          "scattergeo": [
           {
            "marker": {
             "colorbar": {
              "outlinewidth": 0,
              "ticks": ""
             }
            },
            "type": "scattergeo"
           }
          ],
          "scattergl": [
           {
            "marker": {
             "colorbar": {
              "outlinewidth": 0,
              "ticks": ""
             }
            },
            "type": "scattergl"
           }
          ],
          "scattermapbox": [
           {
            "marker": {
             "colorbar": {
              "outlinewidth": 0,
              "ticks": ""
             }
            },
            "type": "scattermapbox"
           }
          ],
          "scatterpolar": [
           {
            "marker": {
             "colorbar": {
              "outlinewidth": 0,
              "ticks": ""
             }
            },
            "type": "scatterpolar"
           }
          ],
          "scatterpolargl": [
           {
            "marker": {
             "colorbar": {
              "outlinewidth": 0,
              "ticks": ""
             }
            },
            "type": "scatterpolargl"
           }
          ],
          "scatterternary": [
           {
            "marker": {
             "colorbar": {
              "outlinewidth": 0,
              "ticks": ""
             }
            },
            "type": "scatterternary"
           }
          ],
          "surface": [
           {
            "colorbar": {
             "outlinewidth": 0,
             "ticks": ""
            },
            "colorscale": [
             [
              0,
              "#0d0887"
             ],
             [
              0.1111111111111111,
              "#46039f"
             ],
             [
              0.2222222222222222,
              "#7201a8"
             ],
             [
              0.3333333333333333,
              "#9c179e"
             ],
             [
              0.4444444444444444,
              "#bd3786"
             ],
             [
              0.5555555555555556,
              "#d8576b"
             ],
             [
              0.6666666666666666,
              "#ed7953"
             ],
             [
              0.7777777777777778,
              "#fb9f3a"
             ],
             [
              0.8888888888888888,
              "#fdca26"
             ],
             [
              1,
              "#f0f921"
             ]
            ],
            "type": "surface"
           }
          ],
          "table": [
           {
            "cells": {
             "fill": {
              "color": "#EBF0F8"
             },
             "line": {
              "color": "white"
             }
            },
            "header": {
             "fill": {
              "color": "#C8D4E3"
             },
             "line": {
              "color": "white"
             }
            },
            "type": "table"
           }
          ]
         },
         "layout": {
          "annotationdefaults": {
           "arrowcolor": "#2a3f5f",
           "arrowhead": 0,
           "arrowwidth": 1
          },
          "coloraxis": {
           "colorbar": {
            "outlinewidth": 0,
            "ticks": ""
           }
          },
          "colorscale": {
           "diverging": [
            [
             0,
             "#8e0152"
            ],
            [
             0.1,
             "#c51b7d"
            ],
            [
             0.2,
             "#de77ae"
            ],
            [
             0.3,
             "#f1b6da"
            ],
            [
             0.4,
             "#fde0ef"
            ],
            [
             0.5,
             "#f7f7f7"
            ],
            [
             0.6,
             "#e6f5d0"
            ],
            [
             0.7,
             "#b8e186"
            ],
            [
             0.8,
             "#7fbc41"
            ],
            [
             0.9,
             "#4d9221"
            ],
            [
             1,
             "#276419"
            ]
           ],
           "sequential": [
            [
             0,
             "#0d0887"
            ],
            [
             0.1111111111111111,
             "#46039f"
            ],
            [
             0.2222222222222222,
             "#7201a8"
            ],
            [
             0.3333333333333333,
             "#9c179e"
            ],
            [
             0.4444444444444444,
             "#bd3786"
            ],
            [
             0.5555555555555556,
             "#d8576b"
            ],
            [
             0.6666666666666666,
             "#ed7953"
            ],
            [
             0.7777777777777778,
             "#fb9f3a"
            ],
            [
             0.8888888888888888,
             "#fdca26"
            ],
            [
             1,
             "#f0f921"
            ]
           ],
           "sequentialminus": [
            [
             0,
             "#0d0887"
            ],
            [
             0.1111111111111111,
             "#46039f"
            ],
            [
             0.2222222222222222,
             "#7201a8"
            ],
            [
             0.3333333333333333,
             "#9c179e"
            ],
            [
             0.4444444444444444,
             "#bd3786"
            ],
            [
             0.5555555555555556,
             "#d8576b"
            ],
            [
             0.6666666666666666,
             "#ed7953"
            ],
            [
             0.7777777777777778,
             "#fb9f3a"
            ],
            [
             0.8888888888888888,
             "#fdca26"
            ],
            [
             1,
             "#f0f921"
            ]
           ]
          },
          "colorway": [
           "#636efa",
           "#EF553B",
           "#00cc96",
           "#ab63fa",
           "#FFA15A",
           "#19d3f3",
           "#FF6692",
           "#B6E880",
           "#FF97FF",
           "#FECB52"
          ],
          "font": {
           "color": "#2a3f5f"
          },
          "geo": {
           "bgcolor": "white",
           "lakecolor": "white",
           "landcolor": "#E5ECF6",
           "showlakes": true,
           "showland": true,
           "subunitcolor": "white"
          },
          "hoverlabel": {
           "align": "left"
          },
          "hovermode": "closest",
          "mapbox": {
           "style": "light"
          },
          "paper_bgcolor": "white",
          "plot_bgcolor": "#E5ECF6",
          "polar": {
           "angularaxis": {
            "gridcolor": "white",
            "linecolor": "white",
            "ticks": ""
           },
           "bgcolor": "#E5ECF6",
           "radialaxis": {
            "gridcolor": "white",
            "linecolor": "white",
            "ticks": ""
           }
          },
          "scene": {
           "xaxis": {
            "backgroundcolor": "#E5ECF6",
            "gridcolor": "white",
            "gridwidth": 2,
            "linecolor": "white",
            "showbackground": true,
            "ticks": "",
            "zerolinecolor": "white"
           },
           "yaxis": {
            "backgroundcolor": "#E5ECF6",
            "gridcolor": "white",
            "gridwidth": 2,
            "linecolor": "white",
            "showbackground": true,
            "ticks": "",
            "zerolinecolor": "white"
           },
           "zaxis": {
            "backgroundcolor": "#E5ECF6",
            "gridcolor": "white",
            "gridwidth": 2,
            "linecolor": "white",
            "showbackground": true,
            "ticks": "",
            "zerolinecolor": "white"
           }
          },
          "shapedefaults": {
           "line": {
            "color": "#2a3f5f"
           }
          },
          "ternary": {
           "aaxis": {
            "gridcolor": "white",
            "linecolor": "white",
            "ticks": ""
           },
           "baxis": {
            "gridcolor": "white",
            "linecolor": "white",
            "ticks": ""
           },
           "bgcolor": "#E5ECF6",
           "caxis": {
            "gridcolor": "white",
            "linecolor": "white",
            "ticks": ""
           }
          },
          "title": {
           "x": 0.05
          },
          "xaxis": {
           "automargin": true,
           "gridcolor": "white",
           "linecolor": "white",
           "ticks": "",
           "title": {
            "standoff": 15
           },
           "zerolinecolor": "white",
           "zerolinewidth": 2
          },
          "yaxis": {
           "automargin": true,
           "gridcolor": "white",
           "linecolor": "white",
           "ticks": "",
           "title": {
            "standoff": 15
           },
           "zerolinecolor": "white",
           "zerolinewidth": 2
          }
         }
        },
        "xaxis": {
         "anchor": "y",
         "categoryarray": [
          "Cluster 0",
          "Cluster 1",
          "Cluster 2",
          "Cluster 3"
         ],
         "categoryorder": "array",
         "domain": [
          0,
          1
         ],
         "title": {
          "text": "Cluster"
         }
        },
        "xaxis2": {
         "anchor": "y2",
         "domain": [
          0,
          1
         ],
         "matches": "x",
         "showgrid": true,
         "showticklabels": false
        },
        "yaxis": {
         "anchor": "x",
         "domain": [
          0,
          0.7326
         ],
         "title": {
          "text": "count"
         }
        },
        "yaxis2": {
         "anchor": "x2",
         "domain": [
          0.7426,
          1
         ],
         "matches": "y2",
         "showgrid": false,
         "showline": false,
         "showticklabels": false,
         "ticks": ""
        }
       }
      },
      "text/html": [
       "<div>\n",
       "        \n",
       "        \n",
       "            <div id=\"4279f223-cb1c-43c2-bf0d-7d52ec7f7de4\" class=\"plotly-graph-div\" style=\"height:525px; width:100%;\"></div>\n",
       "            <script type=\"text/javascript\">\n",
       "                require([\"plotly\"], function(Plotly) {\n",
       "                    window.PLOTLYENV=window.PLOTLYENV || {};\n",
       "                    \n",
       "                if (document.getElementById(\"4279f223-cb1c-43c2-bf0d-7d52ec7f7de4\")) {\n",
       "                    Plotly.newPlot(\n",
       "                        '4279f223-cb1c-43c2-bf0d-7d52ec7f7de4',\n",
       "                        [{\"alignmentgroup\": \"True\", \"bingroup\": \"x\", \"hovertemplate\": \"Cluster=%{x}<br>count=%{y}<extra></extra>\", \"legendgroup\": \"Cluster 0\", \"marker\": {\"color\": \"#636efa\", \"opacity\": 0.7}, \"name\": \"Cluster 0\", \"offsetgroup\": \"Cluster 0\", \"orientation\": \"v\", \"showlegend\": true, \"type\": \"histogram\", \"x\": [\"Cluster 0\", \"Cluster 0\", \"Cluster 0\", \"Cluster 0\", \"Cluster 0\", \"Cluster 0\", \"Cluster 0\", \"Cluster 0\", \"Cluster 0\", \"Cluster 0\", \"Cluster 0\", \"Cluster 0\", \"Cluster 0\", \"Cluster 0\", \"Cluster 0\", \"Cluster 0\", \"Cluster 0\", \"Cluster 0\", \"Cluster 0\", \"Cluster 0\", \"Cluster 0\", \"Cluster 0\", \"Cluster 0\", \"Cluster 0\", \"Cluster 0\", \"Cluster 0\", \"Cluster 0\", \"Cluster 0\", \"Cluster 0\", \"Cluster 0\", \"Cluster 0\", \"Cluster 0\", \"Cluster 0\", \"Cluster 0\", \"Cluster 0\", \"Cluster 0\", \"Cluster 0\", \"Cluster 0\", \"Cluster 0\", \"Cluster 0\", \"Cluster 0\", \"Cluster 0\", \"Cluster 0\", \"Cluster 0\", \"Cluster 0\", \"Cluster 0\", \"Cluster 0\", \"Cluster 0\", \"Cluster 0\", \"Cluster 0\", \"Cluster 0\", \"Cluster 0\", \"Cluster 0\", \"Cluster 0\", \"Cluster 0\", \"Cluster 0\", \"Cluster 0\", \"Cluster 0\", \"Cluster 0\", \"Cluster 0\", \"Cluster 0\", \"Cluster 0\", \"Cluster 0\", \"Cluster 0\", \"Cluster 0\", \"Cluster 0\", \"Cluster 0\", \"Cluster 0\", \"Cluster 0\", \"Cluster 0\", \"Cluster 0\", \"Cluster 0\", \"Cluster 0\", \"Cluster 0\", \"Cluster 0\", \"Cluster 0\", \"Cluster 0\", \"Cluster 0\", \"Cluster 0\", \"Cluster 0\", \"Cluster 0\", \"Cluster 0\", \"Cluster 0\", \"Cluster 0\", \"Cluster 0\", \"Cluster 0\", \"Cluster 0\", \"Cluster 0\", \"Cluster 0\", \"Cluster 0\", \"Cluster 0\", \"Cluster 0\", \"Cluster 0\", \"Cluster 0\", \"Cluster 0\", \"Cluster 0\", \"Cluster 0\", \"Cluster 0\", \"Cluster 0\", \"Cluster 0\", \"Cluster 0\", \"Cluster 0\", \"Cluster 0\", \"Cluster 0\", \"Cluster 0\", \"Cluster 0\", \"Cluster 0\", \"Cluster 0\", \"Cluster 0\", \"Cluster 0\", \"Cluster 0\", \"Cluster 0\", \"Cluster 0\", \"Cluster 0\", \"Cluster 0\", \"Cluster 0\", \"Cluster 0\", \"Cluster 0\", \"Cluster 0\", \"Cluster 0\", \"Cluster 0\", \"Cluster 0\", \"Cluster 0\", \"Cluster 0\", \"Cluster 0\", \"Cluster 0\", \"Cluster 0\", \"Cluster 0\", \"Cluster 0\", \"Cluster 0\", \"Cluster 0\", \"Cluster 0\", \"Cluster 0\", \"Cluster 0\", \"Cluster 0\", \"Cluster 0\", \"Cluster 0\", \"Cluster 0\", \"Cluster 0\", \"Cluster 0\", \"Cluster 0\", \"Cluster 0\", \"Cluster 0\", \"Cluster 0\", \"Cluster 0\", \"Cluster 0\", \"Cluster 0\", \"Cluster 0\", \"Cluster 0\", \"Cluster 0\", \"Cluster 0\", \"Cluster 0\", \"Cluster 0\", \"Cluster 0\", \"Cluster 0\", \"Cluster 0\", \"Cluster 0\", \"Cluster 0\", \"Cluster 0\", \"Cluster 0\", \"Cluster 0\", \"Cluster 0\", \"Cluster 0\", \"Cluster 0\", \"Cluster 0\", \"Cluster 0\", \"Cluster 0\", \"Cluster 0\", \"Cluster 0\", \"Cluster 0\", \"Cluster 0\", \"Cluster 0\", \"Cluster 0\", \"Cluster 0\", \"Cluster 0\", \"Cluster 0\", \"Cluster 0\", \"Cluster 0\", \"Cluster 0\", \"Cluster 0\", \"Cluster 0\", \"Cluster 0\", \"Cluster 0\", \"Cluster 0\", \"Cluster 0\", \"Cluster 0\", \"Cluster 0\", \"Cluster 0\", \"Cluster 0\", \"Cluster 0\", \"Cluster 0\", \"Cluster 0\", \"Cluster 0\", \"Cluster 0\", \"Cluster 0\", \"Cluster 0\", \"Cluster 0\", \"Cluster 0\", \"Cluster 0\", \"Cluster 0\", \"Cluster 0\", \"Cluster 0\", \"Cluster 0\", \"Cluster 0\", \"Cluster 0\", \"Cluster 0\", \"Cluster 0\", \"Cluster 0\", \"Cluster 0\", \"Cluster 0\", \"Cluster 0\", \"Cluster 0\", \"Cluster 0\", \"Cluster 0\", \"Cluster 0\", \"Cluster 0\", \"Cluster 0\", \"Cluster 0\", \"Cluster 0\", \"Cluster 0\", \"Cluster 0\", \"Cluster 0\", \"Cluster 0\", \"Cluster 0\", \"Cluster 0\", \"Cluster 0\", \"Cluster 0\", \"Cluster 0\", \"Cluster 0\", \"Cluster 0\", \"Cluster 0\", \"Cluster 0\", \"Cluster 0\", \"Cluster 0\", \"Cluster 0\", \"Cluster 0\", \"Cluster 0\", \"Cluster 0\", \"Cluster 0\", \"Cluster 0\"], \"xaxis\": \"x\", \"yaxis\": \"y\"}, {\"alignmentgroup\": \"True\", \"customdata\": [[108.0, 2.0, \"Cluster 0\"], [80.0, 1.0, \"Cluster 0\"], [108.0, 2.0, \"Cluster 0\"], [106.0, 2.0, \"Cluster 0\"], [108.0, 2.0, \"Cluster 0\"], [80.0, 1.0, \"Cluster 0\"], [82.0, 2.0, \"Cluster 0\"], [80.0, 1.0, \"Cluster 0\"], [106.0, 2.0, \"Cluster 0\"], [108.0, 4.0, \"Cluster 0\"], [108.0, 2.0, \"Cluster 0\"], [80.0, 1.0, \"Cluster 0\"], [108.0, 2.0, \"Cluster 0\"], [82.0, 2.0, \"Cluster 0\"], [108.0, 0.0, \"Cluster 0\"], [108.0, 2.0, \"Cluster 0\"], [82.0, 2.0, \"Cluster 0\"], [82.0, 2.0, \"Cluster 0\"], [106.0, 2.0, \"Cluster 0\"], [108.0, 3.0, \"Cluster 0\"], [108.0, 2.0, \"Cluster 0\"], [82.0, 2.0, \"Cluster 0\"], [75.0, 2.0, \"Cluster 0\"], [108.0, 2.0, \"Cluster 0\"], [108.0, 3.0, \"Cluster 0\"], [108.0, 2.0, \"Cluster 0\"], [108.0, 2.0, \"Cluster 0\"], [82.0, 2.0, \"Cluster 0\"], [106.0, 1.0, \"Cluster 0\"], [82.0, 2.0, \"Cluster 0\"], [80.0, 1.0, \"Cluster 0\"], [108.0, 4.0, \"Cluster 0\"], [108.0, 2.0, \"Cluster 0\"], [108.0, 2.0, \"Cluster 0\"], [82.0, 2.0, \"Cluster 0\"], [87.0, 2.0, \"Cluster 0\"], [82.0, 2.0, \"Cluster 0\"], [73.0, 3.0, \"Cluster 0\"], [87.0, 2.0, \"Cluster 0\"], [108.0, 2.0, \"Cluster 0\"], [108.0, 2.0, \"Cluster 0\"], [87.0, 2.0, \"Cluster 0\"], [76.0, 2.0, \"Cluster 0\"], [108.0, 2.0, \"Cluster 0\"], [108.0, 1.0, \"Cluster 0\"], [108.0, 2.0, \"Cluster 0\"], [85.0, 2.0, \"Cluster 0\"], [108.0, 2.0, \"Cluster 0\"], [76.0, 2.0, \"Cluster 0\"], [108.0, 2.0, \"Cluster 0\"], [108.0, 2.0, \"Cluster 0\"], [108.0, 4.0, \"Cluster 0\"], [108.0, 2.0, \"Cluster 0\"], [108.0, 2.0, \"Cluster 0\"], [108.0, 4.0, \"Cluster 0\"], [82.0, 2.0, \"Cluster 0\"], [79.0, 0.0, \"Cluster 0\"], [99.0, 4.0, \"Cluster 0\"], [82.0, 2.0, \"Cluster 0\"], [82.0, 4.0, \"Cluster 0\"], [83.0, 1.0, \"Cluster 0\"], [108.0, 0.0, \"Cluster 0\"], [77.0, 0.0, \"Cluster 0\"], [80.0, 1.0, \"Cluster 0\"], [100.0, 3.0, \"Cluster 0\"], [108.0, 4.0, \"Cluster 0\"], [108.0, 2.0, \"Cluster 0\"], [76.0, 2.0, \"Cluster 0\"], [87.0, 2.0, \"Cluster 0\"], [80.0, 1.0, \"Cluster 0\"], [87.0, 2.0, \"Cluster 0\"], [106.0, 4.0, \"Cluster 0\"], [80.0, 1.0, \"Cluster 0\"], [91.0, 0.0, \"Cluster 0\"], [108.0, 2.0, \"Cluster 0\"], [80.0, 1.0, \"Cluster 0\"], [84.0, 3.0, \"Cluster 0\"], [108.0, 2.0, \"Cluster 0\"], [82.0, 2.0, \"Cluster 0\"], [108.0, 4.0, \"Cluster 0\"], [108.0, 2.0, \"Cluster 0\"], [79.0, 0.0, \"Cluster 0\"], [97.0, 0.0, \"Cluster 0\"], [82.0, 2.0, \"Cluster 0\"], [82.0, 2.0, \"Cluster 0\"], [108.0, 1.0, \"Cluster 0\"], [85.0, 2.0, \"Cluster 0\"], [108.0, 2.0, \"Cluster 0\"], [85.0, 2.0, \"Cluster 0\"], [108.0, 0.0, \"Cluster 0\"], [75.0, 4.0, \"Cluster 0\"], [76.0, 4.0, \"Cluster 0\"], [80.0, 1.0, \"Cluster 0\"], [108.0, 2.0, \"Cluster 0\"], [76.0, 2.0, \"Cluster 0\"], [108.0, 2.0, \"Cluster 0\"], [108.0, 2.0, \"Cluster 0\"], [82.0, 2.0, \"Cluster 0\"], [83.0, 1.0, \"Cluster 0\"], [83.0, 1.0, \"Cluster 0\"], [82.0, 2.0, \"Cluster 0\"], [71.0, 2.0, \"Cluster 0\"], [108.0, 2.0, \"Cluster 0\"], [82.0, 2.0, \"Cluster 0\"], [108.0, 2.0, \"Cluster 0\"], [82.0, 2.0, \"Cluster 0\"], [108.0, 2.0, \"Cluster 0\"], [82.0, 2.0, \"Cluster 0\"], [108.0, 1.0, \"Cluster 0\"], [108.0, 2.0, \"Cluster 0\"], [108.0, 3.0, \"Cluster 0\"], [82.0, 2.0, \"Cluster 0\"], [82.0, 2.0, \"Cluster 0\"], [108.0, 2.0, \"Cluster 0\"], [82.0, 2.0, \"Cluster 0\"], [108.0, 2.0, \"Cluster 0\"], [108.0, 2.0, \"Cluster 0\"], [108.0, 4.0, \"Cluster 0\"], [108.0, 2.0, \"Cluster 0\"], [82.0, 2.0, \"Cluster 0\"], [108.0, 4.0, \"Cluster 0\"], [76.0, 2.0, \"Cluster 0\"], [108.0, 2.0, \"Cluster 0\"], [108.0, 2.0, \"Cluster 0\"], [108.0, 2.0, \"Cluster 0\"], [82.0, 2.0, \"Cluster 0\"], [85.0, 2.0, \"Cluster 0\"], [108.0, 2.0, \"Cluster 0\"], [82.0, 2.0, \"Cluster 0\"], [83.0, 1.0, \"Cluster 0\"], [108.0, 2.0, \"Cluster 0\"], [108.0, 2.0, \"Cluster 0\"], [108.0, 2.0, \"Cluster 0\"], [88.0, 2.0, \"Cluster 0\"], [106.0, 0.0, \"Cluster 0\"], [108.0, 2.0, \"Cluster 0\"], [106.0, 0.0, \"Cluster 0\"], [108.0, 2.0, \"Cluster 0\"], [85.0, 2.0, \"Cluster 0\"], [82.0, 2.0, \"Cluster 0\"], [82.0, 2.0, \"Cluster 0\"], [85.0, 2.0, \"Cluster 0\"], [87.0, 2.0, \"Cluster 0\"], [85.0, 2.0, \"Cluster 0\"], [82.0, 2.0, \"Cluster 0\"], [108.0, 3.0, \"Cluster 0\"], [69.0, 0.0, \"Cluster 0\"], [87.0, 2.0, \"Cluster 0\"], [76.0, 3.0, \"Cluster 0\"], [108.0, 0.0, \"Cluster 0\"], [80.0, 1.0, \"Cluster 0\"], [95.0, 1.0, \"Cluster 0\"], [108.0, 2.0, \"Cluster 0\"], [87.0, 2.0, \"Cluster 0\"], [106.0, 0.0, \"Cluster 0\"], [75.0, 4.0, \"Cluster 0\"], [108.0, 4.0, \"Cluster 0\"], [87.0, 2.0, \"Cluster 0\"], [87.0, 2.0, \"Cluster 0\"], [108.0, 4.0, \"Cluster 0\"], [108.0, 3.0, \"Cluster 0\"], [108.0, 2.0, \"Cluster 0\"], [95.0, 1.0, \"Cluster 0\"], [87.0, 2.0, \"Cluster 0\"], [108.0, 2.0, \"Cluster 0\"], [82.0, 2.0, \"Cluster 0\"], [108.0, 2.0, \"Cluster 0\"], [87.0, 2.0, \"Cluster 0\"], [87.0, 2.0, \"Cluster 0\"], [99.0, 0.0, \"Cluster 0\"], [108.0, 2.0, \"Cluster 0\"], [87.0, 2.0, \"Cluster 0\"], [106.0, 0.0, \"Cluster 0\"], [108.0, 1.0, \"Cluster 0\"], [87.0, 2.0, \"Cluster 0\"], [82.0, 2.0, \"Cluster 0\"], [108.0, 0.0, \"Cluster 0\"], [82.0, 2.0, \"Cluster 0\"], [97.0, 3.0, \"Cluster 0\"], [108.0, 0.0, \"Cluster 0\"], [108.0, 2.0, \"Cluster 0\"], [108.0, 2.0, \"Cluster 0\"], [108.0, 2.0, \"Cluster 0\"], [87.0, 2.0, \"Cluster 0\"], [77.0, 3.0, \"Cluster 0\"], [75.0, 4.0, \"Cluster 0\"], [108.0, 2.0, \"Cluster 0\"], [76.0, 2.0, \"Cluster 0\"], [75.0, 4.0, \"Cluster 0\"], [108.0, 3.0, \"Cluster 0\"], [108.0, 2.0, \"Cluster 0\"], [77.0, 3.0, \"Cluster 0\"], [87.0, 2.0, \"Cluster 0\"], [108.0, 2.0, \"Cluster 0\"], [106.0, 3.0, \"Cluster 0\"], [95.0, 1.0, \"Cluster 0\"], [108.0, 4.0, \"Cluster 0\"], [82.0, 2.0, \"Cluster 0\"], [108.0, 2.0, \"Cluster 0\"], [76.0, 2.0, \"Cluster 0\"], [87.0, 2.0, \"Cluster 0\"], [108.0, 2.0, \"Cluster 0\"], [82.0, 2.0, \"Cluster 0\"], [108.0, 1.0, \"Cluster 0\"], [108.0, 2.0, \"Cluster 0\"], [108.0, 2.0, \"Cluster 0\"], [108.0, 2.0, \"Cluster 0\"], [85.0, 2.0, \"Cluster 0\"], [87.0, 2.0, \"Cluster 0\"], [108.0, 2.0, \"Cluster 0\"], [108.0, 4.0, \"Cluster 0\"], [108.0, 4.0, \"Cluster 0\"], [106.0, 0.0, \"Cluster 0\"], [96.0, 0.0, \"Cluster 0\"], [87.0, 2.0, \"Cluster 0\"], [80.0, 1.0, \"Cluster 0\"], [95.0, 1.0, \"Cluster 0\"], [108.0, 2.0, \"Cluster 0\"], [108.0, 2.0, \"Cluster 0\"], [85.0, 2.0, \"Cluster 0\"], [108.0, 2.0, \"Cluster 0\"], [87.0, 1.0, \"Cluster 0\"], [95.0, 1.0, \"Cluster 0\"], [108.0, 2.0, \"Cluster 0\"], [108.0, 2.0, \"Cluster 0\"], [87.0, 2.0, \"Cluster 0\"], [108.0, 2.0, \"Cluster 0\"], [108.0, 2.0, \"Cluster 0\"], [108.0, 2.0, \"Cluster 0\"], [108.0, 2.0, \"Cluster 0\"], [86.0, 1.0, \"Cluster 0\"], [87.0, 2.0, \"Cluster 0\"], [108.0, 2.0, \"Cluster 0\"], [76.0, 2.0, \"Cluster 0\"], [108.0, 1.0, \"Cluster 0\"], [76.0, 2.0, \"Cluster 0\"], [87.0, 2.0, \"Cluster 0\"], [95.0, 1.0, \"Cluster 0\"], [82.0, 2.0, \"Cluster 0\"], [87.0, 2.0, \"Cluster 0\"]], \"hovertemplate\": \"Cluster=%{customdata[2]}<br>New_Budget=%{customdata[0]}<br>Category=%{customdata[1]}<extra></extra>\", \"legendgroup\": \"Cluster 0\", \"marker\": {\"color\": \"#636efa\"}, \"name\": \"Cluster 0\", \"notched\": true, \"offsetgroup\": \"Cluster 0\", \"showlegend\": false, \"type\": \"box\", \"x\": [\"Cluster 0\", \"Cluster 0\", \"Cluster 0\", \"Cluster 0\", \"Cluster 0\", \"Cluster 0\", \"Cluster 0\", \"Cluster 0\", \"Cluster 0\", \"Cluster 0\", \"Cluster 0\", \"Cluster 0\", \"Cluster 0\", \"Cluster 0\", \"Cluster 0\", \"Cluster 0\", \"Cluster 0\", \"Cluster 0\", \"Cluster 0\", \"Cluster 0\", \"Cluster 0\", \"Cluster 0\", \"Cluster 0\", \"Cluster 0\", \"Cluster 0\", \"Cluster 0\", \"Cluster 0\", \"Cluster 0\", \"Cluster 0\", \"Cluster 0\", \"Cluster 0\", \"Cluster 0\", \"Cluster 0\", \"Cluster 0\", \"Cluster 0\", \"Cluster 0\", \"Cluster 0\", \"Cluster 0\", \"Cluster 0\", \"Cluster 0\", \"Cluster 0\", \"Cluster 0\", \"Cluster 0\", \"Cluster 0\", \"Cluster 0\", \"Cluster 0\", \"Cluster 0\", \"Cluster 0\", \"Cluster 0\", \"Cluster 0\", \"Cluster 0\", \"Cluster 0\", \"Cluster 0\", \"Cluster 0\", \"Cluster 0\", \"Cluster 0\", \"Cluster 0\", \"Cluster 0\", \"Cluster 0\", \"Cluster 0\", \"Cluster 0\", \"Cluster 0\", \"Cluster 0\", \"Cluster 0\", \"Cluster 0\", \"Cluster 0\", \"Cluster 0\", \"Cluster 0\", \"Cluster 0\", \"Cluster 0\", \"Cluster 0\", \"Cluster 0\", \"Cluster 0\", \"Cluster 0\", \"Cluster 0\", \"Cluster 0\", \"Cluster 0\", \"Cluster 0\", \"Cluster 0\", \"Cluster 0\", \"Cluster 0\", \"Cluster 0\", \"Cluster 0\", \"Cluster 0\", \"Cluster 0\", \"Cluster 0\", \"Cluster 0\", \"Cluster 0\", \"Cluster 0\", \"Cluster 0\", \"Cluster 0\", \"Cluster 0\", \"Cluster 0\", \"Cluster 0\", \"Cluster 0\", \"Cluster 0\", \"Cluster 0\", \"Cluster 0\", \"Cluster 0\", \"Cluster 0\", \"Cluster 0\", \"Cluster 0\", \"Cluster 0\", \"Cluster 0\", \"Cluster 0\", \"Cluster 0\", \"Cluster 0\", \"Cluster 0\", \"Cluster 0\", \"Cluster 0\", \"Cluster 0\", \"Cluster 0\", \"Cluster 0\", \"Cluster 0\", \"Cluster 0\", \"Cluster 0\", \"Cluster 0\", \"Cluster 0\", \"Cluster 0\", \"Cluster 0\", \"Cluster 0\", \"Cluster 0\", \"Cluster 0\", \"Cluster 0\", \"Cluster 0\", \"Cluster 0\", \"Cluster 0\", \"Cluster 0\", \"Cluster 0\", \"Cluster 0\", \"Cluster 0\", \"Cluster 0\", \"Cluster 0\", \"Cluster 0\", \"Cluster 0\", \"Cluster 0\", \"Cluster 0\", \"Cluster 0\", \"Cluster 0\", \"Cluster 0\", \"Cluster 0\", \"Cluster 0\", \"Cluster 0\", \"Cluster 0\", \"Cluster 0\", \"Cluster 0\", \"Cluster 0\", \"Cluster 0\", \"Cluster 0\", \"Cluster 0\", \"Cluster 0\", \"Cluster 0\", \"Cluster 0\", \"Cluster 0\", \"Cluster 0\", \"Cluster 0\", \"Cluster 0\", \"Cluster 0\", \"Cluster 0\", \"Cluster 0\", \"Cluster 0\", \"Cluster 0\", \"Cluster 0\", \"Cluster 0\", \"Cluster 0\", \"Cluster 0\", \"Cluster 0\", \"Cluster 0\", \"Cluster 0\", \"Cluster 0\", \"Cluster 0\", \"Cluster 0\", \"Cluster 0\", \"Cluster 0\", \"Cluster 0\", \"Cluster 0\", \"Cluster 0\", \"Cluster 0\", \"Cluster 0\", \"Cluster 0\", \"Cluster 0\", \"Cluster 0\", \"Cluster 0\", \"Cluster 0\", \"Cluster 0\", \"Cluster 0\", \"Cluster 0\", \"Cluster 0\", \"Cluster 0\", \"Cluster 0\", \"Cluster 0\", \"Cluster 0\", \"Cluster 0\", \"Cluster 0\", \"Cluster 0\", \"Cluster 0\", \"Cluster 0\", \"Cluster 0\", \"Cluster 0\", \"Cluster 0\", \"Cluster 0\", \"Cluster 0\", \"Cluster 0\", \"Cluster 0\", \"Cluster 0\", \"Cluster 0\", \"Cluster 0\", \"Cluster 0\", \"Cluster 0\", \"Cluster 0\", \"Cluster 0\", \"Cluster 0\", \"Cluster 0\", \"Cluster 0\", \"Cluster 0\", \"Cluster 0\", \"Cluster 0\", \"Cluster 0\", \"Cluster 0\", \"Cluster 0\", \"Cluster 0\", \"Cluster 0\", \"Cluster 0\", \"Cluster 0\", \"Cluster 0\", \"Cluster 0\", \"Cluster 0\", \"Cluster 0\", \"Cluster 0\", \"Cluster 0\", \"Cluster 0\", \"Cluster 0\", \"Cluster 0\", \"Cluster 0\", \"Cluster 0\", \"Cluster 0\", \"Cluster 0\", \"Cluster 0\", \"Cluster 0\", \"Cluster 0\"], \"xaxis\": \"x2\", \"yaxis\": \"y2\"}, {\"alignmentgroup\": \"True\", \"bingroup\": \"x\", \"hovertemplate\": \"Cluster=%{x}<br>count=%{y}<extra></extra>\", \"legendgroup\": \"Cluster 1\", \"marker\": {\"color\": \"#EF553B\", \"opacity\": 0.7}, \"name\": \"Cluster 1\", \"offsetgroup\": \"Cluster 1\", \"orientation\": \"v\", \"showlegend\": true, \"type\": \"histogram\", \"x\": [\"Cluster 1\", \"Cluster 1\", \"Cluster 1\", \"Cluster 1\", \"Cluster 1\", \"Cluster 1\", \"Cluster 1\", \"Cluster 1\", \"Cluster 1\", \"Cluster 1\", \"Cluster 1\", \"Cluster 1\", \"Cluster 1\", \"Cluster 1\", \"Cluster 1\", \"Cluster 1\", \"Cluster 1\", \"Cluster 1\", \"Cluster 1\", \"Cluster 1\", \"Cluster 1\", \"Cluster 1\", \"Cluster 1\", \"Cluster 1\", \"Cluster 1\", \"Cluster 1\", \"Cluster 1\", \"Cluster 1\", \"Cluster 1\", \"Cluster 1\", \"Cluster 1\", \"Cluster 1\", \"Cluster 1\", \"Cluster 1\", \"Cluster 1\", \"Cluster 1\", \"Cluster 1\", \"Cluster 1\", \"Cluster 1\", \"Cluster 1\", \"Cluster 1\", \"Cluster 1\", \"Cluster 1\", \"Cluster 1\", \"Cluster 1\", \"Cluster 1\", \"Cluster 1\", \"Cluster 1\", \"Cluster 1\", \"Cluster 1\", \"Cluster 1\", \"Cluster 1\", \"Cluster 1\", \"Cluster 1\", \"Cluster 1\", \"Cluster 1\", \"Cluster 1\", \"Cluster 1\", \"Cluster 1\", \"Cluster 1\", \"Cluster 1\", \"Cluster 1\", \"Cluster 1\", \"Cluster 1\", \"Cluster 1\", \"Cluster 1\", \"Cluster 1\", \"Cluster 1\", \"Cluster 1\", \"Cluster 1\", \"Cluster 1\", \"Cluster 1\", \"Cluster 1\", \"Cluster 1\", \"Cluster 1\", \"Cluster 1\", \"Cluster 1\", \"Cluster 1\", \"Cluster 1\", \"Cluster 1\", \"Cluster 1\", \"Cluster 1\", \"Cluster 1\", \"Cluster 1\", \"Cluster 1\", \"Cluster 1\", \"Cluster 1\", \"Cluster 1\", \"Cluster 1\", \"Cluster 1\", \"Cluster 1\", \"Cluster 1\", \"Cluster 1\", \"Cluster 1\", \"Cluster 1\", \"Cluster 1\", \"Cluster 1\", \"Cluster 1\", \"Cluster 1\", \"Cluster 1\", \"Cluster 1\", \"Cluster 1\", \"Cluster 1\", \"Cluster 1\", \"Cluster 1\", \"Cluster 1\", \"Cluster 1\", \"Cluster 1\", \"Cluster 1\", \"Cluster 1\", \"Cluster 1\", \"Cluster 1\", \"Cluster 1\", \"Cluster 1\", \"Cluster 1\", \"Cluster 1\", \"Cluster 1\", \"Cluster 1\", \"Cluster 1\", \"Cluster 1\", \"Cluster 1\", \"Cluster 1\", \"Cluster 1\", \"Cluster 1\", \"Cluster 1\", \"Cluster 1\", \"Cluster 1\", \"Cluster 1\", \"Cluster 1\", \"Cluster 1\", \"Cluster 1\", \"Cluster 1\", \"Cluster 1\", \"Cluster 1\", \"Cluster 1\", \"Cluster 1\", \"Cluster 1\", \"Cluster 1\", \"Cluster 1\", \"Cluster 1\", \"Cluster 1\", \"Cluster 1\", \"Cluster 1\", \"Cluster 1\", \"Cluster 1\", \"Cluster 1\", \"Cluster 1\", \"Cluster 1\", \"Cluster 1\", \"Cluster 1\", \"Cluster 1\", \"Cluster 1\", \"Cluster 1\", \"Cluster 1\", \"Cluster 1\", \"Cluster 1\", \"Cluster 1\", \"Cluster 1\", \"Cluster 1\", \"Cluster 1\", \"Cluster 1\", \"Cluster 1\", \"Cluster 1\", \"Cluster 1\", \"Cluster 1\", \"Cluster 1\", \"Cluster 1\", \"Cluster 1\", \"Cluster 1\", \"Cluster 1\", \"Cluster 1\", \"Cluster 1\", \"Cluster 1\", \"Cluster 1\", \"Cluster 1\", \"Cluster 1\", \"Cluster 1\", \"Cluster 1\", \"Cluster 1\", \"Cluster 1\", \"Cluster 1\", \"Cluster 1\", \"Cluster 1\", \"Cluster 1\", \"Cluster 1\", \"Cluster 1\", \"Cluster 1\", \"Cluster 1\", \"Cluster 1\", \"Cluster 1\", \"Cluster 1\", \"Cluster 1\", \"Cluster 1\", \"Cluster 1\", \"Cluster 1\", \"Cluster 1\", \"Cluster 1\", \"Cluster 1\", \"Cluster 1\", \"Cluster 1\", \"Cluster 1\", \"Cluster 1\", \"Cluster 1\", \"Cluster 1\", \"Cluster 1\", \"Cluster 1\", \"Cluster 1\", \"Cluster 1\", \"Cluster 1\", \"Cluster 1\", \"Cluster 1\", \"Cluster 1\", \"Cluster 1\", \"Cluster 1\", \"Cluster 1\", \"Cluster 1\", \"Cluster 1\", \"Cluster 1\", \"Cluster 1\", \"Cluster 1\", \"Cluster 1\", \"Cluster 1\", \"Cluster 1\", \"Cluster 1\", \"Cluster 1\", \"Cluster 1\", \"Cluster 1\", \"Cluster 1\", \"Cluster 1\", \"Cluster 1\", \"Cluster 1\", \"Cluster 1\", \"Cluster 1\", \"Cluster 1\", \"Cluster 1\", \"Cluster 1\", \"Cluster 1\", \"Cluster 1\", \"Cluster 1\", \"Cluster 1\", \"Cluster 1\", \"Cluster 1\", \"Cluster 1\", \"Cluster 1\", \"Cluster 1\", \"Cluster 1\", \"Cluster 1\", \"Cluster 1\", \"Cluster 1\", \"Cluster 1\", \"Cluster 1\", \"Cluster 1\", \"Cluster 1\", \"Cluster 1\", \"Cluster 1\", \"Cluster 1\", \"Cluster 1\", \"Cluster 1\", \"Cluster 1\", \"Cluster 1\", \"Cluster 1\", \"Cluster 1\", \"Cluster 1\", \"Cluster 1\", \"Cluster 1\", \"Cluster 1\", \"Cluster 1\", \"Cluster 1\", \"Cluster 1\", \"Cluster 1\", \"Cluster 1\", \"Cluster 1\", \"Cluster 1\", \"Cluster 1\", \"Cluster 1\", \"Cluster 1\", \"Cluster 1\", \"Cluster 1\", \"Cluster 1\", \"Cluster 1\", \"Cluster 1\", \"Cluster 1\", \"Cluster 1\", \"Cluster 1\", \"Cluster 1\", \"Cluster 1\", \"Cluster 1\", \"Cluster 1\", \"Cluster 1\", \"Cluster 1\", \"Cluster 1\", \"Cluster 1\", \"Cluster 1\", \"Cluster 1\", \"Cluster 1\", \"Cluster 1\", \"Cluster 1\", \"Cluster 1\", \"Cluster 1\", \"Cluster 1\", \"Cluster 1\", \"Cluster 1\", \"Cluster 1\", \"Cluster 1\", \"Cluster 1\", \"Cluster 1\", \"Cluster 1\", \"Cluster 1\", \"Cluster 1\", \"Cluster 1\", \"Cluster 1\", \"Cluster 1\", \"Cluster 1\", \"Cluster 1\", \"Cluster 1\", \"Cluster 1\", \"Cluster 1\", \"Cluster 1\", \"Cluster 1\", \"Cluster 1\", \"Cluster 1\", \"Cluster 1\", \"Cluster 1\", \"Cluster 1\", \"Cluster 1\", \"Cluster 1\", \"Cluster 1\", \"Cluster 1\", \"Cluster 1\", \"Cluster 1\", \"Cluster 1\", \"Cluster 1\", \"Cluster 1\", \"Cluster 1\", \"Cluster 1\", \"Cluster 1\", \"Cluster 1\", \"Cluster 1\", \"Cluster 1\", \"Cluster 1\", \"Cluster 1\", \"Cluster 1\", \"Cluster 1\", \"Cluster 1\", \"Cluster 1\", \"Cluster 1\", \"Cluster 1\", \"Cluster 1\", \"Cluster 1\", \"Cluster 1\", \"Cluster 1\", \"Cluster 1\", \"Cluster 1\", \"Cluster 1\", \"Cluster 1\", \"Cluster 1\", \"Cluster 1\", \"Cluster 1\", \"Cluster 1\", \"Cluster 1\", \"Cluster 1\", \"Cluster 1\", \"Cluster 1\", \"Cluster 1\", \"Cluster 1\", \"Cluster 1\", \"Cluster 1\", \"Cluster 1\", \"Cluster 1\", \"Cluster 1\", \"Cluster 1\", \"Cluster 1\", \"Cluster 1\", \"Cluster 1\", \"Cluster 1\", \"Cluster 1\", \"Cluster 1\", \"Cluster 1\", \"Cluster 1\", \"Cluster 1\", \"Cluster 1\", \"Cluster 1\", \"Cluster 1\", \"Cluster 1\", \"Cluster 1\", \"Cluster 1\", \"Cluster 1\", \"Cluster 1\", \"Cluster 1\", \"Cluster 1\", \"Cluster 1\", \"Cluster 1\", \"Cluster 1\", \"Cluster 1\", \"Cluster 1\", \"Cluster 1\", \"Cluster 1\", \"Cluster 1\", \"Cluster 1\", \"Cluster 1\", \"Cluster 1\", \"Cluster 1\", \"Cluster 1\", \"Cluster 1\", \"Cluster 1\", \"Cluster 1\", \"Cluster 1\", \"Cluster 1\", \"Cluster 1\", \"Cluster 1\", \"Cluster 1\", \"Cluster 1\", \"Cluster 1\", \"Cluster 1\", \"Cluster 1\", \"Cluster 1\", \"Cluster 1\", \"Cluster 1\", \"Cluster 1\", \"Cluster 1\", \"Cluster 1\", \"Cluster 1\", \"Cluster 1\", \"Cluster 1\", \"Cluster 1\", \"Cluster 1\", \"Cluster 1\", \"Cluster 1\", \"Cluster 1\", \"Cluster 1\", \"Cluster 1\", \"Cluster 1\", \"Cluster 1\", \"Cluster 1\", \"Cluster 1\", \"Cluster 1\", \"Cluster 1\", \"Cluster 1\", \"Cluster 1\", \"Cluster 1\", \"Cluster 1\", \"Cluster 1\", \"Cluster 1\", \"Cluster 1\", \"Cluster 1\", \"Cluster 1\", \"Cluster 1\", \"Cluster 1\", \"Cluster 1\", \"Cluster 1\", \"Cluster 1\", \"Cluster 1\", \"Cluster 1\", \"Cluster 1\", \"Cluster 1\", \"Cluster 1\", \"Cluster 1\", \"Cluster 1\", \"Cluster 1\", \"Cluster 1\", \"Cluster 1\", \"Cluster 1\", \"Cluster 1\", \"Cluster 1\", \"Cluster 1\", \"Cluster 1\", \"Cluster 1\", \"Cluster 1\", \"Cluster 1\", \"Cluster 1\", \"Cluster 1\", \"Cluster 1\", \"Cluster 1\", \"Cluster 1\", \"Cluster 1\", \"Cluster 1\", \"Cluster 1\", \"Cluster 1\", \"Cluster 1\", \"Cluster 1\", \"Cluster 1\", \"Cluster 1\", \"Cluster 1\", \"Cluster 1\", \"Cluster 1\", \"Cluster 1\", \"Cluster 1\", \"Cluster 1\", \"Cluster 1\", \"Cluster 1\", \"Cluster 1\", \"Cluster 1\", \"Cluster 1\", \"Cluster 1\", \"Cluster 1\", \"Cluster 1\", \"Cluster 1\", \"Cluster 1\", \"Cluster 1\", \"Cluster 1\", \"Cluster 1\", \"Cluster 1\", \"Cluster 1\", \"Cluster 1\", \"Cluster 1\", \"Cluster 1\", \"Cluster 1\", \"Cluster 1\", \"Cluster 1\", \"Cluster 1\", \"Cluster 1\", \"Cluster 1\", \"Cluster 1\", \"Cluster 1\", \"Cluster 1\", \"Cluster 1\", \"Cluster 1\", \"Cluster 1\", \"Cluster 1\", \"Cluster 1\", \"Cluster 1\", \"Cluster 1\", \"Cluster 1\", \"Cluster 1\", \"Cluster 1\", \"Cluster 1\", \"Cluster 1\", \"Cluster 1\", \"Cluster 1\", \"Cluster 1\", \"Cluster 1\", \"Cluster 1\", \"Cluster 1\", \"Cluster 1\", \"Cluster 1\", \"Cluster 1\", \"Cluster 1\", \"Cluster 1\", \"Cluster 1\", \"Cluster 1\", \"Cluster 1\", \"Cluster 1\", \"Cluster 1\", \"Cluster 1\", \"Cluster 1\", \"Cluster 1\", \"Cluster 1\", \"Cluster 1\", \"Cluster 1\", \"Cluster 1\", \"Cluster 1\", \"Cluster 1\", \"Cluster 1\", \"Cluster 1\", \"Cluster 1\", \"Cluster 1\", \"Cluster 1\", \"Cluster 1\", \"Cluster 1\", \"Cluster 1\", \"Cluster 1\", \"Cluster 1\", \"Cluster 1\", \"Cluster 1\", \"Cluster 1\", \"Cluster 1\", \"Cluster 1\", \"Cluster 1\", \"Cluster 1\", \"Cluster 1\", \"Cluster 1\", \"Cluster 1\", \"Cluster 1\", \"Cluster 1\", \"Cluster 1\", \"Cluster 1\", \"Cluster 1\", \"Cluster 1\", \"Cluster 1\", \"Cluster 1\", \"Cluster 1\", \"Cluster 1\", \"Cluster 1\", \"Cluster 1\", \"Cluster 1\", \"Cluster 1\"], \"xaxis\": \"x\", \"yaxis\": \"y\"}, {\"alignmentgroup\": \"True\", \"customdata\": [[62.0, 7.0, \"Cluster 1\"], [44.0, 7.0, \"Cluster 1\"], [62.0, 7.0, \"Cluster 1\"], [67.0, 9.0, \"Cluster 1\"], [44.0, 7.0, \"Cluster 1\"], [56.0, 7.0, \"Cluster 1\"], [56.0, 7.0, \"Cluster 1\"], [44.0, 8.0, \"Cluster 1\"], [62.0, 7.0, \"Cluster 1\"], [56.0, 7.0, \"Cluster 1\"], [44.0, 7.0, \"Cluster 1\"], [21.0, 7.0, \"Cluster 1\"], [62.0, 7.0, \"Cluster 1\"], [65.0, 9.0, \"Cluster 1\"], [62.0, 7.0, \"Cluster 1\"], [44.0, 7.0, \"Cluster 1\"], [56.0, 7.0, \"Cluster 1\"], [56.0, 7.0, \"Cluster 1\"], [26.0, 7.0, \"Cluster 1\"], [26.0, 7.0, \"Cluster 1\"], [26.0, 7.0, \"Cluster 1\"], [62.0, 7.0, \"Cluster 1\"], [7.0, 7.0, \"Cluster 1\"], [31.0, 7.0, \"Cluster 1\"], [62.0, 7.0, \"Cluster 1\"], [62.0, 7.0, \"Cluster 1\"], [44.0, 6.0, \"Cluster 1\"], [62.0, 7.0, \"Cluster 1\"], [26.0, 9.0, \"Cluster 1\"], [44.0, 7.0, \"Cluster 1\"], [62.0, 7.0, \"Cluster 1\"], [56.0, 7.0, \"Cluster 1\"], [20.0, 7.0, \"Cluster 1\"], [56.0, 7.0, \"Cluster 1\"], [56.0, 7.0, \"Cluster 1\"], [2.0, 7.0, \"Cluster 1\"], [62.0, 7.0, \"Cluster 1\"], [26.0, 7.0, \"Cluster 1\"], [9.0, 7.0, \"Cluster 1\"], [52.0, 8.0, \"Cluster 1\"], [18.0, 7.0, \"Cluster 1\"], [56.0, 7.0, \"Cluster 1\"], [56.0, 7.0, \"Cluster 1\"], [31.0, 9.0, \"Cluster 1\"], [56.0, 7.0, \"Cluster 1\"], [44.0, 8.0, \"Cluster 1\"], [44.0, 7.0, \"Cluster 1\"], [62.0, 7.0, \"Cluster 1\"], [71.0, 7.0, \"Cluster 1\"], [62.0, 7.0, \"Cluster 1\"], [56.0, 7.0, \"Cluster 1\"], [26.0, 8.0, \"Cluster 1\"], [46.0, 8.0, \"Cluster 1\"], [62.0, 7.0, \"Cluster 1\"], [62.0, 7.0, \"Cluster 1\"], [26.0, 7.0, \"Cluster 1\"], [20.0, 7.0, \"Cluster 1\"], [62.0, 7.0, \"Cluster 1\"], [62.0, 7.0, \"Cluster 1\"], [21.0, 9.0, \"Cluster 1\"], [62.0, 7.0, \"Cluster 1\"], [44.0, 7.0, \"Cluster 1\"], [36.0, 9.0, \"Cluster 1\"], [18.0, 9.0, \"Cluster 1\"], [44.0, 9.0, \"Cluster 1\"], [57.0, 7.0, \"Cluster 1\"], [7.0, 7.0, \"Cluster 1\"], [20.0, 7.0, \"Cluster 1\"], [62.0, 7.0, \"Cluster 1\"], [62.0, 7.0, \"Cluster 1\"], [7.0, 7.0, \"Cluster 1\"], [31.0, 7.0, \"Cluster 1\"], [44.0, 8.0, \"Cluster 1\"], [62.0, 7.0, \"Cluster 1\"], [62.0, 7.0, \"Cluster 1\"], [34.0, 7.0, \"Cluster 1\"], [34.0, 7.0, \"Cluster 1\"], [28.0, 8.0, \"Cluster 1\"], [10.0, 9.0, \"Cluster 1\"], [70.0, 7.0, \"Cluster 1\"], [62.0, 7.0, \"Cluster 1\"], [44.0, 7.0, \"Cluster 1\"], [62.0, 7.0, \"Cluster 1\"], [31.0, 7.0, \"Cluster 1\"], [20.0, 7.0, \"Cluster 1\"], [62.0, 7.0, \"Cluster 1\"], [26.0, 9.0, \"Cluster 1\"], [4.0, 7.0, \"Cluster 1\"], [26.0, 7.0, \"Cluster 1\"], [44.0, 7.0, \"Cluster 1\"], [62.0, 7.0, \"Cluster 1\"], [48.0, 7.0, \"Cluster 1\"], [26.0, 7.0, \"Cluster 1\"], [59.0, 7.0, \"Cluster 1\"], [44.0, 7.0, \"Cluster 1\"], [56.0, 7.0, \"Cluster 1\"], [56.0, 7.0, \"Cluster 1\"], [56.0, 7.0, \"Cluster 1\"], [56.0, 7.0, \"Cluster 1\"], [44.0, 7.0, \"Cluster 1\"], [7.0, 8.0, \"Cluster 1\"], [56.0, 7.0, \"Cluster 1\"], [56.0, 7.0, \"Cluster 1\"], [44.0, 7.0, \"Cluster 1\"], [7.0, 7.0, \"Cluster 1\"], [62.0, 7.0, \"Cluster 1\"], [62.0, 7.0, \"Cluster 1\"], [44.0, 7.0, \"Cluster 1\"], [44.0, 8.0, \"Cluster 1\"], [56.0, 7.0, \"Cluster 1\"], [56.0, 7.0, \"Cluster 1\"], [44.0, 7.0, \"Cluster 1\"], [55.0, 8.0, \"Cluster 1\"], [44.0, 9.0, \"Cluster 1\"], [44.0, 6.0, \"Cluster 1\"], [40.0, 6.0, \"Cluster 1\"], [26.0, 9.0, \"Cluster 1\"], [34.0, 7.0, \"Cluster 1\"], [44.0, 7.0, \"Cluster 1\"], [26.0, 7.0, \"Cluster 1\"], [36.0, 7.0, \"Cluster 1\"], [56.0, 7.0, \"Cluster 1\"], [44.0, 7.0, \"Cluster 1\"], [26.0, 7.0, \"Cluster 1\"], [31.0, 8.0, \"Cluster 1\"], [52.0, 7.0, \"Cluster 1\"], [56.0, 7.0, \"Cluster 1\"], [44.0, 7.0, \"Cluster 1\"], [56.0, 7.0, \"Cluster 1\"], [7.0, 7.0, \"Cluster 1\"], [62.0, 7.0, \"Cluster 1\"], [26.0, 7.0, \"Cluster 1\"], [44.0, 8.0, \"Cluster 1\"], [7.0, 8.0, \"Cluster 1\"], [11.0, 6.0, \"Cluster 1\"], [56.0, 7.0, \"Cluster 1\"], [6.0, 7.0, \"Cluster 1\"], [44.0, 7.0, \"Cluster 1\"], [56.0, 7.0, \"Cluster 1\"], [31.0, 6.0, \"Cluster 1\"], [57.0, 8.0, \"Cluster 1\"], [56.0, 7.0, \"Cluster 1\"], [57.0, 8.0, \"Cluster 1\"], [32.0, 7.0, \"Cluster 1\"], [56.0, 7.0, \"Cluster 1\"], [56.0, 7.0, \"Cluster 1\"], [57.0, 8.0, \"Cluster 1\"], [56.0, 7.0, \"Cluster 1\"], [56.0, 7.0, \"Cluster 1\"], [56.0, 7.0, \"Cluster 1\"], [31.0, 6.0, \"Cluster 1\"], [56.0, 7.0, \"Cluster 1\"], [56.0, 7.0, \"Cluster 1\"], [56.0, 7.0, \"Cluster 1\"], [44.0, 7.0, \"Cluster 1\"], [31.0, 9.0, \"Cluster 1\"], [26.0, 8.0, \"Cluster 1\"], [44.0, 7.0, \"Cluster 1\"], [56.0, 7.0, \"Cluster 1\"], [56.0, 7.0, \"Cluster 1\"], [56.0, 7.0, \"Cluster 1\"], [26.0, 7.0, \"Cluster 1\"], [44.0, 9.0, \"Cluster 1\"], [26.0, 7.0, \"Cluster 1\"], [26.0, 7.0, \"Cluster 1\"], [56.0, 7.0, \"Cluster 1\"], [17.0, 8.0, \"Cluster 1\"], [44.0, 7.0, \"Cluster 1\"], [26.0, 9.0, \"Cluster 1\"], [63.0, 7.0, \"Cluster 1\"], [44.0, 7.0, \"Cluster 1\"], [44.0, 7.0, \"Cluster 1\"], [56.0, 7.0, \"Cluster 1\"], [26.0, 7.0, \"Cluster 1\"], [56.0, 7.0, \"Cluster 1\"], [44.0, 7.0, \"Cluster 1\"], [44.0, 7.0, \"Cluster 1\"], [56.0, 7.0, \"Cluster 1\"], [56.0, 7.0, \"Cluster 1\"], [56.0, 7.0, \"Cluster 1\"], [56.0, 7.0, \"Cluster 1\"], [56.0, 7.0, \"Cluster 1\"], [56.0, 7.0, \"Cluster 1\"], [44.0, 7.0, \"Cluster 1\"], [56.0, 7.0, \"Cluster 1\"], [57.0, 8.0, \"Cluster 1\"], [56.0, 7.0, \"Cluster 1\"], [50.0, 8.0, \"Cluster 1\"], [57.0, 8.0, \"Cluster 1\"], [56.0, 7.0, \"Cluster 1\"], [44.0, 8.0, \"Cluster 1\"], [56.0, 7.0, \"Cluster 1\"], [31.0, 9.0, \"Cluster 1\"], [56.0, 7.0, \"Cluster 1\"], [56.0, 7.0, \"Cluster 1\"], [56.0, 7.0, \"Cluster 1\"], [56.0, 7.0, \"Cluster 1\"], [31.0, 7.0, \"Cluster 1\"], [44.0, 7.0, \"Cluster 1\"], [44.0, 6.0, \"Cluster 1\"], [33.0, 7.0, \"Cluster 1\"], [56.0, 7.0, \"Cluster 1\"], [44.0, 6.0, \"Cluster 1\"], [56.0, 7.0, \"Cluster 1\"], [44.0, 7.0, \"Cluster 1\"], [56.0, 7.0, \"Cluster 1\"], [56.0, 7.0, \"Cluster 1\"], [66.0, 8.0, \"Cluster 1\"], [26.0, 7.0, \"Cluster 1\"], [44.0, 7.0, \"Cluster 1\"], [56.0, 7.0, \"Cluster 1\"], [56.0, 7.0, \"Cluster 1\"], [56.0, 7.0, \"Cluster 1\"], [44.0, 7.0, \"Cluster 1\"], [56.0, 7.0, \"Cluster 1\"], [56.0, 7.0, \"Cluster 1\"], [56.0, 7.0, \"Cluster 1\"], [56.0, 7.0, \"Cluster 1\"], [26.0, 7.0, \"Cluster 1\"], [44.0, 7.0, \"Cluster 1\"], [56.0, 7.0, \"Cluster 1\"], [19.0, 7.0, \"Cluster 1\"], [56.0, 7.0, \"Cluster 1\"], [56.0, 7.0, \"Cluster 1\"], [24.0, 7.0, \"Cluster 1\"], [56.0, 7.0, \"Cluster 1\"], [44.0, 8.0, \"Cluster 1\"], [56.0, 7.0, \"Cluster 1\"], [56.0, 7.0, \"Cluster 1\"], [57.0, 8.0, \"Cluster 1\"], [26.0, 7.0, \"Cluster 1\"], [56.0, 7.0, \"Cluster 1\"], [56.0, 7.0, \"Cluster 1\"], [56.0, 7.0, \"Cluster 1\"], [9.0, 7.0, \"Cluster 1\"], [56.0, 7.0, \"Cluster 1\"], [56.0, 7.0, \"Cluster 1\"], [26.0, 7.0, \"Cluster 1\"], [49.0, 8.0, \"Cluster 1\"], [54.0, 6.0, \"Cluster 1\"], [56.0, 7.0, \"Cluster 1\"], [56.0, 7.0, \"Cluster 1\"], [44.0, 7.0, \"Cluster 1\"], [56.0, 7.0, \"Cluster 1\"], [56.0, 7.0, \"Cluster 1\"], [44.0, 7.0, \"Cluster 1\"], [55.0, 7.0, \"Cluster 1\"], [19.0, 7.0, \"Cluster 1\"], [56.0, 7.0, \"Cluster 1\"], [56.0, 7.0, \"Cluster 1\"], [44.0, 6.0, \"Cluster 1\"], [68.0, 8.0, \"Cluster 1\"], [45.0, 9.0, \"Cluster 1\"], [26.0, 9.0, \"Cluster 1\"], [44.0, 8.0, \"Cluster 1\"], [44.0, 7.0, \"Cluster 1\"], [62.0, 7.0, \"Cluster 1\"], [42.0, 9.0, \"Cluster 1\"], [56.0, 7.0, \"Cluster 1\"], [26.0, 7.0, \"Cluster 1\"], [26.0, 7.0, \"Cluster 1\"], [68.0, 8.0, \"Cluster 1\"], [45.0, 9.0, \"Cluster 1\"], [56.0, 7.0, \"Cluster 1\"], [66.0, 7.0, \"Cluster 1\"], [10.0, 8.0, \"Cluster 1\"], [44.0, 9.0, \"Cluster 1\"], [26.0, 7.0, \"Cluster 1\"], [44.0, 9.0, \"Cluster 1\"], [56.0, 7.0, \"Cluster 1\"], [21.0, 9.0, \"Cluster 1\"], [45.0, 9.0, \"Cluster 1\"], [30.0, 9.0, \"Cluster 1\"], [56.0, 7.0, \"Cluster 1\"], [29.0, 9.0, \"Cluster 1\"], [18.0, 8.0, \"Cluster 1\"], [56.0, 7.0, \"Cluster 1\"], [26.0, 7.0, \"Cluster 1\"], [44.0, 7.0, \"Cluster 1\"], [26.0, 7.0, \"Cluster 1\"], [26.0, 7.0, \"Cluster 1\"], [56.0, 7.0, \"Cluster 1\"], [20.0, 9.0, \"Cluster 1\"], [44.0, 7.0, \"Cluster 1\"], [56.0, 7.0, \"Cluster 1\"], [45.0, 9.0, \"Cluster 1\"], [56.0, 7.0, \"Cluster 1\"], [56.0, 7.0, \"Cluster 1\"], [42.0, 6.0, \"Cluster 1\"], [44.0, 7.0, \"Cluster 1\"], [31.0, 7.0, \"Cluster 1\"], [56.0, 7.0, \"Cluster 1\"], [56.0, 7.0, \"Cluster 1\"], [56.0, 7.0, \"Cluster 1\"], [56.0, 7.0, \"Cluster 1\"], [56.0, 7.0, \"Cluster 1\"], [26.0, 6.0, \"Cluster 1\"], [69.0, 7.0, \"Cluster 1\"], [26.0, 9.0, \"Cluster 1\"], [56.0, 7.0, \"Cluster 1\"], [44.0, 7.0, \"Cluster 1\"], [44.0, 7.0, \"Cluster 1\"], [61.0, 6.0, \"Cluster 1\"], [7.0, 8.0, \"Cluster 1\"], [40.0, 7.0, \"Cluster 1\"], [5.0, 7.0, \"Cluster 1\"], [56.0, 7.0, \"Cluster 1\"], [58.0, 6.0, \"Cluster 1\"], [31.0, 7.0, \"Cluster 1\"], [56.0, 7.0, \"Cluster 1\"], [50.0, 7.0, \"Cluster 1\"], [4.0, 7.0, \"Cluster 1\"], [66.0, 7.0, \"Cluster 1\"], [56.0, 7.0, \"Cluster 1\"], [56.0, 7.0, \"Cluster 1\"], [67.0, 7.0, \"Cluster 1\"], [31.0, 7.0, \"Cluster 1\"], [56.0, 7.0, \"Cluster 1\"], [45.0, 9.0, \"Cluster 1\"], [66.0, 7.0, \"Cluster 1\"], [53.0, 7.0, \"Cluster 1\"], [44.0, 7.0, \"Cluster 1\"], [56.0, 7.0, \"Cluster 1\"], [10.0, 7.0, \"Cluster 1\"], [34.0, 7.0, \"Cluster 1\"], [56.0, 7.0, \"Cluster 1\"], [41.0, 7.0, \"Cluster 1\"], [56.0, 7.0, \"Cluster 1\"], [31.0, 7.0, \"Cluster 1\"], [56.0, 7.0, \"Cluster 1\"], [45.0, 9.0, \"Cluster 1\"], [44.0, 7.0, \"Cluster 1\"], [18.0, 8.0, \"Cluster 1\"], [56.0, 7.0, \"Cluster 1\"], [14.0, 7.0, \"Cluster 1\"], [19.0, 7.0, \"Cluster 1\"], [61.0, 6.0, \"Cluster 1\"], [56.0, 7.0, \"Cluster 1\"], [56.0, 7.0, \"Cluster 1\"], [18.0, 8.0, \"Cluster 1\"], [67.0, 8.0, \"Cluster 1\"], [56.0, 7.0, \"Cluster 1\"], [64.0, 8.0, \"Cluster 1\"], [44.0, 7.0, \"Cluster 1\"], [62.0, 7.0, \"Cluster 1\"], [57.0, 8.0, \"Cluster 1\"], [26.0, 7.0, \"Cluster 1\"], [62.0, 7.0, \"Cluster 1\"], [54.0, 9.0, \"Cluster 1\"], [62.0, 7.0, \"Cluster 1\"], [62.0, 7.0, \"Cluster 1\"], [31.0, 8.0, \"Cluster 1\"], [31.0, 7.0, \"Cluster 1\"], [25.0, 7.0, \"Cluster 1\"], [44.0, 8.0, \"Cluster 1\"], [44.0, 7.0, \"Cluster 1\"], [62.0, 7.0, \"Cluster 1\"], [62.0, 7.0, \"Cluster 1\"], [31.0, 7.0, \"Cluster 1\"], [57.0, 8.0, \"Cluster 1\"], [26.0, 7.0, \"Cluster 1\"], [31.0, 9.0, \"Cluster 1\"], [26.0, 7.0, \"Cluster 1\"], [62.0, 7.0, \"Cluster 1\"], [14.0, 7.0, \"Cluster 1\"], [67.0, 7.0, \"Cluster 1\"], [62.0, 7.0, \"Cluster 1\"], [62.0, 7.0, \"Cluster 1\"], [15.0, 7.0, \"Cluster 1\"], [4.0, 7.0, \"Cluster 1\"], [66.0, 7.0, \"Cluster 1\"], [31.0, 7.0, \"Cluster 1\"], [62.0, 7.0, \"Cluster 1\"], [44.0, 7.0, \"Cluster 1\"], [35.0, 6.0, \"Cluster 1\"], [44.0, 8.0, \"Cluster 1\"], [62.0, 7.0, \"Cluster 1\"], [45.0, 9.0, \"Cluster 1\"], [18.0, 6.0, \"Cluster 1\"], [26.0, 7.0, \"Cluster 1\"], [21.0, 9.0, \"Cluster 1\"], [62.0, 7.0, \"Cluster 1\"], [45.0, 9.0, \"Cluster 1\"], [62.0, 7.0, \"Cluster 1\"], [62.0, 7.0, \"Cluster 1\"], [62.0, 7.0, \"Cluster 1\"], [62.0, 7.0, \"Cluster 1\"], [44.0, 6.0, \"Cluster 1\"], [62.0, 7.0, \"Cluster 1\"], [62.0, 7.0, \"Cluster 1\"], [44.0, 7.0, \"Cluster 1\"], [62.0, 7.0, \"Cluster 1\"], [44.0, 7.0, \"Cluster 1\"], [47.0, 8.0, \"Cluster 1\"], [62.0, 7.0, \"Cluster 1\"], [62.0, 7.0, \"Cluster 1\"], [45.0, 9.0, \"Cluster 1\"], [62.0, 7.0, \"Cluster 1\"], [44.0, 7.0, \"Cluster 1\"], [62.0, 7.0, \"Cluster 1\"], [58.0, 6.0, \"Cluster 1\"], [26.0, 7.0, \"Cluster 1\"], [8.0, 7.0, \"Cluster 1\"], [9.0, 7.0, \"Cluster 1\"], [12.0, 7.0, \"Cluster 1\"], [26.0, 7.0, \"Cluster 1\"], [14.0, 8.0, \"Cluster 1\"], [44.0, 7.0, \"Cluster 1\"], [21.0, 7.0, \"Cluster 1\"], [62.0, 7.0, \"Cluster 1\"], [31.0, 7.0, \"Cluster 1\"], [42.0, 9.0, \"Cluster 1\"], [44.0, 7.0, \"Cluster 1\"], [62.0, 7.0, \"Cluster 1\"], [43.0, 7.0, \"Cluster 1\"], [44.0, 8.0, \"Cluster 1\"], [60.0, 7.0, \"Cluster 1\"], [26.0, 7.0, \"Cluster 1\"], [62.0, 7.0, \"Cluster 1\"], [62.0, 7.0, \"Cluster 1\"], [62.0, 7.0, \"Cluster 1\"], [26.0, 7.0, \"Cluster 1\"], [44.0, 7.0, \"Cluster 1\"], [62.0, 7.0, \"Cluster 1\"], [62.0, 7.0, \"Cluster 1\"], [62.0, 7.0, \"Cluster 1\"], [62.0, 7.0, \"Cluster 1\"], [45.0, 9.0, \"Cluster 1\"], [26.0, 8.0, \"Cluster 1\"], [62.0, 7.0, \"Cluster 1\"], [62.0, 7.0, \"Cluster 1\"], [45.0, 9.0, \"Cluster 1\"], [62.0, 7.0, \"Cluster 1\"], [26.0, 8.0, \"Cluster 1\"], [45.0, 9.0, \"Cluster 1\"], [45.0, 9.0, \"Cluster 1\"], [62.0, 7.0, \"Cluster 1\"], [62.0, 7.0, \"Cluster 1\"], [62.0, 7.0, \"Cluster 1\"], [62.0, 7.0, \"Cluster 1\"], [44.0, 7.0, \"Cluster 1\"], [44.0, 7.0, \"Cluster 1\"], [31.0, 7.0, \"Cluster 1\"], [36.0, 6.0, \"Cluster 1\"], [22.0, 7.0, \"Cluster 1\"], [62.0, 7.0, \"Cluster 1\"], [36.0, 9.0, \"Cluster 1\"], [19.0, 9.0, \"Cluster 1\"], [31.0, 9.0, \"Cluster 1\"], [58.0, 7.0, \"Cluster 1\"], [62.0, 7.0, \"Cluster 1\"], [3.0, 9.0, \"Cluster 1\"], [62.0, 7.0, \"Cluster 1\"], [62.0, 7.0, \"Cluster 1\"], [62.0, 7.0, \"Cluster 1\"], [62.0, 7.0, \"Cluster 1\"], [34.0, 7.0, \"Cluster 1\"], [44.0, 6.0, \"Cluster 1\"], [51.0, 6.0, \"Cluster 1\"], [62.0, 7.0, \"Cluster 1\"], [19.0, 7.0, \"Cluster 1\"], [7.0, 6.0, \"Cluster 1\"], [58.0, 6.0, \"Cluster 1\"], [62.0, 7.0, \"Cluster 1\"], [62.0, 7.0, \"Cluster 1\"], [23.0, 7.0, \"Cluster 1\"], [39.0, 6.0, \"Cluster 1\"], [40.0, 9.0, \"Cluster 1\"], [44.0, 7.0, \"Cluster 1\"], [62.0, 7.0, \"Cluster 1\"], [44.0, 9.0, \"Cluster 1\"], [62.0, 7.0, \"Cluster 1\"], [62.0, 7.0, \"Cluster 1\"], [26.0, 7.0, \"Cluster 1\"], [18.0, 7.0, \"Cluster 1\"], [62.0, 7.0, \"Cluster 1\"], [4.0, 9.0, \"Cluster 1\"], [7.0, 7.0, \"Cluster 1\"], [62.0, 7.0, \"Cluster 1\"], [62.0, 7.0, \"Cluster 1\"], [44.0, 7.0, \"Cluster 1\"], [14.0, 7.0, \"Cluster 1\"], [62.0, 7.0, \"Cluster 1\"], [26.0, 8.0, \"Cluster 1\"], [26.0, 7.0, \"Cluster 1\"], [44.0, 7.0, \"Cluster 1\"], [62.0, 7.0, \"Cluster 1\"], [44.0, 7.0, \"Cluster 1\"], [26.0, 7.0, \"Cluster 1\"], [45.0, 9.0, \"Cluster 1\"], [62.0, 7.0, \"Cluster 1\"], [44.0, 9.0, \"Cluster 1\"], [44.0, 7.0, \"Cluster 1\"], [26.0, 7.0, \"Cluster 1\"], [14.0, 7.0, \"Cluster 1\"], [44.0, 7.0, \"Cluster 1\"], [44.0, 9.0, \"Cluster 1\"], [62.0, 7.0, \"Cluster 1\"], [44.0, 9.0, \"Cluster 1\"], [31.0, 7.0, \"Cluster 1\"], [67.0, 8.0, \"Cluster 1\"], [57.0, 8.0, \"Cluster 1\"], [62.0, 7.0, \"Cluster 1\"], [26.0, 7.0, \"Cluster 1\"], [62.0, 7.0, \"Cluster 1\"], [62.0, 7.0, \"Cluster 1\"], [62.0, 7.0, \"Cluster 1\"], [62.0, 7.0, \"Cluster 1\"], [4.0, 7.0, \"Cluster 1\"], [4.0, 9.0, \"Cluster 1\"], [26.0, 7.0, \"Cluster 1\"], [26.0, 8.0, \"Cluster 1\"], [44.0, 7.0, \"Cluster 1\"], [62.0, 7.0, \"Cluster 1\"], [45.0, 9.0, \"Cluster 1\"], [62.0, 7.0, \"Cluster 1\"], [44.0, 8.0, \"Cluster 1\"], [62.0, 7.0, \"Cluster 1\"], [62.0, 7.0, \"Cluster 1\"], [62.0, 7.0, \"Cluster 1\"], [62.0, 7.0, \"Cluster 1\"], [62.0, 7.0, \"Cluster 1\"], [26.0, 7.0, \"Cluster 1\"], [44.0, 7.0, \"Cluster 1\"], [62.0, 7.0, \"Cluster 1\"], [26.0, 7.0, \"Cluster 1\"], [62.0, 7.0, \"Cluster 1\"], [45.0, 9.0, \"Cluster 1\"], [44.0, 7.0, \"Cluster 1\"], [31.0, 7.0, \"Cluster 1\"], [44.0, 7.0, \"Cluster 1\"], [62.0, 7.0, \"Cluster 1\"], [23.0, 9.0, \"Cluster 1\"], [62.0, 7.0, \"Cluster 1\"], [57.0, 8.0, \"Cluster 1\"], [62.0, 7.0, \"Cluster 1\"], [19.0, 7.0, \"Cluster 1\"], [41.0, 7.0, \"Cluster 1\"], [44.0, 7.0, \"Cluster 1\"], [62.0, 7.0, \"Cluster 1\"], [62.0, 7.0, \"Cluster 1\"], [62.0, 7.0, \"Cluster 1\"], [44.0, 7.0, \"Cluster 1\"], [9.0, 8.0, \"Cluster 1\"], [7.0, 8.0, \"Cluster 1\"], [62.0, 7.0, \"Cluster 1\"], [62.0, 7.0, \"Cluster 1\"], [62.0, 7.0, \"Cluster 1\"], [62.0, 7.0, \"Cluster 1\"], [44.0, 7.0, \"Cluster 1\"], [62.0, 7.0, \"Cluster 1\"], [62.0, 7.0, \"Cluster 1\"], [62.0, 7.0, \"Cluster 1\"], [62.0, 7.0, \"Cluster 1\"], [44.0, 5.0, \"Cluster 1\"], [44.0, 9.0, \"Cluster 1\"], [44.0, 7.0, \"Cluster 1\"], [26.0, 7.0, \"Cluster 1\"], [31.0, 7.0, \"Cluster 1\"], [62.0, 7.0, \"Cluster 1\"], [62.0, 7.0, \"Cluster 1\"], [1.0, 6.0, \"Cluster 1\"], [62.0, 7.0, \"Cluster 1\"], [62.0, 7.0, \"Cluster 1\"], [38.0, 7.0, \"Cluster 1\"], [44.0, 7.0, \"Cluster 1\"], [31.0, 7.0, \"Cluster 1\"], [62.0, 7.0, \"Cluster 1\"], [10.0, 7.0, \"Cluster 1\"], [26.0, 7.0, \"Cluster 1\"], [62.0, 7.0, \"Cluster 1\"], [57.0, 8.0, \"Cluster 1\"], [26.0, 7.0, \"Cluster 1\"], [60.0, 6.0, \"Cluster 1\"], [44.0, 6.0, \"Cluster 1\"], [62.0, 7.0, \"Cluster 1\"], [62.0, 7.0, \"Cluster 1\"], [44.0, 7.0, \"Cluster 1\"], [57.0, 8.0, \"Cluster 1\"], [45.0, 9.0, \"Cluster 1\"], [45.0, 9.0, \"Cluster 1\"], [62.0, 7.0, \"Cluster 1\"], [62.0, 7.0, \"Cluster 1\"], [44.0, 7.0, \"Cluster 1\"], [62.0, 7.0, \"Cluster 1\"], [44.0, 7.0, \"Cluster 1\"]], \"hovertemplate\": \"Cluster=%{customdata[2]}<br>New_Budget=%{customdata[0]}<br>Category=%{customdata[1]}<extra></extra>\", \"legendgroup\": \"Cluster 1\", \"marker\": {\"color\": \"#EF553B\"}, \"name\": \"Cluster 1\", \"notched\": true, \"offsetgroup\": \"Cluster 1\", \"showlegend\": false, \"type\": \"box\", \"x\": [\"Cluster 1\", \"Cluster 1\", \"Cluster 1\", \"Cluster 1\", \"Cluster 1\", \"Cluster 1\", \"Cluster 1\", \"Cluster 1\", \"Cluster 1\", \"Cluster 1\", \"Cluster 1\", \"Cluster 1\", \"Cluster 1\", \"Cluster 1\", \"Cluster 1\", \"Cluster 1\", \"Cluster 1\", \"Cluster 1\", \"Cluster 1\", \"Cluster 1\", \"Cluster 1\", \"Cluster 1\", \"Cluster 1\", \"Cluster 1\", \"Cluster 1\", \"Cluster 1\", \"Cluster 1\", \"Cluster 1\", \"Cluster 1\", \"Cluster 1\", \"Cluster 1\", \"Cluster 1\", \"Cluster 1\", \"Cluster 1\", \"Cluster 1\", \"Cluster 1\", \"Cluster 1\", \"Cluster 1\", \"Cluster 1\", \"Cluster 1\", \"Cluster 1\", \"Cluster 1\", \"Cluster 1\", \"Cluster 1\", \"Cluster 1\", \"Cluster 1\", \"Cluster 1\", \"Cluster 1\", \"Cluster 1\", \"Cluster 1\", \"Cluster 1\", \"Cluster 1\", \"Cluster 1\", \"Cluster 1\", \"Cluster 1\", \"Cluster 1\", \"Cluster 1\", \"Cluster 1\", \"Cluster 1\", \"Cluster 1\", \"Cluster 1\", \"Cluster 1\", \"Cluster 1\", \"Cluster 1\", \"Cluster 1\", \"Cluster 1\", \"Cluster 1\", \"Cluster 1\", \"Cluster 1\", \"Cluster 1\", \"Cluster 1\", \"Cluster 1\", \"Cluster 1\", \"Cluster 1\", \"Cluster 1\", \"Cluster 1\", \"Cluster 1\", \"Cluster 1\", \"Cluster 1\", \"Cluster 1\", \"Cluster 1\", \"Cluster 1\", \"Cluster 1\", \"Cluster 1\", \"Cluster 1\", \"Cluster 1\", \"Cluster 1\", \"Cluster 1\", \"Cluster 1\", \"Cluster 1\", \"Cluster 1\", \"Cluster 1\", \"Cluster 1\", \"Cluster 1\", \"Cluster 1\", \"Cluster 1\", \"Cluster 1\", \"Cluster 1\", \"Cluster 1\", \"Cluster 1\", \"Cluster 1\", \"Cluster 1\", \"Cluster 1\", \"Cluster 1\", \"Cluster 1\", \"Cluster 1\", \"Cluster 1\", \"Cluster 1\", \"Cluster 1\", \"Cluster 1\", \"Cluster 1\", \"Cluster 1\", \"Cluster 1\", \"Cluster 1\", \"Cluster 1\", \"Cluster 1\", \"Cluster 1\", \"Cluster 1\", \"Cluster 1\", \"Cluster 1\", \"Cluster 1\", \"Cluster 1\", \"Cluster 1\", \"Cluster 1\", \"Cluster 1\", \"Cluster 1\", \"Cluster 1\", \"Cluster 1\", \"Cluster 1\", \"Cluster 1\", \"Cluster 1\", \"Cluster 1\", \"Cluster 1\", \"Cluster 1\", \"Cluster 1\", \"Cluster 1\", \"Cluster 1\", \"Cluster 1\", \"Cluster 1\", \"Cluster 1\", \"Cluster 1\", \"Cluster 1\", \"Cluster 1\", \"Cluster 1\", \"Cluster 1\", \"Cluster 1\", \"Cluster 1\", \"Cluster 1\", \"Cluster 1\", \"Cluster 1\", \"Cluster 1\", \"Cluster 1\", \"Cluster 1\", \"Cluster 1\", \"Cluster 1\", \"Cluster 1\", \"Cluster 1\", \"Cluster 1\", \"Cluster 1\", \"Cluster 1\", \"Cluster 1\", \"Cluster 1\", \"Cluster 1\", \"Cluster 1\", \"Cluster 1\", \"Cluster 1\", \"Cluster 1\", \"Cluster 1\", \"Cluster 1\", \"Cluster 1\", \"Cluster 1\", \"Cluster 1\", \"Cluster 1\", \"Cluster 1\", \"Cluster 1\", \"Cluster 1\", \"Cluster 1\", \"Cluster 1\", \"Cluster 1\", \"Cluster 1\", \"Cluster 1\", \"Cluster 1\", \"Cluster 1\", \"Cluster 1\", \"Cluster 1\", \"Cluster 1\", \"Cluster 1\", \"Cluster 1\", \"Cluster 1\", \"Cluster 1\", \"Cluster 1\", \"Cluster 1\", \"Cluster 1\", \"Cluster 1\", \"Cluster 1\", \"Cluster 1\", \"Cluster 1\", \"Cluster 1\", \"Cluster 1\", \"Cluster 1\", \"Cluster 1\", \"Cluster 1\", \"Cluster 1\", \"Cluster 1\", \"Cluster 1\", \"Cluster 1\", \"Cluster 1\", \"Cluster 1\", \"Cluster 1\", \"Cluster 1\", \"Cluster 1\", \"Cluster 1\", \"Cluster 1\", \"Cluster 1\", \"Cluster 1\", \"Cluster 1\", \"Cluster 1\", \"Cluster 1\", \"Cluster 1\", \"Cluster 1\", \"Cluster 1\", \"Cluster 1\", \"Cluster 1\", \"Cluster 1\", \"Cluster 1\", \"Cluster 1\", \"Cluster 1\", \"Cluster 1\", \"Cluster 1\", \"Cluster 1\", \"Cluster 1\", \"Cluster 1\", \"Cluster 1\", \"Cluster 1\", \"Cluster 1\", \"Cluster 1\", \"Cluster 1\", \"Cluster 1\", \"Cluster 1\", \"Cluster 1\", \"Cluster 1\", \"Cluster 1\", \"Cluster 1\", \"Cluster 1\", \"Cluster 1\", \"Cluster 1\", \"Cluster 1\", \"Cluster 1\", \"Cluster 1\", \"Cluster 1\", \"Cluster 1\", \"Cluster 1\", \"Cluster 1\", \"Cluster 1\", \"Cluster 1\", \"Cluster 1\", \"Cluster 1\", \"Cluster 1\", \"Cluster 1\", \"Cluster 1\", \"Cluster 1\", \"Cluster 1\", \"Cluster 1\", \"Cluster 1\", \"Cluster 1\", \"Cluster 1\", \"Cluster 1\", \"Cluster 1\", \"Cluster 1\", \"Cluster 1\", \"Cluster 1\", \"Cluster 1\", \"Cluster 1\", \"Cluster 1\", \"Cluster 1\", \"Cluster 1\", \"Cluster 1\", \"Cluster 1\", \"Cluster 1\", \"Cluster 1\", \"Cluster 1\", \"Cluster 1\", \"Cluster 1\", \"Cluster 1\", \"Cluster 1\", \"Cluster 1\", \"Cluster 1\", \"Cluster 1\", \"Cluster 1\", \"Cluster 1\", \"Cluster 1\", \"Cluster 1\", \"Cluster 1\", \"Cluster 1\", \"Cluster 1\", \"Cluster 1\", \"Cluster 1\", \"Cluster 1\", \"Cluster 1\", \"Cluster 1\", \"Cluster 1\", \"Cluster 1\", \"Cluster 1\", \"Cluster 1\", \"Cluster 1\", \"Cluster 1\", \"Cluster 1\", \"Cluster 1\", \"Cluster 1\", \"Cluster 1\", \"Cluster 1\", \"Cluster 1\", \"Cluster 1\", \"Cluster 1\", \"Cluster 1\", \"Cluster 1\", \"Cluster 1\", \"Cluster 1\", \"Cluster 1\", \"Cluster 1\", \"Cluster 1\", \"Cluster 1\", \"Cluster 1\", \"Cluster 1\", \"Cluster 1\", \"Cluster 1\", \"Cluster 1\", \"Cluster 1\", \"Cluster 1\", \"Cluster 1\", \"Cluster 1\", \"Cluster 1\", \"Cluster 1\", \"Cluster 1\", \"Cluster 1\", \"Cluster 1\", \"Cluster 1\", \"Cluster 1\", \"Cluster 1\", \"Cluster 1\", \"Cluster 1\", \"Cluster 1\", \"Cluster 1\", \"Cluster 1\", \"Cluster 1\", \"Cluster 1\", \"Cluster 1\", \"Cluster 1\", \"Cluster 1\", \"Cluster 1\", \"Cluster 1\", \"Cluster 1\", \"Cluster 1\", \"Cluster 1\", \"Cluster 1\", \"Cluster 1\", \"Cluster 1\", \"Cluster 1\", \"Cluster 1\", \"Cluster 1\", \"Cluster 1\", \"Cluster 1\", \"Cluster 1\", \"Cluster 1\", \"Cluster 1\", \"Cluster 1\", \"Cluster 1\", \"Cluster 1\", \"Cluster 1\", \"Cluster 1\", \"Cluster 1\", \"Cluster 1\", \"Cluster 1\", \"Cluster 1\", \"Cluster 1\", \"Cluster 1\", \"Cluster 1\", \"Cluster 1\", \"Cluster 1\", \"Cluster 1\", \"Cluster 1\", \"Cluster 1\", \"Cluster 1\", \"Cluster 1\", \"Cluster 1\", \"Cluster 1\", \"Cluster 1\", \"Cluster 1\", \"Cluster 1\", \"Cluster 1\", \"Cluster 1\", \"Cluster 1\", \"Cluster 1\", \"Cluster 1\", \"Cluster 1\", \"Cluster 1\", \"Cluster 1\", \"Cluster 1\", \"Cluster 1\", \"Cluster 1\", \"Cluster 1\", \"Cluster 1\", \"Cluster 1\", \"Cluster 1\", \"Cluster 1\", \"Cluster 1\", \"Cluster 1\", \"Cluster 1\", \"Cluster 1\", \"Cluster 1\", \"Cluster 1\", \"Cluster 1\", \"Cluster 1\", \"Cluster 1\", \"Cluster 1\", \"Cluster 1\", \"Cluster 1\", \"Cluster 1\", \"Cluster 1\", \"Cluster 1\", \"Cluster 1\", \"Cluster 1\", \"Cluster 1\", \"Cluster 1\", \"Cluster 1\", \"Cluster 1\", \"Cluster 1\", \"Cluster 1\", \"Cluster 1\", \"Cluster 1\", \"Cluster 1\", \"Cluster 1\", \"Cluster 1\", \"Cluster 1\", \"Cluster 1\", \"Cluster 1\", \"Cluster 1\", \"Cluster 1\", \"Cluster 1\", \"Cluster 1\", \"Cluster 1\", \"Cluster 1\", \"Cluster 1\", \"Cluster 1\", \"Cluster 1\", \"Cluster 1\", \"Cluster 1\", \"Cluster 1\", \"Cluster 1\", \"Cluster 1\", \"Cluster 1\", \"Cluster 1\", \"Cluster 1\", \"Cluster 1\", \"Cluster 1\", \"Cluster 1\", \"Cluster 1\", \"Cluster 1\", \"Cluster 1\", \"Cluster 1\", \"Cluster 1\", \"Cluster 1\", \"Cluster 1\", \"Cluster 1\", \"Cluster 1\", \"Cluster 1\", \"Cluster 1\", \"Cluster 1\", \"Cluster 1\", \"Cluster 1\", \"Cluster 1\", \"Cluster 1\", \"Cluster 1\", \"Cluster 1\", \"Cluster 1\", \"Cluster 1\", \"Cluster 1\", \"Cluster 1\", \"Cluster 1\", \"Cluster 1\", \"Cluster 1\", \"Cluster 1\", \"Cluster 1\", \"Cluster 1\", \"Cluster 1\", \"Cluster 1\", \"Cluster 1\", \"Cluster 1\", \"Cluster 1\", \"Cluster 1\", \"Cluster 1\", \"Cluster 1\", \"Cluster 1\", \"Cluster 1\", \"Cluster 1\", \"Cluster 1\", \"Cluster 1\", \"Cluster 1\", \"Cluster 1\", \"Cluster 1\", \"Cluster 1\", \"Cluster 1\", \"Cluster 1\", \"Cluster 1\", \"Cluster 1\", \"Cluster 1\", \"Cluster 1\", \"Cluster 1\", \"Cluster 1\", \"Cluster 1\", \"Cluster 1\", \"Cluster 1\", \"Cluster 1\", \"Cluster 1\", \"Cluster 1\", \"Cluster 1\", \"Cluster 1\", \"Cluster 1\", \"Cluster 1\", \"Cluster 1\", \"Cluster 1\", \"Cluster 1\", \"Cluster 1\", \"Cluster 1\", \"Cluster 1\", \"Cluster 1\", \"Cluster 1\", \"Cluster 1\", \"Cluster 1\", \"Cluster 1\", \"Cluster 1\", \"Cluster 1\", \"Cluster 1\", \"Cluster 1\", \"Cluster 1\", \"Cluster 1\", \"Cluster 1\", \"Cluster 1\", \"Cluster 1\", \"Cluster 1\", \"Cluster 1\", \"Cluster 1\", \"Cluster 1\", \"Cluster 1\", \"Cluster 1\", \"Cluster 1\", \"Cluster 1\", \"Cluster 1\", \"Cluster 1\", \"Cluster 1\", \"Cluster 1\", \"Cluster 1\", \"Cluster 1\", \"Cluster 1\", \"Cluster 1\", \"Cluster 1\", \"Cluster 1\", \"Cluster 1\", \"Cluster 1\", \"Cluster 1\", \"Cluster 1\", \"Cluster 1\", \"Cluster 1\", \"Cluster 1\", \"Cluster 1\", \"Cluster 1\", \"Cluster 1\", \"Cluster 1\", \"Cluster 1\", \"Cluster 1\", \"Cluster 1\", \"Cluster 1\", \"Cluster 1\", \"Cluster 1\", \"Cluster 1\", \"Cluster 1\", \"Cluster 1\", \"Cluster 1\", \"Cluster 1\", \"Cluster 1\", \"Cluster 1\", \"Cluster 1\", \"Cluster 1\", \"Cluster 1\", \"Cluster 1\", \"Cluster 1\"], \"xaxis\": \"x2\", \"yaxis\": \"y2\"}, {\"alignmentgroup\": \"True\", \"bingroup\": \"x\", \"hovertemplate\": \"Cluster=%{x}<br>count=%{y}<extra></extra>\", \"legendgroup\": \"Cluster 2\", \"marker\": {\"color\": \"#00cc96\", \"opacity\": 0.7}, \"name\": \"Cluster 2\", \"offsetgroup\": \"Cluster 2\", \"orientation\": \"v\", \"showlegend\": true, \"type\": \"histogram\", \"x\": [\"Cluster 2\", \"Cluster 2\", \"Cluster 2\", \"Cluster 2\", \"Cluster 2\", \"Cluster 2\", \"Cluster 2\", \"Cluster 2\", \"Cluster 2\", \"Cluster 2\", \"Cluster 2\", \"Cluster 2\", \"Cluster 2\", \"Cluster 2\", \"Cluster 2\", \"Cluster 2\", \"Cluster 2\", \"Cluster 2\", \"Cluster 2\", \"Cluster 2\", \"Cluster 2\", \"Cluster 2\", \"Cluster 2\", \"Cluster 2\", \"Cluster 2\", \"Cluster 2\", \"Cluster 2\", \"Cluster 2\", \"Cluster 2\", \"Cluster 2\", \"Cluster 2\", \"Cluster 2\", \"Cluster 2\", \"Cluster 2\", \"Cluster 2\", \"Cluster 2\", \"Cluster 2\", \"Cluster 2\", \"Cluster 2\", \"Cluster 2\", \"Cluster 2\", \"Cluster 2\", \"Cluster 2\", \"Cluster 2\", \"Cluster 2\", \"Cluster 2\", \"Cluster 2\", \"Cluster 2\", \"Cluster 2\", \"Cluster 2\", \"Cluster 2\", \"Cluster 2\", \"Cluster 2\", \"Cluster 2\", \"Cluster 2\", \"Cluster 2\", \"Cluster 2\", \"Cluster 2\", \"Cluster 2\", \"Cluster 2\", \"Cluster 2\", \"Cluster 2\", \"Cluster 2\", \"Cluster 2\", \"Cluster 2\", \"Cluster 2\", \"Cluster 2\", \"Cluster 2\", \"Cluster 2\", \"Cluster 2\", \"Cluster 2\", \"Cluster 2\", \"Cluster 2\", \"Cluster 2\", \"Cluster 2\", \"Cluster 2\", \"Cluster 2\", \"Cluster 2\", \"Cluster 2\", \"Cluster 2\", \"Cluster 2\", \"Cluster 2\", \"Cluster 2\", \"Cluster 2\", \"Cluster 2\", \"Cluster 2\", \"Cluster 2\", \"Cluster 2\", \"Cluster 2\", \"Cluster 2\", \"Cluster 2\", \"Cluster 2\", \"Cluster 2\", \"Cluster 2\", \"Cluster 2\", \"Cluster 2\", \"Cluster 2\", \"Cluster 2\", \"Cluster 2\", \"Cluster 2\", \"Cluster 2\", \"Cluster 2\", \"Cluster 2\", \"Cluster 2\", \"Cluster 2\", \"Cluster 2\", \"Cluster 2\", \"Cluster 2\", \"Cluster 2\", \"Cluster 2\", \"Cluster 2\", \"Cluster 2\", \"Cluster 2\", \"Cluster 2\", \"Cluster 2\", \"Cluster 2\", \"Cluster 2\", \"Cluster 2\", \"Cluster 2\", \"Cluster 2\", \"Cluster 2\", \"Cluster 2\", \"Cluster 2\", \"Cluster 2\", \"Cluster 2\", \"Cluster 2\", \"Cluster 2\", \"Cluster 2\", \"Cluster 2\", \"Cluster 2\", \"Cluster 2\", \"Cluster 2\", \"Cluster 2\", \"Cluster 2\", \"Cluster 2\", \"Cluster 2\", \"Cluster 2\", \"Cluster 2\", \"Cluster 2\", \"Cluster 2\", \"Cluster 2\", \"Cluster 2\", \"Cluster 2\", \"Cluster 2\", \"Cluster 2\", \"Cluster 2\", \"Cluster 2\", \"Cluster 2\", \"Cluster 2\", \"Cluster 2\", \"Cluster 2\", \"Cluster 2\", \"Cluster 2\", \"Cluster 2\", \"Cluster 2\", \"Cluster 2\", \"Cluster 2\", \"Cluster 2\", \"Cluster 2\", \"Cluster 2\", \"Cluster 2\", \"Cluster 2\", \"Cluster 2\", \"Cluster 2\", \"Cluster 2\", \"Cluster 2\", \"Cluster 2\", \"Cluster 2\", \"Cluster 2\", \"Cluster 2\", \"Cluster 2\", \"Cluster 2\", \"Cluster 2\", \"Cluster 2\", \"Cluster 2\", \"Cluster 2\", \"Cluster 2\", \"Cluster 2\", \"Cluster 2\", \"Cluster 2\", \"Cluster 2\", \"Cluster 2\", \"Cluster 2\", \"Cluster 2\", \"Cluster 2\", \"Cluster 2\", \"Cluster 2\", \"Cluster 2\", \"Cluster 2\", \"Cluster 2\", \"Cluster 2\", \"Cluster 2\", \"Cluster 2\", \"Cluster 2\", \"Cluster 2\", \"Cluster 2\", \"Cluster 2\", \"Cluster 2\", \"Cluster 2\", \"Cluster 2\", \"Cluster 2\", \"Cluster 2\", \"Cluster 2\", \"Cluster 2\", \"Cluster 2\", \"Cluster 2\", \"Cluster 2\", \"Cluster 2\", \"Cluster 2\", \"Cluster 2\", \"Cluster 2\", \"Cluster 2\", \"Cluster 2\", \"Cluster 2\", \"Cluster 2\", \"Cluster 2\", \"Cluster 2\", \"Cluster 2\", \"Cluster 2\", \"Cluster 2\", \"Cluster 2\", \"Cluster 2\", \"Cluster 2\", \"Cluster 2\", \"Cluster 2\", \"Cluster 2\", \"Cluster 2\", \"Cluster 2\", \"Cluster 2\", \"Cluster 2\", \"Cluster 2\", \"Cluster 2\", \"Cluster 2\", \"Cluster 2\", \"Cluster 2\", \"Cluster 2\", \"Cluster 2\", \"Cluster 2\", \"Cluster 2\", \"Cluster 2\", \"Cluster 2\", \"Cluster 2\", \"Cluster 2\", \"Cluster 2\", \"Cluster 2\", \"Cluster 2\", \"Cluster 2\", \"Cluster 2\", \"Cluster 2\", \"Cluster 2\", \"Cluster 2\", \"Cluster 2\", \"Cluster 2\", \"Cluster 2\", \"Cluster 2\", \"Cluster 2\", \"Cluster 2\", \"Cluster 2\", \"Cluster 2\", \"Cluster 2\", \"Cluster 2\", \"Cluster 2\", \"Cluster 2\", \"Cluster 2\", \"Cluster 2\", \"Cluster 2\", \"Cluster 2\", \"Cluster 2\", \"Cluster 2\", \"Cluster 2\", \"Cluster 2\", \"Cluster 2\", \"Cluster 2\", \"Cluster 2\", \"Cluster 2\", \"Cluster 2\", \"Cluster 2\", \"Cluster 2\", \"Cluster 2\", \"Cluster 2\", \"Cluster 2\", \"Cluster 2\", \"Cluster 2\", \"Cluster 2\", \"Cluster 2\", \"Cluster 2\", \"Cluster 2\", \"Cluster 2\", \"Cluster 2\", \"Cluster 2\", \"Cluster 2\", \"Cluster 2\", \"Cluster 2\", \"Cluster 2\", \"Cluster 2\", \"Cluster 2\", \"Cluster 2\", \"Cluster 2\", \"Cluster 2\", \"Cluster 2\", \"Cluster 2\", \"Cluster 2\", \"Cluster 2\", \"Cluster 2\", \"Cluster 2\", \"Cluster 2\", \"Cluster 2\", \"Cluster 2\", \"Cluster 2\", \"Cluster 2\", \"Cluster 2\", \"Cluster 2\", \"Cluster 2\", \"Cluster 2\", \"Cluster 2\", \"Cluster 2\", \"Cluster 2\", \"Cluster 2\", \"Cluster 2\", \"Cluster 2\", \"Cluster 2\", \"Cluster 2\", \"Cluster 2\", \"Cluster 2\", \"Cluster 2\", \"Cluster 2\", \"Cluster 2\", \"Cluster 2\", \"Cluster 2\", \"Cluster 2\", \"Cluster 2\", \"Cluster 2\", \"Cluster 2\", \"Cluster 2\", \"Cluster 2\", \"Cluster 2\", \"Cluster 2\", \"Cluster 2\", \"Cluster 2\", \"Cluster 2\", \"Cluster 2\", \"Cluster 2\", \"Cluster 2\", \"Cluster 2\", \"Cluster 2\", \"Cluster 2\", \"Cluster 2\", \"Cluster 2\", \"Cluster 2\", \"Cluster 2\", \"Cluster 2\", \"Cluster 2\", \"Cluster 2\", \"Cluster 2\", \"Cluster 2\", \"Cluster 2\", \"Cluster 2\", \"Cluster 2\", \"Cluster 2\", \"Cluster 2\", \"Cluster 2\", \"Cluster 2\", \"Cluster 2\", \"Cluster 2\", \"Cluster 2\", \"Cluster 2\", \"Cluster 2\", \"Cluster 2\", \"Cluster 2\", \"Cluster 2\", \"Cluster 2\", \"Cluster 2\", \"Cluster 2\", \"Cluster 2\", \"Cluster 2\", \"Cluster 2\", \"Cluster 2\", \"Cluster 2\", \"Cluster 2\", \"Cluster 2\", \"Cluster 2\", \"Cluster 2\", \"Cluster 2\", \"Cluster 2\", \"Cluster 2\", \"Cluster 2\", \"Cluster 2\", \"Cluster 2\", \"Cluster 2\", \"Cluster 2\", \"Cluster 2\", \"Cluster 2\", \"Cluster 2\", \"Cluster 2\", \"Cluster 2\", \"Cluster 2\", \"Cluster 2\", \"Cluster 2\", \"Cluster 2\", \"Cluster 2\", \"Cluster 2\", \"Cluster 2\", \"Cluster 2\", \"Cluster 2\", \"Cluster 2\", \"Cluster 2\", \"Cluster 2\", \"Cluster 2\", \"Cluster 2\", \"Cluster 2\", \"Cluster 2\", \"Cluster 2\", \"Cluster 2\", \"Cluster 2\", \"Cluster 2\", \"Cluster 2\", \"Cluster 2\", \"Cluster 2\", \"Cluster 2\", \"Cluster 2\", \"Cluster 2\", \"Cluster 2\", \"Cluster 2\", \"Cluster 2\", \"Cluster 2\", \"Cluster 2\", \"Cluster 2\", \"Cluster 2\", \"Cluster 2\", \"Cluster 2\", \"Cluster 2\", \"Cluster 2\", \"Cluster 2\", \"Cluster 2\", \"Cluster 2\", \"Cluster 2\", \"Cluster 2\", \"Cluster 2\", \"Cluster 2\", \"Cluster 2\", \"Cluster 2\", \"Cluster 2\", \"Cluster 2\", \"Cluster 2\", \"Cluster 2\", \"Cluster 2\", \"Cluster 2\", \"Cluster 2\", \"Cluster 2\", \"Cluster 2\", \"Cluster 2\", \"Cluster 2\", \"Cluster 2\", \"Cluster 2\", \"Cluster 2\", \"Cluster 2\", \"Cluster 2\", \"Cluster 2\", \"Cluster 2\", \"Cluster 2\", \"Cluster 2\", \"Cluster 2\", \"Cluster 2\", \"Cluster 2\", \"Cluster 2\", \"Cluster 2\", \"Cluster 2\", \"Cluster 2\", \"Cluster 2\", \"Cluster 2\", \"Cluster 2\", \"Cluster 2\", \"Cluster 2\", \"Cluster 2\", \"Cluster 2\", \"Cluster 2\", \"Cluster 2\", \"Cluster 2\", \"Cluster 2\", \"Cluster 2\", \"Cluster 2\", \"Cluster 2\", \"Cluster 2\", \"Cluster 2\", \"Cluster 2\", \"Cluster 2\", \"Cluster 2\", \"Cluster 2\", \"Cluster 2\", \"Cluster 2\", \"Cluster 2\", \"Cluster 2\", \"Cluster 2\", \"Cluster 2\", \"Cluster 2\", \"Cluster 2\", \"Cluster 2\", \"Cluster 2\", \"Cluster 2\", \"Cluster 2\", \"Cluster 2\", \"Cluster 2\", \"Cluster 2\", \"Cluster 2\", \"Cluster 2\"], \"xaxis\": \"x\", \"yaxis\": \"y\"}, {\"alignmentgroup\": \"True\", \"customdata\": [[72.0, 8.0, \"Cluster 2\"], [76.0, 7.0, \"Cluster 2\"], [77.0, 7.0, \"Cluster 2\"], [74.0, 5.0, \"Cluster 2\"], [72.0, 8.0, \"Cluster 2\"], [106.0, 6.0, \"Cluster 2\"], [81.0, 6.0, \"Cluster 2\"], [76.0, 7.0, \"Cluster 2\"], [77.0, 7.0, \"Cluster 2\"], [108.0, 7.0, \"Cluster 2\"], [72.0, 8.0, \"Cluster 2\"], [108.0, 7.0, \"Cluster 2\"], [76.0, 7.0, \"Cluster 2\"], [108.0, 7.0, \"Cluster 2\"], [76.0, 7.0, \"Cluster 2\"], [76.0, 7.0, \"Cluster 2\"], [108.0, 7.0, \"Cluster 2\"], [88.0, 5.0, \"Cluster 2\"], [72.0, 8.0, \"Cluster 2\"], [108.0, 7.0, \"Cluster 2\"], [76.0, 7.0, \"Cluster 2\"], [108.0, 7.0, \"Cluster 2\"], [72.0, 8.0, \"Cluster 2\"], [108.0, 5.0, \"Cluster 2\"], [72.0, 8.0, \"Cluster 2\"], [76.0, 7.0, \"Cluster 2\"], [94.0, 6.0, \"Cluster 2\"], [108.0, 7.0, \"Cluster 2\"], [108.0, 9.0, \"Cluster 2\"], [108.0, 9.0, \"Cluster 2\"], [108.0, 7.0, \"Cluster 2\"], [108.0, 7.0, \"Cluster 2\"], [108.0, 6.0, \"Cluster 2\"], [108.0, 9.0, \"Cluster 2\"], [108.0, 7.0, \"Cluster 2\"], [108.0, 7.0, \"Cluster 2\"], [72.0, 8.0, \"Cluster 2\"], [76.0, 9.0, \"Cluster 2\"], [76.0, 7.0, \"Cluster 2\"], [81.0, 6.0, \"Cluster 2\"], [76.0, 7.0, \"Cluster 2\"], [108.0, 7.0, \"Cluster 2\"], [72.0, 8.0, \"Cluster 2\"], [108.0, 7.0, \"Cluster 2\"], [108.0, 7.0, \"Cluster 2\"], [108.0, 9.0, \"Cluster 2\"], [94.0, 7.0, \"Cluster 2\"], [108.0, 7.0, \"Cluster 2\"], [72.0, 8.0, \"Cluster 2\"], [106.0, 7.0, \"Cluster 2\"], [76.0, 7.0, \"Cluster 2\"], [108.0, 7.0, \"Cluster 2\"], [108.0, 7.0, \"Cluster 2\"], [108.0, 7.0, \"Cluster 2\"], [106.0, 6.0, \"Cluster 2\"], [106.0, 6.0, \"Cluster 2\"], [108.0, 6.0, \"Cluster 2\"], [108.0, 7.0, \"Cluster 2\"], [108.0, 7.0, \"Cluster 2\"], [108.0, 7.0, \"Cluster 2\"], [108.0, 7.0, \"Cluster 2\"], [76.0, 7.0, \"Cluster 2\"], [108.0, 7.0, \"Cluster 2\"], [108.0, 7.0, \"Cluster 2\"], [76.0, 7.0, \"Cluster 2\"], [108.0, 7.0, \"Cluster 2\"], [76.0, 9.0, \"Cluster 2\"], [76.0, 9.0, \"Cluster 2\"], [108.0, 9.0, \"Cluster 2\"], [72.0, 8.0, \"Cluster 2\"], [108.0, 7.0, \"Cluster 2\"], [108.0, 7.0, \"Cluster 2\"], [108.0, 9.0, \"Cluster 2\"], [108.0, 7.0, \"Cluster 2\"], [108.0, 7.0, \"Cluster 2\"], [108.0, 7.0, \"Cluster 2\"], [108.0, 7.0, \"Cluster 2\"], [76.0, 7.0, \"Cluster 2\"], [108.0, 9.0, \"Cluster 2\"], [108.0, 7.0, \"Cluster 2\"], [108.0, 6.0, \"Cluster 2\"], [108.0, 9.0, \"Cluster 2\"], [79.0, 7.0, \"Cluster 2\"], [76.0, 7.0, \"Cluster 2\"], [76.0, 9.0, \"Cluster 2\"], [106.0, 7.0, \"Cluster 2\"], [95.0, 9.0, \"Cluster 2\"], [95.0, 9.0, \"Cluster 2\"], [76.0, 9.0, \"Cluster 2\"], [108.0, 9.0, \"Cluster 2\"], [108.0, 9.0, \"Cluster 2\"], [92.0, 6.0, \"Cluster 2\"], [106.0, 5.0, \"Cluster 2\"], [108.0, 7.0, \"Cluster 2\"], [108.0, 7.0, \"Cluster 2\"], [95.0, 9.0, \"Cluster 2\"], [108.0, 6.0, \"Cluster 2\"], [92.0, 9.0, \"Cluster 2\"], [71.0, 9.0, \"Cluster 2\"], [108.0, 7.0, \"Cluster 2\"], [108.0, 8.0, \"Cluster 2\"], [108.0, 9.0, \"Cluster 2\"], [106.0, 7.0, \"Cluster 2\"], [90.0, 8.0, \"Cluster 2\"], [76.0, 8.0, \"Cluster 2\"], [108.0, 7.0, \"Cluster 2\"], [76.0, 9.0, \"Cluster 2\"], [95.0, 9.0, \"Cluster 2\"], [95.0, 9.0, \"Cluster 2\"], [106.0, 7.0, \"Cluster 2\"], [106.0, 8.0, \"Cluster 2\"], [92.0, 6.0, \"Cluster 2\"], [106.0, 7.0, \"Cluster 2\"], [108.0, 6.0, \"Cluster 2\"], [108.0, 7.0, \"Cluster 2\"], [76.0, 7.0, \"Cluster 2\"], [108.0, 8.0, \"Cluster 2\"], [92.0, 6.0, \"Cluster 2\"], [108.0, 9.0, \"Cluster 2\"], [95.0, 9.0, \"Cluster 2\"], [108.0, 7.0, \"Cluster 2\"], [108.0, 7.0, \"Cluster 2\"], [106.0, 7.0, \"Cluster 2\"], [108.0, 6.0, \"Cluster 2\"], [76.0, 7.0, \"Cluster 2\"], [76.0, 7.0, \"Cluster 2\"], [92.0, 6.0, \"Cluster 2\"], [106.0, 7.0, \"Cluster 2\"], [106.0, 6.0, \"Cluster 2\"], [106.0, 6.0, \"Cluster 2\"], [106.0, 6.0, \"Cluster 2\"], [108.0, 9.0, \"Cluster 2\"], [92.0, 6.0, \"Cluster 2\"], [83.0, 6.0, \"Cluster 2\"], [77.0, 7.0, \"Cluster 2\"], [76.0, 8.0, \"Cluster 2\"], [108.0, 7.0, \"Cluster 2\"], [108.0, 8.0, \"Cluster 2\"], [95.0, 9.0, \"Cluster 2\"], [106.0, 7.0, \"Cluster 2\"], [95.0, 9.0, \"Cluster 2\"], [108.0, 7.0, \"Cluster 2\"], [76.0, 7.0, \"Cluster 2\"], [92.0, 6.0, \"Cluster 2\"], [108.0, 9.0, \"Cluster 2\"], [108.0, 9.0, \"Cluster 2\"], [108.0, 7.0, \"Cluster 2\"], [108.0, 9.0, \"Cluster 2\"], [108.0, 9.0, \"Cluster 2\"], [108.0, 9.0, \"Cluster 2\"], [108.0, 7.0, \"Cluster 2\"], [108.0, 9.0, \"Cluster 2\"], [95.0, 9.0, \"Cluster 2\"], [105.0, 7.0, \"Cluster 2\"], [95.0, 9.0, \"Cluster 2\"], [81.0, 6.0, \"Cluster 2\"], [76.0, 7.0, \"Cluster 2\"], [76.0, 9.0, \"Cluster 2\"], [108.0, 7.0, \"Cluster 2\"], [108.0, 7.0, \"Cluster 2\"], [108.0, 9.0, \"Cluster 2\"], [108.0, 9.0, \"Cluster 2\"], [108.0, 7.0, \"Cluster 2\"], [108.0, 7.0, \"Cluster 2\"], [108.0, 7.0, \"Cluster 2\"], [108.0, 9.0, \"Cluster 2\"], [72.0, 8.0, \"Cluster 2\"], [72.0, 8.0, \"Cluster 2\"], [108.0, 7.0, \"Cluster 2\"], [108.0, 6.0, \"Cluster 2\"], [108.0, 7.0, \"Cluster 2\"], [82.0, 7.0, \"Cluster 2\"], [76.0, 8.0, \"Cluster 2\"], [77.0, 7.0, \"Cluster 2\"], [76.0, 7.0, \"Cluster 2\"], [95.0, 9.0, \"Cluster 2\"], [76.0, 7.0, \"Cluster 2\"], [108.0, 7.0, \"Cluster 2\"], [95.0, 9.0, \"Cluster 2\"], [76.0, 7.0, \"Cluster 2\"], [106.0, 7.0, \"Cluster 2\"], [108.0, 7.0, \"Cluster 2\"], [72.0, 8.0, \"Cluster 2\"], [76.0, 7.0, \"Cluster 2\"], [95.0, 9.0, \"Cluster 2\"], [108.0, 7.0, \"Cluster 2\"], [108.0, 9.0, \"Cluster 2\"], [108.0, 8.0, \"Cluster 2\"], [76.0, 7.0, \"Cluster 2\"], [108.0, 7.0, \"Cluster 2\"], [106.0, 7.0, \"Cluster 2\"], [95.0, 9.0, \"Cluster 2\"], [108.0, 7.0, \"Cluster 2\"], [108.0, 7.0, \"Cluster 2\"], [108.0, 7.0, \"Cluster 2\"], [108.0, 7.0, \"Cluster 2\"], [108.0, 8.0, \"Cluster 2\"], [95.0, 9.0, \"Cluster 2\"], [95.0, 9.0, \"Cluster 2\"], [76.0, 7.0, \"Cluster 2\"], [108.0, 9.0, \"Cluster 2\"], [108.0, 9.0, \"Cluster 2\"], [108.0, 9.0, \"Cluster 2\"], [78.0, 8.0, \"Cluster 2\"], [76.0, 9.0, \"Cluster 2\"], [108.0, 7.0, \"Cluster 2\"], [108.0, 7.0, \"Cluster 2\"], [76.0, 7.0, \"Cluster 2\"], [108.0, 7.0, \"Cluster 2\"], [108.0, 7.0, \"Cluster 2\"], [76.0, 8.0, \"Cluster 2\"], [95.0, 9.0, \"Cluster 2\"], [73.0, 7.0, \"Cluster 2\"], [77.0, 7.0, \"Cluster 2\"], [108.0, 9.0, \"Cluster 2\"], [76.0, 7.0, \"Cluster 2\"], [108.0, 7.0, \"Cluster 2\"], [108.0, 8.0, \"Cluster 2\"], [95.0, 9.0, \"Cluster 2\"], [108.0, 9.0, \"Cluster 2\"], [76.0, 8.0, \"Cluster 2\"], [95.0, 9.0, \"Cluster 2\"], [108.0, 6.0, \"Cluster 2\"], [108.0, 7.0, \"Cluster 2\"], [108.0, 7.0, \"Cluster 2\"], [108.0, 9.0, \"Cluster 2\"], [95.0, 9.0, \"Cluster 2\"], [108.0, 9.0, \"Cluster 2\"], [108.0, 7.0, \"Cluster 2\"], [76.0, 7.0, \"Cluster 2\"], [76.0, 7.0, \"Cluster 2\"], [108.0, 7.0, \"Cluster 2\"], [108.0, 9.0, \"Cluster 2\"], [80.0, 9.0, \"Cluster 2\"], [106.0, 8.0, \"Cluster 2\"], [108.0, 9.0, \"Cluster 2\"], [106.0, 7.0, \"Cluster 2\"], [97.0, 9.0, \"Cluster 2\"], [108.0, 8.0, \"Cluster 2\"], [108.0, 8.0, \"Cluster 2\"], [108.0, 7.0, \"Cluster 2\"], [108.0, 7.0, \"Cluster 2\"], [108.0, 9.0, \"Cluster 2\"], [108.0, 7.0, \"Cluster 2\"], [108.0, 9.0, \"Cluster 2\"], [108.0, 7.0, \"Cluster 2\"], [89.0, 7.0, \"Cluster 2\"], [76.0, 7.0, \"Cluster 2\"], [108.0, 7.0, \"Cluster 2\"], [108.0, 8.0, \"Cluster 2\"], [97.0, 9.0, \"Cluster 2\"], [108.0, 9.0, \"Cluster 2\"], [108.0, 7.0, \"Cluster 2\"], [108.0, 8.0, \"Cluster 2\"], [108.0, 8.0, \"Cluster 2\"], [92.0, 6.0, \"Cluster 2\"], [92.0, 6.0, \"Cluster 2\"], [76.0, 9.0, \"Cluster 2\"], [108.0, 6.0, \"Cluster 2\"], [108.0, 7.0, \"Cluster 2\"], [108.0, 8.0, \"Cluster 2\"], [77.0, 8.0, \"Cluster 2\"], [108.0, 7.0, \"Cluster 2\"], [108.0, 7.0, \"Cluster 2\"], [92.0, 6.0, \"Cluster 2\"], [108.0, 7.0, \"Cluster 2\"], [97.0, 9.0, \"Cluster 2\"], [101.0, 8.0, \"Cluster 2\"], [108.0, 8.0, \"Cluster 2\"], [108.0, 7.0, \"Cluster 2\"], [108.0, 7.0, \"Cluster 2\"], [108.0, 7.0, \"Cluster 2\"], [108.0, 7.0, \"Cluster 2\"], [108.0, 7.0, \"Cluster 2\"], [97.0, 9.0, \"Cluster 2\"], [108.0, 8.0, \"Cluster 2\"], [108.0, 7.0, \"Cluster 2\"], [89.0, 6.0, \"Cluster 2\"], [108.0, 8.0, \"Cluster 2\"], [103.0, 7.0, \"Cluster 2\"], [91.0, 9.0, \"Cluster 2\"], [90.0, 7.0, \"Cluster 2\"], [108.0, 8.0, \"Cluster 2\"], [108.0, 8.0, \"Cluster 2\"], [97.0, 9.0, \"Cluster 2\"], [108.0, 7.0, \"Cluster 2\"], [88.0, 8.0, \"Cluster 2\"], [108.0, 9.0, \"Cluster 2\"], [88.0, 7.0, \"Cluster 2\"], [88.0, 8.0, \"Cluster 2\"], [108.0, 9.0, \"Cluster 2\"], [88.0, 8.0, \"Cluster 2\"], [103.0, 7.0, \"Cluster 2\"], [95.0, 6.0, \"Cluster 2\"], [76.0, 7.0, \"Cluster 2\"], [108.0, 7.0, \"Cluster 2\"], [108.0, 7.0, \"Cluster 2\"], [106.0, 8.0, \"Cluster 2\"], [106.0, 9.0, \"Cluster 2\"], [108.0, 7.0, \"Cluster 2\"], [76.0, 7.0, \"Cluster 2\"], [76.0, 7.0, \"Cluster 2\"], [97.0, 9.0, \"Cluster 2\"], [76.0, 7.0, \"Cluster 2\"], [91.0, 9.0, \"Cluster 2\"], [74.0, 9.0, \"Cluster 2\"], [108.0, 9.0, \"Cluster 2\"], [76.0, 7.0, \"Cluster 2\"], [76.0, 7.0, \"Cluster 2\"], [80.0, 6.0, \"Cluster 2\"], [88.0, 8.0, \"Cluster 2\"], [108.0, 7.0, \"Cluster 2\"], [88.0, 5.0, \"Cluster 2\"], [108.0, 7.0, \"Cluster 2\"], [108.0, 9.0, \"Cluster 2\"], [91.0, 9.0, \"Cluster 2\"], [108.0, 7.0, \"Cluster 2\"], [108.0, 7.0, \"Cluster 2\"], [90.0, 8.0, \"Cluster 2\"], [108.0, 7.0, \"Cluster 2\"], [106.0, 6.0, \"Cluster 2\"], [102.0, 6.0, \"Cluster 2\"], [88.0, 8.0, \"Cluster 2\"], [93.0, 8.0, \"Cluster 2\"], [88.0, 8.0, \"Cluster 2\"], [76.0, 7.0, \"Cluster 2\"], [88.0, 8.0, \"Cluster 2\"], [106.0, 7.0, \"Cluster 2\"], [108.0, 9.0, \"Cluster 2\"], [76.0, 7.0, \"Cluster 2\"], [91.0, 9.0, \"Cluster 2\"], [97.0, 9.0, \"Cluster 2\"], [76.0, 7.0, \"Cluster 2\"], [76.0, 8.0, \"Cluster 2\"], [91.0, 8.0, \"Cluster 2\"], [76.0, 7.0, \"Cluster 2\"], [108.0, 7.0, \"Cluster 2\"], [108.0, 9.0, \"Cluster 2\"], [71.0, 8.0, \"Cluster 2\"], [77.0, 8.0, \"Cluster 2\"], [108.0, 7.0, \"Cluster 2\"], [76.0, 7.0, \"Cluster 2\"], [84.0, 6.0, \"Cluster 2\"], [76.0, 6.0, \"Cluster 2\"], [108.0, 9.0, \"Cluster 2\"], [107.0, 7.0, \"Cluster 2\"], [108.0, 9.0, \"Cluster 2\"], [88.0, 8.0, \"Cluster 2\"], [91.0, 9.0, \"Cluster 2\"], [108.0, 9.0, \"Cluster 2\"], [108.0, 8.0, \"Cluster 2\"], [88.0, 8.0, \"Cluster 2\"], [85.0, 7.0, \"Cluster 2\"], [76.0, 8.0, \"Cluster 2\"], [78.0, 7.0, \"Cluster 2\"], [108.0, 9.0, \"Cluster 2\"], [77.0, 6.0, \"Cluster 2\"], [108.0, 9.0, \"Cluster 2\"], [101.0, 8.0, \"Cluster 2\"], [108.0, 9.0, \"Cluster 2\"], [108.0, 9.0, \"Cluster 2\"], [108.0, 9.0, \"Cluster 2\"], [108.0, 7.0, \"Cluster 2\"], [108.0, 7.0, \"Cluster 2\"], [108.0, 7.0, \"Cluster 2\"], [88.0, 8.0, \"Cluster 2\"], [108.0, 9.0, \"Cluster 2\"], [91.0, 9.0, \"Cluster 2\"], [106.0, 6.0, \"Cluster 2\"], [108.0, 9.0, \"Cluster 2\"], [86.0, 7.0, \"Cluster 2\"], [108.0, 9.0, \"Cluster 2\"], [97.0, 9.0, \"Cluster 2\"], [88.0, 5.0, \"Cluster 2\"], [108.0, 9.0, \"Cluster 2\"], [108.0, 6.0, \"Cluster 2\"], [76.0, 8.0, \"Cluster 2\"], [108.0, 9.0, \"Cluster 2\"], [106.0, 6.0, \"Cluster 2\"], [76.0, 6.0, \"Cluster 2\"], [88.0, 8.0, \"Cluster 2\"], [108.0, 9.0, \"Cluster 2\"], [76.0, 9.0, \"Cluster 2\"], [76.0, 7.0, \"Cluster 2\"], [76.0, 7.0, \"Cluster 2\"], [106.0, 7.0, \"Cluster 2\"], [76.0, 7.0, \"Cluster 2\"], [108.0, 9.0, \"Cluster 2\"], [76.0, 6.0, \"Cluster 2\"], [108.0, 9.0, \"Cluster 2\"], [108.0, 9.0, \"Cluster 2\"], [108.0, 9.0, \"Cluster 2\"], [76.0, 7.0, \"Cluster 2\"], [88.0, 8.0, \"Cluster 2\"], [108.0, 7.0, \"Cluster 2\"], [108.0, 7.0, \"Cluster 2\"], [108.0, 7.0, \"Cluster 2\"], [108.0, 7.0, \"Cluster 2\"], [108.0, 9.0, \"Cluster 2\"], [89.0, 6.0, \"Cluster 2\"], [108.0, 7.0, \"Cluster 2\"], [106.0, 7.0, \"Cluster 2\"], [108.0, 7.0, \"Cluster 2\"], [108.0, 9.0, \"Cluster 2\"], [106.0, 7.0, \"Cluster 2\"], [76.0, 7.0, \"Cluster 2\"], [88.0, 8.0, \"Cluster 2\"], [108.0, 7.0, \"Cluster 2\"], [76.0, 7.0, \"Cluster 2\"], [108.0, 7.0, \"Cluster 2\"], [106.0, 6.0, \"Cluster 2\"], [108.0, 7.0, \"Cluster 2\"], [76.0, 9.0, \"Cluster 2\"], [108.0, 7.0, \"Cluster 2\"], [76.0, 7.0, \"Cluster 2\"], [108.0, 8.0, \"Cluster 2\"], [106.0, 8.0, \"Cluster 2\"], [76.0, 8.0, \"Cluster 2\"], [108.0, 7.0, \"Cluster 2\"], [108.0, 7.0, \"Cluster 2\"], [108.0, 7.0, \"Cluster 2\"], [108.0, 7.0, \"Cluster 2\"], [72.0, 8.0, \"Cluster 2\"], [108.0, 8.0, \"Cluster 2\"], [108.0, 7.0, \"Cluster 2\"], [108.0, 7.0, \"Cluster 2\"], [76.0, 7.0, \"Cluster 2\"], [108.0, 6.0, \"Cluster 2\"], [108.0, 7.0, \"Cluster 2\"], [88.0, 7.0, \"Cluster 2\"], [106.0, 8.0, \"Cluster 2\"], [108.0, 7.0, \"Cluster 2\"], [108.0, 8.0, \"Cluster 2\"], [88.0, 8.0, \"Cluster 2\"], [108.0, 9.0, \"Cluster 2\"], [72.0, 7.0, \"Cluster 2\"], [77.0, 8.0, \"Cluster 2\"], [108.0, 7.0, \"Cluster 2\"], [108.0, 7.0, \"Cluster 2\"], [108.0, 8.0, \"Cluster 2\"], [108.0, 6.0, \"Cluster 2\"], [76.0, 7.0, \"Cluster 2\"], [108.0, 9.0, \"Cluster 2\"], [88.0, 8.0, \"Cluster 2\"], [108.0, 7.0, \"Cluster 2\"], [108.0, 7.0, \"Cluster 2\"], [76.0, 7.0, \"Cluster 2\"], [81.0, 7.0, \"Cluster 2\"], [76.0, 9.0, \"Cluster 2\"], [106.0, 7.0, \"Cluster 2\"], [108.0, 7.0, \"Cluster 2\"], [108.0, 8.0, \"Cluster 2\"], [108.0, 9.0, \"Cluster 2\"], [108.0, 7.0, \"Cluster 2\"], [76.0, 7.0, \"Cluster 2\"], [108.0, 8.0, \"Cluster 2\"], [108.0, 9.0, \"Cluster 2\"], [106.0, 7.0, \"Cluster 2\"], [108.0, 7.0, \"Cluster 2\"], [108.0, 9.0, \"Cluster 2\"], [108.0, 8.0, \"Cluster 2\"], [108.0, 7.0, \"Cluster 2\"], [108.0, 7.0, \"Cluster 2\"], [108.0, 9.0, \"Cluster 2\"], [92.0, 6.0, \"Cluster 2\"], [89.0, 6.0, \"Cluster 2\"], [108.0, 7.0, \"Cluster 2\"], [76.0, 7.0, \"Cluster 2\"], [108.0, 7.0, \"Cluster 2\"], [88.0, 8.0, \"Cluster 2\"], [108.0, 8.0, \"Cluster 2\"], [100.0, 7.0, \"Cluster 2\"], [108.0, 7.0, \"Cluster 2\"], [76.0, 7.0, \"Cluster 2\"], [88.0, 8.0, \"Cluster 2\"], [76.0, 6.0, \"Cluster 2\"], [108.0, 5.0, \"Cluster 2\"], [76.0, 7.0, \"Cluster 2\"], [108.0, 9.0, \"Cluster 2\"], [104.0, 8.0, \"Cluster 2\"], [108.0, 7.0, \"Cluster 2\"], [76.0, 7.0, \"Cluster 2\"], [108.0, 9.0, \"Cluster 2\"], [76.0, 7.0, \"Cluster 2\"], [76.0, 6.0, \"Cluster 2\"], [76.0, 7.0, \"Cluster 2\"], [108.0, 7.0, \"Cluster 2\"], [78.0, 9.0, \"Cluster 2\"], [76.0, 7.0, \"Cluster 2\"], [76.0, 9.0, \"Cluster 2\"], [77.0, 7.0, \"Cluster 2\"], [108.0, 7.0, \"Cluster 2\"], [76.0, 8.0, \"Cluster 2\"], [108.0, 9.0, \"Cluster 2\"], [108.0, 9.0, \"Cluster 2\"], [76.0, 7.0, \"Cluster 2\"], [108.0, 8.0, \"Cluster 2\"], [108.0, 7.0, \"Cluster 2\"], [108.0, 7.0, \"Cluster 2\"], [108.0, 9.0, \"Cluster 2\"], [108.0, 7.0, \"Cluster 2\"], [106.0, 7.0, \"Cluster 2\"], [98.0, 7.0, \"Cluster 2\"], [108.0, 7.0, \"Cluster 2\"], [108.0, 7.0, \"Cluster 2\"]], \"hovertemplate\": \"Cluster=%{customdata[2]}<br>New_Budget=%{customdata[0]}<br>Category=%{customdata[1]}<extra></extra>\", \"legendgroup\": \"Cluster 2\", \"marker\": {\"color\": \"#00cc96\"}, \"name\": \"Cluster 2\", \"notched\": true, \"offsetgroup\": \"Cluster 2\", \"showlegend\": false, \"type\": \"box\", \"x\": [\"Cluster 2\", \"Cluster 2\", \"Cluster 2\", \"Cluster 2\", \"Cluster 2\", \"Cluster 2\", \"Cluster 2\", \"Cluster 2\", \"Cluster 2\", \"Cluster 2\", \"Cluster 2\", \"Cluster 2\", \"Cluster 2\", \"Cluster 2\", \"Cluster 2\", \"Cluster 2\", \"Cluster 2\", \"Cluster 2\", \"Cluster 2\", \"Cluster 2\", \"Cluster 2\", \"Cluster 2\", \"Cluster 2\", \"Cluster 2\", \"Cluster 2\", \"Cluster 2\", \"Cluster 2\", \"Cluster 2\", \"Cluster 2\", \"Cluster 2\", \"Cluster 2\", \"Cluster 2\", \"Cluster 2\", \"Cluster 2\", \"Cluster 2\", \"Cluster 2\", \"Cluster 2\", \"Cluster 2\", \"Cluster 2\", \"Cluster 2\", \"Cluster 2\", \"Cluster 2\", \"Cluster 2\", \"Cluster 2\", \"Cluster 2\", \"Cluster 2\", \"Cluster 2\", \"Cluster 2\", \"Cluster 2\", \"Cluster 2\", \"Cluster 2\", \"Cluster 2\", \"Cluster 2\", \"Cluster 2\", \"Cluster 2\", \"Cluster 2\", \"Cluster 2\", \"Cluster 2\", \"Cluster 2\", \"Cluster 2\", \"Cluster 2\", \"Cluster 2\", \"Cluster 2\", \"Cluster 2\", \"Cluster 2\", \"Cluster 2\", \"Cluster 2\", \"Cluster 2\", \"Cluster 2\", \"Cluster 2\", \"Cluster 2\", \"Cluster 2\", \"Cluster 2\", \"Cluster 2\", \"Cluster 2\", \"Cluster 2\", \"Cluster 2\", \"Cluster 2\", \"Cluster 2\", \"Cluster 2\", \"Cluster 2\", \"Cluster 2\", \"Cluster 2\", \"Cluster 2\", \"Cluster 2\", \"Cluster 2\", \"Cluster 2\", \"Cluster 2\", \"Cluster 2\", \"Cluster 2\", \"Cluster 2\", \"Cluster 2\", \"Cluster 2\", \"Cluster 2\", \"Cluster 2\", \"Cluster 2\", \"Cluster 2\", \"Cluster 2\", \"Cluster 2\", \"Cluster 2\", \"Cluster 2\", \"Cluster 2\", \"Cluster 2\", \"Cluster 2\", \"Cluster 2\", \"Cluster 2\", \"Cluster 2\", \"Cluster 2\", \"Cluster 2\", \"Cluster 2\", \"Cluster 2\", \"Cluster 2\", \"Cluster 2\", \"Cluster 2\", \"Cluster 2\", \"Cluster 2\", \"Cluster 2\", \"Cluster 2\", \"Cluster 2\", \"Cluster 2\", \"Cluster 2\", \"Cluster 2\", \"Cluster 2\", \"Cluster 2\", \"Cluster 2\", \"Cluster 2\", \"Cluster 2\", \"Cluster 2\", \"Cluster 2\", \"Cluster 2\", \"Cluster 2\", \"Cluster 2\", \"Cluster 2\", \"Cluster 2\", \"Cluster 2\", \"Cluster 2\", \"Cluster 2\", \"Cluster 2\", \"Cluster 2\", \"Cluster 2\", \"Cluster 2\", \"Cluster 2\", \"Cluster 2\", \"Cluster 2\", \"Cluster 2\", \"Cluster 2\", \"Cluster 2\", \"Cluster 2\", \"Cluster 2\", \"Cluster 2\", \"Cluster 2\", \"Cluster 2\", \"Cluster 2\", \"Cluster 2\", \"Cluster 2\", \"Cluster 2\", \"Cluster 2\", \"Cluster 2\", \"Cluster 2\", \"Cluster 2\", \"Cluster 2\", \"Cluster 2\", \"Cluster 2\", \"Cluster 2\", \"Cluster 2\", \"Cluster 2\", \"Cluster 2\", \"Cluster 2\", \"Cluster 2\", \"Cluster 2\", \"Cluster 2\", \"Cluster 2\", \"Cluster 2\", \"Cluster 2\", \"Cluster 2\", \"Cluster 2\", \"Cluster 2\", \"Cluster 2\", \"Cluster 2\", \"Cluster 2\", \"Cluster 2\", \"Cluster 2\", \"Cluster 2\", \"Cluster 2\", \"Cluster 2\", \"Cluster 2\", \"Cluster 2\", \"Cluster 2\", \"Cluster 2\", \"Cluster 2\", \"Cluster 2\", \"Cluster 2\", \"Cluster 2\", \"Cluster 2\", \"Cluster 2\", \"Cluster 2\", \"Cluster 2\", \"Cluster 2\", \"Cluster 2\", \"Cluster 2\", \"Cluster 2\", \"Cluster 2\", \"Cluster 2\", \"Cluster 2\", \"Cluster 2\", \"Cluster 2\", \"Cluster 2\", \"Cluster 2\", \"Cluster 2\", \"Cluster 2\", \"Cluster 2\", \"Cluster 2\", \"Cluster 2\", \"Cluster 2\", \"Cluster 2\", \"Cluster 2\", \"Cluster 2\", \"Cluster 2\", \"Cluster 2\", \"Cluster 2\", \"Cluster 2\", \"Cluster 2\", \"Cluster 2\", \"Cluster 2\", \"Cluster 2\", \"Cluster 2\", \"Cluster 2\", \"Cluster 2\", \"Cluster 2\", \"Cluster 2\", \"Cluster 2\", \"Cluster 2\", \"Cluster 2\", \"Cluster 2\", \"Cluster 2\", \"Cluster 2\", \"Cluster 2\", \"Cluster 2\", \"Cluster 2\", \"Cluster 2\", \"Cluster 2\", \"Cluster 2\", \"Cluster 2\", \"Cluster 2\", \"Cluster 2\", \"Cluster 2\", \"Cluster 2\", \"Cluster 2\", \"Cluster 2\", \"Cluster 2\", \"Cluster 2\", \"Cluster 2\", \"Cluster 2\", \"Cluster 2\", \"Cluster 2\", \"Cluster 2\", \"Cluster 2\", \"Cluster 2\", \"Cluster 2\", \"Cluster 2\", \"Cluster 2\", \"Cluster 2\", \"Cluster 2\", \"Cluster 2\", \"Cluster 2\", \"Cluster 2\", \"Cluster 2\", \"Cluster 2\", \"Cluster 2\", \"Cluster 2\", \"Cluster 2\", \"Cluster 2\", \"Cluster 2\", \"Cluster 2\", \"Cluster 2\", \"Cluster 2\", \"Cluster 2\", \"Cluster 2\", \"Cluster 2\", \"Cluster 2\", \"Cluster 2\", \"Cluster 2\", \"Cluster 2\", \"Cluster 2\", \"Cluster 2\", \"Cluster 2\", \"Cluster 2\", \"Cluster 2\", \"Cluster 2\", \"Cluster 2\", \"Cluster 2\", \"Cluster 2\", \"Cluster 2\", \"Cluster 2\", \"Cluster 2\", \"Cluster 2\", \"Cluster 2\", \"Cluster 2\", \"Cluster 2\", \"Cluster 2\", \"Cluster 2\", \"Cluster 2\", \"Cluster 2\", \"Cluster 2\", \"Cluster 2\", \"Cluster 2\", \"Cluster 2\", \"Cluster 2\", \"Cluster 2\", \"Cluster 2\", \"Cluster 2\", \"Cluster 2\", \"Cluster 2\", \"Cluster 2\", \"Cluster 2\", \"Cluster 2\", \"Cluster 2\", \"Cluster 2\", \"Cluster 2\", \"Cluster 2\", \"Cluster 2\", \"Cluster 2\", \"Cluster 2\", \"Cluster 2\", \"Cluster 2\", \"Cluster 2\", \"Cluster 2\", \"Cluster 2\", \"Cluster 2\", \"Cluster 2\", \"Cluster 2\", \"Cluster 2\", \"Cluster 2\", \"Cluster 2\", \"Cluster 2\", \"Cluster 2\", \"Cluster 2\", \"Cluster 2\", \"Cluster 2\", \"Cluster 2\", \"Cluster 2\", \"Cluster 2\", \"Cluster 2\", \"Cluster 2\", \"Cluster 2\", \"Cluster 2\", \"Cluster 2\", \"Cluster 2\", \"Cluster 2\", \"Cluster 2\", \"Cluster 2\", \"Cluster 2\", \"Cluster 2\", \"Cluster 2\", \"Cluster 2\", \"Cluster 2\", \"Cluster 2\", \"Cluster 2\", \"Cluster 2\", \"Cluster 2\", \"Cluster 2\", \"Cluster 2\", \"Cluster 2\", \"Cluster 2\", \"Cluster 2\", \"Cluster 2\", \"Cluster 2\", \"Cluster 2\", \"Cluster 2\", \"Cluster 2\", \"Cluster 2\", \"Cluster 2\", \"Cluster 2\", \"Cluster 2\", \"Cluster 2\", \"Cluster 2\", \"Cluster 2\", \"Cluster 2\", \"Cluster 2\", \"Cluster 2\", \"Cluster 2\", \"Cluster 2\", \"Cluster 2\", \"Cluster 2\", \"Cluster 2\", \"Cluster 2\", \"Cluster 2\", \"Cluster 2\", \"Cluster 2\", \"Cluster 2\", \"Cluster 2\", \"Cluster 2\", \"Cluster 2\", \"Cluster 2\", \"Cluster 2\", \"Cluster 2\", \"Cluster 2\", \"Cluster 2\", \"Cluster 2\", \"Cluster 2\", \"Cluster 2\", \"Cluster 2\", \"Cluster 2\", \"Cluster 2\", \"Cluster 2\", \"Cluster 2\", \"Cluster 2\", \"Cluster 2\", \"Cluster 2\", \"Cluster 2\", \"Cluster 2\", \"Cluster 2\", \"Cluster 2\", \"Cluster 2\", \"Cluster 2\", \"Cluster 2\", \"Cluster 2\", \"Cluster 2\", \"Cluster 2\", \"Cluster 2\", \"Cluster 2\", \"Cluster 2\", \"Cluster 2\", \"Cluster 2\", \"Cluster 2\", \"Cluster 2\", \"Cluster 2\", \"Cluster 2\", \"Cluster 2\", \"Cluster 2\", \"Cluster 2\", \"Cluster 2\", \"Cluster 2\", \"Cluster 2\", \"Cluster 2\", \"Cluster 2\", \"Cluster 2\", \"Cluster 2\", \"Cluster 2\", \"Cluster 2\", \"Cluster 2\", \"Cluster 2\", \"Cluster 2\", \"Cluster 2\", \"Cluster 2\", \"Cluster 2\", \"Cluster 2\", \"Cluster 2\", \"Cluster 2\", \"Cluster 2\", \"Cluster 2\", \"Cluster 2\", \"Cluster 2\", \"Cluster 2\", \"Cluster 2\", \"Cluster 2\", \"Cluster 2\", \"Cluster 2\", \"Cluster 2\", \"Cluster 2\", \"Cluster 2\", \"Cluster 2\", \"Cluster 2\", \"Cluster 2\", \"Cluster 2\", \"Cluster 2\", \"Cluster 2\", \"Cluster 2\", \"Cluster 2\", \"Cluster 2\", \"Cluster 2\", \"Cluster 2\", \"Cluster 2\", \"Cluster 2\", \"Cluster 2\", \"Cluster 2\", \"Cluster 2\", \"Cluster 2\", \"Cluster 2\", \"Cluster 2\", \"Cluster 2\", \"Cluster 2\", \"Cluster 2\", \"Cluster 2\", \"Cluster 2\", \"Cluster 2\", \"Cluster 2\", \"Cluster 2\", \"Cluster 2\", \"Cluster 2\", \"Cluster 2\", \"Cluster 2\", \"Cluster 2\", \"Cluster 2\", \"Cluster 2\", \"Cluster 2\", \"Cluster 2\", \"Cluster 2\", \"Cluster 2\", \"Cluster 2\", \"Cluster 2\", \"Cluster 2\", \"Cluster 2\", \"Cluster 2\", \"Cluster 2\"], \"xaxis\": \"x2\", \"yaxis\": \"y2\"}, {\"alignmentgroup\": \"True\", \"bingroup\": \"x\", \"hovertemplate\": \"Cluster=%{x}<br>count=%{y}<extra></extra>\", \"legendgroup\": \"Cluster 3\", \"marker\": {\"color\": \"#ab63fa\", \"opacity\": 0.7}, \"name\": \"Cluster 3\", \"offsetgroup\": \"Cluster 3\", \"orientation\": \"v\", \"showlegend\": true, \"type\": \"histogram\", \"x\": [\"Cluster 3\", \"Cluster 3\", \"Cluster 3\", \"Cluster 3\", \"Cluster 3\", \"Cluster 3\", \"Cluster 3\", \"Cluster 3\", \"Cluster 3\", \"Cluster 3\", \"Cluster 3\", \"Cluster 3\", \"Cluster 3\", \"Cluster 3\", \"Cluster 3\", \"Cluster 3\", \"Cluster 3\", \"Cluster 3\", \"Cluster 3\", \"Cluster 3\", \"Cluster 3\", \"Cluster 3\", \"Cluster 3\", \"Cluster 3\", \"Cluster 3\", \"Cluster 3\", \"Cluster 3\", \"Cluster 3\", \"Cluster 3\", \"Cluster 3\", \"Cluster 3\", \"Cluster 3\", \"Cluster 3\", \"Cluster 3\", \"Cluster 3\", \"Cluster 3\", \"Cluster 3\", \"Cluster 3\", \"Cluster 3\", \"Cluster 3\", \"Cluster 3\", \"Cluster 3\", \"Cluster 3\", \"Cluster 3\", \"Cluster 3\", \"Cluster 3\", \"Cluster 3\", \"Cluster 3\", \"Cluster 3\", \"Cluster 3\", \"Cluster 3\", \"Cluster 3\", \"Cluster 3\", \"Cluster 3\", \"Cluster 3\", \"Cluster 3\", \"Cluster 3\", \"Cluster 3\", \"Cluster 3\", \"Cluster 3\", \"Cluster 3\", \"Cluster 3\", \"Cluster 3\", \"Cluster 3\", \"Cluster 3\", \"Cluster 3\", \"Cluster 3\", \"Cluster 3\", \"Cluster 3\", \"Cluster 3\", \"Cluster 3\", \"Cluster 3\", \"Cluster 3\", \"Cluster 3\", \"Cluster 3\", \"Cluster 3\", \"Cluster 3\", \"Cluster 3\", \"Cluster 3\", \"Cluster 3\", \"Cluster 3\", \"Cluster 3\", \"Cluster 3\", \"Cluster 3\", \"Cluster 3\", \"Cluster 3\", \"Cluster 3\", \"Cluster 3\", \"Cluster 3\", \"Cluster 3\", \"Cluster 3\", \"Cluster 3\", \"Cluster 3\", \"Cluster 3\", \"Cluster 3\", \"Cluster 3\", \"Cluster 3\", \"Cluster 3\", \"Cluster 3\", \"Cluster 3\", \"Cluster 3\", \"Cluster 3\", \"Cluster 3\", \"Cluster 3\", \"Cluster 3\", \"Cluster 3\", \"Cluster 3\", \"Cluster 3\", \"Cluster 3\", \"Cluster 3\", \"Cluster 3\", \"Cluster 3\", \"Cluster 3\", \"Cluster 3\", \"Cluster 3\", \"Cluster 3\", \"Cluster 3\", \"Cluster 3\", \"Cluster 3\", \"Cluster 3\", \"Cluster 3\", \"Cluster 3\", \"Cluster 3\", \"Cluster 3\", \"Cluster 3\", \"Cluster 3\", \"Cluster 3\", \"Cluster 3\", \"Cluster 3\", \"Cluster 3\", \"Cluster 3\", \"Cluster 3\", \"Cluster 3\", \"Cluster 3\"], \"xaxis\": \"x\", \"yaxis\": \"y\"}, {\"alignmentgroup\": \"True\", \"customdata\": [[70.0, 4.0, \"Cluster 3\"], [53.0, 2.0, \"Cluster 3\"], [44.0, 2.0, \"Cluster 3\"], [44.0, 4.0, \"Cluster 3\"], [60.0, 3.0, \"Cluster 3\"], [60.0, 0.0, \"Cluster 3\"], [53.0, 2.0, \"Cluster 3\"], [61.0, 4.0, \"Cluster 3\"], [27.0, 0.0, \"Cluster 3\"], [66.0, 0.0, \"Cluster 3\"], [26.0, 2.0, \"Cluster 3\"], [54.0, 3.0, \"Cluster 3\"], [26.0, 2.0, \"Cluster 3\"], [70.0, 4.0, \"Cluster 3\"], [7.0, 3.0, \"Cluster 3\"], [47.0, 0.0, \"Cluster 3\"], [44.0, 2.0, \"Cluster 3\"], [26.0, 4.0, \"Cluster 3\"], [44.0, 0.0, \"Cluster 3\"], [44.0, 2.0, \"Cluster 3\"], [44.0, 2.0, \"Cluster 3\"], [50.0, 4.0, \"Cluster 3\"], [44.0, 2.0, \"Cluster 3\"], [70.0, 4.0, \"Cluster 3\"], [66.0, 3.0, \"Cluster 3\"], [60.0, 4.0, \"Cluster 3\"], [58.0, 0.0, \"Cluster 3\"], [62.0, 1.0, \"Cluster 3\"], [33.0, 4.0, \"Cluster 3\"], [44.0, 0.0, \"Cluster 3\"], [44.0, 4.0, \"Cluster 3\"], [7.0, 2.0, \"Cluster 3\"], [26.0, 2.0, \"Cluster 3\"], [14.0, 4.0, \"Cluster 3\"], [44.0, 0.0, \"Cluster 3\"], [52.0, 4.0, \"Cluster 3\"], [66.0, 0.0, \"Cluster 3\"], [46.0, 4.0, \"Cluster 3\"], [45.0, 1.0, \"Cluster 3\"], [33.0, 2.0, \"Cluster 3\"], [31.0, 2.0, \"Cluster 3\"], [44.0, 4.0, \"Cluster 3\"], [44.0, 2.0, \"Cluster 3\"], [44.0, 4.0, \"Cluster 3\"], [68.0, 4.0, \"Cluster 3\"], [68.0, 4.0, \"Cluster 3\"], [66.0, 0.0, \"Cluster 3\"], [34.0, 4.0, \"Cluster 3\"], [44.0, 2.0, \"Cluster 3\"], [36.0, 2.0, \"Cluster 3\"], [65.0, 4.0, \"Cluster 3\"], [50.0, 4.0, \"Cluster 3\"], [44.0, 2.0, \"Cluster 3\"], [62.0, 4.0, \"Cluster 3\"], [28.0, 0.0, \"Cluster 3\"], [66.0, 4.0, \"Cluster 3\"], [10.0, 3.0, \"Cluster 3\"], [44.0, 2.0, \"Cluster 3\"], [44.0, 2.0, \"Cluster 3\"], [63.0, 4.0, \"Cluster 3\"], [66.0, 0.0, \"Cluster 3\"], [63.0, 4.0, \"Cluster 3\"], [42.0, 0.0, \"Cluster 3\"], [53.0, 2.0, \"Cluster 3\"], [31.0, 4.0, \"Cluster 3\"], [48.0, 4.0, \"Cluster 3\"], [9.0, 2.0, \"Cluster 3\"], [46.0, 4.0, \"Cluster 3\"], [14.0, 1.0, \"Cluster 3\"], [46.0, 4.0, \"Cluster 3\"], [10.0, 2.0, \"Cluster 3\"], [26.0, 4.0, \"Cluster 3\"], [44.0, 2.0, \"Cluster 3\"], [53.0, 2.0, \"Cluster 3\"], [67.0, 0.0, \"Cluster 3\"], [44.0, 4.0, \"Cluster 3\"], [37.0, 4.0, \"Cluster 3\"], [53.0, 2.0, \"Cluster 3\"], [61.0, 3.0, \"Cluster 3\"], [44.0, 2.0, \"Cluster 3\"], [52.0, 3.0, \"Cluster 3\"], [68.0, 4.0, \"Cluster 3\"], [31.0, 3.0, \"Cluster 3\"], [64.0, 2.0, \"Cluster 3\"], [64.0, 2.0, \"Cluster 3\"], [44.0, 3.0, \"Cluster 3\"], [26.0, 2.0, \"Cluster 3\"], [20.0, 3.0, \"Cluster 3\"], [31.0, 1.0, \"Cluster 3\"], [72.0, 4.0, \"Cluster 3\"], [26.0, 1.0, \"Cluster 3\"], [31.0, 1.0, \"Cluster 3\"], [64.0, 2.0, \"Cluster 3\"], [44.0, 0.0, \"Cluster 3\"], [44.0, 2.0, \"Cluster 3\"], [16.0, 0.0, \"Cluster 3\"], [68.0, 4.0, \"Cluster 3\"], [64.0, 2.0, \"Cluster 3\"], [44.0, 3.0, \"Cluster 3\"], [44.0, 4.0, \"Cluster 3\"], [58.0, 0.0, \"Cluster 3\"], [64.0, 2.0, \"Cluster 3\"], [64.0, 2.0, \"Cluster 3\"], [19.0, 2.0, \"Cluster 3\"], [61.0, 0.0, \"Cluster 3\"], [67.0, 2.0, \"Cluster 3\"], [0.0, 0.0, \"Cluster 3\"], [13.0, 3.0, \"Cluster 3\"], [68.0, 4.0, \"Cluster 3\"], [52.0, 3.0, \"Cluster 3\"], [10.0, 3.0, \"Cluster 3\"], [44.0, 2.0, \"Cluster 3\"], [31.0, 4.0, \"Cluster 3\"], [61.0, 3.0, \"Cluster 3\"], [31.0, 4.0, \"Cluster 3\"], [44.0, 3.0, \"Cluster 3\"], [44.0, 2.0, \"Cluster 3\"], [64.0, 2.0, \"Cluster 3\"], [31.0, 2.0, \"Cluster 3\"], [64.0, 2.0, \"Cluster 3\"], [54.0, 3.0, \"Cluster 3\"], [64.0, 2.0, \"Cluster 3\"], [54.0, 3.0, \"Cluster 3\"], [64.0, 0.0, \"Cluster 3\"], [26.0, 2.0, \"Cluster 3\"], [7.0, 2.0, \"Cluster 3\"], [14.0, 2.0, \"Cluster 3\"], [26.0, 4.0, \"Cluster 3\"], [66.0, 0.0, \"Cluster 3\"], [54.0, 3.0, \"Cluster 3\"], [64.0, 2.0, \"Cluster 3\"], [58.0, 3.0, \"Cluster 3\"], [44.0, 4.0, \"Cluster 3\"], [63.0, 4.0, \"Cluster 3\"]], \"hovertemplate\": \"Cluster=%{customdata[2]}<br>New_Budget=%{customdata[0]}<br>Category=%{customdata[1]}<extra></extra>\", \"legendgroup\": \"Cluster 3\", \"marker\": {\"color\": \"#ab63fa\"}, \"name\": \"Cluster 3\", \"notched\": true, \"offsetgroup\": \"Cluster 3\", \"showlegend\": false, \"type\": \"box\", \"x\": [\"Cluster 3\", \"Cluster 3\", \"Cluster 3\", \"Cluster 3\", \"Cluster 3\", \"Cluster 3\", \"Cluster 3\", \"Cluster 3\", \"Cluster 3\", \"Cluster 3\", \"Cluster 3\", \"Cluster 3\", \"Cluster 3\", \"Cluster 3\", \"Cluster 3\", \"Cluster 3\", \"Cluster 3\", \"Cluster 3\", \"Cluster 3\", \"Cluster 3\", \"Cluster 3\", \"Cluster 3\", \"Cluster 3\", \"Cluster 3\", \"Cluster 3\", \"Cluster 3\", \"Cluster 3\", \"Cluster 3\", \"Cluster 3\", \"Cluster 3\", \"Cluster 3\", \"Cluster 3\", \"Cluster 3\", \"Cluster 3\", \"Cluster 3\", \"Cluster 3\", \"Cluster 3\", \"Cluster 3\", \"Cluster 3\", \"Cluster 3\", \"Cluster 3\", \"Cluster 3\", \"Cluster 3\", \"Cluster 3\", \"Cluster 3\", \"Cluster 3\", \"Cluster 3\", \"Cluster 3\", \"Cluster 3\", \"Cluster 3\", \"Cluster 3\", \"Cluster 3\", \"Cluster 3\", \"Cluster 3\", \"Cluster 3\", \"Cluster 3\", \"Cluster 3\", \"Cluster 3\", \"Cluster 3\", \"Cluster 3\", \"Cluster 3\", \"Cluster 3\", \"Cluster 3\", \"Cluster 3\", \"Cluster 3\", \"Cluster 3\", \"Cluster 3\", \"Cluster 3\", \"Cluster 3\", \"Cluster 3\", \"Cluster 3\", \"Cluster 3\", \"Cluster 3\", \"Cluster 3\", \"Cluster 3\", \"Cluster 3\", \"Cluster 3\", \"Cluster 3\", \"Cluster 3\", \"Cluster 3\", \"Cluster 3\", \"Cluster 3\", \"Cluster 3\", \"Cluster 3\", \"Cluster 3\", \"Cluster 3\", \"Cluster 3\", \"Cluster 3\", \"Cluster 3\", \"Cluster 3\", \"Cluster 3\", \"Cluster 3\", \"Cluster 3\", \"Cluster 3\", \"Cluster 3\", \"Cluster 3\", \"Cluster 3\", \"Cluster 3\", \"Cluster 3\", \"Cluster 3\", \"Cluster 3\", \"Cluster 3\", \"Cluster 3\", \"Cluster 3\", \"Cluster 3\", \"Cluster 3\", \"Cluster 3\", \"Cluster 3\", \"Cluster 3\", \"Cluster 3\", \"Cluster 3\", \"Cluster 3\", \"Cluster 3\", \"Cluster 3\", \"Cluster 3\", \"Cluster 3\", \"Cluster 3\", \"Cluster 3\", \"Cluster 3\", \"Cluster 3\", \"Cluster 3\", \"Cluster 3\", \"Cluster 3\", \"Cluster 3\", \"Cluster 3\", \"Cluster 3\", \"Cluster 3\", \"Cluster 3\", \"Cluster 3\", \"Cluster 3\", \"Cluster 3\", \"Cluster 3\", \"Cluster 3\", \"Cluster 3\"], \"xaxis\": \"x2\", \"yaxis\": \"y2\"}],\n",
       "                        {\"barmode\": \"relative\", \"legend\": {\"title\": {\"text\": \"Cluster\"}, \"tracegroupgap\": 0}, \"margin\": {\"t\": 60}, \"template\": {\"data\": {\"bar\": [{\"error_x\": {\"color\": \"#2a3f5f\"}, \"error_y\": {\"color\": \"#2a3f5f\"}, \"marker\": {\"line\": {\"color\": \"#E5ECF6\", \"width\": 0.5}}, \"type\": \"bar\"}], \"barpolar\": [{\"marker\": {\"line\": {\"color\": \"#E5ECF6\", \"width\": 0.5}}, \"type\": \"barpolar\"}], \"carpet\": [{\"aaxis\": {\"endlinecolor\": \"#2a3f5f\", \"gridcolor\": \"white\", \"linecolor\": \"white\", \"minorgridcolor\": \"white\", \"startlinecolor\": \"#2a3f5f\"}, \"baxis\": {\"endlinecolor\": \"#2a3f5f\", \"gridcolor\": \"white\", \"linecolor\": \"white\", \"minorgridcolor\": \"white\", \"startlinecolor\": \"#2a3f5f\"}, \"type\": \"carpet\"}], \"choropleth\": [{\"colorbar\": {\"outlinewidth\": 0, \"ticks\": \"\"}, \"type\": \"choropleth\"}], \"contour\": [{\"colorbar\": {\"outlinewidth\": 0, \"ticks\": \"\"}, \"colorscale\": [[0.0, \"#0d0887\"], [0.1111111111111111, \"#46039f\"], [0.2222222222222222, \"#7201a8\"], [0.3333333333333333, \"#9c179e\"], [0.4444444444444444, \"#bd3786\"], [0.5555555555555556, \"#d8576b\"], [0.6666666666666666, \"#ed7953\"], [0.7777777777777778, \"#fb9f3a\"], [0.8888888888888888, \"#fdca26\"], [1.0, \"#f0f921\"]], \"type\": \"contour\"}], \"contourcarpet\": [{\"colorbar\": {\"outlinewidth\": 0, \"ticks\": \"\"}, \"type\": \"contourcarpet\"}], \"heatmap\": [{\"colorbar\": {\"outlinewidth\": 0, \"ticks\": \"\"}, \"colorscale\": [[0.0, \"#0d0887\"], [0.1111111111111111, \"#46039f\"], [0.2222222222222222, \"#7201a8\"], [0.3333333333333333, \"#9c179e\"], [0.4444444444444444, \"#bd3786\"], [0.5555555555555556, \"#d8576b\"], [0.6666666666666666, \"#ed7953\"], [0.7777777777777778, \"#fb9f3a\"], [0.8888888888888888, \"#fdca26\"], [1.0, \"#f0f921\"]], \"type\": \"heatmap\"}], \"heatmapgl\": [{\"colorbar\": {\"outlinewidth\": 0, \"ticks\": \"\"}, \"colorscale\": [[0.0, \"#0d0887\"], [0.1111111111111111, \"#46039f\"], [0.2222222222222222, \"#7201a8\"], [0.3333333333333333, \"#9c179e\"], [0.4444444444444444, \"#bd3786\"], [0.5555555555555556, \"#d8576b\"], [0.6666666666666666, \"#ed7953\"], [0.7777777777777778, \"#fb9f3a\"], [0.8888888888888888, \"#fdca26\"], [1.0, \"#f0f921\"]], \"type\": \"heatmapgl\"}], \"histogram\": [{\"marker\": {\"colorbar\": {\"outlinewidth\": 0, \"ticks\": \"\"}}, \"type\": \"histogram\"}], \"histogram2d\": [{\"colorbar\": {\"outlinewidth\": 0, \"ticks\": \"\"}, \"colorscale\": [[0.0, \"#0d0887\"], [0.1111111111111111, \"#46039f\"], [0.2222222222222222, \"#7201a8\"], [0.3333333333333333, \"#9c179e\"], [0.4444444444444444, \"#bd3786\"], [0.5555555555555556, \"#d8576b\"], [0.6666666666666666, \"#ed7953\"], [0.7777777777777778, \"#fb9f3a\"], [0.8888888888888888, \"#fdca26\"], [1.0, \"#f0f921\"]], \"type\": \"histogram2d\"}], \"histogram2dcontour\": [{\"colorbar\": {\"outlinewidth\": 0, \"ticks\": \"\"}, \"colorscale\": [[0.0, \"#0d0887\"], [0.1111111111111111, \"#46039f\"], [0.2222222222222222, \"#7201a8\"], [0.3333333333333333, \"#9c179e\"], [0.4444444444444444, \"#bd3786\"], [0.5555555555555556, \"#d8576b\"], [0.6666666666666666, \"#ed7953\"], [0.7777777777777778, \"#fb9f3a\"], [0.8888888888888888, \"#fdca26\"], [1.0, \"#f0f921\"]], \"type\": \"histogram2dcontour\"}], \"mesh3d\": [{\"colorbar\": {\"outlinewidth\": 0, \"ticks\": \"\"}, \"type\": \"mesh3d\"}], \"parcoords\": [{\"line\": {\"colorbar\": {\"outlinewidth\": 0, \"ticks\": \"\"}}, \"type\": \"parcoords\"}], \"pie\": [{\"automargin\": true, \"type\": \"pie\"}], \"scatter\": [{\"marker\": {\"colorbar\": {\"outlinewidth\": 0, \"ticks\": \"\"}}, \"type\": \"scatter\"}], \"scatter3d\": [{\"line\": {\"colorbar\": {\"outlinewidth\": 0, \"ticks\": \"\"}}, \"marker\": {\"colorbar\": {\"outlinewidth\": 0, \"ticks\": \"\"}}, \"type\": \"scatter3d\"}], \"scattercarpet\": [{\"marker\": {\"colorbar\": {\"outlinewidth\": 0, \"ticks\": \"\"}}, \"type\": \"scattercarpet\"}], \"scattergeo\": [{\"marker\": {\"colorbar\": {\"outlinewidth\": 0, \"ticks\": \"\"}}, \"type\": \"scattergeo\"}], \"scattergl\": [{\"marker\": {\"colorbar\": {\"outlinewidth\": 0, \"ticks\": \"\"}}, \"type\": \"scattergl\"}], \"scattermapbox\": [{\"marker\": {\"colorbar\": {\"outlinewidth\": 0, \"ticks\": \"\"}}, \"type\": \"scattermapbox\"}], \"scatterpolar\": [{\"marker\": {\"colorbar\": {\"outlinewidth\": 0, \"ticks\": \"\"}}, \"type\": \"scatterpolar\"}], \"scatterpolargl\": [{\"marker\": {\"colorbar\": {\"outlinewidth\": 0, \"ticks\": \"\"}}, \"type\": \"scatterpolargl\"}], \"scatterternary\": [{\"marker\": {\"colorbar\": {\"outlinewidth\": 0, \"ticks\": \"\"}}, \"type\": \"scatterternary\"}], \"surface\": [{\"colorbar\": {\"outlinewidth\": 0, \"ticks\": \"\"}, \"colorscale\": [[0.0, \"#0d0887\"], [0.1111111111111111, \"#46039f\"], [0.2222222222222222, \"#7201a8\"], [0.3333333333333333, \"#9c179e\"], [0.4444444444444444, \"#bd3786\"], [0.5555555555555556, \"#d8576b\"], [0.6666666666666666, \"#ed7953\"], [0.7777777777777778, \"#fb9f3a\"], [0.8888888888888888, \"#fdca26\"], [1.0, \"#f0f921\"]], \"type\": \"surface\"}], \"table\": [{\"cells\": {\"fill\": {\"color\": \"#EBF0F8\"}, \"line\": {\"color\": \"white\"}}, \"header\": {\"fill\": {\"color\": \"#C8D4E3\"}, \"line\": {\"color\": \"white\"}}, \"type\": \"table\"}]}, \"layout\": {\"annotationdefaults\": {\"arrowcolor\": \"#2a3f5f\", \"arrowhead\": 0, \"arrowwidth\": 1}, \"coloraxis\": {\"colorbar\": {\"outlinewidth\": 0, \"ticks\": \"\"}}, \"colorscale\": {\"diverging\": [[0, \"#8e0152\"], [0.1, \"#c51b7d\"], [0.2, \"#de77ae\"], [0.3, \"#f1b6da\"], [0.4, \"#fde0ef\"], [0.5, \"#f7f7f7\"], [0.6, \"#e6f5d0\"], [0.7, \"#b8e186\"], [0.8, \"#7fbc41\"], [0.9, \"#4d9221\"], [1, \"#276419\"]], \"sequential\": [[0.0, \"#0d0887\"], [0.1111111111111111, \"#46039f\"], [0.2222222222222222, \"#7201a8\"], [0.3333333333333333, \"#9c179e\"], [0.4444444444444444, \"#bd3786\"], [0.5555555555555556, \"#d8576b\"], [0.6666666666666666, \"#ed7953\"], [0.7777777777777778, \"#fb9f3a\"], [0.8888888888888888, \"#fdca26\"], [1.0, \"#f0f921\"]], \"sequentialminus\": [[0.0, \"#0d0887\"], [0.1111111111111111, \"#46039f\"], [0.2222222222222222, \"#7201a8\"], [0.3333333333333333, \"#9c179e\"], [0.4444444444444444, \"#bd3786\"], [0.5555555555555556, \"#d8576b\"], [0.6666666666666666, \"#ed7953\"], [0.7777777777777778, \"#fb9f3a\"], [0.8888888888888888, \"#fdca26\"], [1.0, \"#f0f921\"]]}, \"colorway\": [\"#636efa\", \"#EF553B\", \"#00cc96\", \"#ab63fa\", \"#FFA15A\", \"#19d3f3\", \"#FF6692\", \"#B6E880\", \"#FF97FF\", \"#FECB52\"], \"font\": {\"color\": \"#2a3f5f\"}, \"geo\": {\"bgcolor\": \"white\", \"lakecolor\": \"white\", \"landcolor\": \"#E5ECF6\", \"showlakes\": true, \"showland\": true, \"subunitcolor\": \"white\"}, \"hoverlabel\": {\"align\": \"left\"}, \"hovermode\": \"closest\", \"mapbox\": {\"style\": \"light\"}, \"paper_bgcolor\": \"white\", \"plot_bgcolor\": \"#E5ECF6\", \"polar\": {\"angularaxis\": {\"gridcolor\": \"white\", \"linecolor\": \"white\", \"ticks\": \"\"}, \"bgcolor\": \"#E5ECF6\", \"radialaxis\": {\"gridcolor\": \"white\", \"linecolor\": \"white\", \"ticks\": \"\"}}, \"scene\": {\"xaxis\": {\"backgroundcolor\": \"#E5ECF6\", \"gridcolor\": \"white\", \"gridwidth\": 2, \"linecolor\": \"white\", \"showbackground\": true, \"ticks\": \"\", \"zerolinecolor\": \"white\"}, \"yaxis\": {\"backgroundcolor\": \"#E5ECF6\", \"gridcolor\": \"white\", \"gridwidth\": 2, \"linecolor\": \"white\", \"showbackground\": true, \"ticks\": \"\", \"zerolinecolor\": \"white\"}, \"zaxis\": {\"backgroundcolor\": \"#E5ECF6\", \"gridcolor\": \"white\", \"gridwidth\": 2, \"linecolor\": \"white\", \"showbackground\": true, \"ticks\": \"\", \"zerolinecolor\": \"white\"}}, \"shapedefaults\": {\"line\": {\"color\": \"#2a3f5f\"}}, \"ternary\": {\"aaxis\": {\"gridcolor\": \"white\", \"linecolor\": \"white\", \"ticks\": \"\"}, \"baxis\": {\"gridcolor\": \"white\", \"linecolor\": \"white\", \"ticks\": \"\"}, \"bgcolor\": \"#E5ECF6\", \"caxis\": {\"gridcolor\": \"white\", \"linecolor\": \"white\", \"ticks\": \"\"}}, \"title\": {\"x\": 0.05}, \"xaxis\": {\"automargin\": true, \"gridcolor\": \"white\", \"linecolor\": \"white\", \"ticks\": \"\", \"title\": {\"standoff\": 15}, \"zerolinecolor\": \"white\", \"zerolinewidth\": 2}, \"yaxis\": {\"automargin\": true, \"gridcolor\": \"white\", \"linecolor\": \"white\", \"ticks\": \"\", \"title\": {\"standoff\": 15}, \"zerolinecolor\": \"white\", \"zerolinewidth\": 2}}}, \"xaxis\": {\"anchor\": \"y\", \"categoryarray\": [\"Cluster 0\", \"Cluster 1\", \"Cluster 2\", \"Cluster 3\"], \"categoryorder\": \"array\", \"domain\": [0.0, 1.0], \"title\": {\"text\": \"Cluster\"}}, \"xaxis2\": {\"anchor\": \"y2\", \"domain\": [0.0, 1.0], \"matches\": \"x\", \"showgrid\": true, \"showticklabels\": false}, \"yaxis\": {\"anchor\": \"x\", \"domain\": [0.0, 0.7326], \"title\": {\"text\": \"count\"}}, \"yaxis2\": {\"anchor\": \"x2\", \"domain\": [0.7426, 1.0], \"matches\": \"y2\", \"showgrid\": false, \"showline\": false, \"showticklabels\": false, \"ticks\": \"\"}},\n",
       "                        {\"responsive\": true}\n",
       "                    ).then(function(){\n",
       "                            \n",
       "var gd = document.getElementById('4279f223-cb1c-43c2-bf0d-7d52ec7f7de4');\n",
       "var x = new MutationObserver(function (mutations, observer) {{\n",
       "        var display = window.getComputedStyle(gd).display;\n",
       "        if (!display || display === 'none') {{\n",
       "            console.log([gd, 'removed!']);\n",
       "            Plotly.purge(gd);\n",
       "            observer.disconnect();\n",
       "        }}\n",
       "}});\n",
       "\n",
       "// Listen for the removal of the full notebook cells\n",
       "var notebookContainer = gd.closest('#notebook-container');\n",
       "if (notebookContainer) {{\n",
       "    x.observe(notebookContainer, {childList: true});\n",
       "}}\n",
       "\n",
       "// Listen for the clearing of the current output cell\n",
       "var outputEl = gd.closest('.output');\n",
       "if (outputEl) {{\n",
       "    x.observe(outputEl, {childList: true});\n",
       "}}\n",
       "\n",
       "                        })\n",
       "                };\n",
       "                });\n",
       "            </script>\n",
       "        </div>"
      ]
     },
     "metadata": {},
     "output_type": "display_data"
    }
   ],
   "source": [
    "plot_model(kmeans, plot = 'distribution') #to see size of clusters"
   ]
  },
  {
   "cell_type": "code",
   "execution_count": 193,
   "metadata": {},
   "outputs": [
    {
     "data": {
      "application/vnd.jupyter.widget-view+json": {
       "model_id": "f0eeb0f2ae1b4619b38cbb4761f9aad0",
       "version_major": 2,
       "version_minor": 0
      },
      "text/plain": [
       "interactive(children=(ToggleButtons(description='Plot Type:', icons=('',), options=(('Hyperparameters', 'param…"
      ]
     },
     "metadata": {},
     "output_type": "display_data"
    }
   ],
   "source": [
    "evaluate_model(kmeans)"
   ]
  },
  {
   "cell_type": "code",
   "execution_count": null,
   "metadata": {},
   "outputs": [],
   "source": []
  }
 ],
 "metadata": {
  "kernelspec": {
   "display_name": "Python 3",
   "language": "python",
   "name": "python3"
  },
  "language_info": {
   "codemirror_mode": {
    "name": "ipython",
    "version": 3
   },
   "file_extension": ".py",
   "mimetype": "text/x-python",
   "name": "python",
   "nbconvert_exporter": "python",
   "pygments_lexer": "ipython3",
   "version": "3.7.3"
  }
 },
 "nbformat": 4,
 "nbformat_minor": 2
}
