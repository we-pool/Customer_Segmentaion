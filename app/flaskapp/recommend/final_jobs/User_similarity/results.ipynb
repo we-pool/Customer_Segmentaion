{
 "cells": [
  {
   "cell_type": "code",
   "execution_count": 1,
   "metadata": {},
   "outputs": [],
   "source": [
    "sim_fls = [5788, 3928, 5695, 5289, 5411, 5707, 5525, 5140, 1148, 5219]"
   ]
  },
  {
   "cell_type": "code",
   "execution_count": 3,
   "metadata": {},
   "outputs": [],
   "source": [
    "import pandas as pd\n",
    "\n",
    "jobs = pd.read_csv('/home/robin/ai/ineuron/internship/letsworkapp-v4/flaskapp/data/jobs.csv')"
   ]
  },
  {
   "cell_type": "code",
   "execution_count": 4,
   "metadata": {},
   "outputs": [
    {
     "output_type": "execute_result",
     "data": {
      "text/plain": [
       "   Id       Created_date           Due_date  User_id           Payment_type  \\\n",
       "0   1  December 04, 2020   January 02, 2021        1            Fixed Price   \n",
       "1   2  December 04, 2020  December 11, 2020        2            Fixed Price   \n",
       "2   3  December 04, 2020   January 02, 2021        3  Fixed Price or Hourly   \n",
       "3   4  December 04, 2020   January 02, 2021        4            Fixed Price   \n",
       "4   5  December 04, 2020   January 02, 2021        5            Fixed Price   \n",
       "\n",
       "            Budget                                 Job_title  \\\n",
       "0    [' $5k-$10k']  Looking for \"NetSuite\" Part-Time Trainer   \n",
       "1  [' Under $250']    developing app for language translator   \n",
       "2               []                React Js Developers Needed   \n",
       "3  [' Under $250']     I have minimal issues with my website   \n",
       "4    [' $500-$1k']              Wordpress Site Customization   \n",
       "\n",
       "                    Category                Subcategory  \\\n",
       "0       Education & Training     Information Technology   \n",
       "1  Programming & Development   Web Development & Design   \n",
       "2  Programming & Development   Web Development & Design   \n",
       "3  Programming & Development   Web Development & Design   \n",
       "4  Programming & Development   Web Development & Design   \n",
       "\n",
       "                                     Job_description  ... No_of_quotes  \\\n",
       "0  Currently, we are Looking for \"Oracle Netsuite...  ...          0.0   \n",
       "1  Need an app to convert a youtube script from o...  ...          0.0   \n",
       "2  Hi,\\nI need 2 React js developers having atlea...  ...         20.0   \n",
       "3  Hello there, \\n\\nIt's vue larvel website, it's...  ...         13.0   \n",
       "4  PLEASE DO NOT RESPOND TO THIS PROJECT WITH A C...  ...         13.0   \n",
       "\n",
       "                                     Link_of_quoters No_of_Premium_quotes  \\\n",
       "0                                                 []                  0.0   \n",
       "1                                                 []                  0.0   \n",
       "2  ['https://www.guru.com/freelancers/yao-tingche...                  1.0   \n",
       "3  ['https://www.guru.com/freelancers/amazon-soft...                  0.0   \n",
       "4  ['https://www.guru.com/freelancers/amazon-soft...                  0.0   \n",
       "\n",
       "                             Link_of_premium_quoters  No_of_inviited  \\\n",
       "0                                                 []            14.0   \n",
       "1                                                 []             0.0   \n",
       "2  ['https://www.guru.com/freelancers/yao-tingchen']             0.0   \n",
       "3                                                 []             3.0   \n",
       "4                                                 []             0.0   \n",
       "\n",
       "                         Link_of_invited_freelancers  No_of_Hired  \\\n",
       "0  ['https://www.guru.com/freelancers/netsuite-fr...          0.0   \n",
       "1                                                 []          0.0   \n",
       "2                                                 []          0.0   \n",
       "3  ['https://www.guru.com/freelancers/ahmed-s-hel...          0.0   \n",
       "4                                                 []          0.0   \n",
       "\n",
       "  Link_of_hired_freelancers  Job_cluster_id Min_budget  \n",
       "0                        []               3     5000.0  \n",
       "1                        []               1      125.0  \n",
       "2                        []               1        NaN  \n",
       "3                        []               1      125.0  \n",
       "4                        []               1      500.0  \n",
       "\n",
       "[5 rows x 24 columns]"
      ],
      "text/html": "<div>\n<style scoped>\n    .dataframe tbody tr th:only-of-type {\n        vertical-align: middle;\n    }\n\n    .dataframe tbody tr th {\n        vertical-align: top;\n    }\n\n    .dataframe thead th {\n        text-align: right;\n    }\n</style>\n<table border=\"1\" class=\"dataframe\">\n  <thead>\n    <tr style=\"text-align: right;\">\n      <th></th>\n      <th>Id</th>\n      <th>Created_date</th>\n      <th>Due_date</th>\n      <th>User_id</th>\n      <th>Payment_type</th>\n      <th>Budget</th>\n      <th>Job_title</th>\n      <th>Category</th>\n      <th>Subcategory</th>\n      <th>Job_description</th>\n      <th>...</th>\n      <th>No_of_quotes</th>\n      <th>Link_of_quoters</th>\n      <th>No_of_Premium_quotes</th>\n      <th>Link_of_premium_quoters</th>\n      <th>No_of_inviited</th>\n      <th>Link_of_invited_freelancers</th>\n      <th>No_of_Hired</th>\n      <th>Link_of_hired_freelancers</th>\n      <th>Job_cluster_id</th>\n      <th>Min_budget</th>\n    </tr>\n  </thead>\n  <tbody>\n    <tr>\n      <th>0</th>\n      <td>1</td>\n      <td>December 04, 2020</td>\n      <td>January 02, 2021</td>\n      <td>1</td>\n      <td>Fixed Price</td>\n      <td>[' $5k-$10k']</td>\n      <td>Looking for \"NetSuite\" Part-Time Trainer</td>\n      <td>Education &amp; Training</td>\n      <td>Information Technology</td>\n      <td>Currently, we are Looking for \"Oracle Netsuite...</td>\n      <td>...</td>\n      <td>0.0</td>\n      <td>[]</td>\n      <td>0.0</td>\n      <td>[]</td>\n      <td>14.0</td>\n      <td>['https://www.guru.com/freelancers/netsuite-fr...</td>\n      <td>0.0</td>\n      <td>[]</td>\n      <td>3</td>\n      <td>5000.0</td>\n    </tr>\n    <tr>\n      <th>1</th>\n      <td>2</td>\n      <td>December 04, 2020</td>\n      <td>December 11, 2020</td>\n      <td>2</td>\n      <td>Fixed Price</td>\n      <td>[' Under $250']</td>\n      <td>developing app for language translator</td>\n      <td>Programming &amp; Development</td>\n      <td>Web Development &amp; Design</td>\n      <td>Need an app to convert a youtube script from o...</td>\n      <td>...</td>\n      <td>0.0</td>\n      <td>[]</td>\n      <td>0.0</td>\n      <td>[]</td>\n      <td>0.0</td>\n      <td>[]</td>\n      <td>0.0</td>\n      <td>[]</td>\n      <td>1</td>\n      <td>125.0</td>\n    </tr>\n    <tr>\n      <th>2</th>\n      <td>3</td>\n      <td>December 04, 2020</td>\n      <td>January 02, 2021</td>\n      <td>3</td>\n      <td>Fixed Price or Hourly</td>\n      <td>[]</td>\n      <td>React Js Developers Needed</td>\n      <td>Programming &amp; Development</td>\n      <td>Web Development &amp; Design</td>\n      <td>Hi,\\nI need 2 React js developers having atlea...</td>\n      <td>...</td>\n      <td>20.0</td>\n      <td>['https://www.guru.com/freelancers/yao-tingche...</td>\n      <td>1.0</td>\n      <td>['https://www.guru.com/freelancers/yao-tingchen']</td>\n      <td>0.0</td>\n      <td>[]</td>\n      <td>0.0</td>\n      <td>[]</td>\n      <td>1</td>\n      <td>NaN</td>\n    </tr>\n    <tr>\n      <th>3</th>\n      <td>4</td>\n      <td>December 04, 2020</td>\n      <td>January 02, 2021</td>\n      <td>4</td>\n      <td>Fixed Price</td>\n      <td>[' Under $250']</td>\n      <td>I have minimal issues with my website</td>\n      <td>Programming &amp; Development</td>\n      <td>Web Development &amp; Design</td>\n      <td>Hello there, \\n\\nIt's vue larvel website, it's...</td>\n      <td>...</td>\n      <td>13.0</td>\n      <td>['https://www.guru.com/freelancers/amazon-soft...</td>\n      <td>0.0</td>\n      <td>[]</td>\n      <td>3.0</td>\n      <td>['https://www.guru.com/freelancers/ahmed-s-hel...</td>\n      <td>0.0</td>\n      <td>[]</td>\n      <td>1</td>\n      <td>125.0</td>\n    </tr>\n    <tr>\n      <th>4</th>\n      <td>5</td>\n      <td>December 04, 2020</td>\n      <td>January 02, 2021</td>\n      <td>5</td>\n      <td>Fixed Price</td>\n      <td>[' $500-$1k']</td>\n      <td>Wordpress Site Customization</td>\n      <td>Programming &amp; Development</td>\n      <td>Web Development &amp; Design</td>\n      <td>PLEASE DO NOT RESPOND TO THIS PROJECT WITH A C...</td>\n      <td>...</td>\n      <td>13.0</td>\n      <td>['https://www.guru.com/freelancers/amazon-soft...</td>\n      <td>0.0</td>\n      <td>[]</td>\n      <td>0.0</td>\n      <td>[]</td>\n      <td>0.0</td>\n      <td>[]</td>\n      <td>1</td>\n      <td>500.0</td>\n    </tr>\n  </tbody>\n</table>\n<p>5 rows × 24 columns</p>\n</div>"
     },
     "metadata": {},
     "execution_count": 4
    }
   ],
   "source": [
    "jobs.head()"
   ]
  },
  {
   "cell_type": "code",
   "execution_count": 10,
   "metadata": {
    "tags": [
     "outputPrepend"
    ]
   },
   "outputs": [
    {
     "output_type": "stream",
     "name": "stdout",
     "text": [
      "andreear', 'https://www.guru.com/freelancers/jasim-khan', 'https://www.guru.com/freelancers/io842002', 'https://www.guru.com/freelancers/danicarozzi', 'https://www.guru.com/freelancers/kite-keep-it-easy', 'https://www.guru.com/freelancers/uandre', 'https://www.guru.com/freelancers/fabiolagana', 'https://www.guru.com/freelancers/ivano', 'https://www.guru.com/freelancers/minh-tien-to', 'https://www.guru.com/freelancers/andrea-paparella', 'https://www.guru.com/freelancers/andrian-garaba', 'https://www.guru.com/freelancers/daddabbol', 'https://www.guru.com/freelancers/blackster', 'https://www.guru.com/freelancers/lbstudios', 'https://www.guru.com/freelancers/sileno', 'https://www.guru.com/freelancers/giuseppe-veriello', 'https://www.guru.com/freelancers/emanuela-lorusso', 'https://www.guru.com/freelancers/aruggieri', 'https://www.guru.com/freelancers/tenebrone', 'https://www.guru.com/freelancers/happydesign2', 'https://www.guru.com/freelancers/cummingsja', 'https://www.guru.com/freelancers/novetica-solutions', 'https://www.guru.com/freelancers/apopolizio', 'https://www.guru.com/freelancers/riccardo-scaringi', 'https://www.guru.com/freelancers/francy-solutions', 'https://www.guru.com/freelancers/amato-matarrese-art-director', 'https://www.guru.com/freelancers/stefano-d-alba', 'https://www.guru.com/freelancers/estar-group', 'https://www.guru.com/freelancers/swdclass74', 'https://www.guru.com/freelancers/lookuptv', 'https://www.guru.com/freelancers/lucio-occhipinti', 'https://www.guru.com/freelancers/luca-saba', 'https://www.guru.com/freelancers/lspanu', 'https://www.guru.com/freelancers/giorgio-figus', 'https://www.guru.com/freelancers/none-given-3804', 'https://www.guru.com/freelancers/mathanraj', 'https://www.guru.com/freelancers/giuseppe-sgroi', 'https://www.guru.com/freelancers/saporob', 'https://www.guru.com/freelancers/andrea-p-760588', 'https://www.guru.com/freelancers/mdelu', 'https://www.guru.com/freelancers/mezzaninefloor', 'https://www.guru.com/freelancers/aw4y', 'https://www.guru.com/freelancers/tanolinux', 'https://www.guru.com/freelancers/dag74', 'https://www.guru.com/freelancers/sergio-c', 'https://www.guru.com/freelancers/snakedev', 'https://www.guru.com/freelancers/andrea-fonte', 'https://www.guru.com/freelancers/alessio-mangano', 'https://www.guru.com/freelancers/mellart', 'https://www.guru.com/freelancers/giulatona', 'https://www.guru.com/freelancers/sim-one-1', 'https://www.guru.com/freelancers/echo2k', 'https://www.guru.com/freelancers/gianni-sg', 'https://www.guru.com/freelancers/massimo-ferrara', 'https://www.guru.com/freelancers/rtraverso', 'https://www.guru.com/freelancers/nkigen', 'https://www.guru.com/freelancers/sebastian-faltoni', 'https://www.guru.com/freelancers/biocram', 'https://www.guru.com/freelancers/resetblue', 'https://www.guru.com/freelancers/omnia-group', 'https://www.guru.com/freelancers/francini', 'https://www.guru.com/freelancers/ace1980', 'https://www.guru.com/freelancers/riccardofanetti', 'https://www.guru.com/freelancers/ulialen', 'https://www.guru.com/freelancers/ldardini', 'https://www.guru.com/freelancers/ntze', 'https://www.guru.com/freelancers/alessio-turini', 'https://www.guru.com/freelancers/fabien', 'https://www.guru.com/freelancers/luigi-distudio-labs', 'https://www.guru.com/freelancers/jsergio', 'https://www.guru.com/freelancers/aberonni', 'https://www.guru.com/freelancers/guvat', 'https://www.guru.com/freelancers/giuseppe-biancofiore', 'https://www.guru.com/freelancers/viktoria-artist', 'https://www.guru.com/freelancers/arma-studio', 'https://www.guru.com/freelancers/enrico-nicoletti', 'https://www.guru.com/freelancers/matteo-vidotto', 'https://www.guru.com/freelancers/ankur-khanna', 'https://www.guru.com/freelancers/lorenzo-maiorfi', 'https://www.guru.com/freelancers/samueleorso', 'https://www.guru.com/freelancers/alesim', 'https://www.guru.com/freelancers/optimosoft', 'https://www.guru.com/freelancers/antonio-marino', 'https://www.guru.com/freelancers/stevenzoster', 'https://www.guru.com/freelancers/fabio-barollo', 'https://www.guru.com/freelancers/neil-zanella', 'https://www.guru.com/freelancers/de-lazzari-mauro', 'https://www.guru.com/freelancers/vladan-mijatovic', 'https://www.guru.com/freelancers/tuoplanet', 'https://www.guru.com/freelancers/datalogica', 'https://www.guru.com/freelancers/giacomo-rebonato', 'https://www.guru.com/freelancers/ambra-fausti', 'https://www.guru.com/freelancers/bjohensson', 'https://www.guru.com/freelancers/fabiodesalvador', 'https://www.guru.com/freelancers/mymktg', 'https://www.guru.com/freelancers/blackshadow', 'https://www.guru.com/freelancers/pietro-pugni', 'https://www.guru.com/freelancers/ragdog', 'https://www.guru.com/freelancers/mossuto-bonifazi-morgan', 'https://www.guru.com/freelancers/francesca-giannino', 'https://www.guru.com/freelancers/rochi', 'https://www.guru.com/freelancers/pbp', 'https://www.guru.com/freelancers/marco-fabris', 'https://www.guru.com/freelancers/moronim', 'https://www.guru.com/freelancers/mgarba', 'https://www.guru.com/freelancers/marco-rapella', 'https://www.guru.com/freelancers/chrissabbatini', 'https://www.guru.com/freelancers/maria-apicella', 'https://www.guru.com/freelancers/arlind', 'https://www.guru.com/freelancers/valerio-locatelli', 'https://www.guru.com/freelancers/isabella7', 'https://www.guru.com/freelancers/marco-serra', 'https://www.guru.com/freelancers/valeriovolpe', 'https://www.guru.com/freelancers/engenius', 'https://www.guru.com/freelancers/fedg', 'https://www.guru.com/freelancers/orgest', 'https://www.guru.com/freelancers/ekkek', 'https://www.guru.com/freelancers/daniele', 'https://www.guru.com/freelancers/alex-muraro', 'https://www.guru.com/freelancers/rob-ita', 'https://www.guru.com/freelancers/programmatoreguru', 'https://www.guru.com/freelancers/dany00', 'https://www.guru.com/freelancers/locus-amoenus', 'https://www.guru.com/freelancers/sbgibson', 'https://www.guru.com/freelancers/cesare-mariani', 'https://www.guru.com/freelancers/aldo-bianco', 'https://www.guru.com/freelancers/emadunk', 'https://www.guru.com/freelancers/giorgioseregni', 'https://www.guru.com/freelancers/gerardo-it', 'https://www.guru.com/freelancers/michele-massari', 'https://www.guru.com/freelancers/federico-gavazzi', 'https://www.guru.com/freelancers/rsetti', 'https://www.guru.com/freelancers/gate8', 'https://www.guru.com/freelancers/robertoscordino', 'https://www.guru.com/freelancers/muttley', 'https://www.guru.com/freelancers/danieleverdi', 'https://www.guru.com/freelancers/marika82', 'https://www.guru.com/freelancers/copons', 'https://www.guru.com/freelancers/dariozanzico', 'https://www.guru.com/freelancers/diegodevita', 'https://www.guru.com/freelancers/lucasto', 'https://www.guru.com/freelancers/joaoguru', 'https://www.guru.com/freelancers/darioderomanis', 'https://www.guru.com/freelancers/lcweb-studio', 'https://www.guru.com/freelancers/luca-vitucci', 'https://www.guru.com/freelancers/vignati-fabio', 'https://www.guru.com/freelancers/andrea-d-1542953', 'https://www.guru.com/freelancers/moeen-kamali', 'https://www.guru.com/freelancers/max-half', 'https://www.guru.com/freelancers/gaerec', 'https://www.guru.com/freelancers/luca-ci', 'https://www.guru.com/freelancers/salvatore-avanzo', 'https://www.guru.com/freelancers/dipixfreelance', 'https://www.guru.com/freelancers/kissit-rome', 'https://www.guru.com/freelancers/ziodave']\n",
      "[]\n",
      "['https://www.guru.com/freelancers/jennifer-golembeski', 'https://www.guru.com/freelancers/elizabeth-carty', 'https://www.guru.com/freelancers/roxanne-brown-2', 'https://www.guru.com/freelancers/taryn-drevenak', 'https://www.guru.com/freelancers/christina-d-stepp', 'https://www.guru.com/freelancers/britany-smolder', 'https://www.guru.com/freelancers/shelly-murphy', 'https://www.guru.com/freelancers/city-girl-finds', 'https://www.guru.com/freelancers/amethyst-storey-1', 'https://www.guru.com/freelancers/thersa-falconer', 'https://www.guru.com/freelancers/kari-williams', 'https://www.guru.com/freelancers/armila-designs', 'https://www.guru.com/freelancers/jalacrity', 'https://www.guru.com/freelancers/peta-gaye-campbell-1-2407555', 'https://www.guru.com/freelancers/katherine-carnley', 'https://www.guru.com/freelancers/sarah-vicente', 'https://www.guru.com/freelancers/jennifernichols32', 'https://www.guru.com/freelancers/rachel-r-taylor', 'https://www.guru.com/freelancers/marie-frazile', 'https://www.guru.com/freelancers/elizabeth-nesbitt', 'https://www.guru.com/freelancers/justinlalor', 'https://www.guru.com/freelancers/sierra-crosswhite', 'https://www.guru.com/freelancers/ronda-mitchell', 'https://www.guru.com/freelancers/renee-herbert', 'https://www.guru.com/freelancers/tiffany-green-1', 'https://www.guru.com/freelancers/silvermeridian', 'https://www.guru.com/freelancers/paula-milner', 'https://www.guru.com/freelancers/anna-ossadchaya', 'https://www.guru.com/freelancers/sarah-minton', 'https://www.guru.com/freelancers/larryce-peoples', 'https://www.guru.com/freelancers/jennifer-saunders', 'https://www.guru.com/freelancers/rochelle-taylor', 'https://www.guru.com/freelancers/kacie-leblanc', 'https://www.guru.com/freelancers/pamela-laukaitis', 'https://www.guru.com/freelancers/felisa-s-whitfield', 'https://www.guru.com/freelancers/jeanne-miller', 'https://www.guru.com/freelancers/shannon-stubbs', 'https://www.guru.com/freelancers/miranda-skroch', 'https://www.guru.com/freelancers/mary-riley', 'https://www.guru.com/freelancers/brittney-ek', 'https://www.guru.com/freelancers/tere-stokes-2', 'https://www.guru.com/freelancers/emily-johnson-4', 'https://www.guru.com/freelancers/maria-clarise', 'https://www.guru.com/freelancers/maggie-mur', 'https://www.guru.com/freelancers/jane-emma', 'https://www.guru.com/freelancers/isabel-cedeno', 'https://www.guru.com/freelancers/krystal-howell', 'https://www.guru.com/freelancers/onlyphilsophia', 'https://www.guru.com/freelancers/lindsey-petrine', 'https://www.guru.com/freelancers/k-thompson', 'https://www.guru.com/freelancers/jmdec10', 'https://www.guru.com/freelancers/jayme-watson', 'https://www.guru.com/freelancers/keisha-pitt', 'https://www.guru.com/freelancers/hayley-beasy', 'https://www.guru.com/freelancers/jennifer-m-mcnaughton', 'https://www.guru.com/freelancers/kelsey-schuering', 'https://www.guru.com/freelancers/kayla-o', 'https://www.guru.com/freelancers/alayna-kemery', 'https://www.guru.com/freelancers/briana-schultz', 'https://www.guru.com/freelancers/holly-catron', 'https://www.guru.com/freelancers/ashley-shanks', 'https://www.guru.com/freelancers/stacy-tolbert', 'https://www.guru.com/freelancers/rchoyle99', 'https://www.guru.com/freelancers/toni-welch', 'https://www.guru.com/freelancers/adriane-prosser', 'https://www.guru.com/freelancers/elizabeth-king', 'https://www.guru.com/freelancers/henry-frost', 'https://www.guru.com/freelancers/janshen-horton', 'https://www.guru.com/freelancers/catrenia-morris', 'https://www.guru.com/freelancers/jeffrey-allyn-weinert', 'https://www.guru.com/freelancers/penni-shipley']\n",
      "['https://www.guru.com/freelancers/minervainfotech', 'https://www.guru.com/freelancers/inheritx-solutions', 'https://www.guru.com/freelancers/frank-a']\n",
      "['https://www.guru.com/freelancers/xavier-newman']\n",
      "[]\n",
      "['https://www.guru.com/freelancers/lpkar', 'https://www.guru.com/freelancers/mxi-coders-inc']\n",
      "[]\n",
      "['https://www.guru.com/freelancers/it-river', 'https://www.guru.com/freelancers/vnnovate-solutions', 'https://www.guru.com/freelancers/constient']\n",
      "[]\n",
      "[]\n",
      "[]\n",
      "[]\n",
      "[]\n",
      "[]\n",
      "[]\n",
      "[]\n",
      "[]\n",
      "['https://www.guru.com/freelancers/adidzhang', 'https://www.guru.com/freelancers/milos-simic-112']\n",
      "[]\n",
      "['https://www.guru.com/freelancers/jeffson-wu', 'https://www.guru.com/freelancers/zane-wang', 'https://www.guru.com/freelancers/kuang-huang', 'https://www.guru.com/freelancers/stephen-wang', 'https://www.guru.com/freelancers/xuefan-jin', 'https://www.guru.com/freelancers/yao-tingchen', 'https://www.guru.com/freelancers/yongjin-tian', 'https://www.guru.com/freelancers/cai-hong', 'https://www.guru.com/freelancers/patrick-camacho', 'https://www.guru.com/freelancers/jin-tian-wu']\n",
      "[]\n",
      "[]\n",
      "[]\n",
      "[]\n",
      "['https://www.guru.com/freelancers/aleksandre-jinoridze', 'https://www.guru.com/freelancers/sharif-latipov', 'https://www.guru.com/freelancers/elene-gugushvili', 'https://www.guru.com/freelancers/giorgi-keratishvili', 'https://www.guru.com/freelancers/daler-shakirov']\n",
      "['https://www.guru.com/freelancers/saad-saadat']\n",
      "[]\n",
      "[]\n",
      "['https://www.guru.com/freelancers/hector-aguero-1']\n",
      "['https://www.guru.com/freelancers/don-scott-risdall', 'https://www.guru.com/freelancers/evonne-risdall', 'https://www.guru.com/freelancers/maximilian-payne', 'https://www.guru.com/freelancers/andrew-johnson-3', 'https://www.guru.com/freelancers/jeremiah-jepson', 'https://www.guru.com/freelancers/catrisdall', 'https://www.guru.com/freelancers/alec-fishman', 'https://www.guru.com/freelancers/diane-boulanger-2']\n",
      "[]\n",
      "['https://www.guru.com/freelancers/kristie-williams', 'https://www.guru.com/freelancers/childers', 'https://www.guru.com/freelancers/ismat-masood', 'https://www.guru.com/freelancers/adam-pucci', 'https://www.guru.com/freelancers/slcollins0802', 'https://www.guru.com/freelancers/onthewritetrack', 'https://www.guru.com/freelancers/daphne-auza', 'https://www.guru.com/freelancers/f-s-consulting-services', 'https://www.guru.com/freelancers/hanta-ralay-ranaivo', 'https://www.guru.com/freelancers/narjis-kazmi', 'https://www.guru.com/freelancers/stephanie-holland', 'https://www.guru.com/freelancers/dventura02', 'https://www.guru.com/freelancers/cjm53', 'https://www.guru.com/freelancers/kcoughlan76', 'https://www.guru.com/freelancers/brittney-maddox', 'https://www.guru.com/freelancers/fsackey', 'https://www.guru.com/freelancers/jon-schwaiger', 'https://www.guru.com/freelancers/lemoncat', 'https://www.guru.com/freelancers/tiffany-major-phd', 'https://www.guru.com/freelancers/carriegrab419', 'https://www.guru.com/freelancers/katharinefitzgerald', 'https://www.guru.com/freelancers/cestarner-rn-bsn', 'https://www.guru.com/freelancers/robert-martone', 'https://www.guru.com/freelancers/stella-d-2425527', 'https://www.guru.com/freelancers/valerie-moore', 'https://www.guru.com/freelancers/p7ants', 'https://www.guru.com/freelancers/v-stevens', 'https://www.guru.com/freelancers/sanonikki', 'https://www.guru.com/freelancers/icanworkwell', 'https://www.guru.com/freelancers/prince-raphael-d-costa', 'https://www.guru.com/freelancers/sara-fekri', 'https://www.guru.com/freelancers/hebahamdi', 'https://www.guru.com/freelancers/amgad-moussa', 'https://www.guru.com/freelancers/mohamed-ali-mohamed', 'https://www.guru.com/freelancers/heba-mahdy', 'https://www.guru.com/freelancers/marwa-selim-1', 'https://www.guru.com/freelancers/amna-helmy', 'https://www.guru.com/freelancers/mohamed-aly-eldeen', 'https://www.guru.com/freelancers/sanjay-patel-14', 'https://www.guru.com/freelancers/pradeep-baghel-2693913', 'https://www.guru.com/freelancers/drritu', 'https://www.guru.com/freelancers/virendra-mhaiskar', 'https://www.guru.com/freelancers/rohit-bansali-n', 'https://www.guru.com/freelancers/adai-ahmad-hayajneh', 'https://www.guru.com/freelancers/justina-sammy', 'https://www.guru.com/freelancers/jobinclosky-reid-kotieno', 'https://www.guru.com/freelancers/hchemistry-consulting', 'https://www.guru.com/freelancers/emilija-ashtalkoska', 'https://www.guru.com/freelancers/ernest-akpan', 'https://www.guru.com/freelancers/dr-medical-writing', 'https://www.guru.com/freelancers/maven-rey-p-batarina', 'https://www.guru.com/freelancers/hamzahriaz', 'https://www.guru.com/freelancers/karen-thompson-1', 'https://www.guru.com/freelancers/marina-o-connor', 'https://www.guru.com/freelancers/mohamed-alex-bangura', 'https://www.guru.com/freelancers/philile-hlengwa', 'https://www.guru.com/freelancers/bethany-mackay', 'https://www.guru.com/freelancers/holam-f', 'https://www.guru.com/freelancers/srinivasulu-aluru', 'https://www.guru.com/freelancers/kevin-otieno-9', 'https://www.guru.com/freelancers/amisi-kevin-omondi']\n",
      "[]\n",
      "['https://www.guru.com/freelancers/mitashdigital']\n",
      "[]\n",
      "['https://www.guru.com/freelancers/muhammad-bilal-asif', 'https://www.guru.com/freelancers/milorad-r']\n",
      "['https://www.guru.com/freelancers/sarah-khazaal', 'https://www.guru.com/freelancers/ana-pires', 'https://www.guru.com/freelancers/ramla-zafar']\n",
      "['https://www.guru.com/freelancers/scopic']\n",
      "['https://www.guru.com/freelancers/enock-mwebe']\n",
      "[]\n",
      "[]\n",
      "[]\n",
      "['https://www.guru.com/freelancers/ray-delight']\n",
      "[]\n",
      "[]\n",
      "['https://www.guru.com/freelancers/synapseindia', 'https://www.guru.com/freelancers/brain-technosys-pvt-ltd', 'https://www.guru.com/freelancers/avion-technology-inc-chicago', 'https://www.guru.com/freelancers/nix-solutions-ltd', 'https://www.guru.com/freelancers/flexsin-technologies', 'https://www.guru.com/freelancers/seasia-infotech-pvt-ltd', 'https://www.guru.com/freelancers/trimantra-microsoft-silver-partner', 'https://www.guru.com/freelancers/intigate-technologies', 'https://www.guru.com/freelancers/narola-infotech-solutions-llp', 'https://www.guru.com/freelancers/amazon-softwares', 'https://www.guru.com/freelancers/doyenhub-software-solution-pvt-ltd', 'https://www.guru.com/freelancers/top-guru-assistants', 'https://www.guru.com/freelancers/infiglobal', 'https://www.guru.com/freelancers/ogma-conceptions', 'https://www.guru.com/freelancers/aquarious-technology']\n",
      "[]\n",
      "[]\n",
      "[]\n",
      "[]\n",
      "['https://www.guru.com/freelancers/johnnie-r-long-ii', 'https://www.guru.com/freelancers/raul-fernandez', 'https://www.guru.com/freelancers/anuraj-dadhich', 'https://www.guru.com/freelancers/dj-revolution', 'https://www.guru.com/freelancers/abhijeet-nayak', 'https://www.guru.com/freelancers/tomas-lobb', 'https://www.guru.com/freelancers/andrew-wildman', 'https://www.guru.com/freelancers/leadone', 'https://www.guru.com/freelancers/d3dxmile', 'https://www.guru.com/freelancers/vondez-productions', 'https://www.guru.com/freelancers/diego-leandro-oliva', 'https://www.guru.com/freelancers/muhammad-umer-27', 'https://www.guru.com/freelancers/stevelash', 'https://www.guru.com/freelancers/simha-riff', 'https://www.guru.com/freelancers/hassan-inayat-chaudhry', 'https://www.guru.com/freelancers/zee-ay-records', 'https://www.guru.com/freelancers/nizar-chalouan', 'https://www.guru.com/freelancers/fady-naguib-mikhaiel', 'https://www.guru.com/freelancers/hassan-mostafa-abd-elmeged-eisswy', 'https://www.guru.com/freelancers/nabhay-singh', 'https://www.guru.com/freelancers/aleksandar-uzarevic', 'https://www.guru.com/freelancers/himanshu-joshi-13']\n",
      "[]\n",
      "[]\n",
      "[]\n",
      "[]\n",
      "['https://www.guru.com/freelancers/eweb-a1professionals-private-ltd']\n",
      "[]\n",
      "[]\n",
      "[]\n",
      "[]\n",
      "[]\n",
      "['https://www.guru.com/freelancers/chiamaka-ofodum']\n",
      "[]\n",
      "[]\n",
      "[]\n",
      "[]\n",
      "[]\n",
      "[]\n",
      "['https://www.guru.com/freelancers/jan-pekar', 'https://www.guru.com/freelancers/vatsal-m', 'https://www.guru.com/freelancers/skumarypig', 'https://www.guru.com/freelancers/abhijeetsk', 'https://www.guru.com/freelancers/jayesh-neema1', 'https://www.guru.com/freelancers/ritesh-ranjan1', 'https://www.guru.com/freelancers/ethernitylive', 'https://www.guru.com/freelancers/labib-farag', 'https://www.guru.com/freelancers/tapendra-shee', 'https://www.guru.com/freelancers/donggeon-lee']\n",
      "['https://www.guru.com/freelancers/inetweaver', 'https://www.guru.com/freelancers/infomaze-web-mobile-apps', 'https://www.guru.com/freelancers/pragmatic-solutions-inc', 'https://www.guru.com/freelancers/seasia-infotech-pvt-ltd', 'https://www.guru.com/freelancers/zerosoft-technologies', 'https://www.guru.com/freelancers/cwebconsultants-india', 'https://www.guru.com/freelancers/shine-web-solutions-pvt-ltd', 'https://www.guru.com/freelancers/ios-app-developer-thomas-woodfin', 'https://www.guru.com/freelancers/amazon-softwares', 'https://www.guru.com/freelancers/infiglobal', 'https://www.guru.com/freelancers/ebiztrait-technolabs-pvt-ltd', 'https://www.guru.com/freelancers/volxom-pvt-ltd', 'https://www.guru.com/freelancers/kavita-joshi-1', 'https://www.guru.com/freelancers/sooprit']\n",
      "[]\n",
      "[]\n",
      "['https://www.guru.com/freelancers/raheela-khurshid']\n",
      "[]\n",
      "[]\n",
      "nan\n",
      "nan\n",
      "nan\n"
     ]
    }
   ],
   "source": [
    "jobs_inv = []\n",
    "for index, row in jobs.iterrows():\n",
    "    #if('scopic' in row['Link_of_invited_freelancers']):\n",
    "        #jobs_inv.append(row['Id'])\n",
    "    print(row['Link_of_invited_freelancers'])"
   ]
  },
  {
   "cell_type": "code",
   "execution_count": 21,
   "metadata": {},
   "outputs": [
    {
     "output_type": "execute_result",
     "data": {
      "text/plain": [
       "\"['https://www.guru.com/freelancers/netsuite-freelancer', 'https://www.guru.com/freelancers/mounika-sirigineedi', 'https://www.guru.com/freelancers/shilpa-dadar', 'https://www.guru.com/freelancers/kiran-patil-5', 'https://www.guru.com/freelancers/santhosh-kumar-67', 'https://www.guru.com/freelancers/anudeep-dasari', 'https://www.guru.com/freelancers/rakesh-malvade', 'https://www.guru.com/freelancers/yogendar-singh-1', 'https://www.guru.com/freelancers/nitesh-kumar-147', 'https://www.guru.com/freelancers/sharath-m', 'https://www.guru.com/freelancers/tapendra-pratap-singh', 'https://www.guru.com/freelancers/rahul-nagare', 'https://www.guru.com/freelancers/kanhu-panigrahi', 'https://www.guru.com/freelancers/sabita-sethi']\""
      ]
     },
     "metadata": {},
     "execution_count": 21
    }
   ],
   "source": [
    "jobs['Link_of_invited_freelancers'][0]"
   ]
  },
  {
   "cell_type": "code",
   "execution_count": 22,
   "metadata": {},
   "outputs": [
    {
     "output_type": "execute_result",
     "data": {
      "text/plain": [
       "True"
      ]
     },
     "metadata": {},
     "execution_count": 22
    }
   ],
   "source": [
    "'shilpa-dadar' in jobs['Link_of_invited_freelancers'][0]"
   ]
  },
  {
   "cell_type": "code",
   "execution_count": 35,
   "metadata": {},
   "outputs": [],
   "source": [
    "jobs['X'] = jobs['Link_of_invited_freelancers'].map(lambda x: ('shilpa-dadar' in str(x)))"
   ]
  },
  {
   "cell_type": "code",
   "execution_count": 45,
   "metadata": {},
   "outputs": [
    {
     "output_type": "execute_result",
     "data": {
      "text/plain": [
       "[1, 2603]"
      ]
     },
     "metadata": {},
     "execution_count": 45
    }
   ],
   "source": [
    "list(jobs.loc[jobs['X'] == True]['Id'])"
   ]
  },
  {
   "cell_type": "code",
   "execution_count": 2,
   "metadata": {},
   "outputs": [],
   "source": [
    "import pandas as pd\n",
    "freelancers = pd.read_csv('/home/robin/ai/ineuron/internship/letsworkapp-v4/flaskapp/data/profiles.csv')"
   ]
  },
  {
   "cell_type": "code",
   "execution_count": 3,
   "metadata": {},
   "outputs": [
    {
     "output_type": "execute_result",
     "data": {
      "text/plain": [
       "   Id                                    Freelancer_Link      Freelancer Name  \\\n",
       "0   1            https://www.guru.com/freelancers/scopic               Scopic   \n",
       "1   2  https://www.guru.com/freelancers/nix-solutions...    NIX Solutions Ltd   \n",
       "2   3  https://www.guru.com/freelancers/emil-alexandr...    Emil Alexandrescu   \n",
       "3   4  https://www.guru.com/freelancers/top-guru-assi...  Top Guru Assistants   \n",
       "4   5       https://www.guru.com/freelancers/yanbin-pang          YanBin Pang   \n",
       "\n",
       "   User Id  Total_Feedback_Received  \\\n",
       "0     2062                      319   \n",
       "1     2063                      172   \n",
       "2     2064                        0   \n",
       "3     2065                      256   \n",
       "4     2066                        4   \n",
       "\n",
       "                                         Hourly Rate  \\\n",
       "0  ['$24/hr', '$24/hr', '$24/hr', '$24/hr', '$24/...   \n",
       "1  ['$32/hr', '$32/hr', '$25/hr', '$30/hr', '$34/...   \n",
       "2                               ['$70/hr', '$70/hr']   \n",
       "3  ['$20/hr', '$20/hr', '$24/hr', '$20/hr', '$20/...   \n",
       "4                                         ['$50/hr']   \n",
       "\n",
       "                                       Starting Rate Freelancer Type Member  \\\n",
       "0  ['$750', '$750', '$750', '$750', '$250', '$500...            Team    Yes   \n",
       "1  ['$1,000', '$1,000', '$25', '$25', '$25', '$25...      Individual    Yes   \n",
       "2                                     ['$55', '$55']      Individual    Yes   \n",
       "3  ['$1,000', '$1,000', '$1,000', '$500', '$250',...      Individual    Yes   \n",
       "4                                            ['$25']      Individual    Yes   \n",
       "\n",
       "  Rating  ... Member Since Average Earnings Min_Starting_Rate  \\\n",
       "0   100%  ...     Jul 2003           565.78               250   \n",
       "1   100%  ...     Nov 2005           722.46                 0   \n",
       "2   100%  ...     May 2019          2391.30                55   \n",
       "3   100%  ...     Jul 2017           791.58                 0   \n",
       "4   100%  ...     Jun 2019          4126.32                25   \n",
       "\n",
       "   Max_Starting_Rate  Min_Hourly_Rate Max_Hourly_Rate Weighted_Rating  \\\n",
       "0                750               24              26             5.0   \n",
       "1               1000               25              40             5.0   \n",
       "2                 55               70              70             5.0   \n",
       "3               2000               20              30             5.0   \n",
       "4                 25               50              50             5.0   \n",
       "\n",
       "   Profile Cluster Id                                             Skills  \\\n",
       "0                   3  ['PHP', 'Responsive Design', 'Design', 'JavaSc...   \n",
       "1                   0  ['JavaScript', '.NET', 'ASP.NET', 'C#', 'Desig...   \n",
       "2                   3  ['Angular', 'Go', 'Graphql', 'JavaScript', 'Mo...   \n",
       "3                   0  ['Software Development', 'JSON', 'Android', 'i...   \n",
       "4                   3  ['Angular', 'Node.js', 'PHP', 'Python', 'React...   \n",
       "\n",
       "   User_id  \n",
       "0      NaN  \n",
       "1      NaN  \n",
       "2      NaN  \n",
       "3      NaN  \n",
       "4      NaN  \n",
       "\n",
       "[5 rows x 26 columns]"
      ],
      "text/html": "<div>\n<style scoped>\n    .dataframe tbody tr th:only-of-type {\n        vertical-align: middle;\n    }\n\n    .dataframe tbody tr th {\n        vertical-align: top;\n    }\n\n    .dataframe thead th {\n        text-align: right;\n    }\n</style>\n<table border=\"1\" class=\"dataframe\">\n  <thead>\n    <tr style=\"text-align: right;\">\n      <th></th>\n      <th>Id</th>\n      <th>Freelancer_Link</th>\n      <th>Freelancer Name</th>\n      <th>User Id</th>\n      <th>Total_Feedback_Received</th>\n      <th>Hourly Rate</th>\n      <th>Starting Rate</th>\n      <th>Freelancer Type</th>\n      <th>Member</th>\n      <th>Rating</th>\n      <th>...</th>\n      <th>Member Since</th>\n      <th>Average Earnings</th>\n      <th>Min_Starting_Rate</th>\n      <th>Max_Starting_Rate</th>\n      <th>Min_Hourly_Rate</th>\n      <th>Max_Hourly_Rate</th>\n      <th>Weighted_Rating</th>\n      <th>Profile Cluster Id</th>\n      <th>Skills</th>\n      <th>User_id</th>\n    </tr>\n  </thead>\n  <tbody>\n    <tr>\n      <th>0</th>\n      <td>1</td>\n      <td>https://www.guru.com/freelancers/scopic</td>\n      <td>Scopic</td>\n      <td>2062</td>\n      <td>319</td>\n      <td>['$24/hr', '$24/hr', '$24/hr', '$24/hr', '$24/...</td>\n      <td>['$750', '$750', '$750', '$750', '$250', '$500...</td>\n      <td>Team</td>\n      <td>Yes</td>\n      <td>100%</td>\n      <td>...</td>\n      <td>Jul 2003</td>\n      <td>565.78</td>\n      <td>250</td>\n      <td>750</td>\n      <td>24</td>\n      <td>26</td>\n      <td>5.0</td>\n      <td>3</td>\n      <td>['PHP', 'Responsive Design', 'Design', 'JavaSc...</td>\n      <td>NaN</td>\n    </tr>\n    <tr>\n      <th>1</th>\n      <td>2</td>\n      <td>https://www.guru.com/freelancers/nix-solutions...</td>\n      <td>NIX Solutions Ltd</td>\n      <td>2063</td>\n      <td>172</td>\n      <td>['$32/hr', '$32/hr', '$25/hr', '$30/hr', '$34/...</td>\n      <td>['$1,000', '$1,000', '$25', '$25', '$25', '$25...</td>\n      <td>Individual</td>\n      <td>Yes</td>\n      <td>100%</td>\n      <td>...</td>\n      <td>Nov 2005</td>\n      <td>722.46</td>\n      <td>0</td>\n      <td>1000</td>\n      <td>25</td>\n      <td>40</td>\n      <td>5.0</td>\n      <td>0</td>\n      <td>['JavaScript', '.NET', 'ASP.NET', 'C#', 'Desig...</td>\n      <td>NaN</td>\n    </tr>\n    <tr>\n      <th>2</th>\n      <td>3</td>\n      <td>https://www.guru.com/freelancers/emil-alexandr...</td>\n      <td>Emil Alexandrescu</td>\n      <td>2064</td>\n      <td>0</td>\n      <td>['$70/hr', '$70/hr']</td>\n      <td>['$55', '$55']</td>\n      <td>Individual</td>\n      <td>Yes</td>\n      <td>100%</td>\n      <td>...</td>\n      <td>May 2019</td>\n      <td>2391.30</td>\n      <td>55</td>\n      <td>55</td>\n      <td>70</td>\n      <td>70</td>\n      <td>5.0</td>\n      <td>3</td>\n      <td>['Angular', 'Go', 'Graphql', 'JavaScript', 'Mo...</td>\n      <td>NaN</td>\n    </tr>\n    <tr>\n      <th>3</th>\n      <td>4</td>\n      <td>https://www.guru.com/freelancers/top-guru-assi...</td>\n      <td>Top Guru Assistants</td>\n      <td>2065</td>\n      <td>256</td>\n      <td>['$20/hr', '$20/hr', '$24/hr', '$20/hr', '$20/...</td>\n      <td>['$1,000', '$1,000', '$1,000', '$500', '$250',...</td>\n      <td>Individual</td>\n      <td>Yes</td>\n      <td>100%</td>\n      <td>...</td>\n      <td>Jul 2017</td>\n      <td>791.58</td>\n      <td>0</td>\n      <td>2000</td>\n      <td>20</td>\n      <td>30</td>\n      <td>5.0</td>\n      <td>0</td>\n      <td>['Software Development', 'JSON', 'Android', 'i...</td>\n      <td>NaN</td>\n    </tr>\n    <tr>\n      <th>4</th>\n      <td>5</td>\n      <td>https://www.guru.com/freelancers/yanbin-pang</td>\n      <td>YanBin Pang</td>\n      <td>2066</td>\n      <td>4</td>\n      <td>['$50/hr']</td>\n      <td>['$25']</td>\n      <td>Individual</td>\n      <td>Yes</td>\n      <td>100%</td>\n      <td>...</td>\n      <td>Jun 2019</td>\n      <td>4126.32</td>\n      <td>25</td>\n      <td>25</td>\n      <td>50</td>\n      <td>50</td>\n      <td>5.0</td>\n      <td>3</td>\n      <td>['Angular', 'Node.js', 'PHP', 'Python', 'React...</td>\n      <td>NaN</td>\n    </tr>\n  </tbody>\n</table>\n<p>5 rows × 26 columns</p>\n</div>"
     },
     "metadata": {},
     "execution_count": 3
    }
   ],
   "source": [
    "freelancers.head()"
   ]
  },
  {
   "cell_type": "code",
   "execution_count": 7,
   "metadata": {},
   "outputs": [
    {
     "output_type": "execute_result",
     "data": {
      "text/plain": [
       "\"['JavaScript', 'Redux Framework', 'React', 'ReactJS', 'TypeScript', 'Vue.js', 'Bootstrap', 'SCSS', 'Angular', 'HTML5', 'Laravel', 'Node', 'Node Js', 'Node.js', 'PHP', 'Software Development', 'Web Development', 'Animation', 'API Development', 'AWS', 'Coding', 'Design', 'Docker', 'Front End Design', 'Front End Developers', 'GitHub', 'jQuery', 'jQuery UI', 'Layout Design', 'Material UI', 'Mobile App Development', 'MongoDB', 'PostgreSQL', 'Quality Assurance (QA)', 'Quality Assurance (QA) And Testing', 'React Native', 'Requirements Analysis', 'Responsive Web Design', 'Style Guide Development', 'Webpack', 'Xcode']\""
      ]
     },
     "metadata": {},
     "execution_count": 7
    }
   ],
   "source": [
    "freelancers.iloc[freelancers[freelancers['Id'] == 1000].index]['Skills'].values[0]"
   ]
  },
  {
   "cell_type": "code",
   "execution_count": null,
   "metadata": {},
   "outputs": [],
   "source": []
  }
 ],
 "metadata": {
  "kernelspec": {
   "display_name": "Python 3",
   "language": "python",
   "name": "python3"
  },
  "language_info": {
   "codemirror_mode": {
    "name": "ipython",
    "version": 3
   },
   "file_extension": ".py",
   "mimetype": "text/x-python",
   "name": "python",
   "nbconvert_exporter": "python",
   "pygments_lexer": "ipython3",
   "version": "3.8.5-final"
  }
 },
 "nbformat": 4,
 "nbformat_minor": 2
}